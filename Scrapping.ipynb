{
  "nbformat": 4,
  "nbformat_minor": 0,
  "metadata": {
    "colab": {
      "name": "Scrapping.ipynb",
      "provenance": [],
      "collapsed_sections": [
        "eSTIUPX3V0k6",
        "oyTMfQMDW6gT"
      ],
      "authorship_tag": "ABX9TyPuVeOwHU+/wEgGDda54R50",
      "include_colab_link": true
    },
    "kernelspec": {
      "name": "python3",
      "display_name": "Python 3"
    },
    "language_info": {
      "name": "python"
    }
  },
  "cells": [
    {
      "cell_type": "markdown",
      "metadata": {
        "id": "view-in-github",
        "colab_type": "text"
      },
      "source": [
        "<a href=\"https://colab.research.google.com/github/nourlbd/projet_data_tools/blob/main/Scrapping.ipynb\" target=\"_parent\"><img src=\"https://colab.research.google.com/assets/colab-badge.svg\" alt=\"Open In Colab\"/></a>"
      ]
    },
    {
      "cell_type": "code",
      "metadata": {
        "id": "J8v-Epo2EvPE"
      },
      "source": [
        "import pandas as pd\n",
        "import requests\n",
        "from bs4 import BeautifulSoup"
      ],
      "execution_count": 173,
      "outputs": []
    },
    {
      "cell_type": "markdown",
      "metadata": {
        "id": "eSTIUPX3V0k6"
      },
      "source": [
        "# **Scrapping du site sens-critique**\n"
      ]
    },
    {
      "cell_type": "code",
      "metadata": {
        "id": "adlDn1KAEk2J"
      },
      "source": [
        "url='https://www.senscritique.com/films/tops/top100-des-top10'"
      ],
      "execution_count": 174,
      "outputs": []
    },
    {
      "cell_type": "markdown",
      "metadata": {
        "id": "CFDse2XIVu5T"
      },
      "source": [
        "## **Obtenir les titres**"
      ]
    },
    {
      "cell_type": "code",
      "metadata": {
        "id": "wiSbfaRBE3Kn"
      },
      "source": [
        "def get_title(link):\n",
        "    html = requests.get(url)\n",
        "    soup = BeautifulSoup(html.text)\n",
        "    all_title=[]\n",
        "    all_title_div = soup.find_all(\"h2\", { \"class\" : \"d-heading2 elco-title\"})\n",
        "    for liste in all_title_div:\n",
        "        title=(liste.a.text)\n",
        "        all_title.append(title)\n",
        "    return all_title\n"
      ],
      "execution_count": 175,
      "outputs": []
    },
    {
      "cell_type": "code",
      "metadata": {
        "id": "UKKmDOqCE6uq"
      },
      "source": [
        "all_title=get_title(url)"
      ],
      "execution_count": 176,
      "outputs": []
    },
    {
      "cell_type": "markdown",
      "metadata": {
        "id": "-9kITDh_WFqW"
      },
      "source": [
        "## **Obtenir les réalisateur**"
      ]
    },
    {
      "cell_type": "code",
      "metadata": {
        "id": "qFkthLZAFEqU"
      },
      "source": [
        "def get_director(link):\n",
        "    all_director=[]\n",
        "    html = requests.get(url)\n",
        "    soup = BeautifulSoup(html.text)\n",
        "    all_direc_div = soup.find_all(\"p\", { \"class\" : \"elco-baseline\"})\n",
        "    for director_l in all_direc_div:\n",
        "        director=(director_l.span.text)\n",
        "        all_director.append(director)\n",
        "               \n",
        "    return all_director"
      ],
      "execution_count": 177,
      "outputs": []
    },
    {
      "cell_type": "code",
      "metadata": {
        "id": "nYWv2c1cR6rD"
      },
      "source": [
        "all_director=get_director(url)"
      ],
      "execution_count": 178,
      "outputs": []
    },
    {
      "cell_type": "code",
      "metadata": {
        "id": "monsgwmcHFt3"
      },
      "source": [
        "all_director = [elt for idx, elt in enumerate(all_director) if idx % 2 != 0]\n"
      ],
      "execution_count": 179,
      "outputs": []
    },
    {
      "cell_type": "markdown",
      "metadata": {
        "id": "Tiu-YMzdWKKD"
      },
      "source": [
        "## **Obtenir les liens des films**"
      ]
    },
    {
      "cell_type": "code",
      "metadata": {
        "id": "Plr8gFiZE843"
      },
      "source": [
        "def get_link_film(link):\n",
        "    all_link_f=[]\n",
        "    html = requests.get(link)\n",
        "    soup = BeautifulSoup(html.text)\n",
        "    all_link_f_div = soup.find_all(\"h2\", { \"class\" : \"d-heading2 elco-title\"})\n",
        "    for link_f in all_link_f_div:\n",
        "        link=(link_f.a[\"href\"])\n",
        "        all_link_f.append(link)\n",
        "    all_url_f=[]\n",
        "    i=0\n",
        "    while i < len(all_link_f):\n",
        "        all_url_f.append(\"https://www.senscritique.com\"+all_link_f[i])\n",
        "        i+=1\n",
        "      \n",
        "    return all_url_f         \n",
        "    "
      ],
      "execution_count": 180,
      "outputs": []
    },
    {
      "cell_type": "code",
      "metadata": {
        "id": "vHQAAEzJE_TY"
      },
      "source": [
        "all_url_f=get_link_film(url)"
      ],
      "execution_count": 181,
      "outputs": []
    },
    {
      "cell_type": "markdown",
      "metadata": {
        "id": "K0X-oBBuWRjg"
      },
      "source": [
        "## **Obtenir les notes**"
      ]
    },
    {
      "cell_type": "code",
      "metadata": {
        "id": "0fJlSc4DJBsn"
      },
      "source": [
        "def get_rate(link):\n",
        "    all_rate=[]\n",
        "    for links in link:\n",
        "        html = requests.get(links)\n",
        "        soup = BeautifulSoup(html.text)\n",
        "       \n",
        "        all_rate_div = soup.find_all(\"div\", { \"class\" : \"pvi-product-scrating\"})\n",
        "        for rate_l in all_rate_div:\n",
        "            rate=(rate_l.span.text)\n",
        "            all_rate.append(rate)\n",
        "               \n",
        "    return all_rate"
      ],
      "execution_count": 182,
      "outputs": []
    },
    {
      "cell_type": "code",
      "metadata": {
        "id": "uBFCqli9JxzF"
      },
      "source": [
        "all_rate=get_rate(all_url_f)"
      ],
      "execution_count": 183,
      "outputs": []
    },
    {
      "cell_type": "code",
      "metadata": {
        "id": "VtrDP_lTJ4hK",
        "colab": {
          "base_uri": "https://localhost:8080/"
        },
        "outputId": "2c74c4f9-b800-4d69-8f9e-8edab8abcceb"
      },
      "source": [
        "for i in range(0,len(all_rate)):\n",
        "  all_rate[i]=float(all_rate[i])\n",
        "\n",
        "print(all_rate)"
      ],
      "execution_count": 184,
      "outputs": [
        {
          "output_type": "stream",
          "text": [
            "[8.2, 8.3, 7.9, 8.0, 7.9, 8.5, 8.0, 8.1, 8.0, 8.5, 7.5, 8.0, 8.3, 8.0, 8.4, 7.8, 8.1, 8.1, 7.7, 8.4, 7.8, 8.0, 8.7, 8.5, 8.4, 8.1, 7.6, 7.3, 8.2, 8.1, 7.4, 8.5, 8.1, 7.8, 8.1, 7.8, 7.8, 7.8, 8.1, 8.0, 7.7, 7.9, 7.9, 7.7, 7.6, 7.9, 7.6, 7.4, 7.9, 7.8, 7.8, 7.2, 7.8, 7.7, 7.4, 7.1, 8.1, 7.8, 7.6, 7.5, 7.9, 8.3, 6.8, 7.2, 7.6, 8.2, 7.1, 7.3, 7.7, 7.6, 7.6, 7.7, 8.2, 8.5, 8.0, 8.0, 8.0, 8.3, 8.1, 7.7, 7.8, 7.5, 8.0, 7.5, 7.4, 7.9, 8.3, 8.0, 7.7, 7.5, 8.0, 7.7, 7.2, 7.7, 7.8, 7.8, 6.3, 7.0, 7.6, 7.0]\n"
          ],
          "name": "stdout"
        }
      ]
    },
    {
      "cell_type": "markdown",
      "metadata": {
        "id": "ENjipMeSWXBo"
      },
      "source": [
        "## **Obtenir les genres**"
      ]
    },
    {
      "cell_type": "code",
      "metadata": {
        "id": "HlevnTFMK3lC"
      },
      "source": [
        "def get_genres(link):\n",
        "    all_genres=[]\n",
        "    for links in link:\n",
        "        html = requests.get(links)\n",
        "        soup = BeautifulSoup(html.text)\n",
        "        all_genre_div = soup.find_all(\"a\", { \"class\" : \"lahe-breadcrumb-anchor\"})[2].text\n",
        "        all_genres.append(all_genre_div) \n",
        "        \n",
        "    return all_genres"
      ],
      "execution_count": 185,
      "outputs": []
    },
    {
      "cell_type": "code",
      "metadata": {
        "id": "dMT5_uhWMD8P"
      },
      "source": [
        "all_genres=get_genres(all_url_f)"
      ],
      "execution_count": 186,
      "outputs": []
    },
    {
      "cell_type": "markdown",
      "metadata": {
        "id": "GlGntT9nWdB7"
      },
      "source": [
        "## **Obtenir les dates de sortie**"
      ]
    },
    {
      "cell_type": "code",
      "metadata": {
        "id": "GP4u78IjNsaE"
      },
      "source": [
        "def get_date(link):\n",
        "    all_date=[]\n",
        "    for links in link:\n",
        "        html = requests.get(links)\n",
        "        soup = BeautifulSoup(html.text)\n",
        "        all_date_div = soup.find(\"small\", { \"class\" : \"pvi-product-year\"}).text\n",
        "        all_date_div=str(all_date_div)[1:-1]\n",
        "        all_date.append(all_date_div) \n",
        "        \n",
        "    return all_date"
      ],
      "execution_count": 187,
      "outputs": []
    },
    {
      "cell_type": "code",
      "metadata": {
        "id": "UqQkWsRodWCd"
      },
      "source": [
        "all_date=get_date(all_url_f)"
      ],
      "execution_count": 188,
      "outputs": []
    },
    {
      "cell_type": "markdown",
      "metadata": {
        "id": "H6b8z6r8Wg7j"
      },
      "source": [
        "## **Obtenir les acteurs**"
      ]
    },
    {
      "cell_type": "code",
      "metadata": {
        "id": "ixH29dlJeCSZ"
      },
      "source": [
        "def get_actors(link):\n",
        "    all_actor_f=[]\n",
        "    for links in link:\n",
        "        all_actor=[]\n",
        "        html = requests.get(links)\n",
        "        soup = BeautifulSoup(html.text)\n",
        "        all_actor_div1 = soup.find_all(\"span\", { \"class\" : \"d-offset ecot-contact-label\"})[0].text\n",
        "        all_actor_div2 = soup.find_all(\"span\", { \"class\" : \"d-offset ecot-contact-label\"})[1].text\n",
        "        all_actor_div3 = soup.find_all(\"span\", { \"class\" : \"d-offset ecot-contact-label\"})[2].text\n",
        "        all_actor.append(all_actor_div1)\n",
        "        all_actor.append(all_actor_div2) \n",
        "        all_actor.append(all_actor_div3)\n",
        "        all_actor_f.append(all_actor)\n",
        "       \n",
        "    return all_actor_f"
      ],
      "execution_count": 189,
      "outputs": []
    },
    {
      "cell_type": "code",
      "metadata": {
        "id": "nDbZ_GpHfJ_V"
      },
      "source": [
        "all_actor=get_actors(all_url_f)"
      ],
      "execution_count": 190,
      "outputs": []
    },
    {
      "cell_type": "markdown",
      "metadata": {
        "id": "j4V881hgWj__"
      },
      "source": [
        "## **Obtenir la durée des film**"
      ]
    },
    {
      "cell_type": "code",
      "metadata": {
        "id": "_PQKu5o2hBnL"
      },
      "source": [
        "def get_duree(link):\n",
        "    all_duree=[]\n",
        "    for links in link:\n",
        "        html = requests.get(links)\n",
        "        soup = BeautifulSoup(html.text)\n",
        "        all_duree_div = soup.find_all(\"li\", { \"class\" : \"pvi-productDetails-item\"})[2].text[7:-9]\n",
        "        all_duree.append(all_duree_div)\n",
        "       \n",
        "    return all_duree"
      ],
      "execution_count": 191,
      "outputs": []
    },
    {
      "cell_type": "code",
      "metadata": {
        "id": "Xgwu9JHxhgkq"
      },
      "source": [
        "all_duree=get_duree(all_url_f)"
      ],
      "execution_count": 192,
      "outputs": []
    },
    {
      "cell_type": "markdown",
      "metadata": {
        "id": "5c16P3UdWoK1"
      },
      "source": [
        "## **Obtenir la description**"
      ]
    },
    {
      "cell_type": "code",
      "metadata": {
        "id": "RkGezC2cj-C9"
      },
      "source": [
        "def get_description(link):\n",
        "    all_des=[]\n",
        "    for links in link:\n",
        "        html = requests.get(links)\n",
        "        soup = BeautifulSoup(html.text)\n",
        "        all_des_div = soup.find(\"p\", { \"class\" : \"pvi-productDetails-resume\"}).text[5:-24]\n",
        "        all_des.append(all_des_div)\n",
        "        \n",
        "    return all_des"
      ],
      "execution_count": 193,
      "outputs": []
    },
    {
      "cell_type": "code",
      "metadata": {
        "id": "Bpl7CXRIkqRA"
      },
      "source": [
        "all_description=get_description(all_url_f)"
      ],
      "execution_count": 194,
      "outputs": []
    },
    {
      "cell_type": "markdown",
      "metadata": {
        "id": "gok7MaIjWsZ0"
      },
      "source": [
        "## **Création du dataset**"
      ]
    },
    {
      "cell_type": "code",
      "metadata": {
        "id": "Mqwg7TbcnCEU"
      },
      "source": [
        "df_2 = pd.DataFrame({\"titre\": all_title, \"date\": all_date,\"rate\":all_rate, \"lien\":all_url_f,\"réalisateur\":all_director,\"genres\":all_genres,\"durée\":all_duree,\"acteur\":all_actor,\"description\":all_description})"
      ],
      "execution_count": 195,
      "outputs": []
    },
    {
      "cell_type": "code",
      "metadata": {
        "colab": {
          "base_uri": "https://localhost:8080/",
          "height": 597
        },
        "id": "GYuS4RzSnOkn",
        "outputId": "50d59051-69fe-4523-9b08-1c8ceb470ab5"
      },
      "source": [
        "df_2"
      ],
      "execution_count": 196,
      "outputs": [
        {
          "output_type": "execute_result",
          "data": {
            "text/html": [
              "<div>\n",
              "<style scoped>\n",
              "    .dataframe tbody tr th:only-of-type {\n",
              "        vertical-align: middle;\n",
              "    }\n",
              "\n",
              "    .dataframe tbody tr th {\n",
              "        vertical-align: top;\n",
              "    }\n",
              "\n",
              "    .dataframe thead th {\n",
              "        text-align: right;\n",
              "    }\n",
              "</style>\n",
              "<table border=\"1\" class=\"dataframe\">\n",
              "  <thead>\n",
              "    <tr style=\"text-align: right;\">\n",
              "      <th></th>\n",
              "      <th>titre</th>\n",
              "      <th>date</th>\n",
              "      <th>rate</th>\n",
              "      <th>lien</th>\n",
              "      <th>réalisateur</th>\n",
              "      <th>genres</th>\n",
              "      <th>durée</th>\n",
              "      <th>acteur</th>\n",
              "      <th>description</th>\n",
              "    </tr>\n",
              "  </thead>\n",
              "  <tbody>\n",
              "    <tr>\n",
              "      <th>0</th>\n",
              "      <td>Fight Club</td>\n",
              "      <td>1999</td>\n",
              "      <td>8.2</td>\n",
              "      <td>https://www.senscritique.com/film/Fight_Club/3...</td>\n",
              "      <td>David Fincher</td>\n",
              "      <td>Drame</td>\n",
              "      <td>2 h 19</td>\n",
              "      <td>[Edward Norton, Brad Pitt, Helena Bonham Carter]</td>\n",
              "      <td>Insomniaque, désillusionné par sa vie personne...</td>\n",
              "    </tr>\n",
              "    <tr>\n",
              "      <th>1</th>\n",
              "      <td>Pulp Fiction</td>\n",
              "      <td>1994</td>\n",
              "      <td>8.3</td>\n",
              "      <td>https://www.senscritique.com/film/Pulp_Fiction...</td>\n",
              "      <td>Quentin Tarantino</td>\n",
              "      <td>Gangster</td>\n",
              "      <td>2 h 34</td>\n",
              "      <td>[John Travolta, Samuel L. Jackson, Ving Rhames]</td>\n",
              "      <td>L'odyssée sanglante, burlesque et cocasse de p...</td>\n",
              "    </tr>\n",
              "    <tr>\n",
              "      <th>2</th>\n",
              "      <td>Interstellar</td>\n",
              "      <td>2014</td>\n",
              "      <td>7.9</td>\n",
              "      <td>https://www.senscritique.com/film/Interstellar...</td>\n",
              "      <td>Christopher Nolan</td>\n",
              "      <td>Aventure</td>\n",
              "      <td>2 h 49</td>\n",
              "      <td>[Matthew McConaughey, Anne Hathaway, Jessica C...</td>\n",
              "      <td>Un groupe d'explorateurs exploite une faille d...</td>\n",
              "    </tr>\n",
              "    <tr>\n",
              "      <th>3</th>\n",
              "      <td>2001 : L'Odyssée de l'espace</td>\n",
              "      <td>1968</td>\n",
              "      <td>8.0</td>\n",
              "      <td>https://www.senscritique.com/film/2001_L_Odyss...</td>\n",
              "      <td>Stanley Kubrick</td>\n",
              "      <td>Aventure</td>\n",
              "      <td>2 h 40</td>\n",
              "      <td>[Keir Dullea, Gary Lockwood, William Sylvester]</td>\n",
              "      <td>A l'aube de l'Humanité, dans le désert africai...</td>\n",
              "    </tr>\n",
              "    <tr>\n",
              "      <th>4</th>\n",
              "      <td>Blade Runner</td>\n",
              "      <td>1982</td>\n",
              "      <td>7.9</td>\n",
              "      <td>https://www.senscritique.com/film/Blade_Runner...</td>\n",
              "      <td>Ridley Scott</td>\n",
              "      <td>Science-fiction</td>\n",
              "      <td>1 h 57</td>\n",
              "      <td>[Harrison Ford, Rutger Hauer, Sean Young]</td>\n",
              "      <td>2019, Los Angeles. La Terre est surpeuplée et ...</td>\n",
              "    </tr>\n",
              "    <tr>\n",
              "      <th>...</th>\n",
              "      <td>...</td>\n",
              "      <td>...</td>\n",
              "      <td>...</td>\n",
              "      <td>...</td>\n",
              "      <td>...</td>\n",
              "      <td>...</td>\n",
              "      <td>...</td>\n",
              "      <td>...</td>\n",
              "      <td>...</td>\n",
              "    </tr>\n",
              "    <tr>\n",
              "      <th>95</th>\n",
              "      <td>L'Armée des 12 singes</td>\n",
              "      <td>1995</td>\n",
              "      <td>7.8</td>\n",
              "      <td>https://www.senscritique.com/film/L_Armee_des_...</td>\n",
              "      <td>Terry Gilliam</td>\n",
              "      <td>Science-fiction</td>\n",
              "      <td>2 h 09</td>\n",
              "      <td>[Bruce Willis, Madeleine Stowe, Brad Pitt]</td>\n",
              "      <td>En 1997, décimée par un mystérieux virus, l'hu...</td>\n",
              "    </tr>\n",
              "    <tr>\n",
              "      <th>96</th>\n",
              "      <td>The Tree of Life</td>\n",
              "      <td>2011</td>\n",
              "      <td>6.3</td>\n",
              "      <td>https://www.senscritique.com/film/The_Tree_of_...</td>\n",
              "      <td>Terrence Malick</td>\n",
              "      <td>Drame</td>\n",
              "      <td>2 h 19</td>\n",
              "      <td>[Brad Pitt, Sean Penn, Jessica Chastain]</td>\n",
              "      <td>Jack vient de perdre son frère. Devant cette f...</td>\n",
              "    </tr>\n",
              "    <tr>\n",
              "      <th>97</th>\n",
              "      <td>Cloud Atlas</td>\n",
              "      <td>2012</td>\n",
              "      <td>7.0</td>\n",
              "      <td>https://www.senscritique.com/film/Cloud_Atlas/...</td>\n",
              "      <td>Lilly Wachowski</td>\n",
              "      <td>Aventure</td>\n",
              "      <td>2 h 52</td>\n",
              "      <td>[Tom Hanks, Halle Berry, Jim Broadbent]</td>\n",
              "      <td>L'histoire se déroule sur 5 siècles dans plusi...</td>\n",
              "    </tr>\n",
              "    <tr>\n",
              "      <th>98</th>\n",
              "      <td>Les Fils de l'homme</td>\n",
              "      <td>2006</td>\n",
              "      <td>7.6</td>\n",
              "      <td>https://www.senscritique.com/film/Les_Fils_de_...</td>\n",
              "      <td>Alfonso Cuarón</td>\n",
              "      <td>Drame</td>\n",
              "      <td>1 h 49</td>\n",
              "      <td>[Clive Owen, Julianne Moore, Clare-Hope Ashitey]</td>\n",
              "      <td>En 2027, aucun enfant n'est venu au monde depu...</td>\n",
              "    </tr>\n",
              "    <tr>\n",
              "      <th>99</th>\n",
              "      <td>Le Cinquième Élément</td>\n",
              "      <td>1997</td>\n",
              "      <td>7.0</td>\n",
              "      <td>https://www.senscritique.com/film/Le_Cinquieme...</td>\n",
              "      <td>Luc Besson</td>\n",
              "      <td>Action</td>\n",
              "      <td>2 h 06</td>\n",
              "      <td>[Bruce Willis, Gary Oldman, Ian Holm]</td>\n",
              "      <td>En Egypte, en 1914, des extraterrestres vienne...</td>\n",
              "    </tr>\n",
              "  </tbody>\n",
              "</table>\n",
              "<p>100 rows × 9 columns</p>\n",
              "</div>"
            ],
            "text/plain": [
              "                           titre  ...                                        description\n",
              "0                     Fight Club  ...  Insomniaque, désillusionné par sa vie personne...\n",
              "1                   Pulp Fiction  ...  L'odyssée sanglante, burlesque et cocasse de p...\n",
              "2                   Interstellar  ...  Un groupe d'explorateurs exploite une faille d...\n",
              "3   2001 : L'Odyssée de l'espace  ...  A l'aube de l'Humanité, dans le désert africai...\n",
              "4                   Blade Runner  ...  2019, Los Angeles. La Terre est surpeuplée et ...\n",
              "..                           ...  ...                                                ...\n",
              "95         L'Armée des 12 singes  ...  En 1997, décimée par un mystérieux virus, l'hu...\n",
              "96              The Tree of Life  ...  Jack vient de perdre son frère. Devant cette f...\n",
              "97                   Cloud Atlas  ...  L'histoire se déroule sur 5 siècles dans plusi...\n",
              "98           Les Fils de l'homme  ...  En 2027, aucun enfant n'est venu au monde depu...\n",
              "99          Le Cinquième Élément  ...  En Egypte, en 1914, des extraterrestres vienne...\n",
              "\n",
              "[100 rows x 9 columns]"
            ]
          },
          "metadata": {
            "tags": []
          },
          "execution_count": 196
        }
      ]
    },
    {
      "cell_type": "markdown",
      "metadata": {
        "id": "gPCSA_X1Wv7s"
      },
      "source": [
        "## **Visualisation**"
      ]
    },
    {
      "cell_type": "code",
      "metadata": {
        "id": "1Fj-IgM9qk9_",
        "colab": {
          "base_uri": "https://localhost:8080/"
        },
        "outputId": "0afba602-ccbc-41f1-f1fa-3d40130c9f84"
      },
      "source": [
        "import plotly.express as px\n",
        "\n",
        "print(px.colors.qualitative.G10)\n",
        "print(px.colors.qualitative.Pastel1)\n",
        "print(px.colors.qualitative.Prism)\n",
        "print(px.colors.qualitative.Alphabet)\n"
      ],
      "execution_count": 197,
      "outputs": [
        {
          "output_type": "stream",
          "text": [
            "['#3366CC', '#DC3912', '#FF9900', '#109618', '#990099', '#0099C6', '#DD4477', '#66AA00', '#B82E2E', '#316395']\n",
            "['rgb(251,180,174)', 'rgb(179,205,227)', 'rgb(204,235,197)', 'rgb(222,203,228)', 'rgb(254,217,166)', 'rgb(255,255,204)', 'rgb(229,216,189)', 'rgb(253,218,236)', 'rgb(242,242,242)']\n",
            "['rgb(95, 70, 144)', 'rgb(29, 105, 150)', 'rgb(56, 166, 165)', 'rgb(15, 133, 84)', 'rgb(115, 175, 72)', 'rgb(237, 173, 8)', 'rgb(225, 124, 5)', 'rgb(204, 80, 62)', 'rgb(148, 52, 110)', 'rgb(111, 64, 112)', 'rgb(102, 102, 102)']\n",
            "['#AA0DFE', '#3283FE', '#85660D', '#782AB6', '#565656', '#1C8356', '#16FF32', '#F7E1A0', '#E2E2E2', '#1CBE4F', '#C4451C', '#DEA0FD', '#FE00FA', '#325A9B', '#FEAF16', '#F8A19F', '#90AD1C', '#F6222E', '#1CFFCE', '#2ED9FF', '#B10DA1', '#C075A6', '#FC1CBF', '#B00068', '#FBE426', '#FA0087']\n"
          ],
          "name": "stdout"
        }
      ]
    },
    {
      "cell_type": "code",
      "metadata": {
        "colab": {
          "base_uri": "https://localhost:8080/",
          "height": 542
        },
        "id": "OTaW7IYMnRn0",
        "outputId": "8901889e-2a79-44f8-84f0-0f3a68ec1931"
      },
      "source": [
        "import plotly.express as px\n",
        "data = px.data.gapminder()\n",
        "\n",
        "\n",
        "fig = px.bar(df_2, x=df_2[\"genres\"].value_counts().index, y=df_2[\"genres\"].value_counts().values,\n",
        "             color=['#3366CC', '#DC3912', '#FF9900', '#109618', '#990099', '#0099C6', '#DD4477', '#66AA00', '#B82E2E', '#316395','rgb(251,180,174)', 'rgb(179,205,227)', 'rgb(204,235,197)', 'rgb(222,203,228)', 'rgb(254,217,166)', 'rgb(255,255,204)', 'rgb(229,216,189)', 'rgb(253,218,236)', 'rgb(242,242,242)','rgb(95, 70, 144)']\n",
        "             )\n",
        "fig.update_layout(title_text='Genres')\n",
        "fig.show()"
      ],
      "execution_count": 198,
      "outputs": [
        {
          "output_type": "display_data",
          "data": {
            "text/html": [
              "<html>\n",
              "<head><meta charset=\"utf-8\" /></head>\n",
              "<body>\n",
              "    <div>\n",
              "            <script src=\"https://cdnjs.cloudflare.com/ajax/libs/mathjax/2.7.5/MathJax.js?config=TeX-AMS-MML_SVG\"></script><script type=\"text/javascript\">if (window.MathJax) {MathJax.Hub.Config({SVG: {font: \"STIX-Web\"}});}</script>\n",
              "                <script type=\"text/javascript\">window.PlotlyConfig = {MathJaxConfig: 'local'};</script>\n",
              "        <script src=\"https://cdn.plot.ly/plotly-latest.min.js\"></script>    \n",
              "            <div id=\"de26701b-4691-4f97-b965-79ad595a953b\" class=\"plotly-graph-div\" style=\"height:525px; width:100%;\"></div>\n",
              "            <script type=\"text/javascript\">\n",
              "                \n",
              "                    window.PLOTLYENV=window.PLOTLYENV || {};\n",
              "                    \n",
              "                if (document.getElementById(\"de26701b-4691-4f97-b965-79ad595a953b\")) {\n",
              "                    Plotly.newPlot(\n",
              "                        'de26701b-4691-4f97-b965-79ad595a953b',\n",
              "                        [{\"alignmentgroup\": \"True\", \"hoverlabel\": {\"namelength\": 0}, \"hovertemplate\": \"color=#3366CC<br>x=%{x}<br>y=%{y}\", \"legendgroup\": \"color=#3366CC\", \"marker\": {\"color\": \"#636efa\"}, \"name\": \"color=#3366CC\", \"offsetgroup\": \"color=#3366CC\", \"orientation\": \"v\", \"showlegend\": true, \"textposition\": \"auto\", \"type\": \"bar\", \"x\": [\"Drame\"], \"xaxis\": \"x\", \"y\": [36], \"yaxis\": \"y\"}, {\"alignmentgroup\": \"True\", \"hoverlabel\": {\"namelength\": 0}, \"hovertemplate\": \"color=#DC3912<br>x=%{x}<br>y=%{y}\", \"legendgroup\": \"color=#DC3912\", \"marker\": {\"color\": \"#EF553B\"}, \"name\": \"color=#DC3912\", \"offsetgroup\": \"color=#DC3912\", \"orientation\": \"v\", \"showlegend\": true, \"textposition\": \"auto\", \"type\": \"bar\", \"x\": [\"Policier\"], \"xaxis\": \"x\", \"y\": [9], \"yaxis\": \"y\"}, {\"alignmentgroup\": \"True\", \"hoverlabel\": {\"namelength\": 0}, \"hovertemplate\": \"color=#FF9900<br>x=%{x}<br>y=%{y}\", \"legendgroup\": \"color=#FF9900\", \"marker\": {\"color\": \"#00cc96\"}, \"name\": \"color=#FF9900\", \"offsetgroup\": \"color=#FF9900\", \"orientation\": \"v\", \"showlegend\": true, \"textposition\": \"auto\", \"type\": \"bar\", \"x\": [\"Aventure\"], \"xaxis\": \"x\", \"y\": [9], \"yaxis\": \"y\"}, {\"alignmentgroup\": \"True\", \"hoverlabel\": {\"namelength\": 0}, \"hovertemplate\": \"color=#109618<br>x=%{x}<br>y=%{y}\", \"legendgroup\": \"color=#109618\", \"marker\": {\"color\": \"#ab63fa\"}, \"name\": \"color=#109618\", \"offsetgroup\": \"color=#109618\", \"orientation\": \"v\", \"showlegend\": true, \"textposition\": \"auto\", \"type\": \"bar\", \"x\": [\"Action\"], \"xaxis\": \"x\", \"y\": [7], \"yaxis\": \"y\"}, {\"alignmentgroup\": \"True\", \"hoverlabel\": {\"namelength\": 0}, \"hovertemplate\": \"color=#990099<br>x=%{x}<br>y=%{y}\", \"legendgroup\": \"color=#990099\", \"marker\": {\"color\": \"#FFA15A\"}, \"name\": \"color=#990099\", \"offsetgroup\": \"color=#990099\", \"orientation\": \"v\", \"showlegend\": true, \"textposition\": \"auto\", \"type\": \"bar\", \"x\": [\"Com\\u00e9die\"], \"xaxis\": \"x\", \"y\": [6], \"yaxis\": \"y\"}, {\"alignmentgroup\": \"True\", \"hoverlabel\": {\"namelength\": 0}, \"hovertemplate\": \"color=#0099C6<br>x=%{x}<br>y=%{y}\", \"legendgroup\": \"color=#0099C6\", \"marker\": {\"color\": \"#19d3f3\"}, \"name\": \"color=#0099C6\", \"offsetgroup\": \"color=#0099C6\", \"orientation\": \"v\", \"showlegend\": true, \"textposition\": \"auto\", \"type\": \"bar\", \"x\": [\"Gangster\"], \"xaxis\": \"x\", \"y\": [6], \"yaxis\": \"y\"}, {\"alignmentgroup\": \"True\", \"hoverlabel\": {\"namelength\": 0}, \"hovertemplate\": \"color=#DD4477<br>x=%{x}<br>y=%{y}\", \"legendgroup\": \"color=#DD4477\", \"marker\": {\"color\": \"#FF6692\"}, \"name\": \"color=#DD4477\", \"offsetgroup\": \"color=#DD4477\", \"orientation\": \"v\", \"showlegend\": true, \"textposition\": \"auto\", \"type\": \"bar\", \"x\": [\"Animation\"], \"xaxis\": \"x\", \"y\": [5], \"yaxis\": \"y\"}, {\"alignmentgroup\": \"True\", \"hoverlabel\": {\"namelength\": 0}, \"hovertemplate\": \"color=#66AA00<br>x=%{x}<br>y=%{y}\", \"legendgroup\": \"color=#66AA00\", \"marker\": {\"color\": \"#B6E880\"}, \"name\": \"color=#66AA00\", \"offsetgroup\": \"color=#66AA00\", \"orientation\": \"v\", \"showlegend\": true, \"textposition\": \"auto\", \"type\": \"bar\", \"x\": [\"Western\"], \"xaxis\": \"x\", \"y\": [3], \"yaxis\": \"y\"}, {\"alignmentgroup\": \"True\", \"hoverlabel\": {\"namelength\": 0}, \"hovertemplate\": \"color=#B82E2E<br>x=%{x}<br>y=%{y}\", \"legendgroup\": \"color=#B82E2E\", \"marker\": {\"color\": \"#FF97FF\"}, \"name\": \"color=#B82E2E\", \"offsetgroup\": \"color=#B82E2E\", \"orientation\": \"v\", \"showlegend\": true, \"textposition\": \"auto\", \"type\": \"bar\", \"x\": [\"Thriller\"], \"xaxis\": \"x\", \"y\": [3], \"yaxis\": \"y\"}, {\"alignmentgroup\": \"True\", \"hoverlabel\": {\"namelength\": 0}, \"hovertemplate\": \"color=#316395<br>x=%{x}<br>y=%{y}\", \"legendgroup\": \"color=#316395\", \"marker\": {\"color\": \"#FECB52\"}, \"name\": \"color=#316395\", \"offsetgroup\": \"color=#316395\", \"orientation\": \"v\", \"showlegend\": true, \"textposition\": \"auto\", \"type\": \"bar\", \"x\": [\"\\u00c9pouvante-Horreur\"], \"xaxis\": \"x\", \"y\": [3], \"yaxis\": \"y\"}, {\"alignmentgroup\": \"True\", \"hoverlabel\": {\"namelength\": 0}, \"hovertemplate\": \"color=rgb(251,180,174)<br>x=%{x}<br>y=%{y}\", \"legendgroup\": \"color=rgb(251,180,174)\", \"marker\": {\"color\": \"#636efa\"}, \"name\": \"color=rgb(251,180,174)\", \"offsetgroup\": \"color=rgb(251,180,174)\", \"orientation\": \"v\", \"showlegend\": true, \"textposition\": \"auto\", \"type\": \"bar\", \"x\": [\"Arts martiaux\"], \"xaxis\": \"x\", \"y\": [2], \"yaxis\": \"y\"}, {\"alignmentgroup\": \"True\", \"hoverlabel\": {\"namelength\": 0}, \"hovertemplate\": \"color=rgb(179,205,227)<br>x=%{x}<br>y=%{y}\", \"legendgroup\": \"color=rgb(179,205,227)\", \"marker\": {\"color\": \"#EF553B\"}, \"name\": \"color=rgb(179,205,227)\", \"offsetgroup\": \"color=rgb(179,205,227)\", \"orientation\": \"v\", \"showlegend\": true, \"textposition\": \"auto\", \"type\": \"bar\", \"x\": [\"Biopic\"], \"xaxis\": \"x\", \"y\": [2], \"yaxis\": \"y\"}, {\"alignmentgroup\": \"True\", \"hoverlabel\": {\"namelength\": 0}, \"hovertemplate\": \"color=rgb(204,235,197)<br>x=%{x}<br>y=%{y}\", \"legendgroup\": \"color=rgb(204,235,197)\", \"marker\": {\"color\": \"#00cc96\"}, \"name\": \"color=rgb(204,235,197)\", \"offsetgroup\": \"color=rgb(204,235,197)\", \"orientation\": \"v\", \"showlegend\": true, \"textposition\": \"auto\", \"type\": \"bar\", \"x\": [\"Science-fiction\"], \"xaxis\": \"x\", \"y\": [2], \"yaxis\": \"y\"}, {\"alignmentgroup\": \"True\", \"hoverlabel\": {\"namelength\": 0}, \"hovertemplate\": \"color=rgb(222,203,228)<br>x=%{x}<br>y=%{y}\", \"legendgroup\": \"color=rgb(222,203,228)\", \"marker\": {\"color\": \"#ab63fa\"}, \"name\": \"color=rgb(222,203,228)\", \"offsetgroup\": \"color=rgb(222,203,228)\", \"orientation\": \"v\", \"showlegend\": true, \"textposition\": \"auto\", \"type\": \"bar\", \"x\": [\"Fantastique\"], \"xaxis\": \"x\", \"y\": [1], \"yaxis\": \"y\"}, {\"alignmentgroup\": \"True\", \"hoverlabel\": {\"namelength\": 0}, \"hovertemplate\": \"color=rgb(254,217,166)<br>x=%{x}<br>y=%{y}\", \"legendgroup\": \"color=rgb(254,217,166)\", \"marker\": {\"color\": \"#FFA15A\"}, \"name\": \"color=rgb(254,217,166)\", \"offsetgroup\": \"color=rgb(254,217,166)\", \"orientation\": \"v\", \"showlegend\": true, \"textposition\": \"auto\", \"type\": \"bar\", \"x\": [\"Com\\u00e9die musicale\"], \"xaxis\": \"x\", \"y\": [1], \"yaxis\": \"y\"}, {\"alignmentgroup\": \"True\", \"hoverlabel\": {\"namelength\": 0}, \"hovertemplate\": \"color=rgb(255,255,204)<br>x=%{x}<br>y=%{y}\", \"legendgroup\": \"color=rgb(255,255,204)\", \"marker\": {\"color\": \"#19d3f3\"}, \"name\": \"color=rgb(255,255,204)\", \"offsetgroup\": \"color=rgb(255,255,204)\", \"orientation\": \"v\", \"showlegend\": true, \"textposition\": \"auto\", \"type\": \"bar\", \"x\": [\"Romance\"], \"xaxis\": \"x\", \"y\": [1], \"yaxis\": \"y\"}, {\"alignmentgroup\": \"True\", \"hoverlabel\": {\"namelength\": 0}, \"hovertemplate\": \"color=rgb(229,216,189)<br>x=%{x}<br>y=%{y}\", \"legendgroup\": \"color=rgb(229,216,189)\", \"marker\": {\"color\": \"#FF6692\"}, \"name\": \"color=rgb(229,216,189)\", \"offsetgroup\": \"color=rgb(229,216,189)\", \"orientation\": \"v\", \"showlegend\": true, \"textposition\": \"auto\", \"type\": \"bar\", \"x\": [\"Com\\u00e9die dramatique\"], \"xaxis\": \"x\", \"y\": [1], \"yaxis\": \"y\"}, {\"alignmentgroup\": \"True\", \"hoverlabel\": {\"namelength\": 0}, \"hovertemplate\": \"color=rgb(253,218,236)<br>x=%{x}<br>y=%{y}\", \"legendgroup\": \"color=rgb(253,218,236)\", \"marker\": {\"color\": \"#B6E880\"}, \"name\": \"color=rgb(253,218,236)\", \"offsetgroup\": \"color=rgb(253,218,236)\", \"orientation\": \"v\", \"showlegend\": true, \"textposition\": \"auto\", \"type\": \"bar\", \"x\": [\"P\\u00e9plum\"], \"xaxis\": \"x\", \"y\": [1], \"yaxis\": \"y\"}, {\"alignmentgroup\": \"True\", \"hoverlabel\": {\"namelength\": 0}, \"hovertemplate\": \"color=rgb(242,242,242)<br>x=%{x}<br>y=%{y}\", \"legendgroup\": \"color=rgb(242,242,242)\", \"marker\": {\"color\": \"#FF97FF\"}, \"name\": \"color=rgb(242,242,242)\", \"offsetgroup\": \"color=rgb(242,242,242)\", \"orientation\": \"v\", \"showlegend\": true, \"textposition\": \"auto\", \"type\": \"bar\", \"x\": [\"Fantasy\"], \"xaxis\": \"x\", \"y\": [1], \"yaxis\": \"y\"}, {\"alignmentgroup\": \"True\", \"hoverlabel\": {\"namelength\": 0}, \"hovertemplate\": \"color=rgb(95, 70, 144)<br>x=%{x}<br>y=%{y}\", \"legendgroup\": \"color=rgb(95, 70, 144)\", \"marker\": {\"color\": \"#FECB52\"}, \"name\": \"color=rgb(95, 70, 144)\", \"offsetgroup\": \"color=rgb(95, 70, 144)\", \"orientation\": \"v\", \"showlegend\": true, \"textposition\": \"auto\", \"type\": \"bar\", \"x\": [\"Guerre\"], \"xaxis\": \"x\", \"y\": [1], \"yaxis\": \"y\"}],\n",
              "                        {\"barmode\": \"relative\", \"legend\": {\"tracegroupgap\": 0}, \"margin\": {\"t\": 60}, \"template\": {\"data\": {\"bar\": [{\"error_x\": {\"color\": \"#2a3f5f\"}, \"error_y\": {\"color\": \"#2a3f5f\"}, \"marker\": {\"line\": {\"color\": \"#E5ECF6\", \"width\": 0.5}}, \"type\": \"bar\"}], \"barpolar\": [{\"marker\": {\"line\": {\"color\": \"#E5ECF6\", \"width\": 0.5}}, \"type\": \"barpolar\"}], \"carpet\": [{\"aaxis\": {\"endlinecolor\": \"#2a3f5f\", \"gridcolor\": \"white\", \"linecolor\": \"white\", \"minorgridcolor\": \"white\", \"startlinecolor\": \"#2a3f5f\"}, \"baxis\": {\"endlinecolor\": \"#2a3f5f\", \"gridcolor\": \"white\", \"linecolor\": \"white\", \"minorgridcolor\": \"white\", \"startlinecolor\": \"#2a3f5f\"}, \"type\": \"carpet\"}], \"choropleth\": [{\"colorbar\": {\"outlinewidth\": 0, \"ticks\": \"\"}, \"type\": \"choropleth\"}], \"contour\": [{\"colorbar\": {\"outlinewidth\": 0, \"ticks\": \"\"}, \"colorscale\": [[0.0, \"#0d0887\"], [0.1111111111111111, \"#46039f\"], [0.2222222222222222, \"#7201a8\"], [0.3333333333333333, \"#9c179e\"], [0.4444444444444444, \"#bd3786\"], [0.5555555555555556, \"#d8576b\"], [0.6666666666666666, \"#ed7953\"], [0.7777777777777778, \"#fb9f3a\"], [0.8888888888888888, \"#fdca26\"], [1.0, \"#f0f921\"]], \"type\": \"contour\"}], \"contourcarpet\": [{\"colorbar\": {\"outlinewidth\": 0, \"ticks\": \"\"}, \"type\": \"contourcarpet\"}], \"heatmap\": [{\"colorbar\": {\"outlinewidth\": 0, \"ticks\": \"\"}, \"colorscale\": [[0.0, \"#0d0887\"], [0.1111111111111111, \"#46039f\"], [0.2222222222222222, \"#7201a8\"], [0.3333333333333333, \"#9c179e\"], [0.4444444444444444, \"#bd3786\"], [0.5555555555555556, \"#d8576b\"], [0.6666666666666666, \"#ed7953\"], [0.7777777777777778, \"#fb9f3a\"], [0.8888888888888888, \"#fdca26\"], [1.0, \"#f0f921\"]], \"type\": \"heatmap\"}], \"heatmapgl\": [{\"colorbar\": {\"outlinewidth\": 0, \"ticks\": \"\"}, \"colorscale\": [[0.0, \"#0d0887\"], [0.1111111111111111, \"#46039f\"], [0.2222222222222222, \"#7201a8\"], [0.3333333333333333, \"#9c179e\"], [0.4444444444444444, \"#bd3786\"], [0.5555555555555556, \"#d8576b\"], [0.6666666666666666, \"#ed7953\"], [0.7777777777777778, \"#fb9f3a\"], [0.8888888888888888, \"#fdca26\"], [1.0, \"#f0f921\"]], \"type\": \"heatmapgl\"}], \"histogram\": [{\"marker\": {\"colorbar\": {\"outlinewidth\": 0, \"ticks\": \"\"}}, \"type\": \"histogram\"}], \"histogram2d\": [{\"colorbar\": {\"outlinewidth\": 0, \"ticks\": \"\"}, \"colorscale\": [[0.0, \"#0d0887\"], [0.1111111111111111, \"#46039f\"], [0.2222222222222222, \"#7201a8\"], [0.3333333333333333, \"#9c179e\"], [0.4444444444444444, \"#bd3786\"], [0.5555555555555556, \"#d8576b\"], [0.6666666666666666, \"#ed7953\"], [0.7777777777777778, \"#fb9f3a\"], [0.8888888888888888, \"#fdca26\"], [1.0, \"#f0f921\"]], \"type\": \"histogram2d\"}], \"histogram2dcontour\": [{\"colorbar\": {\"outlinewidth\": 0, \"ticks\": \"\"}, \"colorscale\": [[0.0, \"#0d0887\"], [0.1111111111111111, \"#46039f\"], [0.2222222222222222, \"#7201a8\"], [0.3333333333333333, \"#9c179e\"], [0.4444444444444444, \"#bd3786\"], [0.5555555555555556, \"#d8576b\"], [0.6666666666666666, \"#ed7953\"], [0.7777777777777778, \"#fb9f3a\"], [0.8888888888888888, \"#fdca26\"], [1.0, \"#f0f921\"]], \"type\": \"histogram2dcontour\"}], \"mesh3d\": [{\"colorbar\": {\"outlinewidth\": 0, \"ticks\": \"\"}, \"type\": \"mesh3d\"}], \"parcoords\": [{\"line\": {\"colorbar\": {\"outlinewidth\": 0, \"ticks\": \"\"}}, \"type\": \"parcoords\"}], \"pie\": [{\"automargin\": true, \"type\": \"pie\"}], \"scatter\": [{\"marker\": {\"colorbar\": {\"outlinewidth\": 0, \"ticks\": \"\"}}, \"type\": \"scatter\"}], \"scatter3d\": [{\"line\": {\"colorbar\": {\"outlinewidth\": 0, \"ticks\": \"\"}}, \"marker\": {\"colorbar\": {\"outlinewidth\": 0, \"ticks\": \"\"}}, \"type\": \"scatter3d\"}], \"scattercarpet\": [{\"marker\": {\"colorbar\": {\"outlinewidth\": 0, \"ticks\": \"\"}}, \"type\": \"scattercarpet\"}], \"scattergeo\": [{\"marker\": {\"colorbar\": {\"outlinewidth\": 0, \"ticks\": \"\"}}, \"type\": \"scattergeo\"}], \"scattergl\": [{\"marker\": {\"colorbar\": {\"outlinewidth\": 0, \"ticks\": \"\"}}, \"type\": \"scattergl\"}], \"scattermapbox\": [{\"marker\": {\"colorbar\": {\"outlinewidth\": 0, \"ticks\": \"\"}}, \"type\": \"scattermapbox\"}], \"scatterpolar\": [{\"marker\": {\"colorbar\": {\"outlinewidth\": 0, \"ticks\": \"\"}}, \"type\": \"scatterpolar\"}], \"scatterpolargl\": [{\"marker\": {\"colorbar\": {\"outlinewidth\": 0, \"ticks\": \"\"}}, \"type\": \"scatterpolargl\"}], \"scatterternary\": [{\"marker\": {\"colorbar\": {\"outlinewidth\": 0, \"ticks\": \"\"}}, \"type\": \"scatterternary\"}], \"surface\": [{\"colorbar\": {\"outlinewidth\": 0, \"ticks\": \"\"}, \"colorscale\": [[0.0, \"#0d0887\"], [0.1111111111111111, \"#46039f\"], [0.2222222222222222, \"#7201a8\"], [0.3333333333333333, \"#9c179e\"], [0.4444444444444444, \"#bd3786\"], [0.5555555555555556, \"#d8576b\"], [0.6666666666666666, \"#ed7953\"], [0.7777777777777778, \"#fb9f3a\"], [0.8888888888888888, \"#fdca26\"], [1.0, \"#f0f921\"]], \"type\": \"surface\"}], \"table\": [{\"cells\": {\"fill\": {\"color\": \"#EBF0F8\"}, \"line\": {\"color\": \"white\"}}, \"header\": {\"fill\": {\"color\": \"#C8D4E3\"}, \"line\": {\"color\": \"white\"}}, \"type\": \"table\"}]}, \"layout\": {\"annotationdefaults\": {\"arrowcolor\": \"#2a3f5f\", \"arrowhead\": 0, \"arrowwidth\": 1}, \"coloraxis\": {\"colorbar\": {\"outlinewidth\": 0, \"ticks\": \"\"}}, \"colorscale\": {\"diverging\": [[0, \"#8e0152\"], [0.1, \"#c51b7d\"], [0.2, \"#de77ae\"], [0.3, \"#f1b6da\"], [0.4, \"#fde0ef\"], [0.5, \"#f7f7f7\"], [0.6, \"#e6f5d0\"], [0.7, \"#b8e186\"], [0.8, \"#7fbc41\"], [0.9, \"#4d9221\"], [1, \"#276419\"]], \"sequential\": [[0.0, \"#0d0887\"], [0.1111111111111111, \"#46039f\"], [0.2222222222222222, \"#7201a8\"], [0.3333333333333333, \"#9c179e\"], [0.4444444444444444, \"#bd3786\"], [0.5555555555555556, \"#d8576b\"], [0.6666666666666666, \"#ed7953\"], [0.7777777777777778, \"#fb9f3a\"], [0.8888888888888888, \"#fdca26\"], [1.0, \"#f0f921\"]], \"sequentialminus\": [[0.0, \"#0d0887\"], [0.1111111111111111, \"#46039f\"], [0.2222222222222222, \"#7201a8\"], [0.3333333333333333, \"#9c179e\"], [0.4444444444444444, \"#bd3786\"], [0.5555555555555556, \"#d8576b\"], [0.6666666666666666, \"#ed7953\"], [0.7777777777777778, \"#fb9f3a\"], [0.8888888888888888, \"#fdca26\"], [1.0, \"#f0f921\"]]}, \"colorway\": [\"#636efa\", \"#EF553B\", \"#00cc96\", \"#ab63fa\", \"#FFA15A\", \"#19d3f3\", \"#FF6692\", \"#B6E880\", \"#FF97FF\", \"#FECB52\"], \"font\": {\"color\": \"#2a3f5f\"}, \"geo\": {\"bgcolor\": \"white\", \"lakecolor\": \"white\", \"landcolor\": \"#E5ECF6\", \"showlakes\": true, \"showland\": true, \"subunitcolor\": \"white\"}, \"hoverlabel\": {\"align\": \"left\"}, \"hovermode\": \"closest\", \"mapbox\": {\"style\": \"light\"}, \"paper_bgcolor\": \"white\", \"plot_bgcolor\": \"#E5ECF6\", \"polar\": {\"angularaxis\": {\"gridcolor\": \"white\", \"linecolor\": \"white\", \"ticks\": \"\"}, \"bgcolor\": \"#E5ECF6\", \"radialaxis\": {\"gridcolor\": \"white\", \"linecolor\": \"white\", \"ticks\": \"\"}}, \"scene\": {\"xaxis\": {\"backgroundcolor\": \"#E5ECF6\", \"gridcolor\": \"white\", \"gridwidth\": 2, \"linecolor\": \"white\", \"showbackground\": true, \"ticks\": \"\", \"zerolinecolor\": \"white\"}, \"yaxis\": {\"backgroundcolor\": \"#E5ECF6\", \"gridcolor\": \"white\", \"gridwidth\": 2, \"linecolor\": \"white\", \"showbackground\": true, \"ticks\": \"\", \"zerolinecolor\": \"white\"}, \"zaxis\": {\"backgroundcolor\": \"#E5ECF6\", \"gridcolor\": \"white\", \"gridwidth\": 2, \"linecolor\": \"white\", \"showbackground\": true, \"ticks\": \"\", \"zerolinecolor\": \"white\"}}, \"shapedefaults\": {\"line\": {\"color\": \"#2a3f5f\"}}, \"ternary\": {\"aaxis\": {\"gridcolor\": \"white\", \"linecolor\": \"white\", \"ticks\": \"\"}, \"baxis\": {\"gridcolor\": \"white\", \"linecolor\": \"white\", \"ticks\": \"\"}, \"bgcolor\": \"#E5ECF6\", \"caxis\": {\"gridcolor\": \"white\", \"linecolor\": \"white\", \"ticks\": \"\"}}, \"title\": {\"x\": 0.05}, \"xaxis\": {\"automargin\": true, \"gridcolor\": \"white\", \"linecolor\": \"white\", \"ticks\": \"\", \"title\": {\"standoff\": 15}, \"zerolinecolor\": \"white\", \"zerolinewidth\": 2}, \"yaxis\": {\"automargin\": true, \"gridcolor\": \"white\", \"linecolor\": \"white\", \"ticks\": \"\", \"title\": {\"standoff\": 15}, \"zerolinecolor\": \"white\", \"zerolinewidth\": 2}}}, \"title\": {\"text\": \"Genres\"}, \"xaxis\": {\"anchor\": \"y\", \"domain\": [0.0, 1.0], \"title\": {\"text\": \"x\"}}, \"yaxis\": {\"anchor\": \"x\", \"domain\": [0.0, 1.0], \"title\": {\"text\": \"y\"}}},\n",
              "                        {\"responsive\": true}\n",
              "                    ).then(function(){\n",
              "                            \n",
              "var gd = document.getElementById('de26701b-4691-4f97-b965-79ad595a953b');\n",
              "var x = new MutationObserver(function (mutations, observer) {{\n",
              "        var display = window.getComputedStyle(gd).display;\n",
              "        if (!display || display === 'none') {{\n",
              "            console.log([gd, 'removed!']);\n",
              "            Plotly.purge(gd);\n",
              "            observer.disconnect();\n",
              "        }}\n",
              "}});\n",
              "\n",
              "// Listen for the removal of the full notebook cells\n",
              "var notebookContainer = gd.closest('#notebook-container');\n",
              "if (notebookContainer) {{\n",
              "    x.observe(notebookContainer, {childList: true});\n",
              "}}\n",
              "\n",
              "// Listen for the clearing of the current output cell\n",
              "var outputEl = gd.closest('.output');\n",
              "if (outputEl) {{\n",
              "    x.observe(outputEl, {childList: true});\n",
              "}}\n",
              "\n",
              "                        })\n",
              "                };\n",
              "                \n",
              "            </script>\n",
              "        </div>\n",
              "</body>\n",
              "</html>"
            ]
          },
          "metadata": {
            "tags": []
          }
        }
      ]
    },
    {
      "cell_type": "code",
      "metadata": {
        "colab": {
          "base_uri": "https://localhost:8080/",
          "height": 542
        },
        "id": "RmmqvmLWngWp",
        "outputId": "965bd8fd-f71f-4816-dd3f-6223618b5c4a"
      },
      "source": [
        "import plotly.express as px\n",
        "# This dataframe has 244 lines, but 4 distinct values for `day`\n",
        "\n",
        "fig = px.pie(df_2, values=df_2['genres'].value_counts(), names=df_2[\"genres\"].value_counts().index,color_discrete_sequence=px.colors.sequential.Plasma_r)\n",
        "fig.update_layout(title_text='Pourcentage de chaque genres')\n",
        "fig.show()"
      ],
      "execution_count": 199,
      "outputs": [
        {
          "output_type": "display_data",
          "data": {
            "text/html": [
              "<html>\n",
              "<head><meta charset=\"utf-8\" /></head>\n",
              "<body>\n",
              "    <div>\n",
              "            <script src=\"https://cdnjs.cloudflare.com/ajax/libs/mathjax/2.7.5/MathJax.js?config=TeX-AMS-MML_SVG\"></script><script type=\"text/javascript\">if (window.MathJax) {MathJax.Hub.Config({SVG: {font: \"STIX-Web\"}});}</script>\n",
              "                <script type=\"text/javascript\">window.PlotlyConfig = {MathJaxConfig: 'local'};</script>\n",
              "        <script src=\"https://cdn.plot.ly/plotly-latest.min.js\"></script>    \n",
              "            <div id=\"44dc7a5e-40ab-40a7-a66a-9535b49b3648\" class=\"plotly-graph-div\" style=\"height:525px; width:100%;\"></div>\n",
              "            <script type=\"text/javascript\">\n",
              "                \n",
              "                    window.PLOTLYENV=window.PLOTLYENV || {};\n",
              "                    \n",
              "                if (document.getElementById(\"44dc7a5e-40ab-40a7-a66a-9535b49b3648\")) {\n",
              "                    Plotly.newPlot(\n",
              "                        '44dc7a5e-40ab-40a7-a66a-9535b49b3648',\n",
              "                        [{\"domain\": {\"x\": [0.0, 1.0], \"y\": [0.0, 1.0]}, \"hoverlabel\": {\"namelength\": 0}, \"hovertemplate\": \"label=%{label}<br>value=%{value}\", \"labels\": [\"Drame\", \"Policier\", \"Aventure\", \"Action\", \"Com\\u00e9die\", \"Gangster\", \"Animation\", \"Western\", \"Thriller\", \"\\u00c9pouvante-Horreur\", \"Arts martiaux\", \"Biopic\", \"Science-fiction\", \"Fantastique\", \"Com\\u00e9die musicale\", \"Romance\", \"Com\\u00e9die dramatique\", \"P\\u00e9plum\", \"Fantasy\", \"Guerre\"], \"legendgroup\": \"\", \"name\": \"\", \"showlegend\": true, \"type\": \"pie\", \"values\": [36, 9, 9, 7, 6, 6, 5, 3, 3, 3, 2, 2, 2, 1, 1, 1, 1, 1, 1, 1]}],\n",
              "                        {\"legend\": {\"tracegroupgap\": 0}, \"margin\": {\"t\": 60}, \"piecolorway\": [\"#f0f921\", \"#fdca26\", \"#fb9f3a\", \"#ed7953\", \"#d8576b\", \"#bd3786\", \"#9c179e\", \"#7201a8\", \"#46039f\", \"#0d0887\"], \"template\": {\"data\": {\"bar\": [{\"error_x\": {\"color\": \"#2a3f5f\"}, \"error_y\": {\"color\": \"#2a3f5f\"}, \"marker\": {\"line\": {\"color\": \"#E5ECF6\", \"width\": 0.5}}, \"type\": \"bar\"}], \"barpolar\": [{\"marker\": {\"line\": {\"color\": \"#E5ECF6\", \"width\": 0.5}}, \"type\": \"barpolar\"}], \"carpet\": [{\"aaxis\": {\"endlinecolor\": \"#2a3f5f\", \"gridcolor\": \"white\", \"linecolor\": \"white\", \"minorgridcolor\": \"white\", \"startlinecolor\": \"#2a3f5f\"}, \"baxis\": {\"endlinecolor\": \"#2a3f5f\", \"gridcolor\": \"white\", \"linecolor\": \"white\", \"minorgridcolor\": \"white\", \"startlinecolor\": \"#2a3f5f\"}, \"type\": \"carpet\"}], \"choropleth\": [{\"colorbar\": {\"outlinewidth\": 0, \"ticks\": \"\"}, \"type\": \"choropleth\"}], \"contour\": [{\"colorbar\": {\"outlinewidth\": 0, \"ticks\": \"\"}, \"colorscale\": [[0.0, \"#0d0887\"], [0.1111111111111111, \"#46039f\"], [0.2222222222222222, \"#7201a8\"], [0.3333333333333333, \"#9c179e\"], [0.4444444444444444, \"#bd3786\"], [0.5555555555555556, \"#d8576b\"], [0.6666666666666666, \"#ed7953\"], [0.7777777777777778, \"#fb9f3a\"], [0.8888888888888888, \"#fdca26\"], [1.0, \"#f0f921\"]], \"type\": \"contour\"}], \"contourcarpet\": [{\"colorbar\": {\"outlinewidth\": 0, \"ticks\": \"\"}, \"type\": \"contourcarpet\"}], \"heatmap\": [{\"colorbar\": {\"outlinewidth\": 0, \"ticks\": \"\"}, \"colorscale\": [[0.0, \"#0d0887\"], [0.1111111111111111, \"#46039f\"], [0.2222222222222222, \"#7201a8\"], [0.3333333333333333, \"#9c179e\"], [0.4444444444444444, \"#bd3786\"], [0.5555555555555556, \"#d8576b\"], [0.6666666666666666, \"#ed7953\"], [0.7777777777777778, \"#fb9f3a\"], [0.8888888888888888, \"#fdca26\"], [1.0, \"#f0f921\"]], \"type\": \"heatmap\"}], \"heatmapgl\": [{\"colorbar\": {\"outlinewidth\": 0, \"ticks\": \"\"}, \"colorscale\": [[0.0, \"#0d0887\"], [0.1111111111111111, \"#46039f\"], [0.2222222222222222, \"#7201a8\"], [0.3333333333333333, \"#9c179e\"], [0.4444444444444444, \"#bd3786\"], [0.5555555555555556, \"#d8576b\"], [0.6666666666666666, \"#ed7953\"], [0.7777777777777778, \"#fb9f3a\"], [0.8888888888888888, \"#fdca26\"], [1.0, \"#f0f921\"]], \"type\": \"heatmapgl\"}], \"histogram\": [{\"marker\": {\"colorbar\": {\"outlinewidth\": 0, \"ticks\": \"\"}}, \"type\": \"histogram\"}], \"histogram2d\": [{\"colorbar\": {\"outlinewidth\": 0, \"ticks\": \"\"}, \"colorscale\": [[0.0, \"#0d0887\"], [0.1111111111111111, \"#46039f\"], [0.2222222222222222, \"#7201a8\"], [0.3333333333333333, \"#9c179e\"], [0.4444444444444444, \"#bd3786\"], [0.5555555555555556, \"#d8576b\"], [0.6666666666666666, \"#ed7953\"], [0.7777777777777778, \"#fb9f3a\"], [0.8888888888888888, \"#fdca26\"], [1.0, \"#f0f921\"]], \"type\": \"histogram2d\"}], \"histogram2dcontour\": [{\"colorbar\": {\"outlinewidth\": 0, \"ticks\": \"\"}, \"colorscale\": [[0.0, \"#0d0887\"], [0.1111111111111111, \"#46039f\"], [0.2222222222222222, \"#7201a8\"], [0.3333333333333333, \"#9c179e\"], [0.4444444444444444, \"#bd3786\"], [0.5555555555555556, \"#d8576b\"], [0.6666666666666666, \"#ed7953\"], [0.7777777777777778, \"#fb9f3a\"], [0.8888888888888888, \"#fdca26\"], [1.0, \"#f0f921\"]], \"type\": \"histogram2dcontour\"}], \"mesh3d\": [{\"colorbar\": {\"outlinewidth\": 0, \"ticks\": \"\"}, \"type\": \"mesh3d\"}], \"parcoords\": [{\"line\": {\"colorbar\": {\"outlinewidth\": 0, \"ticks\": \"\"}}, \"type\": \"parcoords\"}], \"pie\": [{\"automargin\": true, \"type\": \"pie\"}], \"scatter\": [{\"marker\": {\"colorbar\": {\"outlinewidth\": 0, \"ticks\": \"\"}}, \"type\": \"scatter\"}], \"scatter3d\": [{\"line\": {\"colorbar\": {\"outlinewidth\": 0, \"ticks\": \"\"}}, \"marker\": {\"colorbar\": {\"outlinewidth\": 0, \"ticks\": \"\"}}, \"type\": \"scatter3d\"}], \"scattercarpet\": [{\"marker\": {\"colorbar\": {\"outlinewidth\": 0, \"ticks\": \"\"}}, \"type\": \"scattercarpet\"}], \"scattergeo\": [{\"marker\": {\"colorbar\": {\"outlinewidth\": 0, \"ticks\": \"\"}}, \"type\": \"scattergeo\"}], \"scattergl\": [{\"marker\": {\"colorbar\": {\"outlinewidth\": 0, \"ticks\": \"\"}}, \"type\": \"scattergl\"}], \"scattermapbox\": [{\"marker\": {\"colorbar\": {\"outlinewidth\": 0, \"ticks\": \"\"}}, \"type\": \"scattermapbox\"}], \"scatterpolar\": [{\"marker\": {\"colorbar\": {\"outlinewidth\": 0, \"ticks\": \"\"}}, \"type\": \"scatterpolar\"}], \"scatterpolargl\": [{\"marker\": {\"colorbar\": {\"outlinewidth\": 0, \"ticks\": \"\"}}, \"type\": \"scatterpolargl\"}], \"scatterternary\": [{\"marker\": {\"colorbar\": {\"outlinewidth\": 0, \"ticks\": \"\"}}, \"type\": \"scatterternary\"}], \"surface\": [{\"colorbar\": {\"outlinewidth\": 0, \"ticks\": \"\"}, \"colorscale\": [[0.0, \"#0d0887\"], [0.1111111111111111, \"#46039f\"], [0.2222222222222222, \"#7201a8\"], [0.3333333333333333, \"#9c179e\"], [0.4444444444444444, \"#bd3786\"], [0.5555555555555556, \"#d8576b\"], [0.6666666666666666, \"#ed7953\"], [0.7777777777777778, \"#fb9f3a\"], [0.8888888888888888, \"#fdca26\"], [1.0, \"#f0f921\"]], \"type\": \"surface\"}], \"table\": [{\"cells\": {\"fill\": {\"color\": \"#EBF0F8\"}, \"line\": {\"color\": \"white\"}}, \"header\": {\"fill\": {\"color\": \"#C8D4E3\"}, \"line\": {\"color\": \"white\"}}, \"type\": \"table\"}]}, \"layout\": {\"annotationdefaults\": {\"arrowcolor\": \"#2a3f5f\", \"arrowhead\": 0, \"arrowwidth\": 1}, \"coloraxis\": {\"colorbar\": {\"outlinewidth\": 0, \"ticks\": \"\"}}, \"colorscale\": {\"diverging\": [[0, \"#8e0152\"], [0.1, \"#c51b7d\"], [0.2, \"#de77ae\"], [0.3, \"#f1b6da\"], [0.4, \"#fde0ef\"], [0.5, \"#f7f7f7\"], [0.6, \"#e6f5d0\"], [0.7, \"#b8e186\"], [0.8, \"#7fbc41\"], [0.9, \"#4d9221\"], [1, \"#276419\"]], \"sequential\": [[0.0, \"#0d0887\"], [0.1111111111111111, \"#46039f\"], [0.2222222222222222, \"#7201a8\"], [0.3333333333333333, \"#9c179e\"], [0.4444444444444444, \"#bd3786\"], [0.5555555555555556, \"#d8576b\"], [0.6666666666666666, \"#ed7953\"], [0.7777777777777778, \"#fb9f3a\"], [0.8888888888888888, \"#fdca26\"], [1.0, \"#f0f921\"]], \"sequentialminus\": [[0.0, \"#0d0887\"], [0.1111111111111111, \"#46039f\"], [0.2222222222222222, \"#7201a8\"], [0.3333333333333333, \"#9c179e\"], [0.4444444444444444, \"#bd3786\"], [0.5555555555555556, \"#d8576b\"], [0.6666666666666666, \"#ed7953\"], [0.7777777777777778, \"#fb9f3a\"], [0.8888888888888888, \"#fdca26\"], [1.0, \"#f0f921\"]]}, \"colorway\": [\"#636efa\", \"#EF553B\", \"#00cc96\", \"#ab63fa\", \"#FFA15A\", \"#19d3f3\", \"#FF6692\", \"#B6E880\", \"#FF97FF\", \"#FECB52\"], \"font\": {\"color\": \"#2a3f5f\"}, \"geo\": {\"bgcolor\": \"white\", \"lakecolor\": \"white\", \"landcolor\": \"#E5ECF6\", \"showlakes\": true, \"showland\": true, \"subunitcolor\": \"white\"}, \"hoverlabel\": {\"align\": \"left\"}, \"hovermode\": \"closest\", \"mapbox\": {\"style\": \"light\"}, \"paper_bgcolor\": \"white\", \"plot_bgcolor\": \"#E5ECF6\", \"polar\": {\"angularaxis\": {\"gridcolor\": \"white\", \"linecolor\": \"white\", \"ticks\": \"\"}, \"bgcolor\": \"#E5ECF6\", \"radialaxis\": {\"gridcolor\": \"white\", \"linecolor\": \"white\", \"ticks\": \"\"}}, \"scene\": {\"xaxis\": {\"backgroundcolor\": \"#E5ECF6\", \"gridcolor\": \"white\", \"gridwidth\": 2, \"linecolor\": \"white\", \"showbackground\": true, \"ticks\": \"\", \"zerolinecolor\": \"white\"}, \"yaxis\": {\"backgroundcolor\": \"#E5ECF6\", \"gridcolor\": \"white\", \"gridwidth\": 2, \"linecolor\": \"white\", \"showbackground\": true, \"ticks\": \"\", \"zerolinecolor\": \"white\"}, \"zaxis\": {\"backgroundcolor\": \"#E5ECF6\", \"gridcolor\": \"white\", \"gridwidth\": 2, \"linecolor\": \"white\", \"showbackground\": true, \"ticks\": \"\", \"zerolinecolor\": \"white\"}}, \"shapedefaults\": {\"line\": {\"color\": \"#2a3f5f\"}}, \"ternary\": {\"aaxis\": {\"gridcolor\": \"white\", \"linecolor\": \"white\", \"ticks\": \"\"}, \"baxis\": {\"gridcolor\": \"white\", \"linecolor\": \"white\", \"ticks\": \"\"}, \"bgcolor\": \"#E5ECF6\", \"caxis\": {\"gridcolor\": \"white\", \"linecolor\": \"white\", \"ticks\": \"\"}}, \"title\": {\"x\": 0.05}, \"xaxis\": {\"automargin\": true, \"gridcolor\": \"white\", \"linecolor\": \"white\", \"ticks\": \"\", \"title\": {\"standoff\": 15}, \"zerolinecolor\": \"white\", \"zerolinewidth\": 2}, \"yaxis\": {\"automargin\": true, \"gridcolor\": \"white\", \"linecolor\": \"white\", \"ticks\": \"\", \"title\": {\"standoff\": 15}, \"zerolinecolor\": \"white\", \"zerolinewidth\": 2}}}, \"title\": {\"text\": \"Pourcentage de chaque genres\"}},\n",
              "                        {\"responsive\": true}\n",
              "                    ).then(function(){\n",
              "                            \n",
              "var gd = document.getElementById('44dc7a5e-40ab-40a7-a66a-9535b49b3648');\n",
              "var x = new MutationObserver(function (mutations, observer) {{\n",
              "        var display = window.getComputedStyle(gd).display;\n",
              "        if (!display || display === 'none') {{\n",
              "            console.log([gd, 'removed!']);\n",
              "            Plotly.purge(gd);\n",
              "            observer.disconnect();\n",
              "        }}\n",
              "}});\n",
              "\n",
              "// Listen for the removal of the full notebook cells\n",
              "var notebookContainer = gd.closest('#notebook-container');\n",
              "if (notebookContainer) {{\n",
              "    x.observe(notebookContainer, {childList: true});\n",
              "}}\n",
              "\n",
              "// Listen for the clearing of the current output cell\n",
              "var outputEl = gd.closest('.output');\n",
              "if (outputEl) {{\n",
              "    x.observe(outputEl, {childList: true});\n",
              "}}\n",
              "\n",
              "                        })\n",
              "                };\n",
              "                \n",
              "            </script>\n",
              "        </div>\n",
              "</body>\n",
              "</html>"
            ]
          },
          "metadata": {
            "tags": []
          }
        }
      ]
    },
    {
      "cell_type": "code",
      "metadata": {
        "colab": {
          "base_uri": "https://localhost:8080/",
          "height": 542
        },
        "id": "6TNEeiJwrywn",
        "outputId": "7652e7d9-fec9-4868-f4cf-9f3ee7c5cefb"
      },
      "source": [
        "import plotly.express as px\n",
        "data = px.data.gapminder()\n",
        "\n",
        "\n",
        "fig = px.bar(df_2, x=df_2[\"réalisateur\"].value_counts().index, y=df_2[\"réalisateur\"].value_counts().values,\n",
        "          color= df_2[\"réalisateur\"].value_counts().index\n",
        "             )\n",
        "fig.update_layout(title_text='Réalisateur')\n",
        "fig.show()"
      ],
      "execution_count": 200,
      "outputs": [
        {
          "output_type": "display_data",
          "data": {
            "text/html": [
              "<html>\n",
              "<head><meta charset=\"utf-8\" /></head>\n",
              "<body>\n",
              "    <div>\n",
              "            <script src=\"https://cdnjs.cloudflare.com/ajax/libs/mathjax/2.7.5/MathJax.js?config=TeX-AMS-MML_SVG\"></script><script type=\"text/javascript\">if (window.MathJax) {MathJax.Hub.Config({SVG: {font: \"STIX-Web\"}});}</script>\n",
              "                <script type=\"text/javascript\">window.PlotlyConfig = {MathJaxConfig: 'local'};</script>\n",
              "        <script src=\"https://cdn.plot.ly/plotly-latest.min.js\"></script>    \n",
              "            <div id=\"158a0d57-3273-4a94-9cad-3727cb1a8733\" class=\"plotly-graph-div\" style=\"height:525px; width:100%;\"></div>\n",
              "            <script type=\"text/javascript\">\n",
              "                \n",
              "                    window.PLOTLYENV=window.PLOTLYENV || {};\n",
              "                    \n",
              "                if (document.getElementById(\"158a0d57-3273-4a94-9cad-3727cb1a8733\")) {\n",
              "                    Plotly.newPlot(\n",
              "                        '158a0d57-3273-4a94-9cad-3727cb1a8733',\n",
              "                        [{\"alignmentgroup\": \"True\", \"hoverlabel\": {\"namelength\": 0}, \"hovertemplate\": \"color=Quentin Tarantino<br>x=%{x}<br>y=%{y}\", \"legendgroup\": \"color=Quentin Tarantino\", \"marker\": {\"color\": \"#636efa\"}, \"name\": \"color=Quentin Tarantino\", \"offsetgroup\": \"color=Quentin Tarantino\", \"orientation\": \"v\", \"showlegend\": true, \"textposition\": \"auto\", \"type\": \"bar\", \"x\": [\"Quentin Tarantino\"], \"xaxis\": \"x\", \"y\": [5], \"yaxis\": \"y\"}, {\"alignmentgroup\": \"True\", \"hoverlabel\": {\"namelength\": 0}, \"hovertemplate\": \"color=Stanley Kubrick<br>x=%{x}<br>y=%{y}\", \"legendgroup\": \"color=Stanley Kubrick\", \"marker\": {\"color\": \"#EF553B\"}, \"name\": \"color=Stanley Kubrick\", \"offsetgroup\": \"color=Stanley Kubrick\", \"orientation\": \"v\", \"showlegend\": true, \"textposition\": \"auto\", \"type\": \"bar\", \"x\": [\"Stanley Kubrick\"], \"xaxis\": \"x\", \"y\": [5], \"yaxis\": \"y\"}, {\"alignmentgroup\": \"True\", \"hoverlabel\": {\"namelength\": 0}, \"hovertemplate\": \"color=Christopher Nolan<br>x=%{x}<br>y=%{y}\", \"legendgroup\": \"color=Christopher Nolan\", \"marker\": {\"color\": \"#00cc96\"}, \"name\": \"color=Christopher Nolan\", \"offsetgroup\": \"color=Christopher Nolan\", \"orientation\": \"v\", \"showlegend\": true, \"textposition\": \"auto\", \"type\": \"bar\", \"x\": [\"Christopher Nolan\"], \"xaxis\": \"x\", \"y\": [5], \"yaxis\": \"y\"}, {\"alignmentgroup\": \"True\", \"hoverlabel\": {\"namelength\": 0}, \"hovertemplate\": \"color=Sergio Leone<br>x=%{x}<br>y=%{y}\", \"legendgroup\": \"color=Sergio Leone\", \"marker\": {\"color\": \"#ab63fa\"}, \"name\": \"color=Sergio Leone\", \"offsetgroup\": \"color=Sergio Leone\", \"orientation\": \"v\", \"showlegend\": true, \"textposition\": \"auto\", \"type\": \"bar\", \"x\": [\"Sergio Leone\"], \"xaxis\": \"x\", \"y\": [3], \"yaxis\": \"y\"}, {\"alignmentgroup\": \"True\", \"hoverlabel\": {\"namelength\": 0}, \"hovertemplate\": \"color=Hayao Miyazaki<br>x=%{x}<br>y=%{y}\", \"legendgroup\": \"color=Hayao Miyazaki\", \"marker\": {\"color\": \"#FFA15A\"}, \"name\": \"color=Hayao Miyazaki\", \"offsetgroup\": \"color=Hayao Miyazaki\", \"orientation\": \"v\", \"showlegend\": true, \"textposition\": \"auto\", \"type\": \"bar\", \"x\": [\"Hayao Miyazaki\"], \"xaxis\": \"x\", \"y\": [3], \"yaxis\": \"y\"}, {\"alignmentgroup\": \"True\", \"hoverlabel\": {\"namelength\": 0}, \"hovertemplate\": \"color=Martin Scorsese<br>x=%{x}<br>y=%{y}\", \"legendgroup\": \"color=Martin Scorsese\", \"marker\": {\"color\": \"#19d3f3\"}, \"name\": \"color=Martin Scorsese\", \"offsetgroup\": \"color=Martin Scorsese\", \"orientation\": \"v\", \"showlegend\": true, \"textposition\": \"auto\", \"type\": \"bar\", \"x\": [\"Martin Scorsese\"], \"xaxis\": \"x\", \"y\": [3], \"yaxis\": \"y\"}, {\"alignmentgroup\": \"True\", \"hoverlabel\": {\"namelength\": 0}, \"hovertemplate\": \"color=Terry Gilliam<br>x=%{x}<br>y=%{y}\", \"legendgroup\": \"color=Terry Gilliam\", \"marker\": {\"color\": \"#FF6692\"}, \"name\": \"color=Terry Gilliam\", \"offsetgroup\": \"color=Terry Gilliam\", \"orientation\": \"v\", \"showlegend\": true, \"textposition\": \"auto\", \"type\": \"bar\", \"x\": [\"Terry Gilliam\"], \"xaxis\": \"x\", \"y\": [3], \"yaxis\": \"y\"}, {\"alignmentgroup\": \"True\", \"hoverlabel\": {\"namelength\": 0}, \"hovertemplate\": \"color=Peter Jackson<br>x=%{x}<br>y=%{y}\", \"legendgroup\": \"color=Peter Jackson\", \"marker\": {\"color\": \"#B6E880\"}, \"name\": \"color=Peter Jackson\", \"offsetgroup\": \"color=Peter Jackson\", \"orientation\": \"v\", \"showlegend\": true, \"textposition\": \"auto\", \"type\": \"bar\", \"x\": [\"Peter Jackson\"], \"xaxis\": \"x\", \"y\": [3], \"yaxis\": \"y\"}, {\"alignmentgroup\": \"True\", \"hoverlabel\": {\"namelength\": 0}, \"hovertemplate\": \"color=Francis Ford Coppola<br>x=%{x}<br>y=%{y}\", \"legendgroup\": \"color=Francis Ford Coppola\", \"marker\": {\"color\": \"#FF97FF\"}, \"name\": \"color=Francis Ford Coppola\", \"offsetgroup\": \"color=Francis Ford Coppola\", \"orientation\": \"v\", \"showlegend\": true, \"textposition\": \"auto\", \"type\": \"bar\", \"x\": [\"Francis Ford Coppola\"], \"xaxis\": \"x\", \"y\": [3], \"yaxis\": \"y\"}, {\"alignmentgroup\": \"True\", \"hoverlabel\": {\"namelength\": 0}, \"hovertemplate\": \"color=Ridley Scott<br>x=%{x}<br>y=%{y}\", \"legendgroup\": \"color=Ridley Scott\", \"marker\": {\"color\": \"#FECB52\"}, \"name\": \"color=Ridley Scott\", \"offsetgroup\": \"color=Ridley Scott\", \"orientation\": \"v\", \"showlegend\": true, \"textposition\": \"auto\", \"type\": \"bar\", \"x\": [\"Ridley Scott\"], \"xaxis\": \"x\", \"y\": [3], \"yaxis\": \"y\"}, {\"alignmentgroup\": \"True\", \"hoverlabel\": {\"namelength\": 0}, \"hovertemplate\": \"color=Lilly Wachowski<br>x=%{x}<br>y=%{y}\", \"legendgroup\": \"color=Lilly Wachowski\", \"marker\": {\"color\": \"#636efa\"}, \"name\": \"color=Lilly Wachowski\", \"offsetgroup\": \"color=Lilly Wachowski\", \"orientation\": \"v\", \"showlegend\": true, \"textposition\": \"auto\", \"type\": \"bar\", \"x\": [\"Lilly Wachowski\"], \"xaxis\": \"x\", \"y\": [2], \"yaxis\": \"y\"}, {\"alignmentgroup\": \"True\", \"hoverlabel\": {\"namelength\": 0}, \"hovertemplate\": \"color=James Cameron<br>x=%{x}<br>y=%{y}\", \"legendgroup\": \"color=James Cameron\", \"marker\": {\"color\": \"#EF553B\"}, \"name\": \"color=James Cameron\", \"offsetgroup\": \"color=James Cameron\", \"orientation\": \"v\", \"showlegend\": true, \"textposition\": \"auto\", \"type\": \"bar\", \"x\": [\"James Cameron\"], \"xaxis\": \"x\", \"y\": [2], \"yaxis\": \"y\"}, {\"alignmentgroup\": \"True\", \"hoverlabel\": {\"namelength\": 0}, \"hovertemplate\": \"color=Darren Aronofsky<br>x=%{x}<br>y=%{y}\", \"legendgroup\": \"color=Darren Aronofsky\", \"marker\": {\"color\": \"#00cc96\"}, \"name\": \"color=Darren Aronofsky\", \"offsetgroup\": \"color=Darren Aronofsky\", \"orientation\": \"v\", \"showlegend\": true, \"textposition\": \"auto\", \"type\": \"bar\", \"x\": [\"Darren Aronofsky\"], \"xaxis\": \"x\", \"y\": [2], \"yaxis\": \"y\"}, {\"alignmentgroup\": \"True\", \"hoverlabel\": {\"namelength\": 0}, \"hovertemplate\": \"color=Tim Burton<br>x=%{x}<br>y=%{y}\", \"legendgroup\": \"color=Tim Burton\", \"marker\": {\"color\": \"#ab63fa\"}, \"name\": \"color=Tim Burton\", \"offsetgroup\": \"color=Tim Burton\", \"orientation\": \"v\", \"showlegend\": true, \"textposition\": \"auto\", \"type\": \"bar\", \"x\": [\"Tim Burton\"], \"xaxis\": \"x\", \"y\": [2], \"yaxis\": \"y\"}, {\"alignmentgroup\": \"True\", \"hoverlabel\": {\"namelength\": 0}, \"hovertemplate\": \"color=David Fincher<br>x=%{x}<br>y=%{y}\", \"legendgroup\": \"color=David Fincher\", \"marker\": {\"color\": \"#FFA15A\"}, \"name\": \"color=David Fincher\", \"offsetgroup\": \"color=David Fincher\", \"orientation\": \"v\", \"showlegend\": true, \"textposition\": \"auto\", \"type\": \"bar\", \"x\": [\"David Fincher\"], \"xaxis\": \"x\", \"y\": [2], \"yaxis\": \"y\"}, {\"alignmentgroup\": \"True\", \"hoverlabel\": {\"namelength\": 0}, \"hovertemplate\": \"color=Robert Zemeckis<br>x=%{x}<br>y=%{y}\", \"legendgroup\": \"color=Robert Zemeckis\", \"marker\": {\"color\": \"#19d3f3\"}, \"name\": \"color=Robert Zemeckis\", \"offsetgroup\": \"color=Robert Zemeckis\", \"orientation\": \"v\", \"showlegend\": true, \"textposition\": \"auto\", \"type\": \"bar\", \"x\": [\"Robert Zemeckis\"], \"xaxis\": \"x\", \"y\": [2], \"yaxis\": \"y\"}, {\"alignmentgroup\": \"True\", \"hoverlabel\": {\"namelength\": 0}, \"hovertemplate\": \"color=Luc Besson<br>x=%{x}<br>y=%{y}\", \"legendgroup\": \"color=Luc Besson\", \"marker\": {\"color\": \"#FF6692\"}, \"name\": \"color=Luc Besson\", \"offsetgroup\": \"color=Luc Besson\", \"orientation\": \"v\", \"showlegend\": true, \"textposition\": \"auto\", \"type\": \"bar\", \"x\": [\"Luc Besson\"], \"xaxis\": \"x\", \"y\": [2], \"yaxis\": \"y\"}, {\"alignmentgroup\": \"True\", \"hoverlabel\": {\"namelength\": 0}, \"hovertemplate\": \"color=Peter Weir<br>x=%{x}<br>y=%{y}\", \"legendgroup\": \"color=Peter Weir\", \"marker\": {\"color\": \"#B6E880\"}, \"name\": \"color=Peter Weir\", \"offsetgroup\": \"color=Peter Weir\", \"orientation\": \"v\", \"showlegend\": true, \"textposition\": \"auto\", \"type\": \"bar\", \"x\": [\"Peter Weir\"], \"xaxis\": \"x\", \"y\": [2], \"yaxis\": \"y\"}, {\"alignmentgroup\": \"True\", \"hoverlabel\": {\"namelength\": 0}, \"hovertemplate\": \"color=Steven Spielberg<br>x=%{x}<br>y=%{y}\", \"legendgroup\": \"color=Steven Spielberg\", \"marker\": {\"color\": \"#FF97FF\"}, \"name\": \"color=Steven Spielberg\", \"offsetgroup\": \"color=Steven Spielberg\", \"orientation\": \"v\", \"showlegend\": true, \"textposition\": \"auto\", \"type\": \"bar\", \"x\": [\"Steven Spielberg\"], \"xaxis\": \"x\", \"y\": [2], \"yaxis\": \"y\"}, {\"alignmentgroup\": \"True\", \"hoverlabel\": {\"namelength\": 0}, \"hovertemplate\": \"color=Damien Chazelle<br>x=%{x}<br>y=%{y}\", \"legendgroup\": \"color=Damien Chazelle\", \"marker\": {\"color\": \"#FECB52\"}, \"name\": \"color=Damien Chazelle\", \"offsetgroup\": \"color=Damien Chazelle\", \"orientation\": \"v\", \"showlegend\": true, \"textposition\": \"auto\", \"type\": \"bar\", \"x\": [\"Damien Chazelle\"], \"xaxis\": \"x\", \"y\": [2], \"yaxis\": \"y\"}, {\"alignmentgroup\": \"True\", \"hoverlabel\": {\"namelength\": 0}, \"hovertemplate\": \"color=Frank Darabont<br>x=%{x}<br>y=%{y}\", \"legendgroup\": \"color=Frank Darabont\", \"marker\": {\"color\": \"#636efa\"}, \"name\": \"color=Frank Darabont\", \"offsetgroup\": \"color=Frank Darabont\", \"orientation\": \"v\", \"showlegend\": true, \"textposition\": \"auto\", \"type\": \"bar\", \"x\": [\"Frank Darabont\"], \"xaxis\": \"x\", \"y\": [2], \"yaxis\": \"y\"}, {\"alignmentgroup\": \"True\", \"hoverlabel\": {\"namelength\": 0}, \"hovertemplate\": \"color=Alfred Hitchcock<br>x=%{x}<br>y=%{y}\", \"legendgroup\": \"color=Alfred Hitchcock\", \"marker\": {\"color\": \"#EF553B\"}, \"name\": \"color=Alfred Hitchcock\", \"offsetgroup\": \"color=Alfred Hitchcock\", \"orientation\": \"v\", \"showlegend\": true, \"textposition\": \"auto\", \"type\": \"bar\", \"x\": [\"Alfred Hitchcock\"], \"xaxis\": \"x\", \"y\": [2], \"yaxis\": \"y\"}, {\"alignmentgroup\": \"True\", \"hoverlabel\": {\"namelength\": 0}, \"hovertemplate\": \"color=Terrence Malick<br>x=%{x}<br>y=%{y}\", \"legendgroup\": \"color=Terrence Malick\", \"marker\": {\"color\": \"#00cc96\"}, \"name\": \"color=Terrence Malick\", \"offsetgroup\": \"color=Terrence Malick\", \"orientation\": \"v\", \"showlegend\": true, \"textposition\": \"auto\", \"type\": \"bar\", \"x\": [\"Terrence Malick\"], \"xaxis\": \"x\", \"y\": [2], \"yaxis\": \"y\"}, {\"alignmentgroup\": \"True\", \"hoverlabel\": {\"namelength\": 0}, \"hovertemplate\": \"color=Alfonso Cuar\\u00f3n<br>x=%{x}<br>y=%{y}\", \"legendgroup\": \"color=Alfonso Cuar\\u00f3n\", \"marker\": {\"color\": \"#ab63fa\"}, \"name\": \"color=Alfonso Cuar\\u00f3n\", \"offsetgroup\": \"color=Alfonso Cuar\\u00f3n\", \"orientation\": \"v\", \"showlegend\": true, \"textposition\": \"auto\", \"type\": \"bar\", \"x\": [\"Alfonso Cuar\\u00f3n\"], \"xaxis\": \"x\", \"y\": [1], \"yaxis\": \"y\"}, {\"alignmentgroup\": \"True\", \"hoverlabel\": {\"namelength\": 0}, \"hovertemplate\": \"color=Nicolas Winding Refn<br>x=%{x}<br>y=%{y}\", \"legendgroup\": \"color=Nicolas Winding Refn\", \"marker\": {\"color\": \"#FFA15A\"}, \"name\": \"color=Nicolas Winding Refn\", \"offsetgroup\": \"color=Nicolas Winding Refn\", \"orientation\": \"v\", \"showlegend\": true, \"textposition\": \"auto\", \"type\": \"bar\", \"x\": [\"Nicolas Winding Refn\"], \"xaxis\": \"x\", \"y\": [1], \"yaxis\": \"y\"}, {\"alignmentgroup\": \"True\", \"hoverlabel\": {\"namelength\": 0}, \"hovertemplate\": \"color=Sam Mendes<br>x=%{x}<br>y=%{y}\", \"legendgroup\": \"color=Sam Mendes\", \"marker\": {\"color\": \"#19d3f3\"}, \"name\": \"color=Sam Mendes\", \"offsetgroup\": \"color=Sam Mendes\", \"orientation\": \"v\", \"showlegend\": true, \"textposition\": \"auto\", \"type\": \"bar\", \"x\": [\"Sam Mendes\"], \"xaxis\": \"x\", \"y\": [1], \"yaxis\": \"y\"}, {\"alignmentgroup\": \"True\", \"hoverlabel\": {\"namelength\": 0}, \"hovertemplate\": \"color=Jonathan Demme<br>x=%{x}<br>y=%{y}\", \"legendgroup\": \"color=Jonathan Demme\", \"marker\": {\"color\": \"#FF6692\"}, \"name\": \"color=Jonathan Demme\", \"offsetgroup\": \"color=Jonathan Demme\", \"orientation\": \"v\", \"showlegend\": true, \"textposition\": \"auto\", \"type\": \"bar\", \"x\": [\"Jonathan Demme\"], \"xaxis\": \"x\", \"y\": [1], \"yaxis\": \"y\"}, {\"alignmentgroup\": \"True\", \"hoverlabel\": {\"namelength\": 0}, \"hovertemplate\": \"color=George Lucas<br>x=%{x}<br>y=%{y}\", \"legendgroup\": \"color=George Lucas\", \"marker\": {\"color\": \"#B6E880\"}, \"name\": \"color=George Lucas\", \"offsetgroup\": \"color=George Lucas\", \"orientation\": \"v\", \"showlegend\": true, \"textposition\": \"auto\", \"type\": \"bar\", \"x\": [\"George Lucas\"], \"xaxis\": \"x\", \"y\": [1], \"yaxis\": \"y\"}, {\"alignmentgroup\": \"True\", \"hoverlabel\": {\"namelength\": 0}, \"hovertemplate\": \"color=Michael Mann<br>x=%{x}<br>y=%{y}\", \"legendgroup\": \"color=Michael Mann\", \"marker\": {\"color\": \"#FF97FF\"}, \"name\": \"color=Michael Mann\", \"offsetgroup\": \"color=Michael Mann\", \"orientation\": \"v\", \"showlegend\": true, \"textposition\": \"auto\", \"type\": \"bar\", \"x\": [\"Michael Mann\"], \"xaxis\": \"x\", \"y\": [1], \"yaxis\": \"y\"}, {\"alignmentgroup\": \"True\", \"hoverlabel\": {\"namelength\": 0}, \"hovertemplate\": \"color=Milo\\u0161 Forman<br>x=%{x}<br>y=%{y}\", \"legendgroup\": \"color=Milo\\u0161 Forman\", \"marker\": {\"color\": \"#FECB52\"}, \"name\": \"color=Milo\\u0161 Forman\", \"offsetgroup\": \"color=Milo\\u0161 Forman\", \"orientation\": \"v\", \"showlegend\": true, \"textposition\": \"auto\", \"type\": \"bar\", \"x\": [\"Milo\\u0161 Forman\"], \"xaxis\": \"x\", \"y\": [1], \"yaxis\": \"y\"}, {\"alignmentgroup\": \"True\", \"hoverlabel\": {\"namelength\": 0}, \"hovertemplate\": \"color=Clint Eastwood<br>x=%{x}<br>y=%{y}\", \"legendgroup\": \"color=Clint Eastwood\", \"marker\": {\"color\": \"#636efa\"}, \"name\": \"color=Clint Eastwood\", \"offsetgroup\": \"color=Clint Eastwood\", \"orientation\": \"v\", \"showlegend\": true, \"textposition\": \"auto\", \"type\": \"bar\", \"x\": [\"Clint Eastwood\"], \"xaxis\": \"x\", \"y\": [1], \"yaxis\": \"y\"}, {\"alignmentgroup\": \"True\", \"hoverlabel\": {\"namelength\": 0}, \"hovertemplate\": \"color=Sofia Coppola<br>x=%{x}<br>y=%{y}\", \"legendgroup\": \"color=Sofia Coppola\", \"marker\": {\"color\": \"#EF553B\"}, \"name\": \"color=Sofia Coppola\", \"offsetgroup\": \"color=Sofia Coppola\", \"orientation\": \"v\", \"showlegend\": true, \"textposition\": \"auto\", \"type\": \"bar\", \"x\": [\"Sofia Coppola\"], \"xaxis\": \"x\", \"y\": [1], \"yaxis\": \"y\"}, {\"alignmentgroup\": \"True\", \"hoverlabel\": {\"namelength\": 0}, \"hovertemplate\": \"color=Michel Gondry<br>x=%{x}<br>y=%{y}\", \"legendgroup\": \"color=Michel Gondry\", \"marker\": {\"color\": \"#00cc96\"}, \"name\": \"color=Michel Gondry\", \"offsetgroup\": \"color=Michel Gondry\", \"orientation\": \"v\", \"showlegend\": true, \"textposition\": \"auto\", \"type\": \"bar\", \"x\": [\"Michel Gondry\"], \"xaxis\": \"x\", \"y\": [1], \"yaxis\": \"y\"}, {\"alignmentgroup\": \"True\", \"hoverlabel\": {\"namelength\": 0}, \"hovertemplate\": \"color=Jean-Pierre Jeunet<br>x=%{x}<br>y=%{y}\", \"legendgroup\": \"color=Jean-Pierre Jeunet\", \"marker\": {\"color\": \"#ab63fa\"}, \"name\": \"color=Jean-Pierre Jeunet\", \"offsetgroup\": \"color=Jean-Pierre Jeunet\", \"orientation\": \"v\", \"showlegend\": true, \"textposition\": \"auto\", \"type\": \"bar\", \"x\": [\"Jean-Pierre Jeunet\"], \"xaxis\": \"x\", \"y\": [1], \"yaxis\": \"y\"}, {\"alignmentgroup\": \"True\", \"hoverlabel\": {\"namelength\": 0}, \"hovertemplate\": \"color=Michael Cimino<br>x=%{x}<br>y=%{y}\", \"legendgroup\": \"color=Michael Cimino\", \"marker\": {\"color\": \"#FFA15A\"}, \"name\": \"color=Michael Cimino\", \"offsetgroup\": \"color=Michael Cimino\", \"orientation\": \"v\", \"showlegend\": true, \"textposition\": \"auto\", \"type\": \"bar\", \"x\": [\"Michael Cimino\"], \"xaxis\": \"x\", \"y\": [1], \"yaxis\": \"y\"}, {\"alignmentgroup\": \"True\", \"hoverlabel\": {\"namelength\": 0}, \"hovertemplate\": \"color=Joel Coen<br>x=%{x}<br>y=%{y}\", \"legendgroup\": \"color=Joel Coen\", \"marker\": {\"color\": \"#19d3f3\"}, \"name\": \"color=Joel Coen\", \"offsetgroup\": \"color=Joel Coen\", \"orientation\": \"v\", \"showlegend\": true, \"textposition\": \"auto\", \"type\": \"bar\", \"x\": [\"Joel Coen\"], \"xaxis\": \"x\", \"y\": [1], \"yaxis\": \"y\"}, {\"alignmentgroup\": \"True\", \"hoverlabel\": {\"namelength\": 0}, \"hovertemplate\": \"color=Spike Jonze<br>x=%{x}<br>y=%{y}\", \"legendgroup\": \"color=Spike Jonze\", \"marker\": {\"color\": \"#FF6692\"}, \"name\": \"color=Spike Jonze\", \"offsetgroup\": \"color=Spike Jonze\", \"orientation\": \"v\", \"showlegend\": true, \"textposition\": \"auto\", \"type\": \"bar\", \"x\": [\"Spike Jonze\"], \"xaxis\": \"x\", \"y\": [1], \"yaxis\": \"y\"}, {\"alignmentgroup\": \"True\", \"hoverlabel\": {\"namelength\": 0}, \"hovertemplate\": \"color=James McTeigue<br>x=%{x}<br>y=%{y}\", \"legendgroup\": \"color=James McTeigue\", \"marker\": {\"color\": \"#B6E880\"}, \"name\": \"color=James McTeigue\", \"offsetgroup\": \"color=James McTeigue\", \"orientation\": \"v\", \"showlegend\": true, \"textposition\": \"auto\", \"type\": \"bar\", \"x\": [\"James McTeigue\"], \"xaxis\": \"x\", \"y\": [1], \"yaxis\": \"y\"}, {\"alignmentgroup\": \"True\", \"hoverlabel\": {\"namelength\": 0}, \"hovertemplate\": \"color=Irvin Kershner<br>x=%{x}<br>y=%{y}\", \"legendgroup\": \"color=Irvin Kershner\", \"marker\": {\"color\": \"#FF97FF\"}, \"name\": \"color=Irvin Kershner\", \"offsetgroup\": \"color=Irvin Kershner\", \"orientation\": \"v\", \"showlegend\": true, \"textposition\": \"auto\", \"type\": \"bar\", \"x\": [\"Irvin Kershner\"], \"xaxis\": \"x\", \"y\": [1], \"yaxis\": \"y\"}, {\"alignmentgroup\": \"True\", \"hoverlabel\": {\"namelength\": 0}, \"hovertemplate\": \"color=Mathieu Kassovitz<br>x=%{x}<br>y=%{y}\", \"legendgroup\": \"color=Mathieu Kassovitz\", \"marker\": {\"color\": \"#FECB52\"}, \"name\": \"color=Mathieu Kassovitz\", \"offsetgroup\": \"color=Mathieu Kassovitz\", \"orientation\": \"v\", \"showlegend\": true, \"textposition\": \"auto\", \"type\": \"bar\", \"x\": [\"Mathieu Kassovitz\"], \"xaxis\": \"x\", \"y\": [1], \"yaxis\": \"y\"}, {\"alignmentgroup\": \"True\", \"hoverlabel\": {\"namelength\": 0}, \"hovertemplate\": \"color=Richard Kelly<br>x=%{x}<br>y=%{y}\", \"legendgroup\": \"color=Richard Kelly\", \"marker\": {\"color\": \"#636efa\"}, \"name\": \"color=Richard Kelly\", \"offsetgroup\": \"color=Richard Kelly\", \"orientation\": \"v\", \"showlegend\": true, \"textposition\": \"auto\", \"type\": \"bar\", \"x\": [\"Richard Kelly\"], \"xaxis\": \"x\", \"y\": [1], \"yaxis\": \"y\"}, {\"alignmentgroup\": \"True\", \"hoverlabel\": {\"namelength\": 0}, \"hovertemplate\": \"color=Isao Takahata<br>x=%{x}<br>y=%{y}\", \"legendgroup\": \"color=Isao Takahata\", \"marker\": {\"color\": \"#EF553B\"}, \"name\": \"color=Isao Takahata\", \"offsetgroup\": \"color=Isao Takahata\", \"orientation\": \"v\", \"showlegend\": true, \"textposition\": \"auto\", \"type\": \"bar\", \"x\": [\"Isao Takahata\"], \"xaxis\": \"x\", \"y\": [1], \"yaxis\": \"y\"}, {\"alignmentgroup\": \"True\", \"hoverlabel\": {\"namelength\": 0}, \"hovertemplate\": \"color=Danny Boyle<br>x=%{x}<br>y=%{y}\", \"legendgroup\": \"color=Danny Boyle\", \"marker\": {\"color\": \"#00cc96\"}, \"name\": \"color=Danny Boyle\", \"offsetgroup\": \"color=Danny Boyle\", \"orientation\": \"v\", \"showlegend\": true, \"textposition\": \"auto\", \"type\": \"bar\", \"x\": [\"Danny Boyle\"], \"xaxis\": \"x\", \"y\": [1], \"yaxis\": \"y\"}, {\"alignmentgroup\": \"True\", \"hoverlabel\": {\"namelength\": 0}, \"hovertemplate\": \"color=Roger Allers<br>x=%{x}<br>y=%{y}\", \"legendgroup\": \"color=Roger Allers\", \"marker\": {\"color\": \"#ab63fa\"}, \"name\": \"color=Roger Allers\", \"offsetgroup\": \"color=Roger Allers\", \"orientation\": \"v\", \"showlegend\": true, \"textposition\": \"auto\", \"type\": \"bar\", \"x\": [\"Roger Allers\"], \"xaxis\": \"x\", \"y\": [1], \"yaxis\": \"y\"}, {\"alignmentgroup\": \"True\", \"hoverlabel\": {\"namelength\": 0}, \"hovertemplate\": \"color=Sidney Lumet<br>x=%{x}<br>y=%{y}\", \"legendgroup\": \"color=Sidney Lumet\", \"marker\": {\"color\": \"#FFA15A\"}, \"name\": \"color=Sidney Lumet\", \"offsetgroup\": \"color=Sidney Lumet\", \"orientation\": \"v\", \"showlegend\": true, \"textposition\": \"auto\", \"type\": \"bar\", \"x\": [\"Sidney Lumet\"], \"xaxis\": \"x\", \"y\": [1], \"yaxis\": \"y\"}, {\"alignmentgroup\": \"True\", \"hoverlabel\": {\"namelength\": 0}, \"hovertemplate\": \"color=Sean Penn<br>x=%{x}<br>y=%{y}\", \"legendgroup\": \"color=Sean Penn\", \"marker\": {\"color\": \"#19d3f3\"}, \"name\": \"color=Sean Penn\", \"offsetgroup\": \"color=Sean Penn\", \"orientation\": \"v\", \"showlegend\": true, \"textposition\": \"auto\", \"type\": \"bar\", \"x\": [\"Sean Penn\"], \"xaxis\": \"x\", \"y\": [1], \"yaxis\": \"y\"}, {\"alignmentgroup\": \"True\", \"hoverlabel\": {\"namelength\": 0}, \"hovertemplate\": \"color=David Lynch<br>x=%{x}<br>y=%{y}\", \"legendgroup\": \"color=David Lynch\", \"marker\": {\"color\": \"#FF6692\"}, \"name\": \"color=David Lynch\", \"offsetgroup\": \"color=David Lynch\", \"orientation\": \"v\", \"showlegend\": true, \"textposition\": \"auto\", \"type\": \"bar\", \"x\": [\"David Lynch\"], \"xaxis\": \"x\", \"y\": [1], \"yaxis\": \"y\"}, {\"alignmentgroup\": \"True\", \"hoverlabel\": {\"namelength\": 0}, \"hovertemplate\": \"color=Akira Kurosawa<br>x=%{x}<br>y=%{y}\", \"legendgroup\": \"color=Akira Kurosawa\", \"marker\": {\"color\": \"#B6E880\"}, \"name\": \"color=Akira Kurosawa\", \"offsetgroup\": \"color=Akira Kurosawa\", \"orientation\": \"v\", \"showlegend\": true, \"textposition\": \"auto\", \"type\": \"bar\", \"x\": [\"Akira Kurosawa\"], \"xaxis\": \"x\", \"y\": [1], \"yaxis\": \"y\"}, {\"alignmentgroup\": \"True\", \"hoverlabel\": {\"namelength\": 0}, \"hovertemplate\": \"color=Xavier Dolan<br>x=%{x}<br>y=%{y}\", \"legendgroup\": \"color=Xavier Dolan\", \"marker\": {\"color\": \"#FF97FF\"}, \"name\": \"color=Xavier Dolan\", \"offsetgroup\": \"color=Xavier Dolan\", \"orientation\": \"v\", \"showlegend\": true, \"textposition\": \"auto\", \"type\": \"bar\", \"x\": [\"Xavier Dolan\"], \"xaxis\": \"x\", \"y\": [1], \"yaxis\": \"y\"}, {\"alignmentgroup\": \"True\", \"hoverlabel\": {\"namelength\": 0}, \"hovertemplate\": \"color=Roberto Benigni<br>x=%{x}<br>y=%{y}\", \"legendgroup\": \"color=Roberto Benigni\", \"marker\": {\"color\": \"#FECB52\"}, \"name\": \"color=Roberto Benigni\", \"offsetgroup\": \"color=Roberto Benigni\", \"orientation\": \"v\", \"showlegend\": true, \"textposition\": \"auto\", \"type\": \"bar\", \"x\": [\"Roberto Benigni\"], \"xaxis\": \"x\", \"y\": [1], \"yaxis\": \"y\"}, {\"alignmentgroup\": \"True\", \"hoverlabel\": {\"namelength\": 0}, \"hovertemplate\": \"color=Bryan Singer<br>x=%{x}<br>y=%{y}\", \"legendgroup\": \"color=Bryan Singer\", \"marker\": {\"color\": \"#636efa\"}, \"name\": \"color=Bryan Singer\", \"offsetgroup\": \"color=Bryan Singer\", \"orientation\": \"v\", \"showlegend\": true, \"textposition\": \"auto\", \"type\": \"bar\", \"x\": [\"Bryan Singer\"], \"xaxis\": \"x\", \"y\": [1], \"yaxis\": \"y\"}, {\"alignmentgroup\": \"True\", \"hoverlabel\": {\"namelength\": 0}, \"hovertemplate\": \"color=Guy Ritchie<br>x=%{x}<br>y=%{y}\", \"legendgroup\": \"color=Guy Ritchie\", \"marker\": {\"color\": \"#EF553B\"}, \"name\": \"color=Guy Ritchie\", \"offsetgroup\": \"color=Guy Ritchie\", \"orientation\": \"v\", \"showlegend\": true, \"textposition\": \"auto\", \"type\": \"bar\", \"x\": [\"Guy Ritchie\"], \"xaxis\": \"x\", \"y\": [1], \"yaxis\": \"y\"}, {\"alignmentgroup\": \"True\", \"hoverlabel\": {\"namelength\": 0}, \"hovertemplate\": \"color=Tony Kaye<br>x=%{x}<br>y=%{y}\", \"legendgroup\": \"color=Tony Kaye\", \"marker\": {\"color\": \"#00cc96\"}, \"name\": \"color=Tony Kaye\", \"offsetgroup\": \"color=Tony Kaye\", \"orientation\": \"v\", \"showlegend\": true, \"textposition\": \"auto\", \"type\": \"bar\", \"x\": [\"Tony Kaye\"], \"xaxis\": \"x\", \"y\": [1], \"yaxis\": \"y\"}, {\"alignmentgroup\": \"True\", \"hoverlabel\": {\"namelength\": 0}, \"hovertemplate\": \"color=Wes Anderson<br>x=%{x}<br>y=%{y}\", \"legendgroup\": \"color=Wes Anderson\", \"marker\": {\"color\": \"#ab63fa\"}, \"name\": \"color=Wes Anderson\", \"offsetgroup\": \"color=Wes Anderson\", \"orientation\": \"v\", \"showlegend\": true, \"textposition\": \"auto\", \"type\": \"bar\", \"x\": [\"Wes Anderson\"], \"xaxis\": \"x\", \"y\": [1], \"yaxis\": \"y\"}, {\"alignmentgroup\": \"True\", \"hoverlabel\": {\"namelength\": 0}, \"hovertemplate\": \"color=George Miller<br>x=%{x}<br>y=%{y}\", \"legendgroup\": \"color=George Miller\", \"marker\": {\"color\": \"#FFA15A\"}, \"name\": \"color=George Miller\", \"offsetgroup\": \"color=George Miller\", \"orientation\": \"v\", \"showlegend\": true, \"textposition\": \"auto\", \"type\": \"bar\", \"x\": [\"George Miller\"], \"xaxis\": \"x\", \"y\": [1], \"yaxis\": \"y\"}, {\"alignmentgroup\": \"True\", \"hoverlabel\": {\"namelength\": 0}, \"hovertemplate\": \"color=Andre\\u00ef Tarkovski<br>x=%{x}<br>y=%{y}\", \"legendgroup\": \"color=Andre\\u00ef Tarkovski\", \"marker\": {\"color\": \"#19d3f3\"}, \"name\": \"color=Andre\\u00ef Tarkovski\", \"offsetgroup\": \"color=Andre\\u00ef Tarkovski\", \"orientation\": \"v\", \"showlegend\": true, \"textposition\": \"auto\", \"type\": \"bar\", \"x\": [\"Andre\\u00ef Tarkovski\"], \"xaxis\": \"x\", \"y\": [1], \"yaxis\": \"y\"}, {\"alignmentgroup\": \"True\", \"hoverlabel\": {\"namelength\": 0}, \"hovertemplate\": \"color=John Carpenter<br>x=%{x}<br>y=%{y}\", \"legendgroup\": \"color=John Carpenter\", \"marker\": {\"color\": \"#FF6692\"}, \"name\": \"color=John Carpenter\", \"offsetgroup\": \"color=John Carpenter\", \"orientation\": \"v\", \"showlegend\": true, \"textposition\": \"auto\", \"type\": \"bar\", \"x\": [\"John Carpenter\"], \"xaxis\": \"x\", \"y\": [1], \"yaxis\": \"y\"}, {\"alignmentgroup\": \"True\", \"hoverlabel\": {\"namelength\": 0}, \"hovertemplate\": \"color=Jaco van Dormael<br>x=%{x}<br>y=%{y}\", \"legendgroup\": \"color=Jaco van Dormael\", \"marker\": {\"color\": \"#B6E880\"}, \"name\": \"color=Jaco van Dormael\", \"offsetgroup\": \"color=Jaco van Dormael\", \"orientation\": \"v\", \"showlegend\": true, \"textposition\": \"auto\", \"type\": \"bar\", \"x\": [\"Jaco van Dormael\"], \"xaxis\": \"x\", \"y\": [1], \"yaxis\": \"y\"}, {\"alignmentgroup\": \"True\", \"hoverlabel\": {\"namelength\": 0}, \"hovertemplate\": \"color=Alain Berb\\u00e9rian<br>x=%{x}<br>y=%{y}\", \"legendgroup\": \"color=Alain Berb\\u00e9rian\", \"marker\": {\"color\": \"#FF97FF\"}, \"name\": \"color=Alain Berb\\u00e9rian\", \"offsetgroup\": \"color=Alain Berb\\u00e9rian\", \"orientation\": \"v\", \"showlegend\": true, \"textposition\": \"auto\", \"type\": \"bar\", \"x\": [\"Alain Berb\\u00e9rian\"], \"xaxis\": \"x\", \"y\": [1], \"yaxis\": \"y\"}, {\"alignmentgroup\": \"True\", \"hoverlabel\": {\"namelength\": 0}, \"hovertemplate\": \"color=Andrew Niccol<br>x=%{x}<br>y=%{y}\", \"legendgroup\": \"color=Andrew Niccol\", \"marker\": {\"color\": \"#FECB52\"}, \"name\": \"color=Andrew Niccol\", \"offsetgroup\": \"color=Andrew Niccol\", \"orientation\": \"v\", \"showlegend\": true, \"textposition\": \"auto\", \"type\": \"bar\", \"x\": [\"Andrew Niccol\"], \"xaxis\": \"x\", \"y\": [1], \"yaxis\": \"y\"}, {\"alignmentgroup\": \"True\", \"hoverlabel\": {\"namelength\": 0}, \"hovertemplate\": \"color=Park Chan-wook<br>x=%{x}<br>y=%{y}\", \"legendgroup\": \"color=Park Chan-wook\", \"marker\": {\"color\": \"#636efa\"}, \"name\": \"color=Park Chan-wook\", \"offsetgroup\": \"color=Park Chan-wook\", \"orientation\": \"v\", \"showlegend\": true, \"textposition\": \"auto\", \"type\": \"bar\", \"x\": [\"Park Chan-wook\"], \"xaxis\": \"x\", \"y\": [1], \"yaxis\": \"y\"}],\n",
              "                        {\"barmode\": \"relative\", \"legend\": {\"tracegroupgap\": 0}, \"margin\": {\"t\": 60}, \"template\": {\"data\": {\"bar\": [{\"error_x\": {\"color\": \"#2a3f5f\"}, \"error_y\": {\"color\": \"#2a3f5f\"}, \"marker\": {\"line\": {\"color\": \"#E5ECF6\", \"width\": 0.5}}, \"type\": \"bar\"}], \"barpolar\": [{\"marker\": {\"line\": {\"color\": \"#E5ECF6\", \"width\": 0.5}}, \"type\": \"barpolar\"}], \"carpet\": [{\"aaxis\": {\"endlinecolor\": \"#2a3f5f\", \"gridcolor\": \"white\", \"linecolor\": \"white\", \"minorgridcolor\": \"white\", \"startlinecolor\": \"#2a3f5f\"}, \"baxis\": {\"endlinecolor\": \"#2a3f5f\", \"gridcolor\": \"white\", \"linecolor\": \"white\", \"minorgridcolor\": \"white\", \"startlinecolor\": \"#2a3f5f\"}, \"type\": \"carpet\"}], \"choropleth\": [{\"colorbar\": {\"outlinewidth\": 0, \"ticks\": \"\"}, \"type\": \"choropleth\"}], \"contour\": [{\"colorbar\": {\"outlinewidth\": 0, \"ticks\": \"\"}, \"colorscale\": [[0.0, \"#0d0887\"], [0.1111111111111111, \"#46039f\"], [0.2222222222222222, \"#7201a8\"], [0.3333333333333333, \"#9c179e\"], [0.4444444444444444, \"#bd3786\"], [0.5555555555555556, \"#d8576b\"], [0.6666666666666666, \"#ed7953\"], [0.7777777777777778, \"#fb9f3a\"], [0.8888888888888888, \"#fdca26\"], [1.0, \"#f0f921\"]], \"type\": \"contour\"}], \"contourcarpet\": [{\"colorbar\": {\"outlinewidth\": 0, \"ticks\": \"\"}, \"type\": \"contourcarpet\"}], \"heatmap\": [{\"colorbar\": {\"outlinewidth\": 0, \"ticks\": \"\"}, \"colorscale\": [[0.0, \"#0d0887\"], [0.1111111111111111, \"#46039f\"], [0.2222222222222222, \"#7201a8\"], [0.3333333333333333, \"#9c179e\"], [0.4444444444444444, \"#bd3786\"], [0.5555555555555556, \"#d8576b\"], [0.6666666666666666, \"#ed7953\"], [0.7777777777777778, \"#fb9f3a\"], [0.8888888888888888, \"#fdca26\"], [1.0, \"#f0f921\"]], \"type\": \"heatmap\"}], \"heatmapgl\": [{\"colorbar\": {\"outlinewidth\": 0, \"ticks\": \"\"}, \"colorscale\": [[0.0, \"#0d0887\"], [0.1111111111111111, \"#46039f\"], [0.2222222222222222, \"#7201a8\"], [0.3333333333333333, \"#9c179e\"], [0.4444444444444444, \"#bd3786\"], [0.5555555555555556, \"#d8576b\"], [0.6666666666666666, \"#ed7953\"], [0.7777777777777778, \"#fb9f3a\"], [0.8888888888888888, \"#fdca26\"], [1.0, \"#f0f921\"]], \"type\": \"heatmapgl\"}], \"histogram\": [{\"marker\": {\"colorbar\": {\"outlinewidth\": 0, \"ticks\": \"\"}}, \"type\": \"histogram\"}], \"histogram2d\": [{\"colorbar\": {\"outlinewidth\": 0, \"ticks\": \"\"}, \"colorscale\": [[0.0, \"#0d0887\"], [0.1111111111111111, \"#46039f\"], [0.2222222222222222, \"#7201a8\"], [0.3333333333333333, \"#9c179e\"], [0.4444444444444444, \"#bd3786\"], [0.5555555555555556, \"#d8576b\"], [0.6666666666666666, \"#ed7953\"], [0.7777777777777778, \"#fb9f3a\"], [0.8888888888888888, \"#fdca26\"], [1.0, \"#f0f921\"]], \"type\": \"histogram2d\"}], \"histogram2dcontour\": [{\"colorbar\": {\"outlinewidth\": 0, \"ticks\": \"\"}, \"colorscale\": [[0.0, \"#0d0887\"], [0.1111111111111111, \"#46039f\"], [0.2222222222222222, \"#7201a8\"], [0.3333333333333333, \"#9c179e\"], [0.4444444444444444, \"#bd3786\"], [0.5555555555555556, \"#d8576b\"], [0.6666666666666666, \"#ed7953\"], [0.7777777777777778, \"#fb9f3a\"], [0.8888888888888888, \"#fdca26\"], [1.0, \"#f0f921\"]], \"type\": \"histogram2dcontour\"}], \"mesh3d\": [{\"colorbar\": {\"outlinewidth\": 0, \"ticks\": \"\"}, \"type\": \"mesh3d\"}], \"parcoords\": [{\"line\": {\"colorbar\": {\"outlinewidth\": 0, \"ticks\": \"\"}}, \"type\": \"parcoords\"}], \"pie\": [{\"automargin\": true, \"type\": \"pie\"}], \"scatter\": [{\"marker\": {\"colorbar\": {\"outlinewidth\": 0, \"ticks\": \"\"}}, \"type\": \"scatter\"}], \"scatter3d\": [{\"line\": {\"colorbar\": {\"outlinewidth\": 0, \"ticks\": \"\"}}, \"marker\": {\"colorbar\": {\"outlinewidth\": 0, \"ticks\": \"\"}}, \"type\": \"scatter3d\"}], \"scattercarpet\": [{\"marker\": {\"colorbar\": {\"outlinewidth\": 0, \"ticks\": \"\"}}, \"type\": \"scattercarpet\"}], \"scattergeo\": [{\"marker\": {\"colorbar\": {\"outlinewidth\": 0, \"ticks\": \"\"}}, \"type\": \"scattergeo\"}], \"scattergl\": [{\"marker\": {\"colorbar\": {\"outlinewidth\": 0, \"ticks\": \"\"}}, \"type\": \"scattergl\"}], \"scattermapbox\": [{\"marker\": {\"colorbar\": {\"outlinewidth\": 0, \"ticks\": \"\"}}, \"type\": \"scattermapbox\"}], \"scatterpolar\": [{\"marker\": {\"colorbar\": {\"outlinewidth\": 0, \"ticks\": \"\"}}, \"type\": \"scatterpolar\"}], \"scatterpolargl\": [{\"marker\": {\"colorbar\": {\"outlinewidth\": 0, \"ticks\": \"\"}}, \"type\": \"scatterpolargl\"}], \"scatterternary\": [{\"marker\": {\"colorbar\": {\"outlinewidth\": 0, \"ticks\": \"\"}}, \"type\": \"scatterternary\"}], \"surface\": [{\"colorbar\": {\"outlinewidth\": 0, \"ticks\": \"\"}, \"colorscale\": [[0.0, \"#0d0887\"], [0.1111111111111111, \"#46039f\"], [0.2222222222222222, \"#7201a8\"], [0.3333333333333333, \"#9c179e\"], [0.4444444444444444, \"#bd3786\"], [0.5555555555555556, \"#d8576b\"], [0.6666666666666666, \"#ed7953\"], [0.7777777777777778, \"#fb9f3a\"], [0.8888888888888888, \"#fdca26\"], [1.0, \"#f0f921\"]], \"type\": \"surface\"}], \"table\": [{\"cells\": {\"fill\": {\"color\": \"#EBF0F8\"}, \"line\": {\"color\": \"white\"}}, \"header\": {\"fill\": {\"color\": \"#C8D4E3\"}, \"line\": {\"color\": \"white\"}}, \"type\": \"table\"}]}, \"layout\": {\"annotationdefaults\": {\"arrowcolor\": \"#2a3f5f\", \"arrowhead\": 0, \"arrowwidth\": 1}, \"coloraxis\": {\"colorbar\": {\"outlinewidth\": 0, \"ticks\": \"\"}}, \"colorscale\": {\"diverging\": [[0, \"#8e0152\"], [0.1, \"#c51b7d\"], [0.2, \"#de77ae\"], [0.3, \"#f1b6da\"], [0.4, \"#fde0ef\"], [0.5, \"#f7f7f7\"], [0.6, \"#e6f5d0\"], [0.7, \"#b8e186\"], [0.8, \"#7fbc41\"], [0.9, \"#4d9221\"], [1, \"#276419\"]], \"sequential\": [[0.0, \"#0d0887\"], [0.1111111111111111, \"#46039f\"], [0.2222222222222222, \"#7201a8\"], [0.3333333333333333, \"#9c179e\"], [0.4444444444444444, \"#bd3786\"], [0.5555555555555556, \"#d8576b\"], [0.6666666666666666, \"#ed7953\"], [0.7777777777777778, \"#fb9f3a\"], [0.8888888888888888, \"#fdca26\"], [1.0, \"#f0f921\"]], \"sequentialminus\": [[0.0, \"#0d0887\"], [0.1111111111111111, \"#46039f\"], [0.2222222222222222, \"#7201a8\"], [0.3333333333333333, \"#9c179e\"], [0.4444444444444444, \"#bd3786\"], [0.5555555555555556, \"#d8576b\"], [0.6666666666666666, \"#ed7953\"], [0.7777777777777778, \"#fb9f3a\"], [0.8888888888888888, \"#fdca26\"], [1.0, \"#f0f921\"]]}, \"colorway\": [\"#636efa\", \"#EF553B\", \"#00cc96\", \"#ab63fa\", \"#FFA15A\", \"#19d3f3\", \"#FF6692\", \"#B6E880\", \"#FF97FF\", \"#FECB52\"], \"font\": {\"color\": \"#2a3f5f\"}, \"geo\": {\"bgcolor\": \"white\", \"lakecolor\": \"white\", \"landcolor\": \"#E5ECF6\", \"showlakes\": true, \"showland\": true, \"subunitcolor\": \"white\"}, \"hoverlabel\": {\"align\": \"left\"}, \"hovermode\": \"closest\", \"mapbox\": {\"style\": \"light\"}, \"paper_bgcolor\": \"white\", \"plot_bgcolor\": \"#E5ECF6\", \"polar\": {\"angularaxis\": {\"gridcolor\": \"white\", \"linecolor\": \"white\", \"ticks\": \"\"}, \"bgcolor\": \"#E5ECF6\", \"radialaxis\": {\"gridcolor\": \"white\", \"linecolor\": \"white\", \"ticks\": \"\"}}, \"scene\": {\"xaxis\": {\"backgroundcolor\": \"#E5ECF6\", \"gridcolor\": \"white\", \"gridwidth\": 2, \"linecolor\": \"white\", \"showbackground\": true, \"ticks\": \"\", \"zerolinecolor\": \"white\"}, \"yaxis\": {\"backgroundcolor\": \"#E5ECF6\", \"gridcolor\": \"white\", \"gridwidth\": 2, \"linecolor\": \"white\", \"showbackground\": true, \"ticks\": \"\", \"zerolinecolor\": \"white\"}, \"zaxis\": {\"backgroundcolor\": \"#E5ECF6\", \"gridcolor\": \"white\", \"gridwidth\": 2, \"linecolor\": \"white\", \"showbackground\": true, \"ticks\": \"\", \"zerolinecolor\": \"white\"}}, \"shapedefaults\": {\"line\": {\"color\": \"#2a3f5f\"}}, \"ternary\": {\"aaxis\": {\"gridcolor\": \"white\", \"linecolor\": \"white\", \"ticks\": \"\"}, \"baxis\": {\"gridcolor\": \"white\", \"linecolor\": \"white\", \"ticks\": \"\"}, \"bgcolor\": \"#E5ECF6\", \"caxis\": {\"gridcolor\": \"white\", \"linecolor\": \"white\", \"ticks\": \"\"}}, \"title\": {\"x\": 0.05}, \"xaxis\": {\"automargin\": true, \"gridcolor\": \"white\", \"linecolor\": \"white\", \"ticks\": \"\", \"title\": {\"standoff\": 15}, \"zerolinecolor\": \"white\", \"zerolinewidth\": 2}, \"yaxis\": {\"automargin\": true, \"gridcolor\": \"white\", \"linecolor\": \"white\", \"ticks\": \"\", \"title\": {\"standoff\": 15}, \"zerolinecolor\": \"white\", \"zerolinewidth\": 2}}}, \"title\": {\"text\": \"R\\u00e9alisateur\"}, \"xaxis\": {\"anchor\": \"y\", \"domain\": [0.0, 1.0], \"title\": {\"text\": \"x\"}}, \"yaxis\": {\"anchor\": \"x\", \"domain\": [0.0, 1.0], \"title\": {\"text\": \"y\"}}},\n",
              "                        {\"responsive\": true}\n",
              "                    ).then(function(){\n",
              "                            \n",
              "var gd = document.getElementById('158a0d57-3273-4a94-9cad-3727cb1a8733');\n",
              "var x = new MutationObserver(function (mutations, observer) {{\n",
              "        var display = window.getComputedStyle(gd).display;\n",
              "        if (!display || display === 'none') {{\n",
              "            console.log([gd, 'removed!']);\n",
              "            Plotly.purge(gd);\n",
              "            observer.disconnect();\n",
              "        }}\n",
              "}});\n",
              "\n",
              "// Listen for the removal of the full notebook cells\n",
              "var notebookContainer = gd.closest('#notebook-container');\n",
              "if (notebookContainer) {{\n",
              "    x.observe(notebookContainer, {childList: true});\n",
              "}}\n",
              "\n",
              "// Listen for the clearing of the current output cell\n",
              "var outputEl = gd.closest('.output');\n",
              "if (outputEl) {{\n",
              "    x.observe(outputEl, {childList: true});\n",
              "}}\n",
              "\n",
              "                        })\n",
              "                };\n",
              "                \n",
              "            </script>\n",
              "        </div>\n",
              "</body>\n",
              "</html>"
            ]
          },
          "metadata": {
            "tags": []
          }
        }
      ]
    },
    {
      "cell_type": "code",
      "metadata": {
        "id": "nlCi4C4dsBq_"
      },
      "source": [
        "list_all_actor_value=[]\n",
        "for i in range(0,100):\n",
        "  for j in range(0,3):\n",
        "    c=df_2[\"acteur\"][i][j]\n",
        "    list_all_actor_value.append(c)\n"
      ],
      "execution_count": 201,
      "outputs": []
    },
    {
      "cell_type": "code",
      "metadata": {
        "id": "XnFbTNrSsbC0"
      },
      "source": [
        "df_actor_2 = pd.DataFrame({\"acteur\": list_all_actor_value})"
      ],
      "execution_count": 202,
      "outputs": []
    },
    {
      "cell_type": "code",
      "metadata": {
        "id": "miESNHf-sdSG"
      },
      "source": [
        "nbr_actor_values=[]\n",
        "nbr_actor_index=[]\n",
        "for i in range(0,100):\n",
        "    c=df_actor_2[\"acteur\"].value_counts().values[i]\n",
        "    j=df_actor_2[\"acteur\"].value_counts().index[i]\n",
        "\n",
        "    if c > 1:\n",
        "      nbr_actor_values.append(c)\n",
        "      nbr_actor_index.append(j)\n",
        "    \n",
        "      "
      ],
      "execution_count": 203,
      "outputs": []
    },
    {
      "cell_type": "code",
      "metadata": {
        "colab": {
          "base_uri": "https://localhost:8080/",
          "height": 542
        },
        "id": "ojF_dTU1sfBn",
        "outputId": "307815bf-5be3-413b-ac8b-0e5e5a6c54a7"
      },
      "source": [
        "import plotly.express as px\n",
        "data = px.data.gapminder()\n",
        "\n",
        "\n",
        "fig = px.bar(df_2, x=nbr_actor_index, y=nbr_actor_values,\n",
        "            color=nbr_actor_index\n",
        "             \n",
        "             )\n",
        "fig.update_layout(title_text='Acteur famous')\n",
        "fig.show()"
      ],
      "execution_count": 204,
      "outputs": [
        {
          "output_type": "display_data",
          "data": {
            "text/html": [
              "<html>\n",
              "<head><meta charset=\"utf-8\" /></head>\n",
              "<body>\n",
              "    <div>\n",
              "            <script src=\"https://cdnjs.cloudflare.com/ajax/libs/mathjax/2.7.5/MathJax.js?config=TeX-AMS-MML_SVG\"></script><script type=\"text/javascript\">if (window.MathJax) {MathJax.Hub.Config({SVG: {font: \"STIX-Web\"}});}</script>\n",
              "                <script type=\"text/javascript\">window.PlotlyConfig = {MathJaxConfig: 'local'};</script>\n",
              "        <script src=\"https://cdn.plot.ly/plotly-latest.min.js\"></script>    \n",
              "            <div id=\"81bd34d5-a9fc-4319-8415-690af552c85f\" class=\"plotly-graph-div\" style=\"height:525px; width:100%;\"></div>\n",
              "            <script type=\"text/javascript\">\n",
              "                \n",
              "                    window.PLOTLYENV=window.PLOTLYENV || {};\n",
              "                    \n",
              "                if (document.getElementById(\"81bd34d5-a9fc-4319-8415-690af552c85f\")) {\n",
              "                    Plotly.newPlot(\n",
              "                        '81bd34d5-a9fc-4319-8415-690af552c85f',\n",
              "                        [{\"alignmentgroup\": \"True\", \"hoverlabel\": {\"namelength\": 0}, \"hovertemplate\": \"color=Brad Pitt<br>x=%{x}<br>y=%{y}\", \"legendgroup\": \"color=Brad Pitt\", \"marker\": {\"color\": \"#636efa\"}, \"name\": \"color=Brad Pitt\", \"offsetgroup\": \"color=Brad Pitt\", \"orientation\": \"v\", \"showlegend\": true, \"textposition\": \"auto\", \"type\": \"bar\", \"x\": [\"Brad Pitt\"], \"xaxis\": \"x\", \"y\": [6], \"yaxis\": \"y\"}, {\"alignmentgroup\": \"True\", \"hoverlabel\": {\"namelength\": 0}, \"hovertemplate\": \"color=Robert De Niro<br>x=%{x}<br>y=%{y}\", \"legendgroup\": \"color=Robert De Niro\", \"marker\": {\"color\": \"#EF553B\"}, \"name\": \"color=Robert De Niro\", \"offsetgroup\": \"color=Robert De Niro\", \"orientation\": \"v\", \"showlegend\": true, \"textposition\": \"auto\", \"type\": \"bar\", \"x\": [\"Robert De Niro\"], \"xaxis\": \"x\", \"y\": [5], \"yaxis\": \"y\"}, {\"alignmentgroup\": \"True\", \"hoverlabel\": {\"namelength\": 0}, \"hovertemplate\": \"color=Leonardo DiCaprio<br>x=%{x}<br>y=%{y}\", \"legendgroup\": \"color=Leonardo DiCaprio\", \"marker\": {\"color\": \"#00cc96\"}, \"name\": \"color=Leonardo DiCaprio\", \"offsetgroup\": \"color=Leonardo DiCaprio\", \"orientation\": \"v\", \"showlegend\": true, \"textposition\": \"auto\", \"type\": \"bar\", \"x\": [\"Leonardo DiCaprio\"], \"xaxis\": \"x\", \"y\": [4], \"yaxis\": \"y\"}, {\"alignmentgroup\": \"True\", \"hoverlabel\": {\"namelength\": 0}, \"hovertemplate\": \"color=Harrison Ford<br>x=%{x}<br>y=%{y}\", \"legendgroup\": \"color=Harrison Ford\", \"marker\": {\"color\": \"#ab63fa\"}, \"name\": \"color=Harrison Ford\", \"offsetgroup\": \"color=Harrison Ford\", \"orientation\": \"v\", \"showlegend\": true, \"textposition\": \"auto\", \"type\": \"bar\", \"x\": [\"Harrison Ford\"], \"xaxis\": \"x\", \"y\": [3], \"yaxis\": \"y\"}, {\"alignmentgroup\": \"True\", \"hoverlabel\": {\"namelength\": 0}, \"hovertemplate\": \"color=Natalie Portman<br>x=%{x}<br>y=%{y}\", \"legendgroup\": \"color=Natalie Portman\", \"marker\": {\"color\": \"#FFA15A\"}, \"name\": \"color=Natalie Portman\", \"offsetgroup\": \"color=Natalie Portman\", \"orientation\": \"v\", \"showlegend\": true, \"textposition\": \"auto\", \"type\": \"bar\", \"x\": [\"Natalie Portman\"], \"xaxis\": \"x\", \"y\": [3], \"yaxis\": \"y\"}, {\"alignmentgroup\": \"True\", \"hoverlabel\": {\"namelength\": 0}, \"hovertemplate\": \"color=Tom Hanks<br>x=%{x}<br>y=%{y}\", \"legendgroup\": \"color=Tom Hanks\", \"marker\": {\"color\": \"#19d3f3\"}, \"name\": \"color=Tom Hanks\", \"offsetgroup\": \"color=Tom Hanks\", \"orientation\": \"v\", \"showlegend\": true, \"textposition\": \"auto\", \"type\": \"bar\", \"x\": [\"Tom Hanks\"], \"xaxis\": \"x\", \"y\": [3], \"yaxis\": \"y\"}, {\"alignmentgroup\": \"True\", \"hoverlabel\": {\"namelength\": 0}, \"hovertemplate\": \"color=Sean Astin<br>x=%{x}<br>y=%{y}\", \"legendgroup\": \"color=Sean Astin\", \"marker\": {\"color\": \"#FF6692\"}, \"name\": \"color=Sean Astin\", \"offsetgroup\": \"color=Sean Astin\", \"orientation\": \"v\", \"showlegend\": true, \"textposition\": \"auto\", \"type\": \"bar\", \"x\": [\"Sean Astin\"], \"xaxis\": \"x\", \"y\": [3], \"yaxis\": \"y\"}, {\"alignmentgroup\": \"True\", \"hoverlabel\": {\"namelength\": 0}, \"hovertemplate\": \"color=Al Pacino<br>x=%{x}<br>y=%{y}\", \"legendgroup\": \"color=Al Pacino\", \"marker\": {\"color\": \"#B6E880\"}, \"name\": \"color=Al Pacino\", \"offsetgroup\": \"color=Al Pacino\", \"orientation\": \"v\", \"showlegend\": true, \"textposition\": \"auto\", \"type\": \"bar\", \"x\": [\"Al Pacino\"], \"xaxis\": \"x\", \"y\": [3], \"yaxis\": \"y\"}, {\"alignmentgroup\": \"True\", \"hoverlabel\": {\"namelength\": 0}, \"hovertemplate\": \"color=Elijah Wood<br>x=%{x}<br>y=%{y}\", \"legendgroup\": \"color=Elijah Wood\", \"marker\": {\"color\": \"#FF97FF\"}, \"name\": \"color=Elijah Wood\", \"offsetgroup\": \"color=Elijah Wood\", \"orientation\": \"v\", \"showlegend\": true, \"textposition\": \"auto\", \"type\": \"bar\", \"x\": [\"Elijah Wood\"], \"xaxis\": \"x\", \"y\": [3], \"yaxis\": \"y\"}, {\"alignmentgroup\": \"True\", \"hoverlabel\": {\"namelength\": 0}, \"hovertemplate\": \"color=Christoph Waltz<br>x=%{x}<br>y=%{y}\", \"legendgroup\": \"color=Christoph Waltz\", \"marker\": {\"color\": \"#FECB52\"}, \"name\": \"color=Christoph Waltz\", \"offsetgroup\": \"color=Christoph Waltz\", \"orientation\": \"v\", \"showlegend\": true, \"textposition\": \"auto\", \"type\": \"bar\", \"x\": [\"Christoph Waltz\"], \"xaxis\": \"x\", \"y\": [2], \"yaxis\": \"y\"}, {\"alignmentgroup\": \"True\", \"hoverlabel\": {\"namelength\": 0}, \"hovertemplate\": \"color=Robert Duvall<br>x=%{x}<br>y=%{y}\", \"legendgroup\": \"color=Robert Duvall\", \"marker\": {\"color\": \"#636efa\"}, \"name\": \"color=Robert Duvall\", \"offsetgroup\": \"color=Robert Duvall\", \"orientation\": \"v\", \"showlegend\": true, \"textposition\": \"auto\", \"type\": \"bar\", \"x\": [\"Robert Duvall\"], \"xaxis\": \"x\", \"y\": [2], \"yaxis\": \"y\"}, {\"alignmentgroup\": \"True\", \"hoverlabel\": {\"namelength\": 0}, \"hovertemplate\": \"color=Jodie Foster<br>x=%{x}<br>y=%{y}\", \"legendgroup\": \"color=Jodie Foster\", \"marker\": {\"color\": \"#EF553B\"}, \"name\": \"color=Jodie Foster\", \"offsetgroup\": \"color=Jodie Foster\", \"orientation\": \"v\", \"showlegend\": true, \"textposition\": \"auto\", \"type\": \"bar\", \"x\": [\"Jodie Foster\"], \"xaxis\": \"x\", \"y\": [2], \"yaxis\": \"y\"}, {\"alignmentgroup\": \"True\", \"hoverlabel\": {\"namelength\": 0}, \"hovertemplate\": \"color=Bruce Willis<br>x=%{x}<br>y=%{y}\", \"legendgroup\": \"color=Bruce Willis\", \"marker\": {\"color\": \"#00cc96\"}, \"name\": \"color=Bruce Willis\", \"offsetgroup\": \"color=Bruce Willis\", \"orientation\": \"v\", \"showlegend\": true, \"textposition\": \"auto\", \"type\": \"bar\", \"x\": [\"Bruce Willis\"], \"xaxis\": \"x\", \"y\": [2], \"yaxis\": \"y\"}, {\"alignmentgroup\": \"True\", \"hoverlabel\": {\"namelength\": 0}, \"hovertemplate\": \"color=Ben Kingsley<br>x=%{x}<br>y=%{y}\", \"legendgroup\": \"color=Ben Kingsley\", \"marker\": {\"color\": \"#ab63fa\"}, \"name\": \"color=Ben Kingsley\", \"offsetgroup\": \"color=Ben Kingsley\", \"orientation\": \"v\", \"showlegend\": true, \"textposition\": \"auto\", \"type\": \"bar\", \"x\": [\"Ben Kingsley\"], \"xaxis\": \"x\", \"y\": [2], \"yaxis\": \"y\"}, {\"alignmentgroup\": \"True\", \"hoverlabel\": {\"namelength\": 0}, \"hovertemplate\": \"color=Jessica Chastain<br>x=%{x}<br>y=%{y}\", \"legendgroup\": \"color=Jessica Chastain\", \"marker\": {\"color\": \"#FFA15A\"}, \"name\": \"color=Jessica Chastain\", \"offsetgroup\": \"color=Jessica Chastain\", \"orientation\": \"v\", \"showlegend\": true, \"textposition\": \"auto\", \"type\": \"bar\", \"x\": [\"Jessica Chastain\"], \"xaxis\": \"x\", \"y\": [2], \"yaxis\": \"y\"}, {\"alignmentgroup\": \"True\", \"hoverlabel\": {\"namelength\": 0}, \"hovertemplate\": \"color=Clint Eastwood<br>x=%{x}<br>y=%{y}\", \"legendgroup\": \"color=Clint Eastwood\", \"marker\": {\"color\": \"#19d3f3\"}, \"name\": \"color=Clint Eastwood\", \"offsetgroup\": \"color=Clint Eastwood\", \"orientation\": \"v\", \"showlegend\": true, \"textposition\": \"auto\", \"type\": \"bar\", \"x\": [\"Clint Eastwood\"], \"xaxis\": \"x\", \"y\": [2], \"yaxis\": \"y\"}, {\"alignmentgroup\": \"True\", \"hoverlabel\": {\"namelength\": 0}, \"hovertemplate\": \"color=Jim Carrey<br>x=%{x}<br>y=%{y}\", \"legendgroup\": \"color=Jim Carrey\", \"marker\": {\"color\": \"#FF6692\"}, \"name\": \"color=Jim Carrey\", \"offsetgroup\": \"color=Jim Carrey\", \"orientation\": \"v\", \"showlegend\": true, \"textposition\": \"auto\", \"type\": \"bar\", \"x\": [\"Jim Carrey\"], \"xaxis\": \"x\", \"y\": [2], \"yaxis\": \"y\"}, {\"alignmentgroup\": \"True\", \"hoverlabel\": {\"namelength\": 0}, \"hovertemplate\": \"color=Kate Winslet<br>x=%{x}<br>y=%{y}\", \"legendgroup\": \"color=Kate Winslet\", \"marker\": {\"color\": \"#B6E880\"}, \"name\": \"color=Kate Winslet\", \"offsetgroup\": \"color=Kate Winslet\", \"orientation\": \"v\", \"showlegend\": true, \"textposition\": \"auto\", \"type\": \"bar\", \"x\": [\"Kate Winslet\"], \"xaxis\": \"x\", \"y\": [2], \"yaxis\": \"y\"}, {\"alignmentgroup\": \"True\", \"hoverlabel\": {\"namelength\": 0}, \"hovertemplate\": \"color=Jared Leto<br>x=%{x}<br>y=%{y}\", \"legendgroup\": \"color=Jared Leto\", \"marker\": {\"color\": \"#FF97FF\"}, \"name\": \"color=Jared Leto\", \"offsetgroup\": \"color=Jared Leto\", \"orientation\": \"v\", \"showlegend\": true, \"textposition\": \"auto\", \"type\": \"bar\", \"x\": [\"Jared Leto\"], \"xaxis\": \"x\", \"y\": [2], \"yaxis\": \"y\"}, {\"alignmentgroup\": \"True\", \"hoverlabel\": {\"namelength\": 0}, \"hovertemplate\": \"color=Jack Nicholson<br>x=%{x}<br>y=%{y}\", \"legendgroup\": \"color=Jack Nicholson\", \"marker\": {\"color\": \"#FECB52\"}, \"name\": \"color=Jack Nicholson\", \"offsetgroup\": \"color=Jack Nicholson\", \"orientation\": \"v\", \"showlegend\": true, \"textposition\": \"auto\", \"type\": \"bar\", \"x\": [\"Jack Nicholson\"], \"xaxis\": \"x\", \"y\": [2], \"yaxis\": \"y\"}, {\"alignmentgroup\": \"True\", \"hoverlabel\": {\"namelength\": 0}, \"hovertemplate\": \"color=Harvey Keitel<br>x=%{x}<br>y=%{y}\", \"legendgroup\": \"color=Harvey Keitel\", \"marker\": {\"color\": \"#636efa\"}, \"name\": \"color=Harvey Keitel\", \"offsetgroup\": \"color=Harvey Keitel\", \"orientation\": \"v\", \"showlegend\": true, \"textposition\": \"auto\", \"type\": \"bar\", \"x\": [\"Harvey Keitel\"], \"xaxis\": \"x\", \"y\": [2], \"yaxis\": \"y\"}, {\"alignmentgroup\": \"True\", \"hoverlabel\": {\"namelength\": 0}, \"hovertemplate\": \"color=Viggo Mortensen<br>x=%{x}<br>y=%{y}\", \"legendgroup\": \"color=Viggo Mortensen\", \"marker\": {\"color\": \"#EF553B\"}, \"name\": \"color=Viggo Mortensen\", \"offsetgroup\": \"color=Viggo Mortensen\", \"orientation\": \"v\", \"showlegend\": true, \"textposition\": \"auto\", \"type\": \"bar\", \"x\": [\"Viggo Mortensen\"], \"xaxis\": \"x\", \"y\": [2], \"yaxis\": \"y\"}, {\"alignmentgroup\": \"True\", \"hoverlabel\": {\"namelength\": 0}, \"hovertemplate\": \"color=Sean Penn<br>x=%{x}<br>y=%{y}\", \"legendgroup\": \"color=Sean Penn\", \"marker\": {\"color\": \"#00cc96\"}, \"name\": \"color=Sean Penn\", \"offsetgroup\": \"color=Sean Penn\", \"orientation\": \"v\", \"showlegend\": true, \"textposition\": \"auto\", \"type\": \"bar\", \"x\": [\"Sean Penn\"], \"xaxis\": \"x\", \"y\": [2], \"yaxis\": \"y\"}, {\"alignmentgroup\": \"True\", \"hoverlabel\": {\"namelength\": 0}, \"hovertemplate\": \"color=Carrie-Anne Moss<br>x=%{x}<br>y=%{y}\", \"legendgroup\": \"color=Carrie-Anne Moss\", \"marker\": {\"color\": \"#ab63fa\"}, \"name\": \"color=Carrie-Anne Moss\", \"offsetgroup\": \"color=Carrie-Anne Moss\", \"orientation\": \"v\", \"showlegend\": true, \"textposition\": \"auto\", \"type\": \"bar\", \"x\": [\"Carrie-Anne Moss\"], \"xaxis\": \"x\", \"y\": [2], \"yaxis\": \"y\"}, {\"alignmentgroup\": \"True\", \"hoverlabel\": {\"namelength\": 0}, \"hovertemplate\": \"color=Gary Oldman<br>x=%{x}<br>y=%{y}\", \"legendgroup\": \"color=Gary Oldman\", \"marker\": {\"color\": \"#FFA15A\"}, \"name\": \"color=Gary Oldman\", \"offsetgroup\": \"color=Gary Oldman\", \"orientation\": \"v\", \"showlegend\": true, \"textposition\": \"auto\", \"type\": \"bar\", \"x\": [\"Gary Oldman\"], \"xaxis\": \"x\", \"y\": [2], \"yaxis\": \"y\"}, {\"alignmentgroup\": \"True\", \"hoverlabel\": {\"namelength\": 0}, \"hovertemplate\": \"color=Edward Furlong<br>x=%{x}<br>y=%{y}\", \"legendgroup\": \"color=Edward Furlong\", \"marker\": {\"color\": \"#19d3f3\"}, \"name\": \"color=Edward Furlong\", \"offsetgroup\": \"color=Edward Furlong\", \"orientation\": \"v\", \"showlegend\": true, \"textposition\": \"auto\", \"type\": \"bar\", \"x\": [\"Edward Furlong\"], \"xaxis\": \"x\", \"y\": [2], \"yaxis\": \"y\"}, {\"alignmentgroup\": \"True\", \"hoverlabel\": {\"namelength\": 0}, \"hovertemplate\": \"color=Morgan Freeman<br>x=%{x}<br>y=%{y}\", \"legendgroup\": \"color=Morgan Freeman\", \"marker\": {\"color\": \"#FF6692\"}, \"name\": \"color=Morgan Freeman\", \"offsetgroup\": \"color=Morgan Freeman\", \"orientation\": \"v\", \"showlegend\": true, \"textposition\": \"auto\", \"type\": \"bar\", \"x\": [\"Morgan Freeman\"], \"xaxis\": \"x\", \"y\": [2], \"yaxis\": \"y\"}, {\"alignmentgroup\": \"True\", \"hoverlabel\": {\"namelength\": 0}, \"hovertemplate\": \"color=Joaquin Phoenix<br>x=%{x}<br>y=%{y}\", \"legendgroup\": \"color=Joaquin Phoenix\", \"marker\": {\"color\": \"#B6E880\"}, \"name\": \"color=Joaquin Phoenix\", \"offsetgroup\": \"color=Joaquin Phoenix\", \"orientation\": \"v\", \"showlegend\": true, \"textposition\": \"auto\", \"type\": \"bar\", \"x\": [\"Joaquin Phoenix\"], \"xaxis\": \"x\", \"y\": [2], \"yaxis\": \"y\"}, {\"alignmentgroup\": \"True\", \"hoverlabel\": {\"namelength\": 0}, \"hovertemplate\": \"color=Marlon Brando<br>x=%{x}<br>y=%{y}\", \"legendgroup\": \"color=Marlon Brando\", \"marker\": {\"color\": \"#FF97FF\"}, \"name\": \"color=Marlon Brando\", \"offsetgroup\": \"color=Marlon Brando\", \"orientation\": \"v\", \"showlegend\": true, \"textposition\": \"auto\", \"type\": \"bar\", \"x\": [\"Marlon Brando\"], \"xaxis\": \"x\", \"y\": [2], \"yaxis\": \"y\"}, {\"alignmentgroup\": \"True\", \"hoverlabel\": {\"namelength\": 0}, \"hovertemplate\": \"color=Scarlett Johansson<br>x=%{x}<br>y=%{y}\", \"legendgroup\": \"color=Scarlett Johansson\", \"marker\": {\"color\": \"#FECB52\"}, \"name\": \"color=Scarlett Johansson\", \"offsetgroup\": \"color=Scarlett Johansson\", \"orientation\": \"v\", \"showlegend\": true, \"textposition\": \"auto\", \"type\": \"bar\", \"x\": [\"Scarlett Johansson\"], \"xaxis\": \"x\", \"y\": [2], \"yaxis\": \"y\"}, {\"alignmentgroup\": \"True\", \"hoverlabel\": {\"namelength\": 0}, \"hovertemplate\": \"color=Vincent Cassel<br>x=%{x}<br>y=%{y}\", \"legendgroup\": \"color=Vincent Cassel\", \"marker\": {\"color\": \"#636efa\"}, \"name\": \"color=Vincent Cassel\", \"offsetgroup\": \"color=Vincent Cassel\", \"orientation\": \"v\", \"showlegend\": true, \"textposition\": \"auto\", \"type\": \"bar\", \"x\": [\"Vincent Cassel\"], \"xaxis\": \"x\", \"y\": [2], \"yaxis\": \"y\"}, {\"alignmentgroup\": \"True\", \"hoverlabel\": {\"namelength\": 0}, \"hovertemplate\": \"color=Jean Reno<br>x=%{x}<br>y=%{y}\", \"legendgroup\": \"color=Jean Reno\", \"marker\": {\"color\": \"#EF553B\"}, \"name\": \"color=Jean Reno\", \"offsetgroup\": \"color=Jean Reno\", \"orientation\": \"v\", \"showlegend\": true, \"textposition\": \"auto\", \"type\": \"bar\", \"x\": [\"Jean Reno\"], \"xaxis\": \"x\", \"y\": [2], \"yaxis\": \"y\"}, {\"alignmentgroup\": \"True\", \"hoverlabel\": {\"namelength\": 0}, \"hovertemplate\": \"color=Christian Bale<br>x=%{x}<br>y=%{y}\", \"legendgroup\": \"color=Christian Bale\", \"marker\": {\"color\": \"#00cc96\"}, \"name\": \"color=Christian Bale\", \"offsetgroup\": \"color=Christian Bale\", \"orientation\": \"v\", \"showlegend\": true, \"textposition\": \"auto\", \"type\": \"bar\", \"x\": [\"Christian Bale\"], \"xaxis\": \"x\", \"y\": [2], \"yaxis\": \"y\"}, {\"alignmentgroup\": \"True\", \"hoverlabel\": {\"namelength\": 0}, \"hovertemplate\": \"color=Carrie Fisher<br>x=%{x}<br>y=%{y}\", \"legendgroup\": \"color=Carrie Fisher\", \"marker\": {\"color\": \"#ab63fa\"}, \"name\": \"color=Carrie Fisher\", \"offsetgroup\": \"color=Carrie Fisher\", \"orientation\": \"v\", \"showlegend\": true, \"textposition\": \"auto\", \"type\": \"bar\", \"x\": [\"Carrie Fisher\"], \"xaxis\": \"x\", \"y\": [2], \"yaxis\": \"y\"}, {\"alignmentgroup\": \"True\", \"hoverlabel\": {\"namelength\": 0}, \"hovertemplate\": \"color=Ewan McGregor<br>x=%{x}<br>y=%{y}\", \"legendgroup\": \"color=Ewan McGregor\", \"marker\": {\"color\": \"#FFA15A\"}, \"name\": \"color=Ewan McGregor\", \"offsetgroup\": \"color=Ewan McGregor\", \"orientation\": \"v\", \"showlegend\": true, \"textposition\": \"auto\", \"type\": \"bar\", \"x\": [\"Ewan McGregor\"], \"xaxis\": \"x\", \"y\": [2], \"yaxis\": \"y\"}, {\"alignmentgroup\": \"True\", \"hoverlabel\": {\"namelength\": 0}, \"hovertemplate\": \"color=Henry Fonda<br>x=%{x}<br>y=%{y}\", \"legendgroup\": \"color=Henry Fonda\", \"marker\": {\"color\": \"#19d3f3\"}, \"name\": \"color=Henry Fonda\", \"offsetgroup\": \"color=Henry Fonda\", \"orientation\": \"v\", \"showlegend\": true, \"textposition\": \"auto\", \"type\": \"bar\", \"x\": [\"Henry Fonda\"], \"xaxis\": \"x\", \"y\": [2], \"yaxis\": \"y\"}, {\"alignmentgroup\": \"True\", \"hoverlabel\": {\"namelength\": 0}, \"hovertemplate\": \"color=Uma Thurman<br>x=%{x}<br>y=%{y}\", \"legendgroup\": \"color=Uma Thurman\", \"marker\": {\"color\": \"#FF6692\"}, \"name\": \"color=Uma Thurman\", \"offsetgroup\": \"color=Uma Thurman\", \"orientation\": \"v\", \"showlegend\": true, \"textposition\": \"auto\", \"type\": \"bar\", \"x\": [\"Uma Thurman\"], \"xaxis\": \"x\", \"y\": [2], \"yaxis\": \"y\"}, {\"alignmentgroup\": \"True\", \"hoverlabel\": {\"namelength\": 0}, \"hovertemplate\": \"color=Ethan Hawke<br>x=%{x}<br>y=%{y}\", \"legendgroup\": \"color=Ethan Hawke\", \"marker\": {\"color\": \"#B6E880\"}, \"name\": \"color=Ethan Hawke\", \"offsetgroup\": \"color=Ethan Hawke\", \"orientation\": \"v\", \"showlegend\": true, \"textposition\": \"auto\", \"type\": \"bar\", \"x\": [\"Ethan Hawke\"], \"xaxis\": \"x\", \"y\": [2], \"yaxis\": \"y\"}, {\"alignmentgroup\": \"True\", \"hoverlabel\": {\"namelength\": 0}, \"hovertemplate\": \"color=Edward Norton<br>x=%{x}<br>y=%{y}\", \"legendgroup\": \"color=Edward Norton\", \"marker\": {\"color\": \"#FF97FF\"}, \"name\": \"color=Edward Norton\", \"offsetgroup\": \"color=Edward Norton\", \"orientation\": \"v\", \"showlegend\": true, \"textposition\": \"auto\", \"type\": \"bar\", \"x\": [\"Edward Norton\"], \"xaxis\": \"x\", \"y\": [2], \"yaxis\": \"y\"}, {\"alignmentgroup\": \"True\", \"hoverlabel\": {\"namelength\": 0}, \"hovertemplate\": \"color=Patrick Magee<br>x=%{x}<br>y=%{y}\", \"legendgroup\": \"color=Patrick Magee\", \"marker\": {\"color\": \"#FECB52\"}, \"name\": \"color=Patrick Magee\", \"offsetgroup\": \"color=Patrick Magee\", \"orientation\": \"v\", \"showlegend\": true, \"textposition\": \"auto\", \"type\": \"bar\", \"x\": [\"Patrick Magee\"], \"xaxis\": \"x\", \"y\": [2], \"yaxis\": \"y\"}, {\"alignmentgroup\": \"True\", \"hoverlabel\": {\"namelength\": 0}, \"hovertemplate\": \"color=Julianne Moore<br>x=%{x}<br>y=%{y}\", \"legendgroup\": \"color=Julianne Moore\", \"marker\": {\"color\": \"#636efa\"}, \"name\": \"color=Julianne Moore\", \"offsetgroup\": \"color=Julianne Moore\", \"orientation\": \"v\", \"showlegend\": true, \"textposition\": \"auto\", \"type\": \"bar\", \"x\": [\"Julianne Moore\"], \"xaxis\": \"x\", \"y\": [2], \"yaxis\": \"y\"}, {\"alignmentgroup\": \"True\", \"hoverlabel\": {\"namelength\": 0}, \"hovertemplate\": \"color=Mark Hamill<br>x=%{x}<br>y=%{y}\", \"legendgroup\": \"color=Mark Hamill\", \"marker\": {\"color\": \"#EF553B\"}, \"name\": \"color=Mark Hamill\", \"offsetgroup\": \"color=Mark Hamill\", \"orientation\": \"v\", \"showlegend\": true, \"textposition\": \"auto\", \"type\": \"bar\", \"x\": [\"Mark Hamill\"], \"xaxis\": \"x\", \"y\": [2], \"yaxis\": \"y\"}, {\"alignmentgroup\": \"True\", \"hoverlabel\": {\"namelength\": 0}, \"hovertemplate\": \"color=Ryan Gosling<br>x=%{x}<br>y=%{y}\", \"legendgroup\": \"color=Ryan Gosling\", \"marker\": {\"color\": \"#00cc96\"}, \"name\": \"color=Ryan Gosling\", \"offsetgroup\": \"color=Ryan Gosling\", \"orientation\": \"v\", \"showlegend\": true, \"textposition\": \"auto\", \"type\": \"bar\", \"x\": [\"Ryan Gosling\"], \"xaxis\": \"x\", \"y\": [2], \"yaxis\": \"y\"}, {\"alignmentgroup\": \"True\", \"hoverlabel\": {\"namelength\": 0}, \"hovertemplate\": \"color=Ralph Fiennes<br>x=%{x}<br>y=%{y}\", \"legendgroup\": \"color=Ralph Fiennes\", \"marker\": {\"color\": \"#ab63fa\"}, \"name\": \"color=Ralph Fiennes\", \"offsetgroup\": \"color=Ralph Fiennes\", \"orientation\": \"v\", \"showlegend\": true, \"textposition\": \"auto\", \"type\": \"bar\", \"x\": [\"Ralph Fiennes\"], \"xaxis\": \"x\", \"y\": [2], \"yaxis\": \"y\"}],\n",
              "                        {\"barmode\": \"relative\", \"legend\": {\"tracegroupgap\": 0}, \"margin\": {\"t\": 60}, \"template\": {\"data\": {\"bar\": [{\"error_x\": {\"color\": \"#2a3f5f\"}, \"error_y\": {\"color\": \"#2a3f5f\"}, \"marker\": {\"line\": {\"color\": \"#E5ECF6\", \"width\": 0.5}}, \"type\": \"bar\"}], \"barpolar\": [{\"marker\": {\"line\": {\"color\": \"#E5ECF6\", \"width\": 0.5}}, \"type\": \"barpolar\"}], \"carpet\": [{\"aaxis\": {\"endlinecolor\": \"#2a3f5f\", \"gridcolor\": \"white\", \"linecolor\": \"white\", \"minorgridcolor\": \"white\", \"startlinecolor\": \"#2a3f5f\"}, \"baxis\": {\"endlinecolor\": \"#2a3f5f\", \"gridcolor\": \"white\", \"linecolor\": \"white\", \"minorgridcolor\": \"white\", \"startlinecolor\": \"#2a3f5f\"}, \"type\": \"carpet\"}], \"choropleth\": [{\"colorbar\": {\"outlinewidth\": 0, \"ticks\": \"\"}, \"type\": \"choropleth\"}], \"contour\": [{\"colorbar\": {\"outlinewidth\": 0, \"ticks\": \"\"}, \"colorscale\": [[0.0, \"#0d0887\"], [0.1111111111111111, \"#46039f\"], [0.2222222222222222, \"#7201a8\"], [0.3333333333333333, \"#9c179e\"], [0.4444444444444444, \"#bd3786\"], [0.5555555555555556, \"#d8576b\"], [0.6666666666666666, \"#ed7953\"], [0.7777777777777778, \"#fb9f3a\"], [0.8888888888888888, \"#fdca26\"], [1.0, \"#f0f921\"]], \"type\": \"contour\"}], \"contourcarpet\": [{\"colorbar\": {\"outlinewidth\": 0, \"ticks\": \"\"}, \"type\": \"contourcarpet\"}], \"heatmap\": [{\"colorbar\": {\"outlinewidth\": 0, \"ticks\": \"\"}, \"colorscale\": [[0.0, \"#0d0887\"], [0.1111111111111111, \"#46039f\"], [0.2222222222222222, \"#7201a8\"], [0.3333333333333333, \"#9c179e\"], [0.4444444444444444, \"#bd3786\"], [0.5555555555555556, \"#d8576b\"], [0.6666666666666666, \"#ed7953\"], [0.7777777777777778, \"#fb9f3a\"], [0.8888888888888888, \"#fdca26\"], [1.0, \"#f0f921\"]], \"type\": \"heatmap\"}], \"heatmapgl\": [{\"colorbar\": {\"outlinewidth\": 0, \"ticks\": \"\"}, \"colorscale\": [[0.0, \"#0d0887\"], [0.1111111111111111, \"#46039f\"], [0.2222222222222222, \"#7201a8\"], [0.3333333333333333, \"#9c179e\"], [0.4444444444444444, \"#bd3786\"], [0.5555555555555556, \"#d8576b\"], [0.6666666666666666, \"#ed7953\"], [0.7777777777777778, \"#fb9f3a\"], [0.8888888888888888, \"#fdca26\"], [1.0, \"#f0f921\"]], \"type\": \"heatmapgl\"}], \"histogram\": [{\"marker\": {\"colorbar\": {\"outlinewidth\": 0, \"ticks\": \"\"}}, \"type\": \"histogram\"}], \"histogram2d\": [{\"colorbar\": {\"outlinewidth\": 0, \"ticks\": \"\"}, \"colorscale\": [[0.0, \"#0d0887\"], [0.1111111111111111, \"#46039f\"], [0.2222222222222222, \"#7201a8\"], [0.3333333333333333, \"#9c179e\"], [0.4444444444444444, \"#bd3786\"], [0.5555555555555556, \"#d8576b\"], [0.6666666666666666, \"#ed7953\"], [0.7777777777777778, \"#fb9f3a\"], [0.8888888888888888, \"#fdca26\"], [1.0, \"#f0f921\"]], \"type\": \"histogram2d\"}], \"histogram2dcontour\": [{\"colorbar\": {\"outlinewidth\": 0, \"ticks\": \"\"}, \"colorscale\": [[0.0, \"#0d0887\"], [0.1111111111111111, \"#46039f\"], [0.2222222222222222, \"#7201a8\"], [0.3333333333333333, \"#9c179e\"], [0.4444444444444444, \"#bd3786\"], [0.5555555555555556, \"#d8576b\"], [0.6666666666666666, \"#ed7953\"], [0.7777777777777778, \"#fb9f3a\"], [0.8888888888888888, \"#fdca26\"], [1.0, \"#f0f921\"]], \"type\": \"histogram2dcontour\"}], \"mesh3d\": [{\"colorbar\": {\"outlinewidth\": 0, \"ticks\": \"\"}, \"type\": \"mesh3d\"}], \"parcoords\": [{\"line\": {\"colorbar\": {\"outlinewidth\": 0, \"ticks\": \"\"}}, \"type\": \"parcoords\"}], \"pie\": [{\"automargin\": true, \"type\": \"pie\"}], \"scatter\": [{\"marker\": {\"colorbar\": {\"outlinewidth\": 0, \"ticks\": \"\"}}, \"type\": \"scatter\"}], \"scatter3d\": [{\"line\": {\"colorbar\": {\"outlinewidth\": 0, \"ticks\": \"\"}}, \"marker\": {\"colorbar\": {\"outlinewidth\": 0, \"ticks\": \"\"}}, \"type\": \"scatter3d\"}], \"scattercarpet\": [{\"marker\": {\"colorbar\": {\"outlinewidth\": 0, \"ticks\": \"\"}}, \"type\": \"scattercarpet\"}], \"scattergeo\": [{\"marker\": {\"colorbar\": {\"outlinewidth\": 0, \"ticks\": \"\"}}, \"type\": \"scattergeo\"}], \"scattergl\": [{\"marker\": {\"colorbar\": {\"outlinewidth\": 0, \"ticks\": \"\"}}, \"type\": \"scattergl\"}], \"scattermapbox\": [{\"marker\": {\"colorbar\": {\"outlinewidth\": 0, \"ticks\": \"\"}}, \"type\": \"scattermapbox\"}], \"scatterpolar\": [{\"marker\": {\"colorbar\": {\"outlinewidth\": 0, \"ticks\": \"\"}}, \"type\": \"scatterpolar\"}], \"scatterpolargl\": [{\"marker\": {\"colorbar\": {\"outlinewidth\": 0, \"ticks\": \"\"}}, \"type\": \"scatterpolargl\"}], \"scatterternary\": [{\"marker\": {\"colorbar\": {\"outlinewidth\": 0, \"ticks\": \"\"}}, \"type\": \"scatterternary\"}], \"surface\": [{\"colorbar\": {\"outlinewidth\": 0, \"ticks\": \"\"}, \"colorscale\": [[0.0, \"#0d0887\"], [0.1111111111111111, \"#46039f\"], [0.2222222222222222, \"#7201a8\"], [0.3333333333333333, \"#9c179e\"], [0.4444444444444444, \"#bd3786\"], [0.5555555555555556, \"#d8576b\"], [0.6666666666666666, \"#ed7953\"], [0.7777777777777778, \"#fb9f3a\"], [0.8888888888888888, \"#fdca26\"], [1.0, \"#f0f921\"]], \"type\": \"surface\"}], \"table\": [{\"cells\": {\"fill\": {\"color\": \"#EBF0F8\"}, \"line\": {\"color\": \"white\"}}, \"header\": {\"fill\": {\"color\": \"#C8D4E3\"}, \"line\": {\"color\": \"white\"}}, \"type\": \"table\"}]}, \"layout\": {\"annotationdefaults\": {\"arrowcolor\": \"#2a3f5f\", \"arrowhead\": 0, \"arrowwidth\": 1}, \"coloraxis\": {\"colorbar\": {\"outlinewidth\": 0, \"ticks\": \"\"}}, \"colorscale\": {\"diverging\": [[0, \"#8e0152\"], [0.1, \"#c51b7d\"], [0.2, \"#de77ae\"], [0.3, \"#f1b6da\"], [0.4, \"#fde0ef\"], [0.5, \"#f7f7f7\"], [0.6, \"#e6f5d0\"], [0.7, \"#b8e186\"], [0.8, \"#7fbc41\"], [0.9, \"#4d9221\"], [1, \"#276419\"]], \"sequential\": [[0.0, \"#0d0887\"], [0.1111111111111111, \"#46039f\"], [0.2222222222222222, \"#7201a8\"], [0.3333333333333333, \"#9c179e\"], [0.4444444444444444, \"#bd3786\"], [0.5555555555555556, \"#d8576b\"], [0.6666666666666666, \"#ed7953\"], [0.7777777777777778, \"#fb9f3a\"], [0.8888888888888888, \"#fdca26\"], [1.0, \"#f0f921\"]], \"sequentialminus\": [[0.0, \"#0d0887\"], [0.1111111111111111, \"#46039f\"], [0.2222222222222222, \"#7201a8\"], [0.3333333333333333, \"#9c179e\"], [0.4444444444444444, \"#bd3786\"], [0.5555555555555556, \"#d8576b\"], [0.6666666666666666, \"#ed7953\"], [0.7777777777777778, \"#fb9f3a\"], [0.8888888888888888, \"#fdca26\"], [1.0, \"#f0f921\"]]}, \"colorway\": [\"#636efa\", \"#EF553B\", \"#00cc96\", \"#ab63fa\", \"#FFA15A\", \"#19d3f3\", \"#FF6692\", \"#B6E880\", \"#FF97FF\", \"#FECB52\"], \"font\": {\"color\": \"#2a3f5f\"}, \"geo\": {\"bgcolor\": \"white\", \"lakecolor\": \"white\", \"landcolor\": \"#E5ECF6\", \"showlakes\": true, \"showland\": true, \"subunitcolor\": \"white\"}, \"hoverlabel\": {\"align\": \"left\"}, \"hovermode\": \"closest\", \"mapbox\": {\"style\": \"light\"}, \"paper_bgcolor\": \"white\", \"plot_bgcolor\": \"#E5ECF6\", \"polar\": {\"angularaxis\": {\"gridcolor\": \"white\", \"linecolor\": \"white\", \"ticks\": \"\"}, \"bgcolor\": \"#E5ECF6\", \"radialaxis\": {\"gridcolor\": \"white\", \"linecolor\": \"white\", \"ticks\": \"\"}}, \"scene\": {\"xaxis\": {\"backgroundcolor\": \"#E5ECF6\", \"gridcolor\": \"white\", \"gridwidth\": 2, \"linecolor\": \"white\", \"showbackground\": true, \"ticks\": \"\", \"zerolinecolor\": \"white\"}, \"yaxis\": {\"backgroundcolor\": \"#E5ECF6\", \"gridcolor\": \"white\", \"gridwidth\": 2, \"linecolor\": \"white\", \"showbackground\": true, \"ticks\": \"\", \"zerolinecolor\": \"white\"}, \"zaxis\": {\"backgroundcolor\": \"#E5ECF6\", \"gridcolor\": \"white\", \"gridwidth\": 2, \"linecolor\": \"white\", \"showbackground\": true, \"ticks\": \"\", \"zerolinecolor\": \"white\"}}, \"shapedefaults\": {\"line\": {\"color\": \"#2a3f5f\"}}, \"ternary\": {\"aaxis\": {\"gridcolor\": \"white\", \"linecolor\": \"white\", \"ticks\": \"\"}, \"baxis\": {\"gridcolor\": \"white\", \"linecolor\": \"white\", \"ticks\": \"\"}, \"bgcolor\": \"#E5ECF6\", \"caxis\": {\"gridcolor\": \"white\", \"linecolor\": \"white\", \"ticks\": \"\"}}, \"title\": {\"x\": 0.05}, \"xaxis\": {\"automargin\": true, \"gridcolor\": \"white\", \"linecolor\": \"white\", \"ticks\": \"\", \"title\": {\"standoff\": 15}, \"zerolinecolor\": \"white\", \"zerolinewidth\": 2}, \"yaxis\": {\"automargin\": true, \"gridcolor\": \"white\", \"linecolor\": \"white\", \"ticks\": \"\", \"title\": {\"standoff\": 15}, \"zerolinecolor\": \"white\", \"zerolinewidth\": 2}}}, \"title\": {\"text\": \"Acteur famous\"}, \"xaxis\": {\"anchor\": \"y\", \"domain\": [0.0, 1.0], \"title\": {\"text\": \"x\"}}, \"yaxis\": {\"anchor\": \"x\", \"domain\": [0.0, 1.0], \"title\": {\"text\": \"y\"}}},\n",
              "                        {\"responsive\": true}\n",
              "                    ).then(function(){\n",
              "                            \n",
              "var gd = document.getElementById('81bd34d5-a9fc-4319-8415-690af552c85f');\n",
              "var x = new MutationObserver(function (mutations, observer) {{\n",
              "        var display = window.getComputedStyle(gd).display;\n",
              "        if (!display || display === 'none') {{\n",
              "            console.log([gd, 'removed!']);\n",
              "            Plotly.purge(gd);\n",
              "            observer.disconnect();\n",
              "        }}\n",
              "}});\n",
              "\n",
              "// Listen for the removal of the full notebook cells\n",
              "var notebookContainer = gd.closest('#notebook-container');\n",
              "if (notebookContainer) {{\n",
              "    x.observe(notebookContainer, {childList: true});\n",
              "}}\n",
              "\n",
              "// Listen for the clearing of the current output cell\n",
              "var outputEl = gd.closest('.output');\n",
              "if (outputEl) {{\n",
              "    x.observe(outputEl, {childList: true});\n",
              "}}\n",
              "\n",
              "                        })\n",
              "                };\n",
              "                \n",
              "            </script>\n",
              "        </div>\n",
              "</body>\n",
              "</html>"
            ]
          },
          "metadata": {
            "tags": []
          }
        }
      ]
    },
    {
      "cell_type": "code",
      "metadata": {
        "colab": {
          "base_uri": "https://localhost:8080/",
          "height": 542
        },
        "id": "4lMWsZ1RsiYH",
        "outputId": "629a9be0-d332-4034-d92f-4cd792783c73"
      },
      "source": [
        "import plotly.express as px\n",
        "fig = px.scatter(df_2, x=df_2[\"date\"], y=df_2[\"rate\"],color=df_2[\"titre\"])\n",
        "fig.update_layout(title_text='Classement des films en fonction des dates de sortie et de leur notes')\n",
        "fig.show()"
      ],
      "execution_count": 205,
      "outputs": [
        {
          "output_type": "display_data",
          "data": {
            "text/html": [
              "<html>\n",
              "<head><meta charset=\"utf-8\" /></head>\n",
              "<body>\n",
              "    <div>\n",
              "            <script src=\"https://cdnjs.cloudflare.com/ajax/libs/mathjax/2.7.5/MathJax.js?config=TeX-AMS-MML_SVG\"></script><script type=\"text/javascript\">if (window.MathJax) {MathJax.Hub.Config({SVG: {font: \"STIX-Web\"}});}</script>\n",
              "                <script type=\"text/javascript\">window.PlotlyConfig = {MathJaxConfig: 'local'};</script>\n",
              "        <script src=\"https://cdn.plot.ly/plotly-latest.min.js\"></script>    \n",
              "            <div id=\"331aa90c-ea74-469e-841e-de18791ed234\" class=\"plotly-graph-div\" style=\"height:525px; width:100%;\"></div>\n",
              "            <script type=\"text/javascript\">\n",
              "                \n",
              "                    window.PLOTLYENV=window.PLOTLYENV || {};\n",
              "                    \n",
              "                if (document.getElementById(\"331aa90c-ea74-469e-841e-de18791ed234\")) {\n",
              "                    Plotly.newPlot(\n",
              "                        '331aa90c-ea74-469e-841e-de18791ed234',\n",
              "                        [{\"hoverlabel\": {\"namelength\": 0}, \"hovertemplate\": \"titre=Fight Club<br>date=%{x}<br>rate=%{y}\", \"legendgroup\": \"titre=Fight Club\", \"marker\": {\"color\": \"#636efa\", \"symbol\": \"circle\"}, \"mode\": \"markers\", \"name\": \"titre=Fight Club\", \"showlegend\": true, \"type\": \"scatter\", \"x\": [\"1999\"], \"xaxis\": \"x\", \"y\": [8.2], \"yaxis\": \"y\"}, {\"hoverlabel\": {\"namelength\": 0}, \"hovertemplate\": \"titre=Pulp Fiction<br>date=%{x}<br>rate=%{y}\", \"legendgroup\": \"titre=Pulp Fiction\", \"marker\": {\"color\": \"#EF553B\", \"symbol\": \"circle\"}, \"mode\": \"markers\", \"name\": \"titre=Pulp Fiction\", \"showlegend\": true, \"type\": \"scatter\", \"x\": [\"1994\"], \"xaxis\": \"x\", \"y\": [8.3], \"yaxis\": \"y\"}, {\"hoverlabel\": {\"namelength\": 0}, \"hovertemplate\": \"titre=Interstellar<br>date=%{x}<br>rate=%{y}\", \"legendgroup\": \"titre=Interstellar\", \"marker\": {\"color\": \"#00cc96\", \"symbol\": \"circle\"}, \"mode\": \"markers\", \"name\": \"titre=Interstellar\", \"showlegend\": true, \"type\": \"scatter\", \"x\": [\"2014\"], \"xaxis\": \"x\", \"y\": [7.9], \"yaxis\": \"y\"}, {\"hoverlabel\": {\"namelength\": 0}, \"hovertemplate\": \"titre=2001 : L'Odyss\\u00e9e de l'espace<br>date=%{x}<br>rate=%{y}\", \"legendgroup\": \"titre=2001 : L'Odyss\\u00e9e de l'espace\", \"marker\": {\"color\": \"#ab63fa\", \"symbol\": \"circle\"}, \"mode\": \"markers\", \"name\": \"titre=2001 : L'Odyss\\u00e9e de l'espace\", \"showlegend\": true, \"type\": \"scatter\", \"x\": [\"1968\"], \"xaxis\": \"x\", \"y\": [8.0], \"yaxis\": \"y\"}, {\"hoverlabel\": {\"namelength\": 0}, \"hovertemplate\": \"titre=Blade Runner<br>date=%{x}<br>rate=%{y}\", \"legendgroup\": \"titre=Blade Runner\", \"marker\": {\"color\": \"#FFA15A\", \"symbol\": \"circle\"}, \"mode\": \"markers\", \"name\": \"titre=Blade Runner\", \"showlegend\": true, \"type\": \"scatter\", \"x\": [\"1982\"], \"xaxis\": \"x\", \"y\": [7.9], \"yaxis\": \"y\"}, {\"hoverlabel\": {\"namelength\": 0}, \"hovertemplate\": \"titre=Le Parrain<br>date=%{x}<br>rate=%{y}\", \"legendgroup\": \"titre=Le Parrain\", \"marker\": {\"color\": \"#19d3f3\", \"symbol\": \"circle\"}, \"mode\": \"markers\", \"name\": \"titre=Le Parrain\", \"showlegend\": true, \"type\": \"scatter\", \"x\": [\"1972\"], \"xaxis\": \"x\", \"y\": [8.5], \"yaxis\": \"y\"}, {\"hoverlabel\": {\"namelength\": 0}, \"hovertemplate\": \"titre=Forrest Gump<br>date=%{x}<br>rate=%{y}\", \"legendgroup\": \"titre=Forrest Gump\", \"marker\": {\"color\": \"#FF6692\", \"symbol\": \"circle\"}, \"mode\": \"markers\", \"name\": \"titre=Forrest Gump\", \"showlegend\": true, \"type\": \"scatter\", \"x\": [\"1994\"], \"xaxis\": \"x\", \"y\": [8.0], \"yaxis\": \"y\"}, {\"hoverlabel\": {\"namelength\": 0}, \"hovertemplate\": \"titre=Le Seigneur des Anneaux : Le Retour du roi<br>date=%{x}<br>rate=%{y}\", \"legendgroup\": \"titre=Le Seigneur des Anneaux : Le Retour du roi\", \"marker\": {\"color\": \"#B6E880\", \"symbol\": \"circle\"}, \"mode\": \"markers\", \"name\": \"titre=Le Seigneur des Anneaux : Le Retour du roi\", \"showlegend\": true, \"type\": \"scatter\", \"x\": [\"2003\"], \"xaxis\": \"x\", \"y\": [8.1], \"yaxis\": \"y\"}, {\"hoverlabel\": {\"namelength\": 0}, \"hovertemplate\": \"titre=The Dark Knight - Le Chevalier noir<br>date=%{x}<br>rate=%{y}\", \"legendgroup\": \"titre=The Dark Knight - Le Chevalier noir\", \"marker\": {\"color\": \"#FF97FF\", \"symbol\": \"circle\"}, \"mode\": \"markers\", \"name\": \"titre=The Dark Knight - Le Chevalier noir\", \"showlegend\": true, \"type\": \"scatter\", \"x\": [\"2008\"], \"xaxis\": \"x\", \"y\": [8.0], \"yaxis\": \"y\"}, {\"hoverlabel\": {\"namelength\": 0}, \"hovertemplate\": \"titre=Le Bon, la Brute et le Truand<br>date=%{x}<br>rate=%{y}\", \"legendgroup\": \"titre=Le Bon, la Brute et le Truand\", \"marker\": {\"color\": \"#FECB52\", \"symbol\": \"circle\"}, \"mode\": \"markers\", \"name\": \"titre=Le Bon, la Brute et le Truand\", \"showlegend\": true, \"type\": \"scatter\", \"x\": [\"1966\"], \"xaxis\": \"x\", \"y\": [8.5], \"yaxis\": \"y\"}, {\"hoverlabel\": {\"namelength\": 0}, \"hovertemplate\": \"titre=Inception<br>date=%{x}<br>rate=%{y}\", \"legendgroup\": \"titre=Inception\", \"marker\": {\"color\": \"#636efa\", \"symbol\": \"circle\"}, \"mode\": \"markers\", \"name\": \"titre=Inception\", \"showlegend\": true, \"type\": \"scatter\", \"x\": [\"2010\"], \"xaxis\": \"x\", \"y\": [7.5], \"yaxis\": \"y\"}, {\"hoverlabel\": {\"namelength\": 0}, \"hovertemplate\": \"titre=Le Seigneur des Anneaux : La Communaut\\u00e9 de l'anneau<br>date=%{x}<br>rate=%{y}\", \"legendgroup\": \"titre=Le Seigneur des Anneaux : La Communaut\\u00e9 de l'anneau\", \"marker\": {\"color\": \"#EF553B\", \"symbol\": \"circle\"}, \"mode\": \"markers\", \"name\": \"titre=Le Seigneur des Anneaux : La Communaut\\u00e9 de l'anneau\", \"showlegend\": true, \"type\": \"scatter\", \"x\": [\"2001\"], \"xaxis\": \"x\", \"y\": [8.0], \"yaxis\": \"y\"}, {\"hoverlabel\": {\"namelength\": 0}, \"hovertemplate\": \"titre=Apocalypse Now<br>date=%{x}<br>rate=%{y}\", \"legendgroup\": \"titre=Apocalypse Now\", \"marker\": {\"color\": \"#00cc96\", \"symbol\": \"circle\"}, \"mode\": \"markers\", \"name\": \"titre=Apocalypse Now\", \"showlegend\": true, \"type\": \"scatter\", \"x\": [\"1979\"], \"xaxis\": \"x\", \"y\": [8.3], \"yaxis\": \"y\"}, {\"hoverlabel\": {\"namelength\": 0}, \"hovertemplate\": \"titre=Orange m\\u00e9canique<br>date=%{x}<br>rate=%{y}\", \"legendgroup\": \"titre=Orange m\\u00e9canique\", \"marker\": {\"color\": \"#ab63fa\", \"symbol\": \"circle\"}, \"mode\": \"markers\", \"name\": \"titre=Orange m\\u00e9canique\", \"showlegend\": true, \"type\": \"scatter\", \"x\": [\"1971\"], \"xaxis\": \"x\", \"y\": [8.0], \"yaxis\": \"y\"}, {\"hoverlabel\": {\"namelength\": 0}, \"hovertemplate\": \"titre=Princesse Mononok\\u00e9<br>date=%{x}<br>rate=%{y}\", \"legendgroup\": \"titre=Princesse Mononok\\u00e9\", \"marker\": {\"color\": \"#FFA15A\", \"symbol\": \"circle\"}, \"mode\": \"markers\", \"name\": \"titre=Princesse Mononok\\u00e9\", \"showlegend\": true, \"type\": \"scatter\", \"x\": [\"1997\"], \"xaxis\": \"x\", \"y\": [8.4], \"yaxis\": \"y\"}, {\"hoverlabel\": {\"namelength\": 0}, \"hovertemplate\": \"titre=Eternal Sunshine of the Spotless Mind<br>date=%{x}<br>rate=%{y}\", \"legendgroup\": \"titre=Eternal Sunshine of the Spotless Mind\", \"marker\": {\"color\": \"#19d3f3\", \"symbol\": \"circle\"}, \"mode\": \"markers\", \"name\": \"titre=Eternal Sunshine of the Spotless Mind\", \"showlegend\": true, \"type\": \"scatter\", \"x\": [\"2004\"], \"xaxis\": \"x\", \"y\": [7.8], \"yaxis\": \"y\"}, {\"hoverlabel\": {\"namelength\": 0}, \"hovertemplate\": \"titre=Old Boy<br>date=%{x}<br>rate=%{y}\", \"legendgroup\": \"titre=Old Boy\", \"marker\": {\"color\": \"#FF6692\", \"symbol\": \"circle\"}, \"mode\": \"markers\", \"name\": \"titre=Old Boy\", \"showlegend\": true, \"type\": \"scatter\", \"x\": [\"2003\"], \"xaxis\": \"x\", \"y\": [8.1], \"yaxis\": \"y\"}, {\"hoverlabel\": {\"namelength\": 0}, \"hovertemplate\": \"titre=L'Empire contre-attaque<br>date=%{x}<br>rate=%{y}\", \"legendgroup\": \"titre=L'Empire contre-attaque\", \"marker\": {\"color\": \"#B6E880\", \"symbol\": \"circle\"}, \"mode\": \"markers\", \"name\": \"titre=L'Empire contre-attaque\", \"showlegend\": true, \"type\": \"scatter\", \"x\": [\"1980\"], \"xaxis\": \"x\", \"y\": [8.1], \"yaxis\": \"y\"}, {\"hoverlabel\": {\"namelength\": 0}, \"hovertemplate\": \"titre=Mulholland Drive<br>date=%{x}<br>rate=%{y}\", \"legendgroup\": \"titre=Mulholland Drive\", \"marker\": {\"color\": \"#FF97FF\", \"symbol\": \"circle\"}, \"mode\": \"markers\", \"name\": \"titre=Mulholland Drive\", \"showlegend\": true, \"type\": \"scatter\", \"x\": [\"2001\"], \"xaxis\": \"x\", \"y\": [7.7], \"yaxis\": \"y\"}, {\"hoverlabel\": {\"namelength\": 0}, \"hovertemplate\": \"titre=Le Voyage de Chihiro<br>date=%{x}<br>rate=%{y}\", \"legendgroup\": \"titre=Le Voyage de Chihiro\", \"marker\": {\"color\": \"#FECB52\", \"symbol\": \"circle\"}, \"mode\": \"markers\", \"name\": \"titre=Le Voyage de Chihiro\", \"showlegend\": true, \"type\": \"scatter\", \"x\": [\"2001\"], \"xaxis\": \"x\", \"y\": [8.4], \"yaxis\": \"y\"}, {\"hoverlabel\": {\"namelength\": 0}, \"hovertemplate\": \"titre=Matrix<br>date=%{x}<br>rate=%{y}\", \"legendgroup\": \"titre=Matrix\", \"marker\": {\"color\": \"#636efa\", \"symbol\": \"circle\"}, \"mode\": \"markers\", \"name\": \"titre=Matrix\", \"showlegend\": true, \"type\": \"scatter\", \"x\": [\"1999\"], \"xaxis\": \"x\", \"y\": [7.8], \"yaxis\": \"y\"}, {\"hoverlabel\": {\"namelength\": 0}, \"hovertemplate\": \"titre=Retour vers le futur<br>date=%{x}<br>rate=%{y}\", \"legendgroup\": \"titre=Retour vers le futur\", \"marker\": {\"color\": \"#EF553B\", \"symbol\": \"circle\"}, \"mode\": \"markers\", \"name\": \"titre=Retour vers le futur\", \"showlegend\": true, \"type\": \"scatter\", \"x\": [\"1985\"], \"xaxis\": \"x\", \"y\": [8.0], \"yaxis\": \"y\"}, {\"hoverlabel\": {\"namelength\": 0}, \"hovertemplate\": \"titre=12 hommes en col\\u00e8re<br>date=%{x}<br>rate=%{y}\", \"legendgroup\": \"titre=12 hommes en col\\u00e8re\", \"marker\": {\"color\": \"#00cc96\", \"symbol\": \"circle\"}, \"mode\": \"markers\", \"name\": \"titre=12 hommes en col\\u00e8re\", \"showlegend\": true, \"type\": \"scatter\", \"x\": [\"1957\"], \"xaxis\": \"x\", \"y\": [8.7], \"yaxis\": \"y\"}, {\"hoverlabel\": {\"namelength\": 0}, \"hovertemplate\": \"titre=Il \\u00e9tait une fois en Am\\u00e9rique<br>date=%{x}<br>rate=%{y}\", \"legendgroup\": \"titre=Il \\u00e9tait une fois en Am\\u00e9rique\", \"marker\": {\"color\": \"#ab63fa\", \"symbol\": \"circle\"}, \"mode\": \"markers\", \"name\": \"titre=Il \\u00e9tait une fois en Am\\u00e9rique\", \"showlegend\": true, \"type\": \"scatter\", \"x\": [\"1984\"], \"xaxis\": \"x\", \"y\": [8.5], \"yaxis\": \"y\"}, {\"hoverlabel\": {\"namelength\": 0}, \"hovertemplate\": \"titre=Vol au-dessus d'un nid de coucou<br>date=%{x}<br>rate=%{y}\", \"legendgroup\": \"titre=Vol au-dessus d'un nid de coucou\", \"marker\": {\"color\": \"#FFA15A\", \"symbol\": \"circle\"}, \"mode\": \"markers\", \"name\": \"titre=Vol au-dessus d'un nid de coucou\", \"showlegend\": true, \"type\": \"scatter\", \"x\": [\"1975\"], \"xaxis\": \"x\", \"y\": [8.4], \"yaxis\": \"y\"}, {\"hoverlabel\": {\"namelength\": 0}, \"hovertemplate\": \"titre=Shining<br>date=%{x}<br>rate=%{y}\", \"legendgroup\": \"titre=Shining\", \"marker\": {\"color\": \"#19d3f3\", \"symbol\": \"circle\"}, \"mode\": \"markers\", \"name\": \"titre=Shining\", \"showlegend\": true, \"type\": \"scatter\", \"x\": [\"1980\"], \"xaxis\": \"x\", \"y\": [8.1], \"yaxis\": \"y\"}, {\"hoverlabel\": {\"namelength\": 0}, \"hovertemplate\": \"titre=Gladiator<br>date=%{x}<br>rate=%{y}\", \"legendgroup\": \"titre=Gladiator\", \"marker\": {\"color\": \"#FF6692\", \"symbol\": \"circle\"}, \"mode\": \"markers\", \"name\": \"titre=Gladiator\", \"showlegend\": true, \"type\": \"scatter\", \"x\": [\"2000\"], \"xaxis\": \"x\", \"y\": [7.6], \"yaxis\": \"y\"}, {\"hoverlabel\": {\"namelength\": 0}, \"hovertemplate\": \"titre=Into the Wild<br>date=%{x}<br>rate=%{y}\", \"legendgroup\": \"titre=Into the Wild\", \"marker\": {\"color\": \"#B6E880\", \"symbol\": \"circle\"}, \"mode\": \"markers\", \"name\": \"titre=Into the Wild\", \"showlegend\": true, \"type\": \"scatter\", \"x\": [\"2007\"], \"xaxis\": \"x\", \"y\": [7.3], \"yaxis\": \"y\"}, {\"hoverlabel\": {\"namelength\": 0}, \"hovertemplate\": \"titre=Les Affranchis<br>date=%{x}<br>rate=%{y}\", \"legendgroup\": \"titre=Les Affranchis\", \"marker\": {\"color\": \"#FF97FF\", \"symbol\": \"circle\"}, \"mode\": \"markers\", \"name\": \"titre=Les Affranchis\", \"showlegend\": true, \"type\": \"scatter\", \"x\": [\"1990\"], \"xaxis\": \"x\", \"y\": [8.2], \"yaxis\": \"y\"}, {\"hoverlabel\": {\"namelength\": 0}, \"hovertemplate\": \"titre=Seven<br>date=%{x}<br>rate=%{y}\", \"legendgroup\": \"titre=Seven\", \"marker\": {\"color\": \"#FECB52\", \"symbol\": \"circle\"}, \"mode\": \"markers\", \"name\": \"titre=Seven\", \"showlegend\": true, \"type\": \"scatter\", \"x\": [\"1995\"], \"xaxis\": \"x\", \"y\": [8.1], \"yaxis\": \"y\"}, {\"hoverlabel\": {\"namelength\": 0}, \"hovertemplate\": \"titre=Drive<br>date=%{x}<br>rate=%{y}\", \"legendgroup\": \"titre=Drive\", \"marker\": {\"color\": \"#636efa\", \"symbol\": \"circle\"}, \"mode\": \"markers\", \"name\": \"titre=Drive\", \"showlegend\": true, \"type\": \"scatter\", \"x\": [\"2011\"], \"xaxis\": \"x\", \"y\": [7.4], \"yaxis\": \"y\"}, {\"hoverlabel\": {\"namelength\": 0}, \"hovertemplate\": \"titre=Il \\u00e9tait une fois dans l'Ouest<br>date=%{x}<br>rate=%{y}\", \"legendgroup\": \"titre=Il \\u00e9tait une fois dans l'Ouest\", \"marker\": {\"color\": \"#EF553B\", \"symbol\": \"circle\"}, \"mode\": \"markers\", \"name\": \"titre=Il \\u00e9tait une fois dans l'Ouest\", \"showlegend\": true, \"type\": \"scatter\", \"x\": [\"1968\"], \"xaxis\": \"x\", \"y\": [8.5], \"yaxis\": \"y\"}, {\"hoverlabel\": {\"namelength\": 0}, \"hovertemplate\": \"titre=Les \\u00c9vad\\u00e9s<br>date=%{x}<br>rate=%{y}\", \"legendgroup\": \"titre=Les \\u00c9vad\\u00e9s\", \"marker\": {\"color\": \"#00cc96\", \"symbol\": \"circle\"}, \"mode\": \"markers\", \"name\": \"titre=Les \\u00c9vad\\u00e9s\", \"showlegend\": true, \"type\": \"scatter\", \"x\": [\"1994\"], \"xaxis\": \"x\", \"y\": [8.1], \"yaxis\": \"y\"}, {\"hoverlabel\": {\"namelength\": 0}, \"hovertemplate\": \"titre=The Big Lebowski<br>date=%{x}<br>rate=%{y}\", \"legendgroup\": \"titre=The Big Lebowski\", \"marker\": {\"color\": \"#ab63fa\", \"symbol\": \"circle\"}, \"mode\": \"markers\", \"name\": \"titre=The Big Lebowski\", \"showlegend\": true, \"type\": \"scatter\", \"x\": [\"1998\"], \"xaxis\": \"x\", \"y\": [7.8], \"yaxis\": \"y\"}, {\"hoverlabel\": {\"namelength\": 0}, \"hovertemplate\": \"titre=Alien : Le 8\\u00e8me Passager<br>date=%{x}<br>rate=%{y}\", \"legendgroup\": \"titre=Alien : Le 8\\u00e8me Passager\", \"marker\": {\"color\": \"#FFA15A\", \"symbol\": \"circle\"}, \"mode\": \"markers\", \"name\": \"titre=Alien : Le 8\\u00e8me Passager\", \"showlegend\": true, \"type\": \"scatter\", \"x\": [\"1979\"], \"xaxis\": \"x\", \"y\": [8.1], \"yaxis\": \"y\"}, {\"hoverlabel\": {\"namelength\": 0}, \"hovertemplate\": \"titre=La Ligne verte<br>date=%{x}<br>rate=%{y}\", \"legendgroup\": \"titre=La Ligne verte\", \"marker\": {\"color\": \"#19d3f3\", \"symbol\": \"circle\"}, \"mode\": \"markers\", \"name\": \"titre=La Ligne verte\", \"showlegend\": true, \"type\": \"scatter\", \"x\": [\"1999\"], \"xaxis\": \"x\", \"y\": [7.8], \"yaxis\": \"y\"}, {\"hoverlabel\": {\"namelength\": 0}, \"hovertemplate\": \"titre=Django Unchained<br>date=%{x}<br>rate=%{y}\", \"legendgroup\": \"titre=Django Unchained\", \"marker\": {\"color\": \"#FF6692\", \"symbol\": \"circle\"}, \"mode\": \"markers\", \"name\": \"titre=Django Unchained\", \"showlegend\": true, \"type\": \"scatter\", \"x\": [\"2012\"], \"xaxis\": \"x\", \"y\": [7.8], \"yaxis\": \"y\"}, {\"hoverlabel\": {\"namelength\": 0}, \"hovertemplate\": \"titre=American Beauty<br>date=%{x}<br>rate=%{y}\", \"legendgroup\": \"titre=American Beauty\", \"marker\": {\"color\": \"#B6E880\", \"symbol\": \"circle\"}, \"mode\": \"markers\", \"name\": \"titre=American Beauty\", \"showlegend\": true, \"type\": \"scatter\", \"x\": [\"1999\"], \"xaxis\": \"x\", \"y\": [7.8], \"yaxis\": \"y\"}, {\"hoverlabel\": {\"namelength\": 0}, \"hovertemplate\": \"titre=Barry Lyndon<br>date=%{x}<br>rate=%{y}\", \"legendgroup\": \"titre=Barry Lyndon\", \"marker\": {\"color\": \"#FF97FF\", \"symbol\": \"circle\"}, \"mode\": \"markers\", \"name\": \"titre=Barry Lyndon\", \"showlegend\": true, \"type\": \"scatter\", \"x\": [\"1975\"], \"xaxis\": \"x\", \"y\": [8.1], \"yaxis\": \"y\"}, {\"hoverlabel\": {\"namelength\": 0}, \"hovertemplate\": \"titre=Reservoir Dogs<br>date=%{x}<br>rate=%{y}\", \"legendgroup\": \"titre=Reservoir Dogs\", \"marker\": {\"color\": \"#FECB52\", \"symbol\": \"circle\"}, \"mode\": \"markers\", \"name\": \"titre=Reservoir Dogs\", \"showlegend\": true, \"type\": \"scatter\", \"x\": [\"1992\"], \"xaxis\": \"x\", \"y\": [8.0], \"yaxis\": \"y\"}, {\"hoverlabel\": {\"namelength\": 0}, \"hovertemplate\": \"titre=Shutter Island<br>date=%{x}<br>rate=%{y}\", \"legendgroup\": \"titre=Shutter Island\", \"marker\": {\"color\": \"#636efa\", \"symbol\": \"circle\"}, \"mode\": \"markers\", \"name\": \"titre=Shutter Island\", \"showlegend\": true, \"type\": \"scatter\", \"x\": [\"2010\"], \"xaxis\": \"x\", \"y\": [7.7], \"yaxis\": \"y\"}, {\"hoverlabel\": {\"namelength\": 0}, \"hovertemplate\": \"titre=Mommy<br>date=%{x}<br>rate=%{y}\", \"legendgroup\": \"titre=Mommy\", \"marker\": {\"color\": \"#EF553B\", \"symbol\": \"circle\"}, \"mode\": \"markers\", \"name\": \"titre=Mommy\", \"showlegend\": true, \"type\": \"scatter\", \"x\": [\"2014\"], \"xaxis\": \"x\", \"y\": [7.9], \"yaxis\": \"y\"}, {\"hoverlabel\": {\"namelength\": 0}, \"hovertemplate\": \"titre=Le Seigneur des Anneaux : Les Deux Tours<br>date=%{x}<br>rate=%{y}\", \"legendgroup\": \"titre=Le Seigneur des Anneaux : Les Deux Tours\", \"marker\": {\"color\": \"#00cc96\", \"symbol\": \"circle\"}, \"mode\": \"markers\", \"name\": \"titre=Le Seigneur des Anneaux : Les Deux Tours\", \"showlegend\": true, \"type\": \"scatter\", \"x\": [\"2002\"], \"xaxis\": \"x\", \"y\": [7.9], \"yaxis\": \"y\"}, {\"hoverlabel\": {\"namelength\": 0}, \"hovertemplate\": \"titre=Kill Bill : Volume 1<br>date=%{x}<br>rate=%{y}\", \"legendgroup\": \"titre=Kill Bill : Volume 1\", \"marker\": {\"color\": \"#ab63fa\", \"symbol\": \"circle\"}, \"mode\": \"markers\", \"name\": \"titre=Kill Bill : Volume 1\", \"showlegend\": true, \"type\": \"scatter\", \"x\": [\"2003\"], \"xaxis\": \"x\", \"y\": [7.7], \"yaxis\": \"y\"}, {\"hoverlabel\": {\"namelength\": 0}, \"hovertemplate\": \"titre=Jurassic Park<br>date=%{x}<br>rate=%{y}\", \"legendgroup\": \"titre=Jurassic Park\", \"marker\": {\"color\": \"#FFA15A\", \"symbol\": \"circle\"}, \"mode\": \"markers\", \"name\": \"titre=Jurassic Park\", \"showlegend\": true, \"type\": \"scatter\", \"x\": [\"1993\"], \"xaxis\": \"x\", \"y\": [7.6], \"yaxis\": \"y\"}, {\"hoverlabel\": {\"namelength\": 0}, \"hovertemplate\": \"titre=Taxi Driver<br>date=%{x}<br>rate=%{y}\", \"legendgroup\": \"titre=Taxi Driver\", \"marker\": {\"color\": \"#19d3f3\", \"symbol\": \"circle\"}, \"mode\": \"markers\", \"name\": \"titre=Taxi Driver\", \"showlegend\": true, \"type\": \"scatter\", \"x\": [\"1976\"], \"xaxis\": \"x\", \"y\": [7.9], \"yaxis\": \"y\"}, {\"hoverlabel\": {\"namelength\": 0}, \"hovertemplate\": \"titre=Donnie Darko<br>date=%{x}<br>rate=%{y}\", \"legendgroup\": \"titre=Donnie Darko\", \"marker\": {\"color\": \"#FF6692\", \"symbol\": \"circle\"}, \"mode\": \"markers\", \"name\": \"titre=Donnie Darko\", \"showlegend\": true, \"type\": \"scatter\", \"x\": [\"2001\"], \"xaxis\": \"x\", \"y\": [7.6], \"yaxis\": \"y\"}, {\"hoverlabel\": {\"namelength\": 0}, \"hovertemplate\": \"titre=Requiem for a Dream<br>date=%{x}<br>rate=%{y}\", \"legendgroup\": \"titre=Requiem for a Dream\", \"marker\": {\"color\": \"#B6E880\", \"symbol\": \"circle\"}, \"mode\": \"markers\", \"name\": \"titre=Requiem for a Dream\", \"showlegend\": true, \"type\": \"scatter\", \"x\": [\"2000\"], \"xaxis\": \"x\", \"y\": [7.4], \"yaxis\": \"y\"}, {\"hoverlabel\": {\"namelength\": 0}, \"hovertemplate\": \"titre=Usual Suspects<br>date=%{x}<br>rate=%{y}\", \"legendgroup\": \"titre=Usual Suspects\", \"marker\": {\"color\": \"#FF97FF\", \"symbol\": \"circle\"}, \"mode\": \"markers\", \"name\": \"titre=Usual Suspects\", \"showlegend\": true, \"type\": \"scatter\", \"x\": [\"1995\"], \"xaxis\": \"x\", \"y\": [7.9], \"yaxis\": \"y\"}, {\"hoverlabel\": {\"namelength\": 0}, \"hovertemplate\": \"titre=American History X<br>date=%{x}<br>rate=%{y}\", \"legendgroup\": \"titre=American History X\", \"marker\": {\"color\": \"#FECB52\", \"symbol\": \"circle\"}, \"mode\": \"markers\", \"name\": \"titre=American History X\", \"showlegend\": true, \"type\": \"scatter\", \"x\": [\"1998\"], \"xaxis\": \"x\", \"y\": [7.8], \"yaxis\": \"y\"}, {\"hoverlabel\": {\"namelength\": 0}, \"hovertemplate\": \"titre=Brazil<br>date=%{x}<br>rate=%{y}\", \"legendgroup\": \"titre=Brazil\", \"marker\": {\"color\": \"#636efa\", \"symbol\": \"circle\"}, \"mode\": \"markers\", \"name\": \"titre=Brazil\", \"showlegend\": true, \"type\": \"scatter\", \"x\": [\"1985\"], \"xaxis\": \"x\", \"y\": [7.8], \"yaxis\": \"y\"}, {\"hoverlabel\": {\"namelength\": 0}, \"hovertemplate\": \"titre=V pour Vendetta<br>date=%{x}<br>rate=%{y}\", \"legendgroup\": \"titre=V pour Vendetta\", \"marker\": {\"color\": \"#EF553B\", \"symbol\": \"circle\"}, \"mode\": \"markers\", \"name\": \"titre=V pour Vendetta\", \"showlegend\": true, \"type\": \"scatter\", \"x\": [\"2006\"], \"xaxis\": \"x\", \"y\": [7.2], \"yaxis\": \"y\"}, {\"hoverlabel\": {\"namelength\": 0}, \"hovertemplate\": \"titre=La Guerre des \\u00c9toiles<br>date=%{x}<br>rate=%{y}\", \"legendgroup\": \"titre=La Guerre des \\u00c9toiles\", \"marker\": {\"color\": \"#00cc96\", \"symbol\": \"circle\"}, \"mode\": \"markers\", \"name\": \"titre=La Guerre des \\u00c9toiles\", \"showlegend\": true, \"type\": \"scatter\", \"x\": [\"1977\"], \"xaxis\": \"x\", \"y\": [7.8], \"yaxis\": \"y\"}, {\"hoverlabel\": {\"namelength\": 0}, \"hovertemplate\": \"titre=Edward aux mains d'argent<br>date=%{x}<br>rate=%{y}\", \"legendgroup\": \"titre=Edward aux mains d'argent\", \"marker\": {\"color\": \"#ab63fa\", \"symbol\": \"circle\"}, \"mode\": \"markers\", \"name\": \"titre=Edward aux mains d'argent\", \"showlegend\": true, \"type\": \"scatter\", \"x\": [\"1990\"], \"xaxis\": \"x\", \"y\": [7.7], \"yaxis\": \"y\"}, {\"hoverlabel\": {\"namelength\": 0}, \"hovertemplate\": \"titre=Inglourious Basterds<br>date=%{x}<br>rate=%{y}\", \"legendgroup\": \"titre=Inglourious Basterds\", \"marker\": {\"color\": \"#FFA15A\", \"symbol\": \"circle\"}, \"mode\": \"markers\", \"name\": \"titre=Inglourious Basterds\", \"showlegend\": true, \"type\": \"scatter\", \"x\": [\"2009\"], \"xaxis\": \"x\", \"y\": [7.4], \"yaxis\": \"y\"}, {\"hoverlabel\": {\"namelength\": 0}, \"hovertemplate\": \"titre=Le Fabuleux Destin d'Am\\u00e9lie Poulain<br>date=%{x}<br>rate=%{y}\", \"legendgroup\": \"titre=Le Fabuleux Destin d'Am\\u00e9lie Poulain\", \"marker\": {\"color\": \"#19d3f3\", \"symbol\": \"circle\"}, \"mode\": \"markers\", \"name\": \"titre=Le Fabuleux Destin d'Am\\u00e9lie Poulain\", \"showlegend\": true, \"type\": \"scatter\", \"x\": [\"2001\"], \"xaxis\": \"x\", \"y\": [7.1], \"yaxis\": \"y\"}, {\"hoverlabel\": {\"namelength\": 0}, \"hovertemplate\": \"titre=La Liste de Schindler<br>date=%{x}<br>rate=%{y}\", \"legendgroup\": \"titre=La Liste de Schindler\", \"marker\": {\"color\": \"#FF6692\", \"symbol\": \"circle\"}, \"mode\": \"markers\", \"name\": \"titre=La Liste de Schindler\", \"showlegend\": true, \"type\": \"scatter\", \"x\": [\"1993\"], \"xaxis\": \"x\", \"y\": [8.1], \"yaxis\": \"y\"}, {\"hoverlabel\": {\"namelength\": 0}, \"hovertemplate\": \"titre=La vie est belle<br>date=%{x}<br>rate=%{y}\", \"legendgroup\": \"titre=La vie est belle\", \"marker\": {\"color\": \"#B6E880\", \"symbol\": \"circle\"}, \"mode\": \"markers\", \"name\": \"titre=La vie est belle\", \"showlegend\": true, \"type\": \"scatter\", \"x\": [\"1997\"], \"xaxis\": \"x\", \"y\": [7.8], \"yaxis\": \"y\"}, {\"hoverlabel\": {\"namelength\": 0}, \"hovertemplate\": \"titre=Snatch - Tu braques ou tu raques<br>date=%{x}<br>rate=%{y}\", \"legendgroup\": \"titre=Snatch - Tu braques ou tu raques\", \"marker\": {\"color\": \"#FF97FF\", \"symbol\": \"circle\"}, \"mode\": \"markers\", \"name\": \"titre=Snatch - Tu braques ou tu raques\", \"showlegend\": true, \"type\": \"scatter\", \"x\": [\"2000\"], \"xaxis\": \"x\", \"y\": [7.6], \"yaxis\": \"y\"}, {\"hoverlabel\": {\"namelength\": 0}, \"hovertemplate\": \"titre=La La Land<br>date=%{x}<br>rate=%{y}\", \"legendgroup\": \"titre=La La Land\", \"marker\": {\"color\": \"#FECB52\", \"symbol\": \"circle\"}, \"mode\": \"markers\", \"name\": \"titre=La La Land\", \"showlegend\": true, \"type\": \"scatter\", \"x\": [\"2016\"], \"xaxis\": \"x\", \"y\": [7.5], \"yaxis\": \"y\"}, {\"hoverlabel\": {\"namelength\": 0}, \"hovertemplate\": \"titre=The Truman Show<br>date=%{x}<br>rate=%{y}\", \"legendgroup\": \"titre=The Truman Show\", \"marker\": {\"color\": \"#636efa\", \"symbol\": \"circle\"}, \"mode\": \"markers\", \"name\": \"titre=The Truman Show\", \"showlegend\": true, \"type\": \"scatter\", \"x\": [\"1998\"], \"xaxis\": \"x\", \"y\": [7.9], \"yaxis\": \"y\"}, {\"hoverlabel\": {\"namelength\": 0}, \"hovertemplate\": \"titre=Le Parrain : 2e Partie<br>date=%{x}<br>rate=%{y}\", \"legendgroup\": \"titre=Le Parrain : 2e Partie\", \"marker\": {\"color\": \"#EF553B\", \"symbol\": \"circle\"}, \"mode\": \"markers\", \"name\": \"titre=Le Parrain : 2e Partie\", \"showlegend\": true, \"type\": \"scatter\", \"x\": [\"1974\"], \"xaxis\": \"x\", \"y\": [8.3], \"yaxis\": \"y\"}, {\"hoverlabel\": {\"namelength\": 0}, \"hovertemplate\": \"titre=Titanic<br>date=%{x}<br>rate=%{y}\", \"legendgroup\": \"titre=Titanic\", \"marker\": {\"color\": \"#00cc96\", \"symbol\": \"circle\"}, \"mode\": \"markers\", \"name\": \"titre=Titanic\", \"showlegend\": true, \"type\": \"scatter\", \"x\": [\"1997\"], \"xaxis\": \"x\", \"y\": [6.8], \"yaxis\": \"y\"}, {\"hoverlabel\": {\"namelength\": 0}, \"hovertemplate\": \"titre=Lost in Translation<br>date=%{x}<br>rate=%{y}\", \"legendgroup\": \"titre=Lost in Translation\", \"marker\": {\"color\": \"#ab63fa\", \"symbol\": \"circle\"}, \"mode\": \"markers\", \"name\": \"titre=Lost in Translation\", \"showlegend\": true, \"type\": \"scatter\", \"x\": [\"2003\"], \"xaxis\": \"x\", \"y\": [7.2], \"yaxis\": \"y\"}, {\"hoverlabel\": {\"namelength\": 0}, \"hovertemplate\": \"titre=Her<br>date=%{x}<br>rate=%{y}\", \"legendgroup\": \"titre=Her\", \"marker\": {\"color\": \"#FFA15A\", \"symbol\": \"circle\"}, \"mode\": \"markers\", \"name\": \"titre=Her\", \"showlegend\": true, \"type\": \"scatter\", \"x\": [\"2013\"], \"xaxis\": \"x\", \"y\": [7.6], \"yaxis\": \"y\"}, {\"hoverlabel\": {\"namelength\": 0}, \"hovertemplate\": \"titre=Le Tombeau des lucioles<br>date=%{x}<br>rate=%{y}\", \"legendgroup\": \"titre=Le Tombeau des lucioles\", \"marker\": {\"color\": \"#19d3f3\", \"symbol\": \"circle\"}, \"mode\": \"markers\", \"name\": \"titre=Le Tombeau des lucioles\", \"showlegend\": true, \"type\": \"scatter\", \"x\": [\"1988\"], \"xaxis\": \"x\", \"y\": [8.2], \"yaxis\": \"y\"}, {\"hoverlabel\": {\"namelength\": 0}, \"hovertemplate\": \"titre=Mr. Nobody<br>date=%{x}<br>rate=%{y}\", \"legendgroup\": \"titre=Mr. Nobody\", \"marker\": {\"color\": \"#FF6692\", \"symbol\": \"circle\"}, \"mode\": \"markers\", \"name\": \"titre=Mr. Nobody\", \"showlegend\": true, \"type\": \"scatter\", \"x\": [\"2009\"], \"xaxis\": \"x\", \"y\": [7.1], \"yaxis\": \"y\"}, {\"hoverlabel\": {\"namelength\": 0}, \"hovertemplate\": \"titre=Big Fish<br>date=%{x}<br>rate=%{y}\", \"legendgroup\": \"titre=Big Fish\", \"marker\": {\"color\": \"#B6E880\", \"symbol\": \"circle\"}, \"mode\": \"markers\", \"name\": \"titre=Big Fish\", \"showlegend\": true, \"type\": \"scatter\", \"x\": [\"2003\"], \"xaxis\": \"x\", \"y\": [7.3], \"yaxis\": \"y\"}, {\"hoverlabel\": {\"namelength\": 0}, \"hovertemplate\": \"titre=Bienvenue \\u00e0 Gattaca<br>date=%{x}<br>rate=%{y}\", \"legendgroup\": \"titre=Bienvenue \\u00e0 Gattaca\", \"marker\": {\"color\": \"#FF97FF\", \"symbol\": \"circle\"}, \"mode\": \"markers\", \"name\": \"titre=Bienvenue \\u00e0 Gattaca\", \"showlegend\": true, \"type\": \"scatter\", \"x\": [\"1997\"], \"xaxis\": \"x\", \"y\": [7.7], \"yaxis\": \"y\"}, {\"hoverlabel\": {\"namelength\": 0}, \"hovertemplate\": \"titre=Le Prestige<br>date=%{x}<br>rate=%{y}\", \"legendgroup\": \"titre=Le Prestige\", \"marker\": {\"color\": \"#FECB52\", \"symbol\": \"circle\"}, \"mode\": \"markers\", \"name\": \"titre=Le Prestige\", \"showlegend\": true, \"type\": \"scatter\", \"x\": [\"2006\"], \"xaxis\": \"x\", \"y\": [7.6], \"yaxis\": \"y\"}, {\"hoverlabel\": {\"namelength\": 0}, \"hovertemplate\": \"titre=Memento<br>date=%{x}<br>rate=%{y}\", \"legendgroup\": \"titre=Memento\", \"marker\": {\"color\": \"#636efa\", \"symbol\": \"circle\"}, \"mode\": \"markers\", \"name\": \"titre=Memento\", \"showlegend\": true, \"type\": \"scatter\", \"x\": [\"2000\"], \"xaxis\": \"x\", \"y\": [7.6], \"yaxis\": \"y\"}, {\"hoverlabel\": {\"namelength\": 0}, \"hovertemplate\": \"titre=Gran Torino<br>date=%{x}<br>rate=%{y}\", \"legendgroup\": \"titre=Gran Torino\", \"marker\": {\"color\": \"#EF553B\", \"symbol\": \"circle\"}, \"mode\": \"markers\", \"name\": \"titre=Gran Torino\", \"showlegend\": true, \"type\": \"scatter\", \"x\": [\"2008\"], \"xaxis\": \"x\", \"y\": [7.7], \"yaxis\": \"y\"}, {\"hoverlabel\": {\"namelength\": 0}, \"hovertemplate\": \"titre=Stalker<br>date=%{x}<br>rate=%{y}\", \"legendgroup\": \"titre=Stalker\", \"marker\": {\"color\": \"#00cc96\", \"symbol\": \"circle\"}, \"mode\": \"markers\", \"name\": \"titre=Stalker\", \"showlegend\": true, \"type\": \"scatter\", \"x\": [\"1979\"], \"xaxis\": \"x\", \"y\": [8.2], \"yaxis\": \"y\"}, {\"hoverlabel\": {\"namelength\": 0}, \"hovertemplate\": \"titre=Les Sept Samoura\\u00efs<br>date=%{x}<br>rate=%{y}\", \"legendgroup\": \"titre=Les Sept Samoura\\u00efs\", \"marker\": {\"color\": \"#ab63fa\", \"symbol\": \"circle\"}, \"mode\": \"markers\", \"name\": \"titre=Les Sept Samoura\\u00efs\", \"showlegend\": true, \"type\": \"scatter\", \"x\": [\"1954\"], \"xaxis\": \"x\", \"y\": [8.5], \"yaxis\": \"y\"}, {\"hoverlabel\": {\"namelength\": 0}, \"hovertemplate\": \"titre=Whiplash<br>date=%{x}<br>rate=%{y}\", \"legendgroup\": \"titre=Whiplash\", \"marker\": {\"color\": \"#FFA15A\", \"symbol\": \"circle\"}, \"mode\": \"markers\", \"name\": \"titre=Whiplash\", \"showlegend\": true, \"type\": \"scatter\", \"x\": [\"2014\"], \"xaxis\": \"x\", \"y\": [8.0], \"yaxis\": \"y\"}, {\"hoverlabel\": {\"namelength\": 0}, \"hovertemplate\": \"titre=Le Ch\\u00e2teau ambulant<br>date=%{x}<br>rate=%{y}\", \"legendgroup\": \"titre=Le Ch\\u00e2teau ambulant\", \"marker\": {\"color\": \"#19d3f3\", \"symbol\": \"circle\"}, \"mode\": \"markers\", \"name\": \"titre=Le Ch\\u00e2teau ambulant\", \"showlegend\": true, \"type\": \"scatter\", \"x\": [\"2004\"], \"xaxis\": \"x\", \"y\": [8.0], \"yaxis\": \"y\"}, {\"hoverlabel\": {\"namelength\": 0}, \"hovertemplate\": \"titre=Monty Python : Sacr\\u00e9 Graal !<br>date=%{x}<br>rate=%{y}\", \"legendgroup\": \"titre=Monty Python : Sacr\\u00e9 Graal !\", \"marker\": {\"color\": \"#FF6692\", \"symbol\": \"circle\"}, \"mode\": \"markers\", \"name\": \"titre=Monty Python : Sacr\\u00e9 Graal !\", \"showlegend\": true, \"type\": \"scatter\", \"x\": [\"1975\"], \"xaxis\": \"x\", \"y\": [8.0], \"yaxis\": \"y\"}, {\"hoverlabel\": {\"namelength\": 0}, \"hovertemplate\": \"titre=Voyage au bout de l'enfer<br>date=%{x}<br>rate=%{y}\", \"legendgroup\": \"titre=Voyage au bout de l'enfer\", \"marker\": {\"color\": \"#B6E880\", \"symbol\": \"circle\"}, \"mode\": \"markers\", \"name\": \"titre=Voyage au bout de l'enfer\", \"showlegend\": true, \"type\": \"scatter\", \"x\": [\"1978\"], \"xaxis\": \"x\", \"y\": [8.3], \"yaxis\": \"y\"}, {\"hoverlabel\": {\"namelength\": 0}, \"hovertemplate\": \"titre=Sueurs froides<br>date=%{x}<br>rate=%{y}\", \"legendgroup\": \"titre=Sueurs froides\", \"marker\": {\"color\": \"#FF97FF\", \"symbol\": \"circle\"}, \"mode\": \"markers\", \"name\": \"titre=Sueurs froides\", \"showlegend\": true, \"type\": \"scatter\", \"x\": [\"1958\"], \"xaxis\": \"x\", \"y\": [8.1], \"yaxis\": \"y\"}, {\"hoverlabel\": {\"namelength\": 0}, \"hovertemplate\": \"titre=Mad Max : Fury Road<br>date=%{x}<br>rate=%{y}\", \"legendgroup\": \"titre=Mad Max : Fury Road\", \"marker\": {\"color\": \"#FECB52\", \"symbol\": \"circle\"}, \"mode\": \"markers\", \"name\": \"titre=Mad Max : Fury Road\", \"showlegend\": true, \"type\": \"scatter\", \"x\": [\"2015\"], \"xaxis\": \"x\", \"y\": [7.7], \"yaxis\": \"y\"}, {\"hoverlabel\": {\"namelength\": 0}, \"hovertemplate\": \"titre=The Grand Budapest Hotel<br>date=%{x}<br>rate=%{y}\", \"legendgroup\": \"titre=The Grand Budapest Hotel\", \"marker\": {\"color\": \"#636efa\", \"symbol\": \"circle\"}, \"mode\": \"markers\", \"name\": \"titre=The Grand Budapest Hotel\", \"showlegend\": true, \"type\": \"scatter\", \"x\": [\"2014\"], \"xaxis\": \"x\", \"y\": [7.8], \"yaxis\": \"y\"}, {\"hoverlabel\": {\"namelength\": 0}, \"hovertemplate\": \"titre=Le Cercle des po\\u00e8tes disparus<br>date=%{x}<br>rate=%{y}\", \"legendgroup\": \"titre=Le Cercle des po\\u00e8tes disparus\", \"marker\": {\"color\": \"#EF553B\", \"symbol\": \"circle\"}, \"mode\": \"markers\", \"name\": \"titre=Le Cercle des po\\u00e8tes disparus\", \"showlegend\": true, \"type\": \"scatter\", \"x\": [\"1989\"], \"xaxis\": \"x\", \"y\": [7.5], \"yaxis\": \"y\"}, {\"hoverlabel\": {\"namelength\": 0}, \"hovertemplate\": \"titre=Le Silence des agneaux<br>date=%{x}<br>rate=%{y}\", \"legendgroup\": \"titre=Le Silence des agneaux\", \"marker\": {\"color\": \"#00cc96\", \"symbol\": \"circle\"}, \"mode\": \"markers\", \"name\": \"titre=Le Silence des agneaux\", \"showlegend\": true, \"type\": \"scatter\", \"x\": [\"1991\"], \"xaxis\": \"x\", \"y\": [8.0], \"yaxis\": \"y\"}, {\"hoverlabel\": {\"namelength\": 0}, \"hovertemplate\": \"titre=L\\u00e9on<br>date=%{x}<br>rate=%{y}\", \"legendgroup\": \"titre=L\\u00e9on\", \"marker\": {\"color\": \"#ab63fa\", \"symbol\": \"circle\"}, \"mode\": \"markers\", \"name\": \"titre=L\\u00e9on\", \"showlegend\": true, \"type\": \"scatter\", \"x\": [\"1994\"], \"xaxis\": \"x\", \"y\": [7.5], \"yaxis\": \"y\"}, {\"hoverlabel\": {\"namelength\": 0}, \"hovertemplate\": \"titre=La Cit\\u00e9 de la peur<br>date=%{x}<br>rate=%{y}\", \"legendgroup\": \"titre=La Cit\\u00e9 de la peur\", \"marker\": {\"color\": \"#FFA15A\", \"symbol\": \"circle\"}, \"mode\": \"markers\", \"name\": \"titre=La Cit\\u00e9 de la peur\", \"showlegend\": true, \"type\": \"scatter\", \"x\": [\"1994\"], \"xaxis\": \"x\", \"y\": [7.4], \"yaxis\": \"y\"}, {\"hoverlabel\": {\"namelength\": 0}, \"hovertemplate\": \"titre=Le Roi Lion<br>date=%{x}<br>rate=%{y}\", \"legendgroup\": \"titre=Le Roi Lion\", \"marker\": {\"color\": \"#19d3f3\", \"symbol\": \"circle\"}, \"mode\": \"markers\", \"name\": \"titre=Le Roi Lion\", \"showlegend\": true, \"type\": \"scatter\", \"x\": [\"1994\"], \"xaxis\": \"x\", \"y\": [7.9], \"yaxis\": \"y\"}, {\"hoverlabel\": {\"namelength\": 0}, \"hovertemplate\": \"titre=Psychose<br>date=%{x}<br>rate=%{y}\", \"legendgroup\": \"titre=Psychose\", \"marker\": {\"color\": \"#FF6692\", \"symbol\": \"circle\"}, \"mode\": \"markers\", \"name\": \"titre=Psychose\", \"showlegend\": true, \"type\": \"scatter\", \"x\": [\"1960\"], \"xaxis\": \"x\", \"y\": [8.3], \"yaxis\": \"y\"}, {\"hoverlabel\": {\"namelength\": 0}, \"hovertemplate\": \"titre=Full Metal Jacket<br>date=%{x}<br>rate=%{y}\", \"legendgroup\": \"titre=Full Metal Jacket\", \"marker\": {\"color\": \"#B6E880\", \"symbol\": \"circle\"}, \"mode\": \"markers\", \"name\": \"titre=Full Metal Jacket\", \"showlegend\": true, \"type\": \"scatter\", \"x\": [\"1987\"], \"xaxis\": \"x\", \"y\": [8.0], \"yaxis\": \"y\"}, {\"hoverlabel\": {\"namelength\": 0}, \"hovertemplate\": \"titre=Terminator 2 : Le Jugement dernier<br>date=%{x}<br>rate=%{y}\", \"legendgroup\": \"titre=Terminator 2 : Le Jugement dernier\", \"marker\": {\"color\": \"#FF97FF\", \"symbol\": \"circle\"}, \"mode\": \"markers\", \"name\": \"titre=Terminator 2 : Le Jugement dernier\", \"showlegend\": true, \"type\": \"scatter\", \"x\": [\"1991\"], \"xaxis\": \"x\", \"y\": [7.7], \"yaxis\": \"y\"}, {\"hoverlabel\": {\"namelength\": 0}, \"hovertemplate\": \"titre=Trainspotting<br>date=%{x}<br>rate=%{y}\", \"legendgroup\": \"titre=Trainspotting\", \"marker\": {\"color\": \"#FECB52\", \"symbol\": \"circle\"}, \"mode\": \"markers\", \"name\": \"titre=Trainspotting\", \"showlegend\": true, \"type\": \"scatter\", \"x\": [\"1996\"], \"xaxis\": \"x\", \"y\": [7.5], \"yaxis\": \"y\"}, {\"hoverlabel\": {\"namelength\": 0}, \"hovertemplate\": \"titre=The Thing<br>date=%{x}<br>rate=%{y}\", \"legendgroup\": \"titre=The Thing\", \"marker\": {\"color\": \"#636efa\", \"symbol\": \"circle\"}, \"mode\": \"markers\", \"name\": \"titre=The Thing\", \"showlegend\": true, \"type\": \"scatter\", \"x\": [\"1982\"], \"xaxis\": \"x\", \"y\": [8.0], \"yaxis\": \"y\"}, {\"hoverlabel\": {\"namelength\": 0}, \"hovertemplate\": \"titre=La Haine<br>date=%{x}<br>rate=%{y}\", \"legendgroup\": \"titre=La Haine\", \"marker\": {\"color\": \"#EF553B\", \"symbol\": \"circle\"}, \"mode\": \"markers\", \"name\": \"titre=La Haine\", \"showlegend\": true, \"type\": \"scatter\", \"x\": [\"1995\"], \"xaxis\": \"x\", \"y\": [7.7], \"yaxis\": \"y\"}, {\"hoverlabel\": {\"namelength\": 0}, \"hovertemplate\": \"titre=Black Swan<br>date=%{x}<br>rate=%{y}\", \"legendgroup\": \"titre=Black Swan\", \"marker\": {\"color\": \"#00cc96\", \"symbol\": \"circle\"}, \"mode\": \"markers\", \"name\": \"titre=Black Swan\", \"showlegend\": true, \"type\": \"scatter\", \"x\": [\"2010\"], \"xaxis\": \"x\", \"y\": [7.2], \"yaxis\": \"y\"}, {\"hoverlabel\": {\"namelength\": 0}, \"hovertemplate\": \"titre=La Ligne rouge<br>date=%{x}<br>rate=%{y}\", \"legendgroup\": \"titre=La Ligne rouge\", \"marker\": {\"color\": \"#ab63fa\", \"symbol\": \"circle\"}, \"mode\": \"markers\", \"name\": \"titre=La Ligne rouge\", \"showlegend\": true, \"type\": \"scatter\", \"x\": [\"1998\"], \"xaxis\": \"x\", \"y\": [7.7], \"yaxis\": \"y\"}, {\"hoverlabel\": {\"namelength\": 0}, \"hovertemplate\": \"titre=Heat<br>date=%{x}<br>rate=%{y}\", \"legendgroup\": \"titre=Heat\", \"marker\": {\"color\": \"#FFA15A\", \"symbol\": \"circle\"}, \"mode\": \"markers\", \"name\": \"titre=Heat\", \"showlegend\": true, \"type\": \"scatter\", \"x\": [\"1995\"], \"xaxis\": \"x\", \"y\": [7.8], \"yaxis\": \"y\"}, {\"hoverlabel\": {\"namelength\": 0}, \"hovertemplate\": \"titre=L'Arm\\u00e9e des 12 singes<br>date=%{x}<br>rate=%{y}\", \"legendgroup\": \"titre=L'Arm\\u00e9e des 12 singes\", \"marker\": {\"color\": \"#19d3f3\", \"symbol\": \"circle\"}, \"mode\": \"markers\", \"name\": \"titre=L'Arm\\u00e9e des 12 singes\", \"showlegend\": true, \"type\": \"scatter\", \"x\": [\"1995\"], \"xaxis\": \"x\", \"y\": [7.8], \"yaxis\": \"y\"}, {\"hoverlabel\": {\"namelength\": 0}, \"hovertemplate\": \"titre=The Tree of Life<br>date=%{x}<br>rate=%{y}\", \"legendgroup\": \"titre=The Tree of Life\", \"marker\": {\"color\": \"#FF6692\", \"symbol\": \"circle\"}, \"mode\": \"markers\", \"name\": \"titre=The Tree of Life\", \"showlegend\": true, \"type\": \"scatter\", \"x\": [\"2011\"], \"xaxis\": \"x\", \"y\": [6.3], \"yaxis\": \"y\"}, {\"hoverlabel\": {\"namelength\": 0}, \"hovertemplate\": \"titre=Cloud Atlas<br>date=%{x}<br>rate=%{y}\", \"legendgroup\": \"titre=Cloud Atlas\", \"marker\": {\"color\": \"#B6E880\", \"symbol\": \"circle\"}, \"mode\": \"markers\", \"name\": \"titre=Cloud Atlas\", \"showlegend\": true, \"type\": \"scatter\", \"x\": [\"2012\"], \"xaxis\": \"x\", \"y\": [7.0], \"yaxis\": \"y\"}, {\"hoverlabel\": {\"namelength\": 0}, \"hovertemplate\": \"titre=Les Fils de l'homme<br>date=%{x}<br>rate=%{y}\", \"legendgroup\": \"titre=Les Fils de l'homme\", \"marker\": {\"color\": \"#FF97FF\", \"symbol\": \"circle\"}, \"mode\": \"markers\", \"name\": \"titre=Les Fils de l'homme\", \"showlegend\": true, \"type\": \"scatter\", \"x\": [\"2006\"], \"xaxis\": \"x\", \"y\": [7.6], \"yaxis\": \"y\"}, {\"hoverlabel\": {\"namelength\": 0}, \"hovertemplate\": \"titre=Le Cinqui\\u00e8me \\u00c9l\\u00e9ment<br>date=%{x}<br>rate=%{y}\", \"legendgroup\": \"titre=Le Cinqui\\u00e8me \\u00c9l\\u00e9ment\", \"marker\": {\"color\": \"#FECB52\", \"symbol\": \"circle\"}, \"mode\": \"markers\", \"name\": \"titre=Le Cinqui\\u00e8me \\u00c9l\\u00e9ment\", \"showlegend\": true, \"type\": \"scatter\", \"x\": [\"1997\"], \"xaxis\": \"x\", \"y\": [7.0], \"yaxis\": \"y\"}],\n",
              "                        {\"legend\": {\"tracegroupgap\": 0}, \"margin\": {\"t\": 60}, \"template\": {\"data\": {\"bar\": [{\"error_x\": {\"color\": \"#2a3f5f\"}, \"error_y\": {\"color\": \"#2a3f5f\"}, \"marker\": {\"line\": {\"color\": \"#E5ECF6\", \"width\": 0.5}}, \"type\": \"bar\"}], \"barpolar\": [{\"marker\": {\"line\": {\"color\": \"#E5ECF6\", \"width\": 0.5}}, \"type\": \"barpolar\"}], \"carpet\": [{\"aaxis\": {\"endlinecolor\": \"#2a3f5f\", \"gridcolor\": \"white\", \"linecolor\": \"white\", \"minorgridcolor\": \"white\", \"startlinecolor\": \"#2a3f5f\"}, \"baxis\": {\"endlinecolor\": \"#2a3f5f\", \"gridcolor\": \"white\", \"linecolor\": \"white\", \"minorgridcolor\": \"white\", \"startlinecolor\": \"#2a3f5f\"}, \"type\": \"carpet\"}], \"choropleth\": [{\"colorbar\": {\"outlinewidth\": 0, \"ticks\": \"\"}, \"type\": \"choropleth\"}], \"contour\": [{\"colorbar\": {\"outlinewidth\": 0, \"ticks\": \"\"}, \"colorscale\": [[0.0, \"#0d0887\"], [0.1111111111111111, \"#46039f\"], [0.2222222222222222, \"#7201a8\"], [0.3333333333333333, \"#9c179e\"], [0.4444444444444444, \"#bd3786\"], [0.5555555555555556, \"#d8576b\"], [0.6666666666666666, \"#ed7953\"], [0.7777777777777778, \"#fb9f3a\"], [0.8888888888888888, \"#fdca26\"], [1.0, \"#f0f921\"]], \"type\": \"contour\"}], \"contourcarpet\": [{\"colorbar\": {\"outlinewidth\": 0, \"ticks\": \"\"}, \"type\": \"contourcarpet\"}], \"heatmap\": [{\"colorbar\": {\"outlinewidth\": 0, \"ticks\": \"\"}, \"colorscale\": [[0.0, \"#0d0887\"], [0.1111111111111111, \"#46039f\"], [0.2222222222222222, \"#7201a8\"], [0.3333333333333333, \"#9c179e\"], [0.4444444444444444, \"#bd3786\"], [0.5555555555555556, \"#d8576b\"], [0.6666666666666666, \"#ed7953\"], [0.7777777777777778, \"#fb9f3a\"], [0.8888888888888888, \"#fdca26\"], [1.0, \"#f0f921\"]], \"type\": \"heatmap\"}], \"heatmapgl\": [{\"colorbar\": {\"outlinewidth\": 0, \"ticks\": \"\"}, \"colorscale\": [[0.0, \"#0d0887\"], [0.1111111111111111, \"#46039f\"], [0.2222222222222222, \"#7201a8\"], [0.3333333333333333, \"#9c179e\"], [0.4444444444444444, \"#bd3786\"], [0.5555555555555556, \"#d8576b\"], [0.6666666666666666, \"#ed7953\"], [0.7777777777777778, \"#fb9f3a\"], [0.8888888888888888, \"#fdca26\"], [1.0, \"#f0f921\"]], \"type\": \"heatmapgl\"}], \"histogram\": [{\"marker\": {\"colorbar\": {\"outlinewidth\": 0, \"ticks\": \"\"}}, \"type\": \"histogram\"}], \"histogram2d\": [{\"colorbar\": {\"outlinewidth\": 0, \"ticks\": \"\"}, \"colorscale\": [[0.0, \"#0d0887\"], [0.1111111111111111, \"#46039f\"], [0.2222222222222222, \"#7201a8\"], [0.3333333333333333, \"#9c179e\"], [0.4444444444444444, \"#bd3786\"], [0.5555555555555556, \"#d8576b\"], [0.6666666666666666, \"#ed7953\"], [0.7777777777777778, \"#fb9f3a\"], [0.8888888888888888, \"#fdca26\"], [1.0, \"#f0f921\"]], \"type\": \"histogram2d\"}], \"histogram2dcontour\": [{\"colorbar\": {\"outlinewidth\": 0, \"ticks\": \"\"}, \"colorscale\": [[0.0, \"#0d0887\"], [0.1111111111111111, \"#46039f\"], [0.2222222222222222, \"#7201a8\"], [0.3333333333333333, \"#9c179e\"], [0.4444444444444444, \"#bd3786\"], [0.5555555555555556, \"#d8576b\"], [0.6666666666666666, \"#ed7953\"], [0.7777777777777778, \"#fb9f3a\"], [0.8888888888888888, \"#fdca26\"], [1.0, \"#f0f921\"]], \"type\": \"histogram2dcontour\"}], \"mesh3d\": [{\"colorbar\": {\"outlinewidth\": 0, \"ticks\": \"\"}, \"type\": \"mesh3d\"}], \"parcoords\": [{\"line\": {\"colorbar\": {\"outlinewidth\": 0, \"ticks\": \"\"}}, \"type\": \"parcoords\"}], \"pie\": [{\"automargin\": true, \"type\": \"pie\"}], \"scatter\": [{\"marker\": {\"colorbar\": {\"outlinewidth\": 0, \"ticks\": \"\"}}, \"type\": \"scatter\"}], \"scatter3d\": [{\"line\": {\"colorbar\": {\"outlinewidth\": 0, \"ticks\": \"\"}}, \"marker\": {\"colorbar\": {\"outlinewidth\": 0, \"ticks\": \"\"}}, \"type\": \"scatter3d\"}], \"scattercarpet\": [{\"marker\": {\"colorbar\": {\"outlinewidth\": 0, \"ticks\": \"\"}}, \"type\": \"scattercarpet\"}], \"scattergeo\": [{\"marker\": {\"colorbar\": {\"outlinewidth\": 0, \"ticks\": \"\"}}, \"type\": \"scattergeo\"}], \"scattergl\": [{\"marker\": {\"colorbar\": {\"outlinewidth\": 0, \"ticks\": \"\"}}, \"type\": \"scattergl\"}], \"scattermapbox\": [{\"marker\": {\"colorbar\": {\"outlinewidth\": 0, \"ticks\": \"\"}}, \"type\": \"scattermapbox\"}], \"scatterpolar\": [{\"marker\": {\"colorbar\": {\"outlinewidth\": 0, \"ticks\": \"\"}}, \"type\": \"scatterpolar\"}], \"scatterpolargl\": [{\"marker\": {\"colorbar\": {\"outlinewidth\": 0, \"ticks\": \"\"}}, \"type\": \"scatterpolargl\"}], \"scatterternary\": [{\"marker\": {\"colorbar\": {\"outlinewidth\": 0, \"ticks\": \"\"}}, \"type\": \"scatterternary\"}], \"surface\": [{\"colorbar\": {\"outlinewidth\": 0, \"ticks\": \"\"}, \"colorscale\": [[0.0, \"#0d0887\"], [0.1111111111111111, \"#46039f\"], [0.2222222222222222, \"#7201a8\"], [0.3333333333333333, \"#9c179e\"], [0.4444444444444444, \"#bd3786\"], [0.5555555555555556, \"#d8576b\"], [0.6666666666666666, \"#ed7953\"], [0.7777777777777778, \"#fb9f3a\"], [0.8888888888888888, \"#fdca26\"], [1.0, \"#f0f921\"]], \"type\": \"surface\"}], \"table\": [{\"cells\": {\"fill\": {\"color\": \"#EBF0F8\"}, \"line\": {\"color\": \"white\"}}, \"header\": {\"fill\": {\"color\": \"#C8D4E3\"}, \"line\": {\"color\": \"white\"}}, \"type\": \"table\"}]}, \"layout\": {\"annotationdefaults\": {\"arrowcolor\": \"#2a3f5f\", \"arrowhead\": 0, \"arrowwidth\": 1}, \"coloraxis\": {\"colorbar\": {\"outlinewidth\": 0, \"ticks\": \"\"}}, \"colorscale\": {\"diverging\": [[0, \"#8e0152\"], [0.1, \"#c51b7d\"], [0.2, \"#de77ae\"], [0.3, \"#f1b6da\"], [0.4, \"#fde0ef\"], [0.5, \"#f7f7f7\"], [0.6, \"#e6f5d0\"], [0.7, \"#b8e186\"], [0.8, \"#7fbc41\"], [0.9, \"#4d9221\"], [1, \"#276419\"]], \"sequential\": [[0.0, \"#0d0887\"], [0.1111111111111111, \"#46039f\"], [0.2222222222222222, \"#7201a8\"], [0.3333333333333333, \"#9c179e\"], [0.4444444444444444, \"#bd3786\"], [0.5555555555555556, \"#d8576b\"], [0.6666666666666666, \"#ed7953\"], [0.7777777777777778, \"#fb9f3a\"], [0.8888888888888888, \"#fdca26\"], [1.0, \"#f0f921\"]], \"sequentialminus\": [[0.0, \"#0d0887\"], [0.1111111111111111, \"#46039f\"], [0.2222222222222222, \"#7201a8\"], [0.3333333333333333, \"#9c179e\"], [0.4444444444444444, \"#bd3786\"], [0.5555555555555556, \"#d8576b\"], [0.6666666666666666, \"#ed7953\"], [0.7777777777777778, \"#fb9f3a\"], [0.8888888888888888, \"#fdca26\"], [1.0, \"#f0f921\"]]}, \"colorway\": [\"#636efa\", \"#EF553B\", \"#00cc96\", \"#ab63fa\", \"#FFA15A\", \"#19d3f3\", \"#FF6692\", \"#B6E880\", \"#FF97FF\", \"#FECB52\"], \"font\": {\"color\": \"#2a3f5f\"}, \"geo\": {\"bgcolor\": \"white\", \"lakecolor\": \"white\", \"landcolor\": \"#E5ECF6\", \"showlakes\": true, \"showland\": true, \"subunitcolor\": \"white\"}, \"hoverlabel\": {\"align\": \"left\"}, \"hovermode\": \"closest\", \"mapbox\": {\"style\": \"light\"}, \"paper_bgcolor\": \"white\", \"plot_bgcolor\": \"#E5ECF6\", \"polar\": {\"angularaxis\": {\"gridcolor\": \"white\", \"linecolor\": \"white\", \"ticks\": \"\"}, \"bgcolor\": \"#E5ECF6\", \"radialaxis\": {\"gridcolor\": \"white\", \"linecolor\": \"white\", \"ticks\": \"\"}}, \"scene\": {\"xaxis\": {\"backgroundcolor\": \"#E5ECF6\", \"gridcolor\": \"white\", \"gridwidth\": 2, \"linecolor\": \"white\", \"showbackground\": true, \"ticks\": \"\", \"zerolinecolor\": \"white\"}, \"yaxis\": {\"backgroundcolor\": \"#E5ECF6\", \"gridcolor\": \"white\", \"gridwidth\": 2, \"linecolor\": \"white\", \"showbackground\": true, \"ticks\": \"\", \"zerolinecolor\": \"white\"}, \"zaxis\": {\"backgroundcolor\": \"#E5ECF6\", \"gridcolor\": \"white\", \"gridwidth\": 2, \"linecolor\": \"white\", \"showbackground\": true, \"ticks\": \"\", \"zerolinecolor\": \"white\"}}, \"shapedefaults\": {\"line\": {\"color\": \"#2a3f5f\"}}, \"ternary\": {\"aaxis\": {\"gridcolor\": \"white\", \"linecolor\": \"white\", \"ticks\": \"\"}, \"baxis\": {\"gridcolor\": \"white\", \"linecolor\": \"white\", \"ticks\": \"\"}, \"bgcolor\": \"#E5ECF6\", \"caxis\": {\"gridcolor\": \"white\", \"linecolor\": \"white\", \"ticks\": \"\"}}, \"title\": {\"x\": 0.05}, \"xaxis\": {\"automargin\": true, \"gridcolor\": \"white\", \"linecolor\": \"white\", \"ticks\": \"\", \"title\": {\"standoff\": 15}, \"zerolinecolor\": \"white\", \"zerolinewidth\": 2}, \"yaxis\": {\"automargin\": true, \"gridcolor\": \"white\", \"linecolor\": \"white\", \"ticks\": \"\", \"title\": {\"standoff\": 15}, \"zerolinecolor\": \"white\", \"zerolinewidth\": 2}}}, \"title\": {\"text\": \"Classement des films en fonction des dates de sortie et de leur notes\"}, \"xaxis\": {\"anchor\": \"y\", \"domain\": [0.0, 1.0], \"title\": {\"text\": \"date\"}}, \"yaxis\": {\"anchor\": \"x\", \"domain\": [0.0, 1.0], \"title\": {\"text\": \"rate\"}}},\n",
              "                        {\"responsive\": true}\n",
              "                    ).then(function(){\n",
              "                            \n",
              "var gd = document.getElementById('331aa90c-ea74-469e-841e-de18791ed234');\n",
              "var x = new MutationObserver(function (mutations, observer) {{\n",
              "        var display = window.getComputedStyle(gd).display;\n",
              "        if (!display || display === 'none') {{\n",
              "            console.log([gd, 'removed!']);\n",
              "            Plotly.purge(gd);\n",
              "            observer.disconnect();\n",
              "        }}\n",
              "}});\n",
              "\n",
              "// Listen for the removal of the full notebook cells\n",
              "var notebookContainer = gd.closest('#notebook-container');\n",
              "if (notebookContainer) {{\n",
              "    x.observe(notebookContainer, {childList: true});\n",
              "}}\n",
              "\n",
              "// Listen for the clearing of the current output cell\n",
              "var outputEl = gd.closest('.output');\n",
              "if (outputEl) {{\n",
              "    x.observe(outputEl, {childList: true});\n",
              "}}\n",
              "\n",
              "                        })\n",
              "                };\n",
              "                \n",
              "            </script>\n",
              "        </div>\n",
              "</body>\n",
              "</html>"
            ]
          },
          "metadata": {
            "tags": []
          }
        }
      ]
    },
    {
      "cell_type": "markdown",
      "metadata": {
        "id": "oyTMfQMDW6gT"
      },
      "source": [
        "# **Scrapping du site imdb**"
      ]
    },
    {
      "cell_type": "code",
      "metadata": {
        "id": "9V2d9FHWXPAL"
      },
      "source": [
        "url='https://www.imdb.com/chart/top?pf_rd_m=A2FGELUUNOQJNL&pf_rd_p=4da9d9a5-d299-43f2-9c53-f0efa18182cd&pf_rd_r=DXK1EZW4ERJKM9CNKEVD&pf_rd_s=right-4&pf_rd_t=15506&pf_rd_i=moviemeter&ref_=chtmvm_ql_3'"
      ],
      "execution_count": 206,
      "outputs": []
    },
    {
      "cell_type": "markdown",
      "metadata": {
        "id": "HV-ZqxF5XPAO"
      },
      "source": [
        "## **Obtenir les titres**\n"
      ]
    },
    {
      "cell_type": "code",
      "metadata": {
        "id": "TbzQbWrnXPAP"
      },
      "source": [
        "def get_title(link):\n",
        "    html = requests.get(url)\n",
        "    soup = BeautifulSoup(html.text)\n",
        "    all_title=[]\n",
        "    all_title_div = soup.find_all(\"td\", { \"class\" : \"titleColumn\"})\n",
        "    for liste in all_title_div:\n",
        "        title=(liste.a.text)\n",
        "        all_title.append(title)\n",
        "    return all_title\n"
      ],
      "execution_count": 207,
      "outputs": []
    },
    {
      "cell_type": "code",
      "metadata": {
        "id": "JJGBM4oSXPAR"
      },
      "source": [
        "all_title=get_title(url)"
      ],
      "execution_count": 208,
      "outputs": []
    },
    {
      "cell_type": "code",
      "metadata": {
        "id": "4l9CPB38XPAS"
      },
      "source": [
        "all_title=all_title[:100]"
      ],
      "execution_count": 209,
      "outputs": []
    },
    {
      "cell_type": "code",
      "metadata": {
        "colab": {
          "base_uri": "https://localhost:8080/"
        },
        "id": "KqeqNHxJXPAU",
        "outputId": "d509edce-1379-49a2-efc2-afe53ae3c9ed"
      },
      "source": [
        "len(all_title)"
      ],
      "execution_count": 210,
      "outputs": [
        {
          "output_type": "execute_result",
          "data": {
            "text/plain": [
              "100"
            ]
          },
          "metadata": {
            "tags": []
          },
          "execution_count": 210
        }
      ]
    },
    {
      "cell_type": "markdown",
      "metadata": {
        "id": "PbnEh6xhXPAX"
      },
      "source": [
        "## **Obtenir les dates**"
      ]
    },
    {
      "cell_type": "code",
      "metadata": {
        "id": "6hNiphPUXPAY"
      },
      "source": [
        "def get_date(link):\n",
        "    html = requests.get(url)\n",
        "    soup = BeautifulSoup(html.text)\n",
        "    all_date=[]\n",
        "    all_date_div = soup.find_all(\"td\", { \"class\" : \"titleColumn\"})\n",
        "    for date_l in all_date_div:\n",
        "        date=(date_l.span.text)\n",
        "        all_date.append(date)\n",
        "    return all_date\n"
      ],
      "execution_count": 211,
      "outputs": []
    },
    {
      "cell_type": "code",
      "metadata": {
        "id": "nRQnVg4KXPAb"
      },
      "source": [
        "all_date=get_date(url)"
      ],
      "execution_count": 212,
      "outputs": []
    },
    {
      "cell_type": "code",
      "metadata": {
        "id": "AMznNMpqXPAd"
      },
      "source": [
        "all_date=all_date[:100]"
      ],
      "execution_count": 213,
      "outputs": []
    },
    {
      "cell_type": "code",
      "metadata": {
        "colab": {
          "base_uri": "https://localhost:8080/"
        },
        "id": "HrlVbQ0bXPAf",
        "outputId": "f3bd781d-336e-464b-9160-fc9c085c2a41"
      },
      "source": [
        "len(all_date)"
      ],
      "execution_count": 214,
      "outputs": [
        {
          "output_type": "execute_result",
          "data": {
            "text/plain": [
              "100"
            ]
          },
          "metadata": {
            "tags": []
          },
          "execution_count": 214
        }
      ]
    },
    {
      "cell_type": "markdown",
      "metadata": {
        "id": "EeLjX6kpXPAg"
      },
      "source": [
        "## **Obtenir les notes**"
      ]
    },
    {
      "cell_type": "code",
      "metadata": {
        "id": "RRvCoCzPXPAi"
      },
      "source": [
        "def get_rate(link):\n",
        "    html = requests.get(url)\n",
        "    soup = BeautifulSoup(html.text)\n",
        "    all_rate=[]\n",
        "    all_rate_div = soup.find_all(\"td\", { \"class\" : \"ratingColumn imdbRating\"})\n",
        "    for rate_l in all_rate_div:\n",
        "        rate=(rate_l.strong.text)\n",
        "        all_rate.append(rate)\n",
        "    return all_rate"
      ],
      "execution_count": 215,
      "outputs": []
    },
    {
      "cell_type": "code",
      "metadata": {
        "id": "RTjEFko1XPAj"
      },
      "source": [
        "all_rate=get_rate(url)"
      ],
      "execution_count": 216,
      "outputs": []
    },
    {
      "cell_type": "code",
      "metadata": {
        "id": "zaezRvGtXPAk"
      },
      "source": [
        "all_rate=all_rate[:100]"
      ],
      "execution_count": 217,
      "outputs": []
    },
    {
      "cell_type": "markdown",
      "metadata": {
        "id": "t4KEsgGTXPAl"
      },
      "source": [
        "## **Obtenir tous les liens des films**"
      ]
    },
    {
      "cell_type": "code",
      "metadata": {
        "id": "kkvkPnYWXPAn"
      },
      "source": [
        "def get_link(link):\n",
        "    html = requests.get(url)\n",
        "    soup = BeautifulSoup(html.text)\n",
        "    all_link=[]\n",
        "    all_link_div = soup.find_all(\"td\", { \"class\" : \"titleColumn\"})\n",
        "    for link_l in all_link_div:\n",
        "        link=(link_l.a[\"href\"])\n",
        "        all_link.append(link)\n",
        "    all_link=all_link[:100]\n",
        "    all_url=[]\n",
        "    i=0\n",
        "    while i < len(all_link):\n",
        "        all_url.append(\"https://www.imdb.com\"+all_link[i])\n",
        "        i+=1\n",
        "\n",
        "    return all_url"
      ],
      "execution_count": 218,
      "outputs": []
    },
    {
      "cell_type": "code",
      "metadata": {
        "id": "YY9kK9dcXPAp"
      },
      "source": [
        "all_url=get_link(url)"
      ],
      "execution_count": 219,
      "outputs": []
    },
    {
      "cell_type": "code",
      "metadata": {
        "colab": {
          "base_uri": "https://localhost:8080/"
        },
        "id": "4YutkLn0cROs",
        "outputId": "ef334202-9b83-4a51-8715-6de91ae64535"
      },
      "source": [
        "len(all_url)"
      ],
      "execution_count": 220,
      "outputs": [
        {
          "output_type": "execute_result",
          "data": {
            "text/plain": [
              "100"
            ]
          },
          "metadata": {
            "tags": []
          },
          "execution_count": 220
        }
      ]
    },
    {
      "cell_type": "markdown",
      "metadata": {
        "id": "ucruk802XPAq"
      },
      "source": [
        "## **Obtenir tous les réalisateur**"
      ]
    },
    {
      "cell_type": "code",
      "metadata": {
        "id": "Z9e2f2C8XPAt"
      },
      "source": [
        "def get_director(link):\n",
        "    all_director=[]\n",
        "    for links in link:\n",
        "        html = requests.get(links)\n",
        "        soup = BeautifulSoup(html.text)\n",
        "       \n",
        "        all_direc_div = soup.find_all(\"a\", { \"class\" : \"ipc-metadata-list-item__list-content-item ipc-metadata-list-item__list-content-item--link\"})[0].text\n",
        "        all_director.append(all_direc_div)\n",
        "        \n",
        "    return all_director"
      ],
      "execution_count": 221,
      "outputs": []
    },
    {
      "cell_type": "code",
      "metadata": {
        "id": "sUyxbuTXXPAu"
      },
      "source": [
        "all_director=get_director(all_url)"
      ],
      "execution_count": 222,
      "outputs": []
    },
    {
      "cell_type": "code",
      "metadata": {
        "colab": {
          "base_uri": "https://localhost:8080/"
        },
        "id": "dXOjFjI4cTw5",
        "outputId": "2ea20221-e5de-4417-8c48-03e9aeb0d623"
      },
      "source": [
        "len(all_director)"
      ],
      "execution_count": 223,
      "outputs": [
        {
          "output_type": "execute_result",
          "data": {
            "text/plain": [
              "100"
            ]
          },
          "metadata": {
            "tags": []
          },
          "execution_count": 223
        }
      ]
    },
    {
      "cell_type": "markdown",
      "metadata": {
        "id": "0HF8qKYCXPAu"
      },
      "source": [
        "## **Obtenir tous les genres**"
      ]
    },
    {
      "cell_type": "code",
      "metadata": {
        "id": "zSXcKYwZXPAw"
      },
      "source": [
        "def get_genres(link):\n",
        "    all_genres=[]\n",
        "    for links in link:\n",
        "        html = requests.get(links)\n",
        "        soup = BeautifulSoup(html.text)\n",
        "        all_genre_div = soup.find_all(\"span\", { \"class\" : \"ipc-chip__text\"})[0].text\n",
        "       \n",
        "        all_genres.append(all_genre_div)\n",
        "        \n",
        "    return all_genres"
      ],
      "execution_count": 224,
      "outputs": []
    },
    {
      "cell_type": "code",
      "metadata": {
        "id": "UuOqsv0MXPAw"
      },
      "source": [
        "all_genres=get_genres(all_url)"
      ],
      "execution_count": 225,
      "outputs": []
    },
    {
      "cell_type": "code",
      "metadata": {
        "colab": {
          "base_uri": "https://localhost:8080/"
        },
        "id": "0xvZAIJEcXzE",
        "outputId": "3d139b6d-00bf-4d73-a526-0a114f4ace4f"
      },
      "source": [
        "len(all_genres)"
      ],
      "execution_count": 226,
      "outputs": [
        {
          "output_type": "execute_result",
          "data": {
            "text/plain": [
              "100"
            ]
          },
          "metadata": {
            "tags": []
          },
          "execution_count": 226
        }
      ]
    },
    {
      "cell_type": "markdown",
      "metadata": {
        "id": "KxsUSCcIXPAx"
      },
      "source": [
        "## **Obtenir le budget**"
      ]
    },
    {
      "cell_type": "code",
      "metadata": {
        "colab": {
          "base_uri": "https://localhost:8080/"
        },
        "id": "rapzNpnwXPAx",
        "outputId": "864ec745-0cdd-45e2-cc21-427f123151b1"
      },
      "source": [
        "pip install scrapy"
      ],
      "execution_count": 227,
      "outputs": [
        {
          "output_type": "stream",
          "text": [
            "Requirement already satisfied: scrapy in /usr/local/lib/python3.7/dist-packages (2.5.0)\n",
            "Requirement already satisfied: cryptography>=2.0 in /usr/local/lib/python3.7/dist-packages (from scrapy) (3.4.7)\n",
            "Requirement already satisfied: h2<4.0,>=3.0 in /usr/local/lib/python3.7/dist-packages (from scrapy) (3.2.0)\n",
            "Requirement already satisfied: Twisted[http2]>=17.9.0 in /usr/local/lib/python3.7/dist-packages (from scrapy) (21.2.0)\n",
            "Requirement already satisfied: protego>=0.1.15 in /usr/local/lib/python3.7/dist-packages (from scrapy) (0.1.16)\n",
            "Requirement already satisfied: itemloaders>=1.0.1 in /usr/local/lib/python3.7/dist-packages (from scrapy) (1.0.4)\n",
            "Requirement already satisfied: parsel>=1.5.0 in /usr/local/lib/python3.7/dist-packages (from scrapy) (1.6.0)\n",
            "Requirement already satisfied: zope.interface>=4.1.3 in /usr/local/lib/python3.7/dist-packages (from scrapy) (5.4.0)\n",
            "Requirement already satisfied: lxml>=3.5.0; platform_python_implementation == \"CPython\" in /usr/local/lib/python3.7/dist-packages (from scrapy) (4.2.6)\n",
            "Requirement already satisfied: PyDispatcher>=2.0.5; platform_python_implementation == \"CPython\" in /usr/local/lib/python3.7/dist-packages (from scrapy) (2.0.5)\n",
            "Requirement already satisfied: queuelib>=1.4.2 in /usr/local/lib/python3.7/dist-packages (from scrapy) (1.6.1)\n",
            "Requirement already satisfied: service-identity>=16.0.0 in /usr/local/lib/python3.7/dist-packages (from scrapy) (21.1.0)\n",
            "Requirement already satisfied: w3lib>=1.17.0 in /usr/local/lib/python3.7/dist-packages (from scrapy) (1.22.0)\n",
            "Requirement already satisfied: itemadapter>=0.1.0 in /usr/local/lib/python3.7/dist-packages (from scrapy) (0.2.0)\n",
            "Requirement already satisfied: pyOpenSSL>=16.2.0 in /usr/local/lib/python3.7/dist-packages (from scrapy) (20.0.1)\n",
            "Requirement already satisfied: cssselect>=0.9.1 in /usr/local/lib/python3.7/dist-packages (from scrapy) (1.1.0)\n",
            "Requirement already satisfied: cffi>=1.12 in /usr/local/lib/python3.7/dist-packages (from cryptography>=2.0->scrapy) (1.14.5)\n",
            "Requirement already satisfied: hpack<4,>=3.0 in /usr/local/lib/python3.7/dist-packages (from h2<4.0,>=3.0->scrapy) (3.0.0)\n",
            "Requirement already satisfied: hyperframe<6,>=5.2.0 in /usr/local/lib/python3.7/dist-packages (from h2<4.0,>=3.0->scrapy) (5.2.0)\n",
            "Requirement already satisfied: incremental>=16.10.1 in /usr/local/lib/python3.7/dist-packages (from Twisted[http2]>=17.9.0->scrapy) (21.3.0)\n",
            "Requirement already satisfied: Automat>=0.8.0 in /usr/local/lib/python3.7/dist-packages (from Twisted[http2]>=17.9.0->scrapy) (20.2.0)\n",
            "Requirement already satisfied: constantly>=15.1 in /usr/local/lib/python3.7/dist-packages (from Twisted[http2]>=17.9.0->scrapy) (15.1.0)\n",
            "Requirement already satisfied: hyperlink>=17.1.1 in /usr/local/lib/python3.7/dist-packages (from Twisted[http2]>=17.9.0->scrapy) (21.0.0)\n",
            "Requirement already satisfied: attrs>=19.2.0 in /usr/local/lib/python3.7/dist-packages (from Twisted[http2]>=17.9.0->scrapy) (21.2.0)\n",
            "Requirement already satisfied: priority<2.0,>=1.1.0; extra == \"http2\" in /usr/local/lib/python3.7/dist-packages (from Twisted[http2]>=17.9.0->scrapy) (1.3.0)\n",
            "Requirement already satisfied: six in /usr/local/lib/python3.7/dist-packages (from protego>=0.1.15->scrapy) (1.15.0)\n",
            "Requirement already satisfied: jmespath>=0.9.5 in /usr/local/lib/python3.7/dist-packages (from itemloaders>=1.0.1->scrapy) (0.10.0)\n",
            "Requirement already satisfied: setuptools in /usr/local/lib/python3.7/dist-packages (from zope.interface>=4.1.3->scrapy) (56.1.0)\n",
            "Requirement already satisfied: pyasn1 in /usr/local/lib/python3.7/dist-packages (from service-identity>=16.0.0->scrapy) (0.4.8)\n",
            "Requirement already satisfied: pyasn1-modules in /usr/local/lib/python3.7/dist-packages (from service-identity>=16.0.0->scrapy) (0.2.8)\n",
            "Requirement already satisfied: pycparser in /usr/local/lib/python3.7/dist-packages (from cffi>=1.12->cryptography>=2.0->scrapy) (2.20)\n",
            "Requirement already satisfied: idna>=2.5 in /usr/local/lib/python3.7/dist-packages (from hyperlink>=17.1.1->Twisted[http2]>=17.9.0->scrapy) (2.10)\n"
          ],
          "name": "stdout"
        }
      ]
    },
    {
      "cell_type": "code",
      "metadata": {
        "id": "EBJxTfwwXPAz"
      },
      "source": [
        "def get_budget(link):\n",
        "    from scrapy import Selector\n",
        "    all_budget=[]\n",
        "    for links in link:\n",
        "        res = requests.get(links)\n",
        "        sel = Selector(res)\n",
        "        budget = ' '.join(sel.css(\".txt-block:contains('Budget')::text\").extract()).strip()\n",
        "        all_budget.append(budget)\n",
        "    return all_budget"
      ],
      "execution_count": 228,
      "outputs": []
    },
    {
      "cell_type": "code",
      "metadata": {
        "id": "iW1wriXHXPAz"
      },
      "source": [
        "all_budget=get_budget(all_url)"
      ],
      "execution_count": 229,
      "outputs": []
    },
    {
      "cell_type": "code",
      "metadata": {
        "colab": {
          "base_uri": "https://localhost:8080/"
        },
        "id": "dB7ft6vVcdpo",
        "outputId": "c04e4d07-d3cd-4c8e-ccad-5628ef517771"
      },
      "source": [
        "len(all_budget)"
      ],
      "execution_count": 230,
      "outputs": [
        {
          "output_type": "execute_result",
          "data": {
            "text/plain": [
              "100"
            ]
          },
          "metadata": {
            "tags": []
          },
          "execution_count": 230
        }
      ]
    },
    {
      "cell_type": "markdown",
      "metadata": {
        "id": "hrL5fBEvXPAz"
      },
      "source": [
        "## **Obtenir la durée des films**"
      ]
    },
    {
      "cell_type": "code",
      "metadata": {
        "id": "joiuP3xSXPA0"
      },
      "source": [
        "def get_time(link):\n",
        "    import re\n",
        "    all_time=[]\n",
        "    for links in link:\n",
        "        html = requests.get(links)\n",
        "        soup = BeautifulSoup(html.text)\n",
        "        all_time_div = soup.find_all(\"li\",{\"class\":\"ipc-inline-list__item\"})[2].text\n",
        "        all_time.append(all_time_div)\n",
        "        \n",
        "    i=0\n",
        "    all_time2=[]\n",
        "    all_time3=[]\n",
        "    while i < len(all_time):\n",
        "        s=all_time[i]\n",
        "        regex = re.compile(r'[\\n\\r\\t]')\n",
        "        s = regex.sub(\" \", s)\n",
        "        all_time2.append(s)\n",
        "        j=all_time2[i].replace(\" \",\"\")\n",
        "        all_time3.append(j)\n",
        "        i+=1        \n",
        "    return all_time3"
      ],
      "execution_count": 231,
      "outputs": []
    },
    {
      "cell_type": "code",
      "metadata": {
        "id": "kRkkAVNwXPA0"
      },
      "source": [
        "all_time=get_time(all_url)"
      ],
      "execution_count": 232,
      "outputs": []
    },
    {
      "cell_type": "code",
      "metadata": {
        "colab": {
          "base_uri": "https://localhost:8080/"
        },
        "id": "LOlizF7AchDD",
        "outputId": "1b9c2e54-1178-4427-eb20-e55f2a199251"
      },
      "source": [
        "len(all_time)"
      ],
      "execution_count": 233,
      "outputs": [
        {
          "output_type": "execute_result",
          "data": {
            "text/plain": [
              "100"
            ]
          },
          "metadata": {
            "tags": []
          },
          "execution_count": 233
        }
      ]
    },
    {
      "cell_type": "markdown",
      "metadata": {
        "id": "-7nynxhgXPA1"
      },
      "source": [
        "## **Obtenir tous les acteurs principaux**"
      ]
    },
    {
      "cell_type": "code",
      "metadata": {
        "id": "nvHCQ6hXXPA1"
      },
      "source": [
        "def get_actors(link):\n",
        "    all_actor_f=[]\n",
        "    for links in link:\n",
        "        all_actor=[]\n",
        "        html = requests.get(links)\n",
        "        soup = BeautifulSoup(html.text)\n",
        "        all_actor_div1 = soup.find_all(\"a\", { \"class\" : \"ipc-metadata-list-item__list-content-item ipc-metadata-list-item__list-content-item--link\"})[3].text\n",
        "        all_actor_div2 = soup.find_all(\"a\", { \"class\" : \"ipc-metadata-list-item__list-content-item ipc-metadata-list-item__list-content-item--link\"})[4].text\n",
        "        all_actor_div3 = soup.find_all(\"a\", { \"class\" : \"ipc-metadata-list-item__list-content-item ipc-metadata-list-item__list-content-item--link\"})[5].text\n",
        "        all_actor.append(all_actor_div1)\n",
        "        all_actor.append(all_actor_div2) \n",
        "        all_actor.append(all_actor_div3)\n",
        "        all_actor_f.append(all_actor)\n",
        "        \n",
        "       \n",
        "    return all_actor_f"
      ],
      "execution_count": 234,
      "outputs": []
    },
    {
      "cell_type": "code",
      "metadata": {
        "id": "Vfzss57eXPA2"
      },
      "source": [
        "all_actor=get_actors(all_url)"
      ],
      "execution_count": 235,
      "outputs": []
    },
    {
      "cell_type": "code",
      "metadata": {
        "colab": {
          "base_uri": "https://localhost:8080/"
        },
        "id": "9lCaL8HYcmD1",
        "outputId": "a394d279-0123-4348-989e-08663f2dcb00"
      },
      "source": [
        "len(all_actor)"
      ],
      "execution_count": 236,
      "outputs": [
        {
          "output_type": "execute_result",
          "data": {
            "text/plain": [
              "100"
            ]
          },
          "metadata": {
            "tags": []
          },
          "execution_count": 236
        }
      ]
    },
    {
      "cell_type": "markdown",
      "metadata": {
        "id": "w5wiIGXykTn-"
      },
      "source": [
        "## **Obtenir les description**"
      ]
    },
    {
      "cell_type": "code",
      "metadata": {
        "id": "ZZnZ71HcXPA2"
      },
      "source": [
        "def get_des(link):\n",
        "    all_des=[]\n",
        "    for links in link:\n",
        "        html = requests.get(links)\n",
        "        soup = BeautifulSoup(html.text)\n",
        "        all_des_div = soup.find_all(\"div\", { \"class\" : \"GenresAndPlot__TextContainerBreakpointM-cum89p-2 iJnWgZ\"})\n",
        "        for liste_des in all_des_div:\n",
        "                des=(liste_des.text)\n",
        "                all_des.append(des)\n",
        "                \n",
        "    return all_des"
      ],
      "execution_count": 237,
      "outputs": []
    },
    {
      "cell_type": "code",
      "metadata": {
        "id": "RhKI9wO4XPA3"
      },
      "source": [
        "all_des=get_des(all_url)"
      ],
      "execution_count": 238,
      "outputs": []
    },
    {
      "cell_type": "code",
      "metadata": {
        "colab": {
          "base_uri": "https://localhost:8080/"
        },
        "id": "_HTV7I7acor1",
        "outputId": "679729f0-289c-4ac3-c09e-ec5062e98bba"
      },
      "source": [
        "len(all_des)"
      ],
      "execution_count": 239,
      "outputs": [
        {
          "output_type": "execute_result",
          "data": {
            "text/plain": [
              "100"
            ]
          },
          "metadata": {
            "tags": []
          },
          "execution_count": 239
        }
      ]
    },
    {
      "cell_type": "markdown",
      "metadata": {
        "id": "QhPikv-vXPA4"
      },
      "source": [
        "## **Création du dataset**"
      ]
    },
    {
      "cell_type": "code",
      "metadata": {
        "id": "sr9Ov120eDRq"
      },
      "source": [
        "import pandas as pd\n",
        "import numpy as np\n",
        "import matplotlib.pyplot as plt\n",
        "import seaborn as sns\n"
      ],
      "execution_count": 240,
      "outputs": []
    },
    {
      "cell_type": "code",
      "metadata": {
        "id": "se3M-gVrXPA5"
      },
      "source": [
        "df = pd.DataFrame({\"titre\": all_title, \"date\": all_date,\"rate\":all_rate, \"lien\":all_url,\"réalisateur\":all_director,\"genres\":all_genres,\"durée\":all_time,\"acteur\":all_actor,\"budget\":all_budget,\"description\":all_des})"
      ],
      "execution_count": 241,
      "outputs": []
    },
    {
      "cell_type": "code",
      "metadata": {
        "colab": {
          "base_uri": "https://localhost:8080/",
          "height": 615
        },
        "id": "qO3BQRSCXPA6",
        "outputId": "7e4eeb97-857b-488f-aba4-8f6ff6e8be6e"
      },
      "source": [
        "df"
      ],
      "execution_count": 242,
      "outputs": [
        {
          "output_type": "execute_result",
          "data": {
            "text/html": [
              "<div>\n",
              "<style scoped>\n",
              "    .dataframe tbody tr th:only-of-type {\n",
              "        vertical-align: middle;\n",
              "    }\n",
              "\n",
              "    .dataframe tbody tr th {\n",
              "        vertical-align: top;\n",
              "    }\n",
              "\n",
              "    .dataframe thead th {\n",
              "        text-align: right;\n",
              "    }\n",
              "</style>\n",
              "<table border=\"1\" class=\"dataframe\">\n",
              "  <thead>\n",
              "    <tr style=\"text-align: right;\">\n",
              "      <th></th>\n",
              "      <th>titre</th>\n",
              "      <th>date</th>\n",
              "      <th>rate</th>\n",
              "      <th>lien</th>\n",
              "      <th>réalisateur</th>\n",
              "      <th>genres</th>\n",
              "      <th>durée</th>\n",
              "      <th>acteur</th>\n",
              "      <th>budget</th>\n",
              "      <th>description</th>\n",
              "    </tr>\n",
              "  </thead>\n",
              "  <tbody>\n",
              "    <tr>\n",
              "      <th>0</th>\n",
              "      <td>The Shawshank Redemption</td>\n",
              "      <td>(1994)</td>\n",
              "      <td>9.2</td>\n",
              "      <td>https://www.imdb.com/title/tt0111161/</td>\n",
              "      <td>Frank Darabont</td>\n",
              "      <td>Drama</td>\n",
              "      <td>2h22min</td>\n",
              "      <td>[Tim Robbins, Morgan Freeman, Bob Gunton]</td>\n",
              "      <td></td>\n",
              "      <td>Two imprisoned men bond over a number of years...</td>\n",
              "    </tr>\n",
              "    <tr>\n",
              "      <th>1</th>\n",
              "      <td>The Godfather</td>\n",
              "      <td>(1972)</td>\n",
              "      <td>9.1</td>\n",
              "      <td>https://www.imdb.com/title/tt0068646/</td>\n",
              "      <td>Francis Ford Coppola</td>\n",
              "      <td>Crime</td>\n",
              "      <td>2h55min</td>\n",
              "      <td>[Marlon Brando, Al Pacino, James Caan]</td>\n",
              "      <td></td>\n",
              "      <td>An organized crime dynasty's aging patriarch t...</td>\n",
              "    </tr>\n",
              "    <tr>\n",
              "      <th>2</th>\n",
              "      <td>The Godfather: Part II</td>\n",
              "      <td>(1974)</td>\n",
              "      <td>9.0</td>\n",
              "      <td>https://www.imdb.com/title/tt0071562/</td>\n",
              "      <td>Francis Ford Coppola</td>\n",
              "      <td>Crime</td>\n",
              "      <td>3h22min</td>\n",
              "      <td>[Al Pacino, Robert De Niro, Robert Duvall]</td>\n",
              "      <td></td>\n",
              "      <td>The early life and career of Vito Corleone in ...</td>\n",
              "    </tr>\n",
              "    <tr>\n",
              "      <th>3</th>\n",
              "      <td>The Dark Knight</td>\n",
              "      <td>(2008)</td>\n",
              "      <td>9.0</td>\n",
              "      <td>https://www.imdb.com/title/tt0468569/</td>\n",
              "      <td>Christopher Nolan</td>\n",
              "      <td>Action</td>\n",
              "      <td>2h32min</td>\n",
              "      <td>[David S. Goyer, Christian Bale, Heath Ledger]</td>\n",
              "      <td></td>\n",
              "      <td>When the menace known as the Joker wreaks havo...</td>\n",
              "    </tr>\n",
              "    <tr>\n",
              "      <th>4</th>\n",
              "      <td>12 Angry Men</td>\n",
              "      <td>(1957)</td>\n",
              "      <td>8.9</td>\n",
              "      <td>https://www.imdb.com/title/tt0050083/</td>\n",
              "      <td>Sidney Lumet</td>\n",
              "      <td>Crime</td>\n",
              "      <td>1h36min</td>\n",
              "      <td>[Lee J. Cobb, Martin Balsam, Sidney Lumet]</td>\n",
              "      <td></td>\n",
              "      <td>A jury holdout attempts to prevent a miscarria...</td>\n",
              "    </tr>\n",
              "    <tr>\n",
              "      <th>...</th>\n",
              "      <td>...</td>\n",
              "      <td>...</td>\n",
              "      <td>...</td>\n",
              "      <td>...</td>\n",
              "      <td>...</td>\n",
              "      <td>...</td>\n",
              "      <td>...</td>\n",
              "      <td>...</td>\n",
              "      <td>...</td>\n",
              "      <td>...</td>\n",
              "    </tr>\n",
              "    <tr>\n",
              "      <th>95</th>\n",
              "      <td>Singin' in the Rain</td>\n",
              "      <td>(1952)</td>\n",
              "      <td>8.3</td>\n",
              "      <td>https://www.imdb.com/title/tt0045152/</td>\n",
              "      <td>Stanley Donen</td>\n",
              "      <td>Comedy</td>\n",
              "      <td>1h43min</td>\n",
              "      <td>[Adolph Green, Gene Kelly, Donald O'Connor]</td>\n",
              "      <td></td>\n",
              "      <td>A silent film production company and cast make...</td>\n",
              "    </tr>\n",
              "    <tr>\n",
              "      <th>96</th>\n",
              "      <td>North by Northwest</td>\n",
              "      <td>(1959)</td>\n",
              "      <td>8.3</td>\n",
              "      <td>https://www.imdb.com/title/tt0053125/</td>\n",
              "      <td>Alfred Hitchcock</td>\n",
              "      <td>Adventure</td>\n",
              "      <td>2h16min</td>\n",
              "      <td>[Eva Marie Saint, James Mason, Alfred Hitchcock]</td>\n",
              "      <td></td>\n",
              "      <td>A New York City advertising executive goes on ...</td>\n",
              "    </tr>\n",
              "    <tr>\n",
              "      <th>97</th>\n",
              "      <td>Eternal Sunshine of the Spotless Mind</td>\n",
              "      <td>(2004)</td>\n",
              "      <td>8.3</td>\n",
              "      <td>https://www.imdb.com/title/tt0338013/</td>\n",
              "      <td>Michel Gondry</td>\n",
              "      <td>Drama</td>\n",
              "      <td>1h48min</td>\n",
              "      <td>[Pierre Bismuth, Jim Carrey, Kate Winslet]</td>\n",
              "      <td></td>\n",
              "      <td>When their relationship turns sour, a couple u...</td>\n",
              "    </tr>\n",
              "    <tr>\n",
              "      <th>98</th>\n",
              "      <td>Come and See</td>\n",
              "      <td>(1985)</td>\n",
              "      <td>8.3</td>\n",
              "      <td>https://www.imdb.com/title/tt0091251/</td>\n",
              "      <td>Elem Klimov</td>\n",
              "      <td>Drama</td>\n",
              "      <td>2h22min</td>\n",
              "      <td>[Aleksey Kravchenko, Olga Mironova, Liubomiras...</td>\n",
              "      <td></td>\n",
              "      <td>After finding an old rifle, a young boy joins ...</td>\n",
              "    </tr>\n",
              "    <tr>\n",
              "      <th>99</th>\n",
              "      <td>Bicycle Thieves</td>\n",
              "      <td>(1948)</td>\n",
              "      <td>8.3</td>\n",
              "      <td>https://www.imdb.com/title/tt0040522/</td>\n",
              "      <td>Vittorio De Sica</td>\n",
              "      <td>Drama</td>\n",
              "      <td>1h29min</td>\n",
              "      <td>[Oreste Biancoli, Lamberto Maggiorani, Enzo St...</td>\n",
              "      <td></td>\n",
              "      <td>In post-war Italy, a working-class man's bicyc...</td>\n",
              "    </tr>\n",
              "  </tbody>\n",
              "</table>\n",
              "<p>100 rows × 10 columns</p>\n",
              "</div>"
            ],
            "text/plain": [
              "                                    titre  ...                                        description\n",
              "0                The Shawshank Redemption  ...  Two imprisoned men bond over a number of years...\n",
              "1                           The Godfather  ...  An organized crime dynasty's aging patriarch t...\n",
              "2                  The Godfather: Part II  ...  The early life and career of Vito Corleone in ...\n",
              "3                         The Dark Knight  ...  When the menace known as the Joker wreaks havo...\n",
              "4                            12 Angry Men  ...  A jury holdout attempts to prevent a miscarria...\n",
              "..                                    ...  ...                                                ...\n",
              "95                    Singin' in the Rain  ...  A silent film production company and cast make...\n",
              "96                     North by Northwest  ...  A New York City advertising executive goes on ...\n",
              "97  Eternal Sunshine of the Spotless Mind  ...  When their relationship turns sour, a couple u...\n",
              "98                           Come and See  ...  After finding an old rifle, a young boy joins ...\n",
              "99                        Bicycle Thieves  ...  In post-war Italy, a working-class man's bicyc...\n",
              "\n",
              "[100 rows x 10 columns]"
            ]
          },
          "metadata": {
            "tags": []
          },
          "execution_count": 242
        }
      ]
    },
    {
      "cell_type": "markdown",
      "metadata": {
        "id": "qUBMICdWk8aY"
      },
      "source": [
        "## **Visualisation**"
      ]
    },
    {
      "cell_type": "code",
      "metadata": {
        "id": "25bIjFWTPWVn"
      },
      "source": [
        "classement=[]\n",
        "i=100\n",
        "while i>0:\n",
        "    classement.append(i)\n",
        "    i-=1\n",
        "classement\n",
        "df[\"classement\"]=classement"
      ],
      "execution_count": 243,
      "outputs": []
    },
    {
      "cell_type": "code",
      "metadata": {
        "id": "aeyJIpK-Qtvy"
      },
      "source": [
        "group=df.groupby([\"genres\"]).agg(\n",
        "    Classement=(\"classement\",\"sum\"))"
      ],
      "execution_count": 244,
      "outputs": []
    },
    {
      "cell_type": "code",
      "metadata": {
        "colab": {
          "base_uri": "https://localhost:8080/",
          "height": 394
        },
        "id": "SBr3ROgwQ7CG",
        "outputId": "12bcc0db-7ee8-46ec-8ebd-1024df1ddd79"
      },
      "source": [
        "group"
      ],
      "execution_count": 245,
      "outputs": [
        {
          "output_type": "execute_result",
          "data": {
            "text/html": [
              "<div>\n",
              "<style scoped>\n",
              "    .dataframe tbody tr th:only-of-type {\n",
              "        vertical-align: middle;\n",
              "    }\n",
              "\n",
              "    .dataframe tbody tr th {\n",
              "        vertical-align: top;\n",
              "    }\n",
              "\n",
              "    .dataframe thead th {\n",
              "        text-align: right;\n",
              "    }\n",
              "</style>\n",
              "<table border=\"1\" class=\"dataframe\">\n",
              "  <thead>\n",
              "    <tr style=\"text-align: right;\">\n",
              "      <th></th>\n",
              "      <th>Classement</th>\n",
              "    </tr>\n",
              "    <tr>\n",
              "      <th>genres</th>\n",
              "      <th></th>\n",
              "    </tr>\n",
              "  </thead>\n",
              "  <tbody>\n",
              "    <tr>\n",
              "      <th>Action</th>\n",
              "      <td>1256</td>\n",
              "    </tr>\n",
              "    <tr>\n",
              "      <th>Adventure</th>\n",
              "      <td>196</td>\n",
              "    </tr>\n",
              "    <tr>\n",
              "      <th>Animation</th>\n",
              "      <td>374</td>\n",
              "    </tr>\n",
              "    <tr>\n",
              "      <th>Biography</th>\n",
              "      <td>369</td>\n",
              "    </tr>\n",
              "    <tr>\n",
              "      <th>Comedy</th>\n",
              "      <td>374</td>\n",
              "    </tr>\n",
              "    <tr>\n",
              "      <th>Crime</th>\n",
              "      <td>974</td>\n",
              "    </tr>\n",
              "    <tr>\n",
              "      <th>Drama</th>\n",
              "      <td>1145</td>\n",
              "    </tr>\n",
              "    <tr>\n",
              "      <th>Horror</th>\n",
              "      <td>112</td>\n",
              "    </tr>\n",
              "    <tr>\n",
              "      <th>Mystery</th>\n",
              "      <td>106</td>\n",
              "    </tr>\n",
              "    <tr>\n",
              "      <th>Western</th>\n",
              "      <td>144</td>\n",
              "    </tr>\n",
              "  </tbody>\n",
              "</table>\n",
              "</div>"
            ],
            "text/plain": [
              "           Classement\n",
              "genres               \n",
              "Action           1256\n",
              "Adventure         196\n",
              "Animation         374\n",
              "Biography         369\n",
              "Comedy            374\n",
              "Crime             974\n",
              "Drama            1145\n",
              "Horror            112\n",
              "Mystery           106\n",
              "Western           144"
            ]
          },
          "metadata": {
            "tags": []
          },
          "execution_count": 245
        }
      ]
    },
    {
      "cell_type": "code",
      "metadata": {
        "id": "HoCwbngsUryO"
      },
      "source": [
        "group=group.sort_values(['Classement'], axis = 0, ascending = False)"
      ],
      "execution_count": 246,
      "outputs": []
    },
    {
      "cell_type": "code",
      "metadata": {
        "colab": {
          "base_uri": "https://localhost:8080/",
          "height": 542
        },
        "id": "3BYCq2t5RB5B",
        "outputId": "5386d73a-b08a-4e43-aa32-275d3deadfec"
      },
      "source": [
        "import plotly.express as px\n",
        "data = px.data.gapminder()\n",
        "\n",
        "\n",
        "fig = px.bar(group, x=group[\"Classement\"].index, y=group[\"Classement\"].values,\n",
        "             color=['antiquewhite', 'pink', 'aquamarine', 'green', 'red','aqua','blue','grey','yellow','black'],\n",
        "             )\n",
        "fig.update_layout(title_text='Popularité des genres')\n",
        "fig.show()"
      ],
      "execution_count": 247,
      "outputs": [
        {
          "output_type": "display_data",
          "data": {
            "text/html": [
              "<html>\n",
              "<head><meta charset=\"utf-8\" /></head>\n",
              "<body>\n",
              "    <div>\n",
              "            <script src=\"https://cdnjs.cloudflare.com/ajax/libs/mathjax/2.7.5/MathJax.js?config=TeX-AMS-MML_SVG\"></script><script type=\"text/javascript\">if (window.MathJax) {MathJax.Hub.Config({SVG: {font: \"STIX-Web\"}});}</script>\n",
              "                <script type=\"text/javascript\">window.PlotlyConfig = {MathJaxConfig: 'local'};</script>\n",
              "        <script src=\"https://cdn.plot.ly/plotly-latest.min.js\"></script>    \n",
              "            <div id=\"bdbacbef-32fc-45a0-8a2a-f5f2c5c2fa80\" class=\"plotly-graph-div\" style=\"height:525px; width:100%;\"></div>\n",
              "            <script type=\"text/javascript\">\n",
              "                \n",
              "                    window.PLOTLYENV=window.PLOTLYENV || {};\n",
              "                    \n",
              "                if (document.getElementById(\"bdbacbef-32fc-45a0-8a2a-f5f2c5c2fa80\")) {\n",
              "                    Plotly.newPlot(\n",
              "                        'bdbacbef-32fc-45a0-8a2a-f5f2c5c2fa80',\n",
              "                        [{\"alignmentgroup\": \"True\", \"hoverlabel\": {\"namelength\": 0}, \"hovertemplate\": \"color=antiquewhite<br>x=%{x}<br>y=%{y}\", \"legendgroup\": \"color=antiquewhite\", \"marker\": {\"color\": \"#636efa\"}, \"name\": \"color=antiquewhite\", \"offsetgroup\": \"color=antiquewhite\", \"orientation\": \"v\", \"showlegend\": true, \"textposition\": \"auto\", \"type\": \"bar\", \"x\": [\"Action\"], \"xaxis\": \"x\", \"y\": [1256], \"yaxis\": \"y\"}, {\"alignmentgroup\": \"True\", \"hoverlabel\": {\"namelength\": 0}, \"hovertemplate\": \"color=pink<br>x=%{x}<br>y=%{y}\", \"legendgroup\": \"color=pink\", \"marker\": {\"color\": \"#EF553B\"}, \"name\": \"color=pink\", \"offsetgroup\": \"color=pink\", \"orientation\": \"v\", \"showlegend\": true, \"textposition\": \"auto\", \"type\": \"bar\", \"x\": [\"Drama\"], \"xaxis\": \"x\", \"y\": [1145], \"yaxis\": \"y\"}, {\"alignmentgroup\": \"True\", \"hoverlabel\": {\"namelength\": 0}, \"hovertemplate\": \"color=aquamarine<br>x=%{x}<br>y=%{y}\", \"legendgroup\": \"color=aquamarine\", \"marker\": {\"color\": \"#00cc96\"}, \"name\": \"color=aquamarine\", \"offsetgroup\": \"color=aquamarine\", \"orientation\": \"v\", \"showlegend\": true, \"textposition\": \"auto\", \"type\": \"bar\", \"x\": [\"Crime\"], \"xaxis\": \"x\", \"y\": [974], \"yaxis\": \"y\"}, {\"alignmentgroup\": \"True\", \"hoverlabel\": {\"namelength\": 0}, \"hovertemplate\": \"color=green<br>x=%{x}<br>y=%{y}\", \"legendgroup\": \"color=green\", \"marker\": {\"color\": \"#ab63fa\"}, \"name\": \"color=green\", \"offsetgroup\": \"color=green\", \"orientation\": \"v\", \"showlegend\": true, \"textposition\": \"auto\", \"type\": \"bar\", \"x\": [\"Animation\"], \"xaxis\": \"x\", \"y\": [374], \"yaxis\": \"y\"}, {\"alignmentgroup\": \"True\", \"hoverlabel\": {\"namelength\": 0}, \"hovertemplate\": \"color=red<br>x=%{x}<br>y=%{y}\", \"legendgroup\": \"color=red\", \"marker\": {\"color\": \"#FFA15A\"}, \"name\": \"color=red\", \"offsetgroup\": \"color=red\", \"orientation\": \"v\", \"showlegend\": true, \"textposition\": \"auto\", \"type\": \"bar\", \"x\": [\"Comedy\"], \"xaxis\": \"x\", \"y\": [374], \"yaxis\": \"y\"}, {\"alignmentgroup\": \"True\", \"hoverlabel\": {\"namelength\": 0}, \"hovertemplate\": \"color=aqua<br>x=%{x}<br>y=%{y}\", \"legendgroup\": \"color=aqua\", \"marker\": {\"color\": \"#19d3f3\"}, \"name\": \"color=aqua\", \"offsetgroup\": \"color=aqua\", \"orientation\": \"v\", \"showlegend\": true, \"textposition\": \"auto\", \"type\": \"bar\", \"x\": [\"Biography\"], \"xaxis\": \"x\", \"y\": [369], \"yaxis\": \"y\"}, {\"alignmentgroup\": \"True\", \"hoverlabel\": {\"namelength\": 0}, \"hovertemplate\": \"color=blue<br>x=%{x}<br>y=%{y}\", \"legendgroup\": \"color=blue\", \"marker\": {\"color\": \"#FF6692\"}, \"name\": \"color=blue\", \"offsetgroup\": \"color=blue\", \"orientation\": \"v\", \"showlegend\": true, \"textposition\": \"auto\", \"type\": \"bar\", \"x\": [\"Adventure\"], \"xaxis\": \"x\", \"y\": [196], \"yaxis\": \"y\"}, {\"alignmentgroup\": \"True\", \"hoverlabel\": {\"namelength\": 0}, \"hovertemplate\": \"color=grey<br>x=%{x}<br>y=%{y}\", \"legendgroup\": \"color=grey\", \"marker\": {\"color\": \"#B6E880\"}, \"name\": \"color=grey\", \"offsetgroup\": \"color=grey\", \"orientation\": \"v\", \"showlegend\": true, \"textposition\": \"auto\", \"type\": \"bar\", \"x\": [\"Western\"], \"xaxis\": \"x\", \"y\": [144], \"yaxis\": \"y\"}, {\"alignmentgroup\": \"True\", \"hoverlabel\": {\"namelength\": 0}, \"hovertemplate\": \"color=yellow<br>x=%{x}<br>y=%{y}\", \"legendgroup\": \"color=yellow\", \"marker\": {\"color\": \"#FF97FF\"}, \"name\": \"color=yellow\", \"offsetgroup\": \"color=yellow\", \"orientation\": \"v\", \"showlegend\": true, \"textposition\": \"auto\", \"type\": \"bar\", \"x\": [\"Horror\"], \"xaxis\": \"x\", \"y\": [112], \"yaxis\": \"y\"}, {\"alignmentgroup\": \"True\", \"hoverlabel\": {\"namelength\": 0}, \"hovertemplate\": \"color=black<br>x=%{x}<br>y=%{y}\", \"legendgroup\": \"color=black\", \"marker\": {\"color\": \"#FECB52\"}, \"name\": \"color=black\", \"offsetgroup\": \"color=black\", \"orientation\": \"v\", \"showlegend\": true, \"textposition\": \"auto\", \"type\": \"bar\", \"x\": [\"Mystery\"], \"xaxis\": \"x\", \"y\": [106], \"yaxis\": \"y\"}],\n",
              "                        {\"barmode\": \"relative\", \"legend\": {\"tracegroupgap\": 0}, \"margin\": {\"t\": 60}, \"template\": {\"data\": {\"bar\": [{\"error_x\": {\"color\": \"#2a3f5f\"}, \"error_y\": {\"color\": \"#2a3f5f\"}, \"marker\": {\"line\": {\"color\": \"#E5ECF6\", \"width\": 0.5}}, \"type\": \"bar\"}], \"barpolar\": [{\"marker\": {\"line\": {\"color\": \"#E5ECF6\", \"width\": 0.5}}, \"type\": \"barpolar\"}], \"carpet\": [{\"aaxis\": {\"endlinecolor\": \"#2a3f5f\", \"gridcolor\": \"white\", \"linecolor\": \"white\", \"minorgridcolor\": \"white\", \"startlinecolor\": \"#2a3f5f\"}, \"baxis\": {\"endlinecolor\": \"#2a3f5f\", \"gridcolor\": \"white\", \"linecolor\": \"white\", \"minorgridcolor\": \"white\", \"startlinecolor\": \"#2a3f5f\"}, \"type\": \"carpet\"}], \"choropleth\": [{\"colorbar\": {\"outlinewidth\": 0, \"ticks\": \"\"}, \"type\": \"choropleth\"}], \"contour\": [{\"colorbar\": {\"outlinewidth\": 0, \"ticks\": \"\"}, \"colorscale\": [[0.0, \"#0d0887\"], [0.1111111111111111, \"#46039f\"], [0.2222222222222222, \"#7201a8\"], [0.3333333333333333, \"#9c179e\"], [0.4444444444444444, \"#bd3786\"], [0.5555555555555556, \"#d8576b\"], [0.6666666666666666, \"#ed7953\"], [0.7777777777777778, \"#fb9f3a\"], [0.8888888888888888, \"#fdca26\"], [1.0, \"#f0f921\"]], \"type\": \"contour\"}], \"contourcarpet\": [{\"colorbar\": {\"outlinewidth\": 0, \"ticks\": \"\"}, \"type\": \"contourcarpet\"}], \"heatmap\": [{\"colorbar\": {\"outlinewidth\": 0, \"ticks\": \"\"}, \"colorscale\": [[0.0, \"#0d0887\"], [0.1111111111111111, \"#46039f\"], [0.2222222222222222, \"#7201a8\"], [0.3333333333333333, \"#9c179e\"], [0.4444444444444444, \"#bd3786\"], [0.5555555555555556, \"#d8576b\"], [0.6666666666666666, \"#ed7953\"], [0.7777777777777778, \"#fb9f3a\"], [0.8888888888888888, \"#fdca26\"], [1.0, \"#f0f921\"]], \"type\": \"heatmap\"}], \"heatmapgl\": [{\"colorbar\": {\"outlinewidth\": 0, \"ticks\": \"\"}, \"colorscale\": [[0.0, \"#0d0887\"], [0.1111111111111111, \"#46039f\"], [0.2222222222222222, \"#7201a8\"], [0.3333333333333333, \"#9c179e\"], [0.4444444444444444, \"#bd3786\"], [0.5555555555555556, \"#d8576b\"], [0.6666666666666666, \"#ed7953\"], [0.7777777777777778, \"#fb9f3a\"], [0.8888888888888888, \"#fdca26\"], [1.0, \"#f0f921\"]], \"type\": \"heatmapgl\"}], \"histogram\": [{\"marker\": {\"colorbar\": {\"outlinewidth\": 0, \"ticks\": \"\"}}, \"type\": \"histogram\"}], \"histogram2d\": [{\"colorbar\": {\"outlinewidth\": 0, \"ticks\": \"\"}, \"colorscale\": [[0.0, \"#0d0887\"], [0.1111111111111111, \"#46039f\"], [0.2222222222222222, \"#7201a8\"], [0.3333333333333333, \"#9c179e\"], [0.4444444444444444, \"#bd3786\"], [0.5555555555555556, \"#d8576b\"], [0.6666666666666666, \"#ed7953\"], [0.7777777777777778, \"#fb9f3a\"], [0.8888888888888888, \"#fdca26\"], [1.0, \"#f0f921\"]], \"type\": \"histogram2d\"}], \"histogram2dcontour\": [{\"colorbar\": {\"outlinewidth\": 0, \"ticks\": \"\"}, \"colorscale\": [[0.0, \"#0d0887\"], [0.1111111111111111, \"#46039f\"], [0.2222222222222222, \"#7201a8\"], [0.3333333333333333, \"#9c179e\"], [0.4444444444444444, \"#bd3786\"], [0.5555555555555556, \"#d8576b\"], [0.6666666666666666, \"#ed7953\"], [0.7777777777777778, \"#fb9f3a\"], [0.8888888888888888, \"#fdca26\"], [1.0, \"#f0f921\"]], \"type\": \"histogram2dcontour\"}], \"mesh3d\": [{\"colorbar\": {\"outlinewidth\": 0, \"ticks\": \"\"}, \"type\": \"mesh3d\"}], \"parcoords\": [{\"line\": {\"colorbar\": {\"outlinewidth\": 0, \"ticks\": \"\"}}, \"type\": \"parcoords\"}], \"pie\": [{\"automargin\": true, \"type\": \"pie\"}], \"scatter\": [{\"marker\": {\"colorbar\": {\"outlinewidth\": 0, \"ticks\": \"\"}}, \"type\": \"scatter\"}], \"scatter3d\": [{\"line\": {\"colorbar\": {\"outlinewidth\": 0, \"ticks\": \"\"}}, \"marker\": {\"colorbar\": {\"outlinewidth\": 0, \"ticks\": \"\"}}, \"type\": \"scatter3d\"}], \"scattercarpet\": [{\"marker\": {\"colorbar\": {\"outlinewidth\": 0, \"ticks\": \"\"}}, \"type\": \"scattercarpet\"}], \"scattergeo\": [{\"marker\": {\"colorbar\": {\"outlinewidth\": 0, \"ticks\": \"\"}}, \"type\": \"scattergeo\"}], \"scattergl\": [{\"marker\": {\"colorbar\": {\"outlinewidth\": 0, \"ticks\": \"\"}}, \"type\": \"scattergl\"}], \"scattermapbox\": [{\"marker\": {\"colorbar\": {\"outlinewidth\": 0, \"ticks\": \"\"}}, \"type\": \"scattermapbox\"}], \"scatterpolar\": [{\"marker\": {\"colorbar\": {\"outlinewidth\": 0, \"ticks\": \"\"}}, \"type\": \"scatterpolar\"}], \"scatterpolargl\": [{\"marker\": {\"colorbar\": {\"outlinewidth\": 0, \"ticks\": \"\"}}, \"type\": \"scatterpolargl\"}], \"scatterternary\": [{\"marker\": {\"colorbar\": {\"outlinewidth\": 0, \"ticks\": \"\"}}, \"type\": \"scatterternary\"}], \"surface\": [{\"colorbar\": {\"outlinewidth\": 0, \"ticks\": \"\"}, \"colorscale\": [[0.0, \"#0d0887\"], [0.1111111111111111, \"#46039f\"], [0.2222222222222222, \"#7201a8\"], [0.3333333333333333, \"#9c179e\"], [0.4444444444444444, \"#bd3786\"], [0.5555555555555556, \"#d8576b\"], [0.6666666666666666, \"#ed7953\"], [0.7777777777777778, \"#fb9f3a\"], [0.8888888888888888, \"#fdca26\"], [1.0, \"#f0f921\"]], \"type\": \"surface\"}], \"table\": [{\"cells\": {\"fill\": {\"color\": \"#EBF0F8\"}, \"line\": {\"color\": \"white\"}}, \"header\": {\"fill\": {\"color\": \"#C8D4E3\"}, \"line\": {\"color\": \"white\"}}, \"type\": \"table\"}]}, \"layout\": {\"annotationdefaults\": {\"arrowcolor\": \"#2a3f5f\", \"arrowhead\": 0, \"arrowwidth\": 1}, \"coloraxis\": {\"colorbar\": {\"outlinewidth\": 0, \"ticks\": \"\"}}, \"colorscale\": {\"diverging\": [[0, \"#8e0152\"], [0.1, \"#c51b7d\"], [0.2, \"#de77ae\"], [0.3, \"#f1b6da\"], [0.4, \"#fde0ef\"], [0.5, \"#f7f7f7\"], [0.6, \"#e6f5d0\"], [0.7, \"#b8e186\"], [0.8, \"#7fbc41\"], [0.9, \"#4d9221\"], [1, \"#276419\"]], \"sequential\": [[0.0, \"#0d0887\"], [0.1111111111111111, \"#46039f\"], [0.2222222222222222, \"#7201a8\"], [0.3333333333333333, \"#9c179e\"], [0.4444444444444444, \"#bd3786\"], [0.5555555555555556, \"#d8576b\"], [0.6666666666666666, \"#ed7953\"], [0.7777777777777778, \"#fb9f3a\"], [0.8888888888888888, \"#fdca26\"], [1.0, \"#f0f921\"]], \"sequentialminus\": [[0.0, \"#0d0887\"], [0.1111111111111111, \"#46039f\"], [0.2222222222222222, \"#7201a8\"], [0.3333333333333333, \"#9c179e\"], [0.4444444444444444, \"#bd3786\"], [0.5555555555555556, \"#d8576b\"], [0.6666666666666666, \"#ed7953\"], [0.7777777777777778, \"#fb9f3a\"], [0.8888888888888888, \"#fdca26\"], [1.0, \"#f0f921\"]]}, \"colorway\": [\"#636efa\", \"#EF553B\", \"#00cc96\", \"#ab63fa\", \"#FFA15A\", \"#19d3f3\", \"#FF6692\", \"#B6E880\", \"#FF97FF\", \"#FECB52\"], \"font\": {\"color\": \"#2a3f5f\"}, \"geo\": {\"bgcolor\": \"white\", \"lakecolor\": \"white\", \"landcolor\": \"#E5ECF6\", \"showlakes\": true, \"showland\": true, \"subunitcolor\": \"white\"}, \"hoverlabel\": {\"align\": \"left\"}, \"hovermode\": \"closest\", \"mapbox\": {\"style\": \"light\"}, \"paper_bgcolor\": \"white\", \"plot_bgcolor\": \"#E5ECF6\", \"polar\": {\"angularaxis\": {\"gridcolor\": \"white\", \"linecolor\": \"white\", \"ticks\": \"\"}, \"bgcolor\": \"#E5ECF6\", \"radialaxis\": {\"gridcolor\": \"white\", \"linecolor\": \"white\", \"ticks\": \"\"}}, \"scene\": {\"xaxis\": {\"backgroundcolor\": \"#E5ECF6\", \"gridcolor\": \"white\", \"gridwidth\": 2, \"linecolor\": \"white\", \"showbackground\": true, \"ticks\": \"\", \"zerolinecolor\": \"white\"}, \"yaxis\": {\"backgroundcolor\": \"#E5ECF6\", \"gridcolor\": \"white\", \"gridwidth\": 2, \"linecolor\": \"white\", \"showbackground\": true, \"ticks\": \"\", \"zerolinecolor\": \"white\"}, \"zaxis\": {\"backgroundcolor\": \"#E5ECF6\", \"gridcolor\": \"white\", \"gridwidth\": 2, \"linecolor\": \"white\", \"showbackground\": true, \"ticks\": \"\", \"zerolinecolor\": \"white\"}}, \"shapedefaults\": {\"line\": {\"color\": \"#2a3f5f\"}}, \"ternary\": {\"aaxis\": {\"gridcolor\": \"white\", \"linecolor\": \"white\", \"ticks\": \"\"}, \"baxis\": {\"gridcolor\": \"white\", \"linecolor\": \"white\", \"ticks\": \"\"}, \"bgcolor\": \"#E5ECF6\", \"caxis\": {\"gridcolor\": \"white\", \"linecolor\": \"white\", \"ticks\": \"\"}}, \"title\": {\"x\": 0.05}, \"xaxis\": {\"automargin\": true, \"gridcolor\": \"white\", \"linecolor\": \"white\", \"ticks\": \"\", \"title\": {\"standoff\": 15}, \"zerolinecolor\": \"white\", \"zerolinewidth\": 2}, \"yaxis\": {\"automargin\": true, \"gridcolor\": \"white\", \"linecolor\": \"white\", \"ticks\": \"\", \"title\": {\"standoff\": 15}, \"zerolinecolor\": \"white\", \"zerolinewidth\": 2}}}, \"title\": {\"text\": \"Popularit\\u00e9 des genres\"}, \"xaxis\": {\"anchor\": \"y\", \"domain\": [0.0, 1.0], \"title\": {\"text\": \"x\"}}, \"yaxis\": {\"anchor\": \"x\", \"domain\": [0.0, 1.0], \"title\": {\"text\": \"y\"}}},\n",
              "                        {\"responsive\": true}\n",
              "                    ).then(function(){\n",
              "                            \n",
              "var gd = document.getElementById('bdbacbef-32fc-45a0-8a2a-f5f2c5c2fa80');\n",
              "var x = new MutationObserver(function (mutations, observer) {{\n",
              "        var display = window.getComputedStyle(gd).display;\n",
              "        if (!display || display === 'none') {{\n",
              "            console.log([gd, 'removed!']);\n",
              "            Plotly.purge(gd);\n",
              "            observer.disconnect();\n",
              "        }}\n",
              "}});\n",
              "\n",
              "// Listen for the removal of the full notebook cells\n",
              "var notebookContainer = gd.closest('#notebook-container');\n",
              "if (notebookContainer) {{\n",
              "    x.observe(notebookContainer, {childList: true});\n",
              "}}\n",
              "\n",
              "// Listen for the clearing of the current output cell\n",
              "var outputEl = gd.closest('.output');\n",
              "if (outputEl) {{\n",
              "    x.observe(outputEl, {childList: true});\n",
              "}}\n",
              "\n",
              "                        })\n",
              "                };\n",
              "                \n",
              "            </script>\n",
              "        </div>\n",
              "</body>\n",
              "</html>"
            ]
          },
          "metadata": {
            "tags": []
          }
        }
      ]
    },
    {
      "cell_type": "code",
      "metadata": {
        "colab": {
          "base_uri": "https://localhost:8080/",
          "height": 542
        },
        "id": "6x7tBncbXPA8",
        "outputId": "679a1e3c-ddf5-4093-df17-4bd086149eb9"
      },
      "source": [
        "import plotly.express as px\n",
        "data = px.data.gapminder()\n",
        "\n",
        "\n",
        "fig = px.bar(df, x=df[\"genres\"].value_counts().index, y=df[\"genres\"].value_counts().values,\n",
        "             color=['blue', 'antiquewhite', 'aqua', 'aquamarine', 'red','green','pink','yellow','black','grey'],\n",
        "             )\n",
        "fig.update_layout(title_text='Genres')\n",
        "fig.show()"
      ],
      "execution_count": 248,
      "outputs": [
        {
          "output_type": "display_data",
          "data": {
            "text/html": [
              "<html>\n",
              "<head><meta charset=\"utf-8\" /></head>\n",
              "<body>\n",
              "    <div>\n",
              "            <script src=\"https://cdnjs.cloudflare.com/ajax/libs/mathjax/2.7.5/MathJax.js?config=TeX-AMS-MML_SVG\"></script><script type=\"text/javascript\">if (window.MathJax) {MathJax.Hub.Config({SVG: {font: \"STIX-Web\"}});}</script>\n",
              "                <script type=\"text/javascript\">window.PlotlyConfig = {MathJaxConfig: 'local'};</script>\n",
              "        <script src=\"https://cdn.plot.ly/plotly-latest.min.js\"></script>    \n",
              "            <div id=\"099df7b0-1ace-41bd-ad12-661b69b10b11\" class=\"plotly-graph-div\" style=\"height:525px; width:100%;\"></div>\n",
              "            <script type=\"text/javascript\">\n",
              "                \n",
              "                    window.PLOTLYENV=window.PLOTLYENV || {};\n",
              "                    \n",
              "                if (document.getElementById(\"099df7b0-1ace-41bd-ad12-661b69b10b11\")) {\n",
              "                    Plotly.newPlot(\n",
              "                        '099df7b0-1ace-41bd-ad12-661b69b10b11',\n",
              "                        [{\"alignmentgroup\": \"True\", \"hoverlabel\": {\"namelength\": 0}, \"hovertemplate\": \"color=blue<br>x=%{x}<br>y=%{y}\", \"legendgroup\": \"color=blue\", \"marker\": {\"color\": \"#636efa\"}, \"name\": \"color=blue\", \"offsetgroup\": \"color=blue\", \"orientation\": \"v\", \"showlegend\": true, \"textposition\": \"auto\", \"type\": \"bar\", \"x\": [\"Drama\"], \"xaxis\": \"x\", \"y\": [27], \"yaxis\": \"y\"}, {\"alignmentgroup\": \"True\", \"hoverlabel\": {\"namelength\": 0}, \"hovertemplate\": \"color=antiquewhite<br>x=%{x}<br>y=%{y}\", \"legendgroup\": \"color=antiquewhite\", \"marker\": {\"color\": \"#EF553B\"}, \"name\": \"color=antiquewhite\", \"offsetgroup\": \"color=antiquewhite\", \"orientation\": \"v\", \"showlegend\": true, \"textposition\": \"auto\", \"type\": \"bar\", \"x\": [\"Action\"], \"xaxis\": \"x\", \"y\": [20], \"yaxis\": \"y\"}, {\"alignmentgroup\": \"True\", \"hoverlabel\": {\"namelength\": 0}, \"hovertemplate\": \"color=aqua<br>x=%{x}<br>y=%{y}\", \"legendgroup\": \"color=aqua\", \"marker\": {\"color\": \"#00cc96\"}, \"name\": \"color=aqua\", \"offsetgroup\": \"color=aqua\", \"orientation\": \"v\", \"showlegend\": true, \"textposition\": \"auto\", \"type\": \"bar\", \"x\": [\"Crime\"], \"xaxis\": \"x\", \"y\": [16], \"yaxis\": \"y\"}, {\"alignmentgroup\": \"True\", \"hoverlabel\": {\"namelength\": 0}, \"hovertemplate\": \"color=aquamarine<br>x=%{x}<br>y=%{y}\", \"legendgroup\": \"color=aquamarine\", \"marker\": {\"color\": \"#ab63fa\"}, \"name\": \"color=aquamarine\", \"offsetgroup\": \"color=aquamarine\", \"orientation\": \"v\", \"showlegend\": true, \"textposition\": \"auto\", \"type\": \"bar\", \"x\": [\"Animation\"], \"xaxis\": \"x\", \"y\": [9], \"yaxis\": \"y\"}, {\"alignmentgroup\": \"True\", \"hoverlabel\": {\"namelength\": 0}, \"hovertemplate\": \"color=red<br>x=%{x}<br>y=%{y}\", \"legendgroup\": \"color=red\", \"marker\": {\"color\": \"#FFA15A\"}, \"name\": \"color=red\", \"offsetgroup\": \"color=red\", \"orientation\": \"v\", \"showlegend\": true, \"textposition\": \"auto\", \"type\": \"bar\", \"x\": [\"Comedy\"], \"xaxis\": \"x\", \"y\": [8], \"yaxis\": \"y\"}, {\"alignmentgroup\": \"True\", \"hoverlabel\": {\"namelength\": 0}, \"hovertemplate\": \"color=green<br>x=%{x}<br>y=%{y}\", \"legendgroup\": \"color=green\", \"marker\": {\"color\": \"#19d3f3\"}, \"name\": \"color=green\", \"offsetgroup\": \"color=green\", \"orientation\": \"v\", \"showlegend\": true, \"textposition\": \"auto\", \"type\": \"bar\", \"x\": [\"Biography\"], \"xaxis\": \"x\", \"y\": [7], \"yaxis\": \"y\"}, {\"alignmentgroup\": \"True\", \"hoverlabel\": {\"namelength\": 0}, \"hovertemplate\": \"color=pink<br>x=%{x}<br>y=%{y}\", \"legendgroup\": \"color=pink\", \"marker\": {\"color\": \"#FF6692\"}, \"name\": \"color=pink\", \"offsetgroup\": \"color=pink\", \"orientation\": \"v\", \"showlegend\": true, \"textposition\": \"auto\", \"type\": \"bar\", \"x\": [\"Adventure\"], \"xaxis\": \"x\", \"y\": [6], \"yaxis\": \"y\"}, {\"alignmentgroup\": \"True\", \"hoverlabel\": {\"namelength\": 0}, \"hovertemplate\": \"color=yellow<br>x=%{x}<br>y=%{y}\", \"legendgroup\": \"color=yellow\", \"marker\": {\"color\": \"#B6E880\"}, \"name\": \"color=yellow\", \"offsetgroup\": \"color=yellow\", \"orientation\": \"v\", \"showlegend\": true, \"textposition\": \"auto\", \"type\": \"bar\", \"x\": [\"Mystery\"], \"xaxis\": \"x\", \"y\": [3], \"yaxis\": \"y\"}, {\"alignmentgroup\": \"True\", \"hoverlabel\": {\"namelength\": 0}, \"hovertemplate\": \"color=black<br>x=%{x}<br>y=%{y}\", \"legendgroup\": \"color=black\", \"marker\": {\"color\": \"#FF97FF\"}, \"name\": \"color=black\", \"offsetgroup\": \"color=black\", \"orientation\": \"v\", \"showlegend\": true, \"textposition\": \"auto\", \"type\": \"bar\", \"x\": [\"Horror\"], \"xaxis\": \"x\", \"y\": [2], \"yaxis\": \"y\"}, {\"alignmentgroup\": \"True\", \"hoverlabel\": {\"namelength\": 0}, \"hovertemplate\": \"color=grey<br>x=%{x}<br>y=%{y}\", \"legendgroup\": \"color=grey\", \"marker\": {\"color\": \"#FECB52\"}, \"name\": \"color=grey\", \"offsetgroup\": \"color=grey\", \"orientation\": \"v\", \"showlegend\": true, \"textposition\": \"auto\", \"type\": \"bar\", \"x\": [\"Western\"], \"xaxis\": \"x\", \"y\": [2], \"yaxis\": \"y\"}],\n",
              "                        {\"barmode\": \"relative\", \"legend\": {\"tracegroupgap\": 0}, \"margin\": {\"t\": 60}, \"template\": {\"data\": {\"bar\": [{\"error_x\": {\"color\": \"#2a3f5f\"}, \"error_y\": {\"color\": \"#2a3f5f\"}, \"marker\": {\"line\": {\"color\": \"#E5ECF6\", \"width\": 0.5}}, \"type\": \"bar\"}], \"barpolar\": [{\"marker\": {\"line\": {\"color\": \"#E5ECF6\", \"width\": 0.5}}, \"type\": \"barpolar\"}], \"carpet\": [{\"aaxis\": {\"endlinecolor\": \"#2a3f5f\", \"gridcolor\": \"white\", \"linecolor\": \"white\", \"minorgridcolor\": \"white\", \"startlinecolor\": \"#2a3f5f\"}, \"baxis\": {\"endlinecolor\": \"#2a3f5f\", \"gridcolor\": \"white\", \"linecolor\": \"white\", \"minorgridcolor\": \"white\", \"startlinecolor\": \"#2a3f5f\"}, \"type\": \"carpet\"}], \"choropleth\": [{\"colorbar\": {\"outlinewidth\": 0, \"ticks\": \"\"}, \"type\": \"choropleth\"}], \"contour\": [{\"colorbar\": {\"outlinewidth\": 0, \"ticks\": \"\"}, \"colorscale\": [[0.0, \"#0d0887\"], [0.1111111111111111, \"#46039f\"], [0.2222222222222222, \"#7201a8\"], [0.3333333333333333, \"#9c179e\"], [0.4444444444444444, \"#bd3786\"], [0.5555555555555556, \"#d8576b\"], [0.6666666666666666, \"#ed7953\"], [0.7777777777777778, \"#fb9f3a\"], [0.8888888888888888, \"#fdca26\"], [1.0, \"#f0f921\"]], \"type\": \"contour\"}], \"contourcarpet\": [{\"colorbar\": {\"outlinewidth\": 0, \"ticks\": \"\"}, \"type\": \"contourcarpet\"}], \"heatmap\": [{\"colorbar\": {\"outlinewidth\": 0, \"ticks\": \"\"}, \"colorscale\": [[0.0, \"#0d0887\"], [0.1111111111111111, \"#46039f\"], [0.2222222222222222, \"#7201a8\"], [0.3333333333333333, \"#9c179e\"], [0.4444444444444444, \"#bd3786\"], [0.5555555555555556, \"#d8576b\"], [0.6666666666666666, \"#ed7953\"], [0.7777777777777778, \"#fb9f3a\"], [0.8888888888888888, \"#fdca26\"], [1.0, \"#f0f921\"]], \"type\": \"heatmap\"}], \"heatmapgl\": [{\"colorbar\": {\"outlinewidth\": 0, \"ticks\": \"\"}, \"colorscale\": [[0.0, \"#0d0887\"], [0.1111111111111111, \"#46039f\"], [0.2222222222222222, \"#7201a8\"], [0.3333333333333333, \"#9c179e\"], [0.4444444444444444, \"#bd3786\"], [0.5555555555555556, \"#d8576b\"], [0.6666666666666666, \"#ed7953\"], [0.7777777777777778, \"#fb9f3a\"], [0.8888888888888888, \"#fdca26\"], [1.0, \"#f0f921\"]], \"type\": \"heatmapgl\"}], \"histogram\": [{\"marker\": {\"colorbar\": {\"outlinewidth\": 0, \"ticks\": \"\"}}, \"type\": \"histogram\"}], \"histogram2d\": [{\"colorbar\": {\"outlinewidth\": 0, \"ticks\": \"\"}, \"colorscale\": [[0.0, \"#0d0887\"], [0.1111111111111111, \"#46039f\"], [0.2222222222222222, \"#7201a8\"], [0.3333333333333333, \"#9c179e\"], [0.4444444444444444, \"#bd3786\"], [0.5555555555555556, \"#d8576b\"], [0.6666666666666666, \"#ed7953\"], [0.7777777777777778, \"#fb9f3a\"], [0.8888888888888888, \"#fdca26\"], [1.0, \"#f0f921\"]], \"type\": \"histogram2d\"}], \"histogram2dcontour\": [{\"colorbar\": {\"outlinewidth\": 0, \"ticks\": \"\"}, \"colorscale\": [[0.0, \"#0d0887\"], [0.1111111111111111, \"#46039f\"], [0.2222222222222222, \"#7201a8\"], [0.3333333333333333, \"#9c179e\"], [0.4444444444444444, \"#bd3786\"], [0.5555555555555556, \"#d8576b\"], [0.6666666666666666, \"#ed7953\"], [0.7777777777777778, \"#fb9f3a\"], [0.8888888888888888, \"#fdca26\"], [1.0, \"#f0f921\"]], \"type\": \"histogram2dcontour\"}], \"mesh3d\": [{\"colorbar\": {\"outlinewidth\": 0, \"ticks\": \"\"}, \"type\": \"mesh3d\"}], \"parcoords\": [{\"line\": {\"colorbar\": {\"outlinewidth\": 0, \"ticks\": \"\"}}, \"type\": \"parcoords\"}], \"pie\": [{\"automargin\": true, \"type\": \"pie\"}], \"scatter\": [{\"marker\": {\"colorbar\": {\"outlinewidth\": 0, \"ticks\": \"\"}}, \"type\": \"scatter\"}], \"scatter3d\": [{\"line\": {\"colorbar\": {\"outlinewidth\": 0, \"ticks\": \"\"}}, \"marker\": {\"colorbar\": {\"outlinewidth\": 0, \"ticks\": \"\"}}, \"type\": \"scatter3d\"}], \"scattercarpet\": [{\"marker\": {\"colorbar\": {\"outlinewidth\": 0, \"ticks\": \"\"}}, \"type\": \"scattercarpet\"}], \"scattergeo\": [{\"marker\": {\"colorbar\": {\"outlinewidth\": 0, \"ticks\": \"\"}}, \"type\": \"scattergeo\"}], \"scattergl\": [{\"marker\": {\"colorbar\": {\"outlinewidth\": 0, \"ticks\": \"\"}}, \"type\": \"scattergl\"}], \"scattermapbox\": [{\"marker\": {\"colorbar\": {\"outlinewidth\": 0, \"ticks\": \"\"}}, \"type\": \"scattermapbox\"}], \"scatterpolar\": [{\"marker\": {\"colorbar\": {\"outlinewidth\": 0, \"ticks\": \"\"}}, \"type\": \"scatterpolar\"}], \"scatterpolargl\": [{\"marker\": {\"colorbar\": {\"outlinewidth\": 0, \"ticks\": \"\"}}, \"type\": \"scatterpolargl\"}], \"scatterternary\": [{\"marker\": {\"colorbar\": {\"outlinewidth\": 0, \"ticks\": \"\"}}, \"type\": \"scatterternary\"}], \"surface\": [{\"colorbar\": {\"outlinewidth\": 0, \"ticks\": \"\"}, \"colorscale\": [[0.0, \"#0d0887\"], [0.1111111111111111, \"#46039f\"], [0.2222222222222222, \"#7201a8\"], [0.3333333333333333, \"#9c179e\"], [0.4444444444444444, \"#bd3786\"], [0.5555555555555556, \"#d8576b\"], [0.6666666666666666, \"#ed7953\"], [0.7777777777777778, \"#fb9f3a\"], [0.8888888888888888, \"#fdca26\"], [1.0, \"#f0f921\"]], \"type\": \"surface\"}], \"table\": [{\"cells\": {\"fill\": {\"color\": \"#EBF0F8\"}, \"line\": {\"color\": \"white\"}}, \"header\": {\"fill\": {\"color\": \"#C8D4E3\"}, \"line\": {\"color\": \"white\"}}, \"type\": \"table\"}]}, \"layout\": {\"annotationdefaults\": {\"arrowcolor\": \"#2a3f5f\", \"arrowhead\": 0, \"arrowwidth\": 1}, \"coloraxis\": {\"colorbar\": {\"outlinewidth\": 0, \"ticks\": \"\"}}, \"colorscale\": {\"diverging\": [[0, \"#8e0152\"], [0.1, \"#c51b7d\"], [0.2, \"#de77ae\"], [0.3, \"#f1b6da\"], [0.4, \"#fde0ef\"], [0.5, \"#f7f7f7\"], [0.6, \"#e6f5d0\"], [0.7, \"#b8e186\"], [0.8, \"#7fbc41\"], [0.9, \"#4d9221\"], [1, \"#276419\"]], \"sequential\": [[0.0, \"#0d0887\"], [0.1111111111111111, \"#46039f\"], [0.2222222222222222, \"#7201a8\"], [0.3333333333333333, \"#9c179e\"], [0.4444444444444444, \"#bd3786\"], [0.5555555555555556, \"#d8576b\"], [0.6666666666666666, \"#ed7953\"], [0.7777777777777778, \"#fb9f3a\"], [0.8888888888888888, \"#fdca26\"], [1.0, \"#f0f921\"]], \"sequentialminus\": [[0.0, \"#0d0887\"], [0.1111111111111111, \"#46039f\"], [0.2222222222222222, \"#7201a8\"], [0.3333333333333333, \"#9c179e\"], [0.4444444444444444, \"#bd3786\"], [0.5555555555555556, \"#d8576b\"], [0.6666666666666666, \"#ed7953\"], [0.7777777777777778, \"#fb9f3a\"], [0.8888888888888888, \"#fdca26\"], [1.0, \"#f0f921\"]]}, \"colorway\": [\"#636efa\", \"#EF553B\", \"#00cc96\", \"#ab63fa\", \"#FFA15A\", \"#19d3f3\", \"#FF6692\", \"#B6E880\", \"#FF97FF\", \"#FECB52\"], \"font\": {\"color\": \"#2a3f5f\"}, \"geo\": {\"bgcolor\": \"white\", \"lakecolor\": \"white\", \"landcolor\": \"#E5ECF6\", \"showlakes\": true, \"showland\": true, \"subunitcolor\": \"white\"}, \"hoverlabel\": {\"align\": \"left\"}, \"hovermode\": \"closest\", \"mapbox\": {\"style\": \"light\"}, \"paper_bgcolor\": \"white\", \"plot_bgcolor\": \"#E5ECF6\", \"polar\": {\"angularaxis\": {\"gridcolor\": \"white\", \"linecolor\": \"white\", \"ticks\": \"\"}, \"bgcolor\": \"#E5ECF6\", \"radialaxis\": {\"gridcolor\": \"white\", \"linecolor\": \"white\", \"ticks\": \"\"}}, \"scene\": {\"xaxis\": {\"backgroundcolor\": \"#E5ECF6\", \"gridcolor\": \"white\", \"gridwidth\": 2, \"linecolor\": \"white\", \"showbackground\": true, \"ticks\": \"\", \"zerolinecolor\": \"white\"}, \"yaxis\": {\"backgroundcolor\": \"#E5ECF6\", \"gridcolor\": \"white\", \"gridwidth\": 2, \"linecolor\": \"white\", \"showbackground\": true, \"ticks\": \"\", \"zerolinecolor\": \"white\"}, \"zaxis\": {\"backgroundcolor\": \"#E5ECF6\", \"gridcolor\": \"white\", \"gridwidth\": 2, \"linecolor\": \"white\", \"showbackground\": true, \"ticks\": \"\", \"zerolinecolor\": \"white\"}}, \"shapedefaults\": {\"line\": {\"color\": \"#2a3f5f\"}}, \"ternary\": {\"aaxis\": {\"gridcolor\": \"white\", \"linecolor\": \"white\", \"ticks\": \"\"}, \"baxis\": {\"gridcolor\": \"white\", \"linecolor\": \"white\", \"ticks\": \"\"}, \"bgcolor\": \"#E5ECF6\", \"caxis\": {\"gridcolor\": \"white\", \"linecolor\": \"white\", \"ticks\": \"\"}}, \"title\": {\"x\": 0.05}, \"xaxis\": {\"automargin\": true, \"gridcolor\": \"white\", \"linecolor\": \"white\", \"ticks\": \"\", \"title\": {\"standoff\": 15}, \"zerolinecolor\": \"white\", \"zerolinewidth\": 2}, \"yaxis\": {\"automargin\": true, \"gridcolor\": \"white\", \"linecolor\": \"white\", \"ticks\": \"\", \"title\": {\"standoff\": 15}, \"zerolinecolor\": \"white\", \"zerolinewidth\": 2}}}, \"title\": {\"text\": \"Genres\"}, \"xaxis\": {\"anchor\": \"y\", \"domain\": [0.0, 1.0], \"title\": {\"text\": \"x\"}}, \"yaxis\": {\"anchor\": \"x\", \"domain\": [0.0, 1.0], \"title\": {\"text\": \"y\"}}},\n",
              "                        {\"responsive\": true}\n",
              "                    ).then(function(){\n",
              "                            \n",
              "var gd = document.getElementById('099df7b0-1ace-41bd-ad12-661b69b10b11');\n",
              "var x = new MutationObserver(function (mutations, observer) {{\n",
              "        var display = window.getComputedStyle(gd).display;\n",
              "        if (!display || display === 'none') {{\n",
              "            console.log([gd, 'removed!']);\n",
              "            Plotly.purge(gd);\n",
              "            observer.disconnect();\n",
              "        }}\n",
              "}});\n",
              "\n",
              "// Listen for the removal of the full notebook cells\n",
              "var notebookContainer = gd.closest('#notebook-container');\n",
              "if (notebookContainer) {{\n",
              "    x.observe(notebookContainer, {childList: true});\n",
              "}}\n",
              "\n",
              "// Listen for the clearing of the current output cell\n",
              "var outputEl = gd.closest('.output');\n",
              "if (outputEl) {{\n",
              "    x.observe(outputEl, {childList: true});\n",
              "}}\n",
              "\n",
              "                        })\n",
              "                };\n",
              "                \n",
              "            </script>\n",
              "        </div>\n",
              "</body>\n",
              "</html>"
            ]
          },
          "metadata": {
            "tags": []
          }
        }
      ]
    },
    {
      "cell_type": "code",
      "metadata": {
        "colab": {
          "base_uri": "https://localhost:8080/",
          "height": 542
        },
        "id": "zIGcpmfGrjkp",
        "outputId": "83f27527-14c7-4470-8953-d5b9f7a1c316"
      },
      "source": [
        "import plotly.express as px\n",
        "# This dataframe has 244 lines, but 4 distinct values for `day`\n",
        "\n",
        "fig = px.pie(df, values=df['genres'].value_counts(), names=df[\"genres\"].value_counts().index,color_discrete_sequence=px.colors.sequential.RdBu)\n",
        "fig.update_layout(title_text='Pourcentage de chaque genres')\n",
        "fig.show()\n"
      ],
      "execution_count": 249,
      "outputs": [
        {
          "output_type": "display_data",
          "data": {
            "text/html": [
              "<html>\n",
              "<head><meta charset=\"utf-8\" /></head>\n",
              "<body>\n",
              "    <div>\n",
              "            <script src=\"https://cdnjs.cloudflare.com/ajax/libs/mathjax/2.7.5/MathJax.js?config=TeX-AMS-MML_SVG\"></script><script type=\"text/javascript\">if (window.MathJax) {MathJax.Hub.Config({SVG: {font: \"STIX-Web\"}});}</script>\n",
              "                <script type=\"text/javascript\">window.PlotlyConfig = {MathJaxConfig: 'local'};</script>\n",
              "        <script src=\"https://cdn.plot.ly/plotly-latest.min.js\"></script>    \n",
              "            <div id=\"0873599b-1b2d-46d6-9a10-270ee09464bf\" class=\"plotly-graph-div\" style=\"height:525px; width:100%;\"></div>\n",
              "            <script type=\"text/javascript\">\n",
              "                \n",
              "                    window.PLOTLYENV=window.PLOTLYENV || {};\n",
              "                    \n",
              "                if (document.getElementById(\"0873599b-1b2d-46d6-9a10-270ee09464bf\")) {\n",
              "                    Plotly.newPlot(\n",
              "                        '0873599b-1b2d-46d6-9a10-270ee09464bf',\n",
              "                        [{\"domain\": {\"x\": [0.0, 1.0], \"y\": [0.0, 1.0]}, \"hoverlabel\": {\"namelength\": 0}, \"hovertemplate\": \"label=%{label}<br>value=%{value}\", \"labels\": [\"Drama\", \"Action\", \"Crime\", \"Animation\", \"Comedy\", \"Biography\", \"Adventure\", \"Mystery\", \"Horror\", \"Western\"], \"legendgroup\": \"\", \"name\": \"\", \"showlegend\": true, \"type\": \"pie\", \"values\": [27, 20, 16, 9, 8, 7, 6, 3, 2, 2]}],\n",
              "                        {\"legend\": {\"tracegroupgap\": 0}, \"margin\": {\"t\": 60}, \"piecolorway\": [\"rgb(103,0,31)\", \"rgb(178,24,43)\", \"rgb(214,96,77)\", \"rgb(244,165,130)\", \"rgb(253,219,199)\", \"rgb(247,247,247)\", \"rgb(209,229,240)\", \"rgb(146,197,222)\", \"rgb(67,147,195)\", \"rgb(33,102,172)\", \"rgb(5,48,97)\"], \"template\": {\"data\": {\"bar\": [{\"error_x\": {\"color\": \"#2a3f5f\"}, \"error_y\": {\"color\": \"#2a3f5f\"}, \"marker\": {\"line\": {\"color\": \"#E5ECF6\", \"width\": 0.5}}, \"type\": \"bar\"}], \"barpolar\": [{\"marker\": {\"line\": {\"color\": \"#E5ECF6\", \"width\": 0.5}}, \"type\": \"barpolar\"}], \"carpet\": [{\"aaxis\": {\"endlinecolor\": \"#2a3f5f\", \"gridcolor\": \"white\", \"linecolor\": \"white\", \"minorgridcolor\": \"white\", \"startlinecolor\": \"#2a3f5f\"}, \"baxis\": {\"endlinecolor\": \"#2a3f5f\", \"gridcolor\": \"white\", \"linecolor\": \"white\", \"minorgridcolor\": \"white\", \"startlinecolor\": \"#2a3f5f\"}, \"type\": \"carpet\"}], \"choropleth\": [{\"colorbar\": {\"outlinewidth\": 0, \"ticks\": \"\"}, \"type\": \"choropleth\"}], \"contour\": [{\"colorbar\": {\"outlinewidth\": 0, \"ticks\": \"\"}, \"colorscale\": [[0.0, \"#0d0887\"], [0.1111111111111111, \"#46039f\"], [0.2222222222222222, \"#7201a8\"], [0.3333333333333333, \"#9c179e\"], [0.4444444444444444, \"#bd3786\"], [0.5555555555555556, \"#d8576b\"], [0.6666666666666666, \"#ed7953\"], [0.7777777777777778, \"#fb9f3a\"], [0.8888888888888888, \"#fdca26\"], [1.0, \"#f0f921\"]], \"type\": \"contour\"}], \"contourcarpet\": [{\"colorbar\": {\"outlinewidth\": 0, \"ticks\": \"\"}, \"type\": \"contourcarpet\"}], \"heatmap\": [{\"colorbar\": {\"outlinewidth\": 0, \"ticks\": \"\"}, \"colorscale\": [[0.0, \"#0d0887\"], [0.1111111111111111, \"#46039f\"], [0.2222222222222222, \"#7201a8\"], [0.3333333333333333, \"#9c179e\"], [0.4444444444444444, \"#bd3786\"], [0.5555555555555556, \"#d8576b\"], [0.6666666666666666, \"#ed7953\"], [0.7777777777777778, \"#fb9f3a\"], [0.8888888888888888, \"#fdca26\"], [1.0, \"#f0f921\"]], \"type\": \"heatmap\"}], \"heatmapgl\": [{\"colorbar\": {\"outlinewidth\": 0, \"ticks\": \"\"}, \"colorscale\": [[0.0, \"#0d0887\"], [0.1111111111111111, \"#46039f\"], [0.2222222222222222, \"#7201a8\"], [0.3333333333333333, \"#9c179e\"], [0.4444444444444444, \"#bd3786\"], [0.5555555555555556, \"#d8576b\"], [0.6666666666666666, \"#ed7953\"], [0.7777777777777778, \"#fb9f3a\"], [0.8888888888888888, \"#fdca26\"], [1.0, \"#f0f921\"]], \"type\": \"heatmapgl\"}], \"histogram\": [{\"marker\": {\"colorbar\": {\"outlinewidth\": 0, \"ticks\": \"\"}}, \"type\": \"histogram\"}], \"histogram2d\": [{\"colorbar\": {\"outlinewidth\": 0, \"ticks\": \"\"}, \"colorscale\": [[0.0, \"#0d0887\"], [0.1111111111111111, \"#46039f\"], [0.2222222222222222, \"#7201a8\"], [0.3333333333333333, \"#9c179e\"], [0.4444444444444444, \"#bd3786\"], [0.5555555555555556, \"#d8576b\"], [0.6666666666666666, \"#ed7953\"], [0.7777777777777778, \"#fb9f3a\"], [0.8888888888888888, \"#fdca26\"], [1.0, \"#f0f921\"]], \"type\": \"histogram2d\"}], \"histogram2dcontour\": [{\"colorbar\": {\"outlinewidth\": 0, \"ticks\": \"\"}, \"colorscale\": [[0.0, \"#0d0887\"], [0.1111111111111111, \"#46039f\"], [0.2222222222222222, \"#7201a8\"], [0.3333333333333333, \"#9c179e\"], [0.4444444444444444, \"#bd3786\"], [0.5555555555555556, \"#d8576b\"], [0.6666666666666666, \"#ed7953\"], [0.7777777777777778, \"#fb9f3a\"], [0.8888888888888888, \"#fdca26\"], [1.0, \"#f0f921\"]], \"type\": \"histogram2dcontour\"}], \"mesh3d\": [{\"colorbar\": {\"outlinewidth\": 0, \"ticks\": \"\"}, \"type\": \"mesh3d\"}], \"parcoords\": [{\"line\": {\"colorbar\": {\"outlinewidth\": 0, \"ticks\": \"\"}}, \"type\": \"parcoords\"}], \"pie\": [{\"automargin\": true, \"type\": \"pie\"}], \"scatter\": [{\"marker\": {\"colorbar\": {\"outlinewidth\": 0, \"ticks\": \"\"}}, \"type\": \"scatter\"}], \"scatter3d\": [{\"line\": {\"colorbar\": {\"outlinewidth\": 0, \"ticks\": \"\"}}, \"marker\": {\"colorbar\": {\"outlinewidth\": 0, \"ticks\": \"\"}}, \"type\": \"scatter3d\"}], \"scattercarpet\": [{\"marker\": {\"colorbar\": {\"outlinewidth\": 0, \"ticks\": \"\"}}, \"type\": \"scattercarpet\"}], \"scattergeo\": [{\"marker\": {\"colorbar\": {\"outlinewidth\": 0, \"ticks\": \"\"}}, \"type\": \"scattergeo\"}], \"scattergl\": [{\"marker\": {\"colorbar\": {\"outlinewidth\": 0, \"ticks\": \"\"}}, \"type\": \"scattergl\"}], \"scattermapbox\": [{\"marker\": {\"colorbar\": {\"outlinewidth\": 0, \"ticks\": \"\"}}, \"type\": \"scattermapbox\"}], \"scatterpolar\": [{\"marker\": {\"colorbar\": {\"outlinewidth\": 0, \"ticks\": \"\"}}, \"type\": \"scatterpolar\"}], \"scatterpolargl\": [{\"marker\": {\"colorbar\": {\"outlinewidth\": 0, \"ticks\": \"\"}}, \"type\": \"scatterpolargl\"}], \"scatterternary\": [{\"marker\": {\"colorbar\": {\"outlinewidth\": 0, \"ticks\": \"\"}}, \"type\": \"scatterternary\"}], \"surface\": [{\"colorbar\": {\"outlinewidth\": 0, \"ticks\": \"\"}, \"colorscale\": [[0.0, \"#0d0887\"], [0.1111111111111111, \"#46039f\"], [0.2222222222222222, \"#7201a8\"], [0.3333333333333333, \"#9c179e\"], [0.4444444444444444, \"#bd3786\"], [0.5555555555555556, \"#d8576b\"], [0.6666666666666666, \"#ed7953\"], [0.7777777777777778, \"#fb9f3a\"], [0.8888888888888888, \"#fdca26\"], [1.0, \"#f0f921\"]], \"type\": \"surface\"}], \"table\": [{\"cells\": {\"fill\": {\"color\": \"#EBF0F8\"}, \"line\": {\"color\": \"white\"}}, \"header\": {\"fill\": {\"color\": \"#C8D4E3\"}, \"line\": {\"color\": \"white\"}}, \"type\": \"table\"}]}, \"layout\": {\"annotationdefaults\": {\"arrowcolor\": \"#2a3f5f\", \"arrowhead\": 0, \"arrowwidth\": 1}, \"coloraxis\": {\"colorbar\": {\"outlinewidth\": 0, \"ticks\": \"\"}}, \"colorscale\": {\"diverging\": [[0, \"#8e0152\"], [0.1, \"#c51b7d\"], [0.2, \"#de77ae\"], [0.3, \"#f1b6da\"], [0.4, \"#fde0ef\"], [0.5, \"#f7f7f7\"], [0.6, \"#e6f5d0\"], [0.7, \"#b8e186\"], [0.8, \"#7fbc41\"], [0.9, \"#4d9221\"], [1, \"#276419\"]], \"sequential\": [[0.0, \"#0d0887\"], [0.1111111111111111, \"#46039f\"], [0.2222222222222222, \"#7201a8\"], [0.3333333333333333, \"#9c179e\"], [0.4444444444444444, \"#bd3786\"], [0.5555555555555556, \"#d8576b\"], [0.6666666666666666, \"#ed7953\"], [0.7777777777777778, \"#fb9f3a\"], [0.8888888888888888, \"#fdca26\"], [1.0, \"#f0f921\"]], \"sequentialminus\": [[0.0, \"#0d0887\"], [0.1111111111111111, \"#46039f\"], [0.2222222222222222, \"#7201a8\"], [0.3333333333333333, \"#9c179e\"], [0.4444444444444444, \"#bd3786\"], [0.5555555555555556, \"#d8576b\"], [0.6666666666666666, \"#ed7953\"], [0.7777777777777778, \"#fb9f3a\"], [0.8888888888888888, \"#fdca26\"], [1.0, \"#f0f921\"]]}, \"colorway\": [\"#636efa\", \"#EF553B\", \"#00cc96\", \"#ab63fa\", \"#FFA15A\", \"#19d3f3\", \"#FF6692\", \"#B6E880\", \"#FF97FF\", \"#FECB52\"], \"font\": {\"color\": \"#2a3f5f\"}, \"geo\": {\"bgcolor\": \"white\", \"lakecolor\": \"white\", \"landcolor\": \"#E5ECF6\", \"showlakes\": true, \"showland\": true, \"subunitcolor\": \"white\"}, \"hoverlabel\": {\"align\": \"left\"}, \"hovermode\": \"closest\", \"mapbox\": {\"style\": \"light\"}, \"paper_bgcolor\": \"white\", \"plot_bgcolor\": \"#E5ECF6\", \"polar\": {\"angularaxis\": {\"gridcolor\": \"white\", \"linecolor\": \"white\", \"ticks\": \"\"}, \"bgcolor\": \"#E5ECF6\", \"radialaxis\": {\"gridcolor\": \"white\", \"linecolor\": \"white\", \"ticks\": \"\"}}, \"scene\": {\"xaxis\": {\"backgroundcolor\": \"#E5ECF6\", \"gridcolor\": \"white\", \"gridwidth\": 2, \"linecolor\": \"white\", \"showbackground\": true, \"ticks\": \"\", \"zerolinecolor\": \"white\"}, \"yaxis\": {\"backgroundcolor\": \"#E5ECF6\", \"gridcolor\": \"white\", \"gridwidth\": 2, \"linecolor\": \"white\", \"showbackground\": true, \"ticks\": \"\", \"zerolinecolor\": \"white\"}, \"zaxis\": {\"backgroundcolor\": \"#E5ECF6\", \"gridcolor\": \"white\", \"gridwidth\": 2, \"linecolor\": \"white\", \"showbackground\": true, \"ticks\": \"\", \"zerolinecolor\": \"white\"}}, \"shapedefaults\": {\"line\": {\"color\": \"#2a3f5f\"}}, \"ternary\": {\"aaxis\": {\"gridcolor\": \"white\", \"linecolor\": \"white\", \"ticks\": \"\"}, \"baxis\": {\"gridcolor\": \"white\", \"linecolor\": \"white\", \"ticks\": \"\"}, \"bgcolor\": \"#E5ECF6\", \"caxis\": {\"gridcolor\": \"white\", \"linecolor\": \"white\", \"ticks\": \"\"}}, \"title\": {\"x\": 0.05}, \"xaxis\": {\"automargin\": true, \"gridcolor\": \"white\", \"linecolor\": \"white\", \"ticks\": \"\", \"title\": {\"standoff\": 15}, \"zerolinecolor\": \"white\", \"zerolinewidth\": 2}, \"yaxis\": {\"automargin\": true, \"gridcolor\": \"white\", \"linecolor\": \"white\", \"ticks\": \"\", \"title\": {\"standoff\": 15}, \"zerolinecolor\": \"white\", \"zerolinewidth\": 2}}}, \"title\": {\"text\": \"Pourcentage de chaque genres\"}},\n",
              "                        {\"responsive\": true}\n",
              "                    ).then(function(){\n",
              "                            \n",
              "var gd = document.getElementById('0873599b-1b2d-46d6-9a10-270ee09464bf');\n",
              "var x = new MutationObserver(function (mutations, observer) {{\n",
              "        var display = window.getComputedStyle(gd).display;\n",
              "        if (!display || display === 'none') {{\n",
              "            console.log([gd, 'removed!']);\n",
              "            Plotly.purge(gd);\n",
              "            observer.disconnect();\n",
              "        }}\n",
              "}});\n",
              "\n",
              "// Listen for the removal of the full notebook cells\n",
              "var notebookContainer = gd.closest('#notebook-container');\n",
              "if (notebookContainer) {{\n",
              "    x.observe(notebookContainer, {childList: true});\n",
              "}}\n",
              "\n",
              "// Listen for the clearing of the current output cell\n",
              "var outputEl = gd.closest('.output');\n",
              "if (outputEl) {{\n",
              "    x.observe(outputEl, {childList: true});\n",
              "}}\n",
              "\n",
              "                        })\n",
              "                };\n",
              "                \n",
              "            </script>\n",
              "        </div>\n",
              "</body>\n",
              "</html>"
            ]
          },
          "metadata": {
            "tags": []
          }
        }
      ]
    },
    {
      "cell_type": "code",
      "metadata": {
        "colab": {
          "base_uri": "https://localhost:8080/",
          "height": 542
        },
        "id": "CyGUahZKd7FK",
        "outputId": "73b900b9-1526-49b1-cfac-aa76df4b0ab2"
      },
      "source": [
        "import plotly.express as px\n",
        "data = px.data.gapminder()\n",
        "\n",
        "\n",
        "fig = px.bar(df, x=df[\"réalisateur\"].value_counts().index, y=df[\"réalisateur\"].value_counts().values,\n",
        "            color_discrete_sequence=px.colors.sequential.RdBu\n",
        "             \n",
        "             )\n",
        "fig.update_layout(title_text='Réalisateur')\n",
        "fig.show()"
      ],
      "execution_count": 250,
      "outputs": [
        {
          "output_type": "display_data",
          "data": {
            "text/html": [
              "<html>\n",
              "<head><meta charset=\"utf-8\" /></head>\n",
              "<body>\n",
              "    <div>\n",
              "            <script src=\"https://cdnjs.cloudflare.com/ajax/libs/mathjax/2.7.5/MathJax.js?config=TeX-AMS-MML_SVG\"></script><script type=\"text/javascript\">if (window.MathJax) {MathJax.Hub.Config({SVG: {font: \"STIX-Web\"}});}</script>\n",
              "                <script type=\"text/javascript\">window.PlotlyConfig = {MathJaxConfig: 'local'};</script>\n",
              "        <script src=\"https://cdn.plot.ly/plotly-latest.min.js\"></script>    \n",
              "            <div id=\"6658eeba-895b-42b3-8b6c-80d5cafdc134\" class=\"plotly-graph-div\" style=\"height:525px; width:100%;\"></div>\n",
              "            <script type=\"text/javascript\">\n",
              "                \n",
              "                    window.PLOTLYENV=window.PLOTLYENV || {};\n",
              "                    \n",
              "                if (document.getElementById(\"6658eeba-895b-42b3-8b6c-80d5cafdc134\")) {\n",
              "                    Plotly.newPlot(\n",
              "                        '6658eeba-895b-42b3-8b6c-80d5cafdc134',\n",
              "                        [{\"alignmentgroup\": \"True\", \"hoverlabel\": {\"namelength\": 0}, \"hovertemplate\": \"x=%{x}<br>y=%{y}\", \"legendgroup\": \"\", \"marker\": {\"color\": \"rgb(103,0,31)\"}, \"name\": \"\", \"offsetgroup\": \"\", \"orientation\": \"v\", \"showlegend\": false, \"textposition\": \"auto\", \"type\": \"bar\", \"x\": [\"Christopher Nolan\", \"Stanley Kubrick\", \"Quentin Tarantino\", \"Alfred Hitchcock\", \"Sergio Leone\", \"Francis Ford Coppola\", \"Charles Chaplin\", \"Peter Jackson\", \"Steven Spielberg\", \"Anthony Russo\", \"Milos Forman\", \"Hayao Miyazaki\", \"Akira Kurosawa\", \"David Fincher\", \"Billy Wilder\", \"Martin Scorsese\", \"James Cameron\", \"Ridley Scott\", \"Robert Zemeckis\", \"Frank Darabont\", \"Irvin Kershner\", \"Bryan Singer\", \"George Lucas\", \"Sam Mendes\", \"Bob Persichetti\", \"Luc Besson\", \"Elem Klimov\", \"Andrew Stanton\", \"Thomas Kail\", \"Todd Phillips\", \"Chan-wook Park\", \"Olivier Nakache\", \"Michel Gondry\", \"Florian Henckel von Donnersmarck\", \"Mel Gibson\", \"Aamir Khan\", \"Wolfgang Petersen\", \"Lee Unkrich\", \"Fritz Lang\", \"Lana Wachowski\", \"Richard Marquand\", \"Frank Capra\", \"Gus Van Sant\", \"Rajkumar Hirani\", \"Fernando Meirelles\", \"Isao Takahata\", \"Roger Allers\", \"Stanley Donen\", \"Sidney Lumet\", \"Jonathan Demme\", \"Roman Polanski\", \"Orson Welles\", \"Thomas Vinterberg\", \"Michael Curtiz\", \"Masaki Kobayashi\", \"Vittorio De Sica\", \"Bong Joon Ho\", \"Roberto Benigni\", \"Tony Kaye\", \"Giuseppe Tornatore\", \"John Lasseter\", \"Nadine Labaki\", \"Darren Aronofsky\", \"Makoto Shinkai\", \"Damien Chazelle\"], \"xaxis\": \"x\", \"y\": [6, 4, 4, 4, 3, 3, 3, 3, 3, 2, 2, 2, 2, 2, 2, 2, 2, 2, 2, 2, 1, 1, 1, 1, 1, 1, 1, 1, 1, 1, 1, 1, 1, 1, 1, 1, 1, 1, 1, 1, 1, 1, 1, 1, 1, 1, 1, 1, 1, 1, 1, 1, 1, 1, 1, 1, 1, 1, 1, 1, 1, 1, 1, 1, 1], \"yaxis\": \"y\"}],\n",
              "                        {\"barmode\": \"relative\", \"legend\": {\"tracegroupgap\": 0}, \"margin\": {\"t\": 60}, \"template\": {\"data\": {\"bar\": [{\"error_x\": {\"color\": \"#2a3f5f\"}, \"error_y\": {\"color\": \"#2a3f5f\"}, \"marker\": {\"line\": {\"color\": \"#E5ECF6\", \"width\": 0.5}}, \"type\": \"bar\"}], \"barpolar\": [{\"marker\": {\"line\": {\"color\": \"#E5ECF6\", \"width\": 0.5}}, \"type\": \"barpolar\"}], \"carpet\": [{\"aaxis\": {\"endlinecolor\": \"#2a3f5f\", \"gridcolor\": \"white\", \"linecolor\": \"white\", \"minorgridcolor\": \"white\", \"startlinecolor\": \"#2a3f5f\"}, \"baxis\": {\"endlinecolor\": \"#2a3f5f\", \"gridcolor\": \"white\", \"linecolor\": \"white\", \"minorgridcolor\": \"white\", \"startlinecolor\": \"#2a3f5f\"}, \"type\": \"carpet\"}], \"choropleth\": [{\"colorbar\": {\"outlinewidth\": 0, \"ticks\": \"\"}, \"type\": \"choropleth\"}], \"contour\": [{\"colorbar\": {\"outlinewidth\": 0, \"ticks\": \"\"}, \"colorscale\": [[0.0, \"#0d0887\"], [0.1111111111111111, \"#46039f\"], [0.2222222222222222, \"#7201a8\"], [0.3333333333333333, \"#9c179e\"], [0.4444444444444444, \"#bd3786\"], [0.5555555555555556, \"#d8576b\"], [0.6666666666666666, \"#ed7953\"], [0.7777777777777778, \"#fb9f3a\"], [0.8888888888888888, \"#fdca26\"], [1.0, \"#f0f921\"]], \"type\": \"contour\"}], \"contourcarpet\": [{\"colorbar\": {\"outlinewidth\": 0, \"ticks\": \"\"}, \"type\": \"contourcarpet\"}], \"heatmap\": [{\"colorbar\": {\"outlinewidth\": 0, \"ticks\": \"\"}, \"colorscale\": [[0.0, \"#0d0887\"], [0.1111111111111111, \"#46039f\"], [0.2222222222222222, \"#7201a8\"], [0.3333333333333333, \"#9c179e\"], [0.4444444444444444, \"#bd3786\"], [0.5555555555555556, \"#d8576b\"], [0.6666666666666666, \"#ed7953\"], [0.7777777777777778, \"#fb9f3a\"], [0.8888888888888888, \"#fdca26\"], [1.0, \"#f0f921\"]], \"type\": \"heatmap\"}], \"heatmapgl\": [{\"colorbar\": {\"outlinewidth\": 0, \"ticks\": \"\"}, \"colorscale\": [[0.0, \"#0d0887\"], [0.1111111111111111, \"#46039f\"], [0.2222222222222222, \"#7201a8\"], [0.3333333333333333, \"#9c179e\"], [0.4444444444444444, \"#bd3786\"], [0.5555555555555556, \"#d8576b\"], [0.6666666666666666, \"#ed7953\"], [0.7777777777777778, \"#fb9f3a\"], [0.8888888888888888, \"#fdca26\"], [1.0, \"#f0f921\"]], \"type\": \"heatmapgl\"}], \"histogram\": [{\"marker\": {\"colorbar\": {\"outlinewidth\": 0, \"ticks\": \"\"}}, \"type\": \"histogram\"}], \"histogram2d\": [{\"colorbar\": {\"outlinewidth\": 0, \"ticks\": \"\"}, \"colorscale\": [[0.0, \"#0d0887\"], [0.1111111111111111, \"#46039f\"], [0.2222222222222222, \"#7201a8\"], [0.3333333333333333, \"#9c179e\"], [0.4444444444444444, \"#bd3786\"], [0.5555555555555556, \"#d8576b\"], [0.6666666666666666, \"#ed7953\"], [0.7777777777777778, \"#fb9f3a\"], [0.8888888888888888, \"#fdca26\"], [1.0, \"#f0f921\"]], \"type\": \"histogram2d\"}], \"histogram2dcontour\": [{\"colorbar\": {\"outlinewidth\": 0, \"ticks\": \"\"}, \"colorscale\": [[0.0, \"#0d0887\"], [0.1111111111111111, \"#46039f\"], [0.2222222222222222, \"#7201a8\"], [0.3333333333333333, \"#9c179e\"], [0.4444444444444444, \"#bd3786\"], [0.5555555555555556, \"#d8576b\"], [0.6666666666666666, \"#ed7953\"], [0.7777777777777778, \"#fb9f3a\"], [0.8888888888888888, \"#fdca26\"], [1.0, \"#f0f921\"]], \"type\": \"histogram2dcontour\"}], \"mesh3d\": [{\"colorbar\": {\"outlinewidth\": 0, \"ticks\": \"\"}, \"type\": \"mesh3d\"}], \"parcoords\": [{\"line\": {\"colorbar\": {\"outlinewidth\": 0, \"ticks\": \"\"}}, \"type\": \"parcoords\"}], \"pie\": [{\"automargin\": true, \"type\": \"pie\"}], \"scatter\": [{\"marker\": {\"colorbar\": {\"outlinewidth\": 0, \"ticks\": \"\"}}, \"type\": \"scatter\"}], \"scatter3d\": [{\"line\": {\"colorbar\": {\"outlinewidth\": 0, \"ticks\": \"\"}}, \"marker\": {\"colorbar\": {\"outlinewidth\": 0, \"ticks\": \"\"}}, \"type\": \"scatter3d\"}], \"scattercarpet\": [{\"marker\": {\"colorbar\": {\"outlinewidth\": 0, \"ticks\": \"\"}}, \"type\": \"scattercarpet\"}], \"scattergeo\": [{\"marker\": {\"colorbar\": {\"outlinewidth\": 0, \"ticks\": \"\"}}, \"type\": \"scattergeo\"}], \"scattergl\": [{\"marker\": {\"colorbar\": {\"outlinewidth\": 0, \"ticks\": \"\"}}, \"type\": \"scattergl\"}], \"scattermapbox\": [{\"marker\": {\"colorbar\": {\"outlinewidth\": 0, \"ticks\": \"\"}}, \"type\": \"scattermapbox\"}], \"scatterpolar\": [{\"marker\": {\"colorbar\": {\"outlinewidth\": 0, \"ticks\": \"\"}}, \"type\": \"scatterpolar\"}], \"scatterpolargl\": [{\"marker\": {\"colorbar\": {\"outlinewidth\": 0, \"ticks\": \"\"}}, \"type\": \"scatterpolargl\"}], \"scatterternary\": [{\"marker\": {\"colorbar\": {\"outlinewidth\": 0, \"ticks\": \"\"}}, \"type\": \"scatterternary\"}], \"surface\": [{\"colorbar\": {\"outlinewidth\": 0, \"ticks\": \"\"}, \"colorscale\": [[0.0, \"#0d0887\"], [0.1111111111111111, \"#46039f\"], [0.2222222222222222, \"#7201a8\"], [0.3333333333333333, \"#9c179e\"], [0.4444444444444444, \"#bd3786\"], [0.5555555555555556, \"#d8576b\"], [0.6666666666666666, \"#ed7953\"], [0.7777777777777778, \"#fb9f3a\"], [0.8888888888888888, \"#fdca26\"], [1.0, \"#f0f921\"]], \"type\": \"surface\"}], \"table\": [{\"cells\": {\"fill\": {\"color\": \"#EBF0F8\"}, \"line\": {\"color\": \"white\"}}, \"header\": {\"fill\": {\"color\": \"#C8D4E3\"}, \"line\": {\"color\": \"white\"}}, \"type\": \"table\"}]}, \"layout\": {\"annotationdefaults\": {\"arrowcolor\": \"#2a3f5f\", \"arrowhead\": 0, \"arrowwidth\": 1}, \"coloraxis\": {\"colorbar\": {\"outlinewidth\": 0, \"ticks\": \"\"}}, \"colorscale\": {\"diverging\": [[0, \"#8e0152\"], [0.1, \"#c51b7d\"], [0.2, \"#de77ae\"], [0.3, \"#f1b6da\"], [0.4, \"#fde0ef\"], [0.5, \"#f7f7f7\"], [0.6, \"#e6f5d0\"], [0.7, \"#b8e186\"], [0.8, \"#7fbc41\"], [0.9, \"#4d9221\"], [1, \"#276419\"]], \"sequential\": [[0.0, \"#0d0887\"], [0.1111111111111111, \"#46039f\"], [0.2222222222222222, \"#7201a8\"], [0.3333333333333333, \"#9c179e\"], [0.4444444444444444, \"#bd3786\"], [0.5555555555555556, \"#d8576b\"], [0.6666666666666666, \"#ed7953\"], [0.7777777777777778, \"#fb9f3a\"], [0.8888888888888888, \"#fdca26\"], [1.0, \"#f0f921\"]], \"sequentialminus\": [[0.0, \"#0d0887\"], [0.1111111111111111, \"#46039f\"], [0.2222222222222222, \"#7201a8\"], [0.3333333333333333, \"#9c179e\"], [0.4444444444444444, \"#bd3786\"], [0.5555555555555556, \"#d8576b\"], [0.6666666666666666, \"#ed7953\"], [0.7777777777777778, \"#fb9f3a\"], [0.8888888888888888, \"#fdca26\"], [1.0, \"#f0f921\"]]}, \"colorway\": [\"#636efa\", \"#EF553B\", \"#00cc96\", \"#ab63fa\", \"#FFA15A\", \"#19d3f3\", \"#FF6692\", \"#B6E880\", \"#FF97FF\", \"#FECB52\"], \"font\": {\"color\": \"#2a3f5f\"}, \"geo\": {\"bgcolor\": \"white\", \"lakecolor\": \"white\", \"landcolor\": \"#E5ECF6\", \"showlakes\": true, \"showland\": true, \"subunitcolor\": \"white\"}, \"hoverlabel\": {\"align\": \"left\"}, \"hovermode\": \"closest\", \"mapbox\": {\"style\": \"light\"}, \"paper_bgcolor\": \"white\", \"plot_bgcolor\": \"#E5ECF6\", \"polar\": {\"angularaxis\": {\"gridcolor\": \"white\", \"linecolor\": \"white\", \"ticks\": \"\"}, \"bgcolor\": \"#E5ECF6\", \"radialaxis\": {\"gridcolor\": \"white\", \"linecolor\": \"white\", \"ticks\": \"\"}}, \"scene\": {\"xaxis\": {\"backgroundcolor\": \"#E5ECF6\", \"gridcolor\": \"white\", \"gridwidth\": 2, \"linecolor\": \"white\", \"showbackground\": true, \"ticks\": \"\", \"zerolinecolor\": \"white\"}, \"yaxis\": {\"backgroundcolor\": \"#E5ECF6\", \"gridcolor\": \"white\", \"gridwidth\": 2, \"linecolor\": \"white\", \"showbackground\": true, \"ticks\": \"\", \"zerolinecolor\": \"white\"}, \"zaxis\": {\"backgroundcolor\": \"#E5ECF6\", \"gridcolor\": \"white\", \"gridwidth\": 2, \"linecolor\": \"white\", \"showbackground\": true, \"ticks\": \"\", \"zerolinecolor\": \"white\"}}, \"shapedefaults\": {\"line\": {\"color\": \"#2a3f5f\"}}, \"ternary\": {\"aaxis\": {\"gridcolor\": \"white\", \"linecolor\": \"white\", \"ticks\": \"\"}, \"baxis\": {\"gridcolor\": \"white\", \"linecolor\": \"white\", \"ticks\": \"\"}, \"bgcolor\": \"#E5ECF6\", \"caxis\": {\"gridcolor\": \"white\", \"linecolor\": \"white\", \"ticks\": \"\"}}, \"title\": {\"x\": 0.05}, \"xaxis\": {\"automargin\": true, \"gridcolor\": \"white\", \"linecolor\": \"white\", \"ticks\": \"\", \"title\": {\"standoff\": 15}, \"zerolinecolor\": \"white\", \"zerolinewidth\": 2}, \"yaxis\": {\"automargin\": true, \"gridcolor\": \"white\", \"linecolor\": \"white\", \"ticks\": \"\", \"title\": {\"standoff\": 15}, \"zerolinecolor\": \"white\", \"zerolinewidth\": 2}}}, \"title\": {\"text\": \"R\\u00e9alisateur\"}, \"xaxis\": {\"anchor\": \"y\", \"domain\": [0.0, 1.0], \"title\": {\"text\": \"x\"}}, \"yaxis\": {\"anchor\": \"x\", \"domain\": [0.0, 1.0], \"title\": {\"text\": \"y\"}}},\n",
              "                        {\"responsive\": true}\n",
              "                    ).then(function(){\n",
              "                            \n",
              "var gd = document.getElementById('6658eeba-895b-42b3-8b6c-80d5cafdc134');\n",
              "var x = new MutationObserver(function (mutations, observer) {{\n",
              "        var display = window.getComputedStyle(gd).display;\n",
              "        if (!display || display === 'none') {{\n",
              "            console.log([gd, 'removed!']);\n",
              "            Plotly.purge(gd);\n",
              "            observer.disconnect();\n",
              "        }}\n",
              "}});\n",
              "\n",
              "// Listen for the removal of the full notebook cells\n",
              "var notebookContainer = gd.closest('#notebook-container');\n",
              "if (notebookContainer) {{\n",
              "    x.observe(notebookContainer, {childList: true});\n",
              "}}\n",
              "\n",
              "// Listen for the clearing of the current output cell\n",
              "var outputEl = gd.closest('.output');\n",
              "if (outputEl) {{\n",
              "    x.observe(outputEl, {childList: true});\n",
              "}}\n",
              "\n",
              "                        })\n",
              "                };\n",
              "                \n",
              "            </script>\n",
              "        </div>\n",
              "</body>\n",
              "</html>"
            ]
          },
          "metadata": {
            "tags": []
          }
        }
      ]
    },
    {
      "cell_type": "code",
      "metadata": {
        "id": "3T7GuVTkdcow"
      },
      "source": [
        "list_all_actor_value=[]\n",
        "for i in range(0,100):\n",
        "  for j in range(0,3):\n",
        "    c=df[\"acteur\"][i][j]\n",
        "    list_all_actor_value.append(c)\n"
      ],
      "execution_count": 252,
      "outputs": []
    },
    {
      "cell_type": "code",
      "metadata": {
        "id": "CeO0YzRCevQ-"
      },
      "source": [
        "df_actor = pd.DataFrame({\"acteur\": list_all_actor_value})"
      ],
      "execution_count": 253,
      "outputs": []
    },
    {
      "cell_type": "code",
      "metadata": {
        "id": "P6pKdWvVf4vQ"
      },
      "source": [
        "nbr_actor_values=[]\n",
        "nbr_actor_index=[]\n",
        "for i in range(0,100):\n",
        "    c=df_actor[\"acteur\"].value_counts().values[i]\n",
        "    j=df_actor[\"acteur\"].value_counts().index[i]\n",
        "\n",
        "    if c > 1:\n",
        "      nbr_actor_values.append(c)\n",
        "      nbr_actor_index.append(j)\n",
        "    \n",
        "      \n"
      ],
      "execution_count": 254,
      "outputs": []
    },
    {
      "cell_type": "code",
      "metadata": {
        "colab": {
          "base_uri": "https://localhost:8080/",
          "height": 542
        },
        "id": "AIKd2v9Ufcfv",
        "outputId": "bc33b4ba-1ca1-49b1-9217-25a0476f2160"
      },
      "source": [
        "import plotly.express as px\n",
        "data = px.data.gapminder()\n",
        "\n",
        "\n",
        "fig = px.bar(df, x=nbr_actor_index, y=nbr_actor_values,\n",
        "            color=nbr_actor_index\n",
        "             \n",
        "             )\n",
        "fig.update_layout(title_text='Acteur famous')\n",
        "fig.show()"
      ],
      "execution_count": 255,
      "outputs": [
        {
          "output_type": "display_data",
          "data": {
            "text/html": [
              "<html>\n",
              "<head><meta charset=\"utf-8\" /></head>\n",
              "<body>\n",
              "    <div>\n",
              "            <script src=\"https://cdnjs.cloudflare.com/ajax/libs/mathjax/2.7.5/MathJax.js?config=TeX-AMS-MML_SVG\"></script><script type=\"text/javascript\">if (window.MathJax) {MathJax.Hub.Config({SVG: {font: \"STIX-Web\"}});}</script>\n",
              "                <script type=\"text/javascript\">window.PlotlyConfig = {MathJaxConfig: 'local'};</script>\n",
              "        <script src=\"https://cdn.plot.ly/plotly-latest.min.js\"></script>    \n",
              "            <div id=\"57229c87-7cec-4ed5-a467-0653f36487f7\" class=\"plotly-graph-div\" style=\"height:525px; width:100%;\"></div>\n",
              "            <script type=\"text/javascript\">\n",
              "                \n",
              "                    window.PLOTLYENV=window.PLOTLYENV || {};\n",
              "                    \n",
              "                if (document.getElementById(\"57229c87-7cec-4ed5-a467-0653f36487f7\")) {\n",
              "                    Plotly.newPlot(\n",
              "                        '57229c87-7cec-4ed5-a467-0653f36487f7',\n",
              "                        [{\"alignmentgroup\": \"True\", \"hoverlabel\": {\"namelength\": 0}, \"hovertemplate\": \"color=Robert De Niro<br>x=%{x}<br>y=%{y}\", \"legendgroup\": \"color=Robert De Niro\", \"marker\": {\"color\": \"#636efa\"}, \"name\": \"color=Robert De Niro\", \"offsetgroup\": \"color=Robert De Niro\", \"orientation\": \"v\", \"showlegend\": true, \"textposition\": \"auto\", \"type\": \"bar\", \"x\": [\"Robert De Niro\"], \"xaxis\": \"x\", \"y\": [4], \"yaxis\": \"y\"}, {\"alignmentgroup\": \"True\", \"hoverlabel\": {\"namelength\": 0}, \"hovertemplate\": \"color=Harrison Ford<br>x=%{x}<br>y=%{y}\", \"legendgroup\": \"color=Harrison Ford\", \"marker\": {\"color\": \"#EF553B\"}, \"name\": \"color=Harrison Ford\", \"offsetgroup\": \"color=Harrison Ford\", \"orientation\": \"v\", \"showlegend\": true, \"textposition\": \"auto\", \"type\": \"bar\", \"x\": [\"Harrison Ford\"], \"xaxis\": \"x\", \"y\": [4], \"yaxis\": \"y\"}, {\"alignmentgroup\": \"True\", \"hoverlabel\": {\"namelength\": 0}, \"hovertemplate\": \"color=Charles Chaplin<br>x=%{x}<br>y=%{y}\", \"legendgroup\": \"color=Charles Chaplin\", \"marker\": {\"color\": \"#00cc96\"}, \"name\": \"color=Charles Chaplin\", \"offsetgroup\": \"color=Charles Chaplin\", \"orientation\": \"v\", \"showlegend\": true, \"textposition\": \"auto\", \"type\": \"bar\", \"x\": [\"Charles Chaplin\"], \"xaxis\": \"x\", \"y\": [3], \"yaxis\": \"y\"}, {\"alignmentgroup\": \"True\", \"hoverlabel\": {\"namelength\": 0}, \"hovertemplate\": \"color=Christian Bale<br>x=%{x}<br>y=%{y}\", \"legendgroup\": \"color=Christian Bale\", \"marker\": {\"color\": \"#ab63fa\"}, \"name\": \"color=Christian Bale\", \"offsetgroup\": \"color=Christian Bale\", \"orientation\": \"v\", \"showlegend\": true, \"textposition\": \"auto\", \"type\": \"bar\", \"x\": [\"Christian Bale\"], \"xaxis\": \"x\", \"y\": [3], \"yaxis\": \"y\"}, {\"alignmentgroup\": \"True\", \"hoverlabel\": {\"namelength\": 0}, \"hovertemplate\": \"color=James Stewart<br>x=%{x}<br>y=%{y}\", \"legendgroup\": \"color=James Stewart\", \"marker\": {\"color\": \"#FFA15A\"}, \"name\": \"color=James Stewart\", \"offsetgroup\": \"color=James Stewart\", \"orientation\": \"v\", \"showlegend\": true, \"textposition\": \"auto\", \"type\": \"bar\", \"x\": [\"James Stewart\"], \"xaxis\": \"x\", \"y\": [3], \"yaxis\": \"y\"}, {\"alignmentgroup\": \"True\", \"hoverlabel\": {\"namelength\": 0}, \"hovertemplate\": \"color=Tom Hanks<br>x=%{x}<br>y=%{y}\", \"legendgroup\": \"color=Tom Hanks\", \"marker\": {\"color\": \"#19d3f3\"}, \"name\": \"color=Tom Hanks\", \"offsetgroup\": \"color=Tom Hanks\", \"orientation\": \"v\", \"showlegend\": true, \"textposition\": \"auto\", \"type\": \"bar\", \"x\": [\"Tom Hanks\"], \"xaxis\": \"x\", \"y\": [3], \"yaxis\": \"y\"}, {\"alignmentgroup\": \"True\", \"hoverlabel\": {\"namelength\": 0}, \"hovertemplate\": \"color=Matt Damon<br>x=%{x}<br>y=%{y}\", \"legendgroup\": \"color=Matt Damon\", \"marker\": {\"color\": \"#FF6692\"}, \"name\": \"color=Matt Damon\", \"offsetgroup\": \"color=Matt Damon\", \"orientation\": \"v\", \"showlegend\": true, \"textposition\": \"auto\", \"type\": \"bar\", \"x\": [\"Matt Damon\"], \"xaxis\": \"x\", \"y\": [3], \"yaxis\": \"y\"}, {\"alignmentgroup\": \"True\", \"hoverlabel\": {\"namelength\": 0}, \"hovertemplate\": \"color=Elijah Wood<br>x=%{x}<br>y=%{y}\", \"legendgroup\": \"color=Elijah Wood\", \"marker\": {\"color\": \"#B6E880\"}, \"name\": \"color=Elijah Wood\", \"offsetgroup\": \"color=Elijah Wood\", \"orientation\": \"v\", \"showlegend\": true, \"textposition\": \"auto\", \"type\": \"bar\", \"x\": [\"Elijah Wood\"], \"xaxis\": \"x\", \"y\": [3], \"yaxis\": \"y\"}, {\"alignmentgroup\": \"True\", \"hoverlabel\": {\"namelength\": 0}, \"hovertemplate\": \"color=Philippa Boyens<br>x=%{x}<br>y=%{y}\", \"legendgroup\": \"color=Philippa Boyens\", \"marker\": {\"color\": \"#FF97FF\"}, \"name\": \"color=Philippa Boyens\", \"offsetgroup\": \"color=Philippa Boyens\", \"orientation\": \"v\", \"showlegend\": true, \"textposition\": \"auto\", \"type\": \"bar\", \"x\": [\"Philippa Boyens\"], \"xaxis\": \"x\", \"y\": [3], \"yaxis\": \"y\"}, {\"alignmentgroup\": \"True\", \"hoverlabel\": {\"namelength\": 0}, \"hovertemplate\": \"color=Sigourney Weaver<br>x=%{x}<br>y=%{y}\", \"legendgroup\": \"color=Sigourney Weaver\", \"marker\": {\"color\": \"#FECB52\"}, \"name\": \"color=Sigourney Weaver\", \"offsetgroup\": \"color=Sigourney Weaver\", \"orientation\": \"v\", \"showlegend\": true, \"textposition\": \"auto\", \"type\": \"bar\", \"x\": [\"Sigourney Weaver\"], \"xaxis\": \"x\", \"y\": [2], \"yaxis\": \"y\"}, {\"alignmentgroup\": \"True\", \"hoverlabel\": {\"namelength\": 0}, \"hovertemplate\": \"color=Joaquin Phoenix<br>x=%{x}<br>y=%{y}\", \"legendgroup\": \"color=Joaquin Phoenix\", \"marker\": {\"color\": \"#636efa\"}, \"name\": \"color=Joaquin Phoenix\", \"offsetgroup\": \"color=Joaquin Phoenix\", \"orientation\": \"v\", \"showlegend\": true, \"textposition\": \"auto\", \"type\": \"bar\", \"x\": [\"Joaquin Phoenix\"], \"xaxis\": \"x\", \"y\": [2], \"yaxis\": \"y\"}, {\"alignmentgroup\": \"True\", \"hoverlabel\": {\"namelength\": 0}, \"hovertemplate\": \"color=Toshir\\u00f4 Mifune<br>x=%{x}<br>y=%{y}\", \"legendgroup\": \"color=Toshir\\u00f4 Mifune\", \"marker\": {\"color\": \"#EF553B\"}, \"name\": \"color=Toshir\\u00f4 Mifune\", \"offsetgroup\": \"color=Toshir\\u00f4 Mifune\", \"orientation\": \"v\", \"showlegend\": true, \"textposition\": \"auto\", \"type\": \"bar\", \"x\": [\"Toshir\\u00f4 Mifune\"], \"xaxis\": \"x\", \"y\": [2], \"yaxis\": \"y\"}, {\"alignmentgroup\": \"True\", \"hoverlabel\": {\"namelength\": 0}, \"hovertemplate\": \"color=Quentin Tarantino<br>x=%{x}<br>y=%{y}\", \"legendgroup\": \"color=Quentin Tarantino\", \"marker\": {\"color\": \"#00cc96\"}, \"name\": \"color=Quentin Tarantino\", \"offsetgroup\": \"color=Quentin Tarantino\", \"orientation\": \"v\", \"showlegend\": true, \"textposition\": \"auto\", \"type\": \"bar\", \"x\": [\"Quentin Tarantino\"], \"xaxis\": \"x\", \"y\": [2], \"yaxis\": \"y\"}, {\"alignmentgroup\": \"True\", \"hoverlabel\": {\"namelength\": 0}, \"hovertemplate\": \"color=Paulette Goddard<br>x=%{x}<br>y=%{y}\", \"legendgroup\": \"color=Paulette Goddard\", \"marker\": {\"color\": \"#ab63fa\"}, \"name\": \"color=Paulette Goddard\", \"offsetgroup\": \"color=Paulette Goddard\", \"orientation\": \"v\", \"showlegend\": true, \"textposition\": \"auto\", \"type\": \"bar\", \"x\": [\"Paulette Goddard\"], \"xaxis\": \"x\", \"y\": [2], \"yaxis\": \"y\"}, {\"alignmentgroup\": \"True\", \"hoverlabel\": {\"namelength\": 0}, \"hovertemplate\": \"color=Marlon Brando<br>x=%{x}<br>y=%{y}\", \"legendgroup\": \"color=Marlon Brando\", \"marker\": {\"color\": \"#FFA15A\"}, \"name\": \"color=Marlon Brando\", \"offsetgroup\": \"color=Marlon Brando\", \"orientation\": \"v\", \"showlegend\": true, \"textposition\": \"auto\", \"type\": \"bar\", \"x\": [\"Marlon Brando\"], \"xaxis\": \"x\", \"y\": [2], \"yaxis\": \"y\"}, {\"alignmentgroup\": \"True\", \"hoverlabel\": {\"namelength\": 0}, \"hovertemplate\": \"color=Brad Pitt<br>x=%{x}<br>y=%{y}\", \"legendgroup\": \"color=Brad Pitt\", \"marker\": {\"color\": \"#19d3f3\"}, \"name\": \"color=Brad Pitt\", \"offsetgroup\": \"color=Brad Pitt\", \"orientation\": \"v\", \"showlegend\": true, \"textposition\": \"auto\", \"type\": \"bar\", \"x\": [\"Brad Pitt\"], \"xaxis\": \"x\", \"y\": [2], \"yaxis\": \"y\"}, {\"alignmentgroup\": \"True\", \"hoverlabel\": {\"namelength\": 0}, \"hovertemplate\": \"color=George Lucas<br>x=%{x}<br>y=%{y}\", \"legendgroup\": \"color=George Lucas\", \"marker\": {\"color\": \"#FF6692\"}, \"name\": \"color=George Lucas\", \"offsetgroup\": \"color=George Lucas\", \"orientation\": \"v\", \"showlegend\": true, \"textposition\": \"auto\", \"type\": \"bar\", \"x\": [\"George Lucas\"], \"xaxis\": \"x\", \"y\": [2], \"yaxis\": \"y\"}, {\"alignmentgroup\": \"True\", \"hoverlabel\": {\"namelength\": 0}, \"hovertemplate\": \"color=Edward Furlong<br>x=%{x}<br>y=%{y}\", \"legendgroup\": \"color=Edward Furlong\", \"marker\": {\"color\": \"#B6E880\"}, \"name\": \"color=Edward Furlong\", \"offsetgroup\": \"color=Edward Furlong\", \"orientation\": \"v\", \"showlegend\": true, \"textposition\": \"auto\", \"type\": \"bar\", \"x\": [\"Edward Furlong\"], \"xaxis\": \"x\", \"y\": [2], \"yaxis\": \"y\"}, {\"alignmentgroup\": \"True\", \"hoverlabel\": {\"namelength\": 0}, \"hovertemplate\": \"color=Stan Lee<br>x=%{x}<br>y=%{y}\", \"legendgroup\": \"color=Stan Lee\", \"marker\": {\"color\": \"#FF97FF\"}, \"name\": \"color=Stan Lee\", \"offsetgroup\": \"color=Stan Lee\", \"orientation\": \"v\", \"showlegend\": true, \"textposition\": \"auto\", \"type\": \"bar\", \"x\": [\"Stan Lee\"], \"xaxis\": \"x\", \"y\": [2], \"yaxis\": \"y\"}, {\"alignmentgroup\": \"True\", \"hoverlabel\": {\"namelength\": 0}, \"hovertemplate\": \"color=Robert Downey Jr.<br>x=%{x}<br>y=%{y}\", \"legendgroup\": \"color=Robert Downey Jr.\", \"marker\": {\"color\": \"#FECB52\"}, \"name\": \"color=Robert Downey Jr.\", \"offsetgroup\": \"color=Robert Downey Jr.\", \"orientation\": \"v\", \"showlegend\": true, \"textposition\": \"auto\", \"type\": \"bar\", \"x\": [\"Robert Downey Jr.\"], \"xaxis\": \"x\", \"y\": [2], \"yaxis\": \"y\"}, {\"alignmentgroup\": \"True\", \"hoverlabel\": {\"namelength\": 0}, \"hovertemplate\": \"color=Jack Nicholson<br>x=%{x}<br>y=%{y}\", \"legendgroup\": \"color=Jack Nicholson\", \"marker\": {\"color\": \"#636efa\"}, \"name\": \"color=Jack Nicholson\", \"offsetgroup\": \"color=Jack Nicholson\", \"orientation\": \"v\", \"showlegend\": true, \"textposition\": \"auto\", \"type\": \"bar\", \"x\": [\"Jack Nicholson\"], \"xaxis\": \"x\", \"y\": [2], \"yaxis\": \"y\"}, {\"alignmentgroup\": \"True\", \"hoverlabel\": {\"namelength\": 0}, \"hovertemplate\": \"color=Ian McKellen<br>x=%{x}<br>y=%{y}\", \"legendgroup\": \"color=Ian McKellen\", \"marker\": {\"color\": \"#EF553B\"}, \"name\": \"color=Ian McKellen\", \"offsetgroup\": \"color=Ian McKellen\", \"orientation\": \"v\", \"showlegend\": true, \"textposition\": \"auto\", \"type\": \"bar\", \"x\": [\"Ian McKellen\"], \"xaxis\": \"x\", \"y\": [2], \"yaxis\": \"y\"}, {\"alignmentgroup\": \"True\", \"hoverlabel\": {\"namelength\": 0}, \"hovertemplate\": \"color=Aamir Khan<br>x=%{x}<br>y=%{y}\", \"legendgroup\": \"color=Aamir Khan\", \"marker\": {\"color\": \"#00cc96\"}, \"name\": \"color=Aamir Khan\", \"offsetgroup\": \"color=Aamir Khan\", \"orientation\": \"v\", \"showlegend\": true, \"textposition\": \"auto\", \"type\": \"bar\", \"x\": [\"Aamir Khan\"], \"xaxis\": \"x\", \"y\": [2], \"yaxis\": \"y\"}, {\"alignmentgroup\": \"True\", \"hoverlabel\": {\"namelength\": 0}, \"hovertemplate\": \"color=Stephen McFeely<br>x=%{x}<br>y=%{y}\", \"legendgroup\": \"color=Stephen McFeely\", \"marker\": {\"color\": \"#ab63fa\"}, \"name\": \"color=Stephen McFeely\", \"offsetgroup\": \"color=Stephen McFeely\", \"orientation\": \"v\", \"showlegend\": true, \"textposition\": \"auto\", \"type\": \"bar\", \"x\": [\"Stephen McFeely\"], \"xaxis\": \"x\", \"y\": [2], \"yaxis\": \"y\"}, {\"alignmentgroup\": \"True\", \"hoverlabel\": {\"namelength\": 0}, \"hovertemplate\": \"color=Carrie Fisher<br>x=%{x}<br>y=%{y}\", \"legendgroup\": \"color=Carrie Fisher\", \"marker\": {\"color\": \"#FFA15A\"}, \"name\": \"color=Carrie Fisher\", \"offsetgroup\": \"color=Carrie Fisher\", \"orientation\": \"v\", \"showlegend\": true, \"textposition\": \"auto\", \"type\": \"bar\", \"x\": [\"Carrie Fisher\"], \"xaxis\": \"x\", \"y\": [2], \"yaxis\": \"y\"}, {\"alignmentgroup\": \"True\", \"hoverlabel\": {\"namelength\": 0}, \"hovertemplate\": \"color=Leonardo DiCaprio<br>x=%{x}<br>y=%{y}\", \"legendgroup\": \"color=Leonardo DiCaprio\", \"marker\": {\"color\": \"#19d3f3\"}, \"name\": \"color=Leonardo DiCaprio\", \"offsetgroup\": \"color=Leonardo DiCaprio\", \"orientation\": \"v\", \"showlegend\": true, \"textposition\": \"auto\", \"type\": \"bar\", \"x\": [\"Leonardo DiCaprio\"], \"xaxis\": \"x\", \"y\": [2], \"yaxis\": \"y\"}, {\"alignmentgroup\": \"True\", \"hoverlabel\": {\"namelength\": 0}, \"hovertemplate\": \"color=Mark Hamill<br>x=%{x}<br>y=%{y}\", \"legendgroup\": \"color=Mark Hamill\", \"marker\": {\"color\": \"#FF6692\"}, \"name\": \"color=Mark Hamill\", \"offsetgroup\": \"color=Mark Hamill\", \"orientation\": \"v\", \"showlegend\": true, \"textposition\": \"auto\", \"type\": \"bar\", \"x\": [\"Mark Hamill\"], \"xaxis\": \"x\", \"y\": [2], \"yaxis\": \"y\"}, {\"alignmentgroup\": \"True\", \"hoverlabel\": {\"namelength\": 0}, \"hovertemplate\": \"color=David S. Goyer<br>x=%{x}<br>y=%{y}\", \"legendgroup\": \"color=David S. Goyer\", \"marker\": {\"color\": \"#B6E880\"}, \"name\": \"color=David S. Goyer\", \"offsetgroup\": \"color=David S. Goyer\", \"orientation\": \"v\", \"showlegend\": true, \"textposition\": \"auto\", \"type\": \"bar\", \"x\": [\"David S. Goyer\"], \"xaxis\": \"x\", \"y\": [2], \"yaxis\": \"y\"}, {\"alignmentgroup\": \"True\", \"hoverlabel\": {\"namelength\": 0}, \"hovertemplate\": \"color=Al Pacino<br>x=%{x}<br>y=%{y}\", \"legendgroup\": \"color=Al Pacino\", \"marker\": {\"color\": \"#FF97FF\"}, \"name\": \"color=Al Pacino\", \"offsetgroup\": \"color=Al Pacino\", \"orientation\": \"v\", \"showlegend\": true, \"textposition\": \"auto\", \"type\": \"bar\", \"x\": [\"Al Pacino\"], \"xaxis\": \"x\", \"y\": [2], \"yaxis\": \"y\"}],\n",
              "                        {\"barmode\": \"relative\", \"legend\": {\"tracegroupgap\": 0}, \"margin\": {\"t\": 60}, \"template\": {\"data\": {\"bar\": [{\"error_x\": {\"color\": \"#2a3f5f\"}, \"error_y\": {\"color\": \"#2a3f5f\"}, \"marker\": {\"line\": {\"color\": \"#E5ECF6\", \"width\": 0.5}}, \"type\": \"bar\"}], \"barpolar\": [{\"marker\": {\"line\": {\"color\": \"#E5ECF6\", \"width\": 0.5}}, \"type\": \"barpolar\"}], \"carpet\": [{\"aaxis\": {\"endlinecolor\": \"#2a3f5f\", \"gridcolor\": \"white\", \"linecolor\": \"white\", \"minorgridcolor\": \"white\", \"startlinecolor\": \"#2a3f5f\"}, \"baxis\": {\"endlinecolor\": \"#2a3f5f\", \"gridcolor\": \"white\", \"linecolor\": \"white\", \"minorgridcolor\": \"white\", \"startlinecolor\": \"#2a3f5f\"}, \"type\": \"carpet\"}], \"choropleth\": [{\"colorbar\": {\"outlinewidth\": 0, \"ticks\": \"\"}, \"type\": \"choropleth\"}], \"contour\": [{\"colorbar\": {\"outlinewidth\": 0, \"ticks\": \"\"}, \"colorscale\": [[0.0, \"#0d0887\"], [0.1111111111111111, \"#46039f\"], [0.2222222222222222, \"#7201a8\"], [0.3333333333333333, \"#9c179e\"], [0.4444444444444444, \"#bd3786\"], [0.5555555555555556, \"#d8576b\"], [0.6666666666666666, \"#ed7953\"], [0.7777777777777778, \"#fb9f3a\"], [0.8888888888888888, \"#fdca26\"], [1.0, \"#f0f921\"]], \"type\": \"contour\"}], \"contourcarpet\": [{\"colorbar\": {\"outlinewidth\": 0, \"ticks\": \"\"}, \"type\": \"contourcarpet\"}], \"heatmap\": [{\"colorbar\": {\"outlinewidth\": 0, \"ticks\": \"\"}, \"colorscale\": [[0.0, \"#0d0887\"], [0.1111111111111111, \"#46039f\"], [0.2222222222222222, \"#7201a8\"], [0.3333333333333333, \"#9c179e\"], [0.4444444444444444, \"#bd3786\"], [0.5555555555555556, \"#d8576b\"], [0.6666666666666666, \"#ed7953\"], [0.7777777777777778, \"#fb9f3a\"], [0.8888888888888888, \"#fdca26\"], [1.0, \"#f0f921\"]], \"type\": \"heatmap\"}], \"heatmapgl\": [{\"colorbar\": {\"outlinewidth\": 0, \"ticks\": \"\"}, \"colorscale\": [[0.0, \"#0d0887\"], [0.1111111111111111, \"#46039f\"], [0.2222222222222222, \"#7201a8\"], [0.3333333333333333, \"#9c179e\"], [0.4444444444444444, \"#bd3786\"], [0.5555555555555556, \"#d8576b\"], [0.6666666666666666, \"#ed7953\"], [0.7777777777777778, \"#fb9f3a\"], [0.8888888888888888, \"#fdca26\"], [1.0, \"#f0f921\"]], \"type\": \"heatmapgl\"}], \"histogram\": [{\"marker\": {\"colorbar\": {\"outlinewidth\": 0, \"ticks\": \"\"}}, \"type\": \"histogram\"}], \"histogram2d\": [{\"colorbar\": {\"outlinewidth\": 0, \"ticks\": \"\"}, \"colorscale\": [[0.0, \"#0d0887\"], [0.1111111111111111, \"#46039f\"], [0.2222222222222222, \"#7201a8\"], [0.3333333333333333, \"#9c179e\"], [0.4444444444444444, \"#bd3786\"], [0.5555555555555556, \"#d8576b\"], [0.6666666666666666, \"#ed7953\"], [0.7777777777777778, \"#fb9f3a\"], [0.8888888888888888, \"#fdca26\"], [1.0, \"#f0f921\"]], \"type\": \"histogram2d\"}], \"histogram2dcontour\": [{\"colorbar\": {\"outlinewidth\": 0, \"ticks\": \"\"}, \"colorscale\": [[0.0, \"#0d0887\"], [0.1111111111111111, \"#46039f\"], [0.2222222222222222, \"#7201a8\"], [0.3333333333333333, \"#9c179e\"], [0.4444444444444444, \"#bd3786\"], [0.5555555555555556, \"#d8576b\"], [0.6666666666666666, \"#ed7953\"], [0.7777777777777778, \"#fb9f3a\"], [0.8888888888888888, \"#fdca26\"], [1.0, \"#f0f921\"]], \"type\": \"histogram2dcontour\"}], \"mesh3d\": [{\"colorbar\": {\"outlinewidth\": 0, \"ticks\": \"\"}, \"type\": \"mesh3d\"}], \"parcoords\": [{\"line\": {\"colorbar\": {\"outlinewidth\": 0, \"ticks\": \"\"}}, \"type\": \"parcoords\"}], \"pie\": [{\"automargin\": true, \"type\": \"pie\"}], \"scatter\": [{\"marker\": {\"colorbar\": {\"outlinewidth\": 0, \"ticks\": \"\"}}, \"type\": \"scatter\"}], \"scatter3d\": [{\"line\": {\"colorbar\": {\"outlinewidth\": 0, \"ticks\": \"\"}}, \"marker\": {\"colorbar\": {\"outlinewidth\": 0, \"ticks\": \"\"}}, \"type\": \"scatter3d\"}], \"scattercarpet\": [{\"marker\": {\"colorbar\": {\"outlinewidth\": 0, \"ticks\": \"\"}}, \"type\": \"scattercarpet\"}], \"scattergeo\": [{\"marker\": {\"colorbar\": {\"outlinewidth\": 0, \"ticks\": \"\"}}, \"type\": \"scattergeo\"}], \"scattergl\": [{\"marker\": {\"colorbar\": {\"outlinewidth\": 0, \"ticks\": \"\"}}, \"type\": \"scattergl\"}], \"scattermapbox\": [{\"marker\": {\"colorbar\": {\"outlinewidth\": 0, \"ticks\": \"\"}}, \"type\": \"scattermapbox\"}], \"scatterpolar\": [{\"marker\": {\"colorbar\": {\"outlinewidth\": 0, \"ticks\": \"\"}}, \"type\": \"scatterpolar\"}], \"scatterpolargl\": [{\"marker\": {\"colorbar\": {\"outlinewidth\": 0, \"ticks\": \"\"}}, \"type\": \"scatterpolargl\"}], \"scatterternary\": [{\"marker\": {\"colorbar\": {\"outlinewidth\": 0, \"ticks\": \"\"}}, \"type\": \"scatterternary\"}], \"surface\": [{\"colorbar\": {\"outlinewidth\": 0, \"ticks\": \"\"}, \"colorscale\": [[0.0, \"#0d0887\"], [0.1111111111111111, \"#46039f\"], [0.2222222222222222, \"#7201a8\"], [0.3333333333333333, \"#9c179e\"], [0.4444444444444444, \"#bd3786\"], [0.5555555555555556, \"#d8576b\"], [0.6666666666666666, \"#ed7953\"], [0.7777777777777778, \"#fb9f3a\"], [0.8888888888888888, \"#fdca26\"], [1.0, \"#f0f921\"]], \"type\": \"surface\"}], \"table\": [{\"cells\": {\"fill\": {\"color\": \"#EBF0F8\"}, \"line\": {\"color\": \"white\"}}, \"header\": {\"fill\": {\"color\": \"#C8D4E3\"}, \"line\": {\"color\": \"white\"}}, \"type\": \"table\"}]}, \"layout\": {\"annotationdefaults\": {\"arrowcolor\": \"#2a3f5f\", \"arrowhead\": 0, \"arrowwidth\": 1}, \"coloraxis\": {\"colorbar\": {\"outlinewidth\": 0, \"ticks\": \"\"}}, \"colorscale\": {\"diverging\": [[0, \"#8e0152\"], [0.1, \"#c51b7d\"], [0.2, \"#de77ae\"], [0.3, \"#f1b6da\"], [0.4, \"#fde0ef\"], [0.5, \"#f7f7f7\"], [0.6, \"#e6f5d0\"], [0.7, \"#b8e186\"], [0.8, \"#7fbc41\"], [0.9, \"#4d9221\"], [1, \"#276419\"]], \"sequential\": [[0.0, \"#0d0887\"], [0.1111111111111111, \"#46039f\"], [0.2222222222222222, \"#7201a8\"], [0.3333333333333333, \"#9c179e\"], [0.4444444444444444, \"#bd3786\"], [0.5555555555555556, \"#d8576b\"], [0.6666666666666666, \"#ed7953\"], [0.7777777777777778, \"#fb9f3a\"], [0.8888888888888888, \"#fdca26\"], [1.0, \"#f0f921\"]], \"sequentialminus\": [[0.0, \"#0d0887\"], [0.1111111111111111, \"#46039f\"], [0.2222222222222222, \"#7201a8\"], [0.3333333333333333, \"#9c179e\"], [0.4444444444444444, \"#bd3786\"], [0.5555555555555556, \"#d8576b\"], [0.6666666666666666, \"#ed7953\"], [0.7777777777777778, \"#fb9f3a\"], [0.8888888888888888, \"#fdca26\"], [1.0, \"#f0f921\"]]}, \"colorway\": [\"#636efa\", \"#EF553B\", \"#00cc96\", \"#ab63fa\", \"#FFA15A\", \"#19d3f3\", \"#FF6692\", \"#B6E880\", \"#FF97FF\", \"#FECB52\"], \"font\": {\"color\": \"#2a3f5f\"}, \"geo\": {\"bgcolor\": \"white\", \"lakecolor\": \"white\", \"landcolor\": \"#E5ECF6\", \"showlakes\": true, \"showland\": true, \"subunitcolor\": \"white\"}, \"hoverlabel\": {\"align\": \"left\"}, \"hovermode\": \"closest\", \"mapbox\": {\"style\": \"light\"}, \"paper_bgcolor\": \"white\", \"plot_bgcolor\": \"#E5ECF6\", \"polar\": {\"angularaxis\": {\"gridcolor\": \"white\", \"linecolor\": \"white\", \"ticks\": \"\"}, \"bgcolor\": \"#E5ECF6\", \"radialaxis\": {\"gridcolor\": \"white\", \"linecolor\": \"white\", \"ticks\": \"\"}}, \"scene\": {\"xaxis\": {\"backgroundcolor\": \"#E5ECF6\", \"gridcolor\": \"white\", \"gridwidth\": 2, \"linecolor\": \"white\", \"showbackground\": true, \"ticks\": \"\", \"zerolinecolor\": \"white\"}, \"yaxis\": {\"backgroundcolor\": \"#E5ECF6\", \"gridcolor\": \"white\", \"gridwidth\": 2, \"linecolor\": \"white\", \"showbackground\": true, \"ticks\": \"\", \"zerolinecolor\": \"white\"}, \"zaxis\": {\"backgroundcolor\": \"#E5ECF6\", \"gridcolor\": \"white\", \"gridwidth\": 2, \"linecolor\": \"white\", \"showbackground\": true, \"ticks\": \"\", \"zerolinecolor\": \"white\"}}, \"shapedefaults\": {\"line\": {\"color\": \"#2a3f5f\"}}, \"ternary\": {\"aaxis\": {\"gridcolor\": \"white\", \"linecolor\": \"white\", \"ticks\": \"\"}, \"baxis\": {\"gridcolor\": \"white\", \"linecolor\": \"white\", \"ticks\": \"\"}, \"bgcolor\": \"#E5ECF6\", \"caxis\": {\"gridcolor\": \"white\", \"linecolor\": \"white\", \"ticks\": \"\"}}, \"title\": {\"x\": 0.05}, \"xaxis\": {\"automargin\": true, \"gridcolor\": \"white\", \"linecolor\": \"white\", \"ticks\": \"\", \"title\": {\"standoff\": 15}, \"zerolinecolor\": \"white\", \"zerolinewidth\": 2}, \"yaxis\": {\"automargin\": true, \"gridcolor\": \"white\", \"linecolor\": \"white\", \"ticks\": \"\", \"title\": {\"standoff\": 15}, \"zerolinecolor\": \"white\", \"zerolinewidth\": 2}}}, \"title\": {\"text\": \"Acteur famous\"}, \"xaxis\": {\"anchor\": \"y\", \"domain\": [0.0, 1.0], \"title\": {\"text\": \"x\"}}, \"yaxis\": {\"anchor\": \"x\", \"domain\": [0.0, 1.0], \"title\": {\"text\": \"y\"}}},\n",
              "                        {\"responsive\": true}\n",
              "                    ).then(function(){\n",
              "                            \n",
              "var gd = document.getElementById('57229c87-7cec-4ed5-a467-0653f36487f7');\n",
              "var x = new MutationObserver(function (mutations, observer) {{\n",
              "        var display = window.getComputedStyle(gd).display;\n",
              "        if (!display || display === 'none') {{\n",
              "            console.log([gd, 'removed!']);\n",
              "            Plotly.purge(gd);\n",
              "            observer.disconnect();\n",
              "        }}\n",
              "}});\n",
              "\n",
              "// Listen for the removal of the full notebook cells\n",
              "var notebookContainer = gd.closest('#notebook-container');\n",
              "if (notebookContainer) {{\n",
              "    x.observe(notebookContainer, {childList: true});\n",
              "}}\n",
              "\n",
              "// Listen for the clearing of the current output cell\n",
              "var outputEl = gd.closest('.output');\n",
              "if (outputEl) {{\n",
              "    x.observe(outputEl, {childList: true});\n",
              "}}\n",
              "\n",
              "                        })\n",
              "                };\n",
              "                \n",
              "            </script>\n",
              "        </div>\n",
              "</body>\n",
              "</html>"
            ]
          },
          "metadata": {
            "tags": []
          }
        }
      ]
    },
    {
      "cell_type": "code",
      "metadata": {
        "colab": {
          "base_uri": "https://localhost:8080/",
          "height": 36
        },
        "id": "rPUJl8KEfGTd",
        "outputId": "e59ee5ff-56d6-4745-debd-be5efe918c0a"
      },
      "source": [
        "df[\"réalisateur\"].value_counts().idxmax()"
      ],
      "execution_count": 256,
      "outputs": [
        {
          "output_type": "execute_result",
          "data": {
            "application/vnd.google.colaboratory.intrinsic+json": {
              "type": "string"
            },
            "text/plain": [
              "'Christopher Nolan'"
            ]
          },
          "metadata": {
            "tags": []
          },
          "execution_count": 256
        }
      ]
    },
    {
      "cell_type": "code",
      "metadata": {
        "id": "EkqtrX5QmeM5",
        "colab": {
          "base_uri": "https://localhost:8080/"
        },
        "outputId": "e3ab0f13-b7fe-4e05-c26e-b9656c393638"
      },
      "source": [
        "df[\"durée\"][14]='2h04min'\n",
        "df[\"durée\"][24]='2h01min'\n",
        "df[\"durée\"][26]='2h05min'\n",
        "df[\"durée\"][19]='2h07min'\n",
        "df[\"durée\"][27]='3h09min'\n",
        "df[\"durée\"][55]='2h05min'\n",
        "df[\"durée\"][62]='2h02min'\n",
        "df[\"durée\"][69]='2h00min'\n",
        "df[\"durée\"][76]='2h06min'\n",
        "df[\"durée\"][77]='3h01min'\n",
        "df[\"durée\"][79]='2h02min'\n",
        "df[\"durée\"][85]='2h06min'\n",
        "df[\"durée\"][92]='2h08min'\n",
        "df[\"durée\"][78]='3h01min'\n",
        "df[\"durée\"][68]='2h00min'\n",
        "df[\"durée\"][75]='2h00min'"
      ],
      "execution_count": 257,
      "outputs": [
        {
          "output_type": "stream",
          "text": [
            "/usr/local/lib/python3.7/dist-packages/ipykernel_launcher.py:1: SettingWithCopyWarning:\n",
            "\n",
            "\n",
            "A value is trying to be set on a copy of a slice from a DataFrame\n",
            "\n",
            "See the caveats in the documentation: https://pandas.pydata.org/pandas-docs/stable/user_guide/indexing.html#returning-a-view-versus-a-copy\n",
            "\n",
            "/usr/local/lib/python3.7/dist-packages/ipykernel_launcher.py:2: SettingWithCopyWarning:\n",
            "\n",
            "\n",
            "A value is trying to be set on a copy of a slice from a DataFrame\n",
            "\n",
            "See the caveats in the documentation: https://pandas.pydata.org/pandas-docs/stable/user_guide/indexing.html#returning-a-view-versus-a-copy\n",
            "\n",
            "/usr/local/lib/python3.7/dist-packages/ipykernel_launcher.py:3: SettingWithCopyWarning:\n",
            "\n",
            "\n",
            "A value is trying to be set on a copy of a slice from a DataFrame\n",
            "\n",
            "See the caveats in the documentation: https://pandas.pydata.org/pandas-docs/stable/user_guide/indexing.html#returning-a-view-versus-a-copy\n",
            "\n",
            "/usr/local/lib/python3.7/dist-packages/ipykernel_launcher.py:4: SettingWithCopyWarning:\n",
            "\n",
            "\n",
            "A value is trying to be set on a copy of a slice from a DataFrame\n",
            "\n",
            "See the caveats in the documentation: https://pandas.pydata.org/pandas-docs/stable/user_guide/indexing.html#returning-a-view-versus-a-copy\n",
            "\n",
            "/usr/local/lib/python3.7/dist-packages/ipykernel_launcher.py:5: SettingWithCopyWarning:\n",
            "\n",
            "\n",
            "A value is trying to be set on a copy of a slice from a DataFrame\n",
            "\n",
            "See the caveats in the documentation: https://pandas.pydata.org/pandas-docs/stable/user_guide/indexing.html#returning-a-view-versus-a-copy\n",
            "\n",
            "/usr/local/lib/python3.7/dist-packages/ipykernel_launcher.py:6: SettingWithCopyWarning:\n",
            "\n",
            "\n",
            "A value is trying to be set on a copy of a slice from a DataFrame\n",
            "\n",
            "See the caveats in the documentation: https://pandas.pydata.org/pandas-docs/stable/user_guide/indexing.html#returning-a-view-versus-a-copy\n",
            "\n",
            "/usr/local/lib/python3.7/dist-packages/ipykernel_launcher.py:7: SettingWithCopyWarning:\n",
            "\n",
            "\n",
            "A value is trying to be set on a copy of a slice from a DataFrame\n",
            "\n",
            "See the caveats in the documentation: https://pandas.pydata.org/pandas-docs/stable/user_guide/indexing.html#returning-a-view-versus-a-copy\n",
            "\n",
            "/usr/local/lib/python3.7/dist-packages/ipykernel_launcher.py:8: SettingWithCopyWarning:\n",
            "\n",
            "\n",
            "A value is trying to be set on a copy of a slice from a DataFrame\n",
            "\n",
            "See the caveats in the documentation: https://pandas.pydata.org/pandas-docs/stable/user_guide/indexing.html#returning-a-view-versus-a-copy\n",
            "\n",
            "/usr/local/lib/python3.7/dist-packages/ipykernel_launcher.py:9: SettingWithCopyWarning:\n",
            "\n",
            "\n",
            "A value is trying to be set on a copy of a slice from a DataFrame\n",
            "\n",
            "See the caveats in the documentation: https://pandas.pydata.org/pandas-docs/stable/user_guide/indexing.html#returning-a-view-versus-a-copy\n",
            "\n",
            "/usr/local/lib/python3.7/dist-packages/ipykernel_launcher.py:10: SettingWithCopyWarning:\n",
            "\n",
            "\n",
            "A value is trying to be set on a copy of a slice from a DataFrame\n",
            "\n",
            "See the caveats in the documentation: https://pandas.pydata.org/pandas-docs/stable/user_guide/indexing.html#returning-a-view-versus-a-copy\n",
            "\n",
            "/usr/local/lib/python3.7/dist-packages/ipykernel_launcher.py:11: SettingWithCopyWarning:\n",
            "\n",
            "\n",
            "A value is trying to be set on a copy of a slice from a DataFrame\n",
            "\n",
            "See the caveats in the documentation: https://pandas.pydata.org/pandas-docs/stable/user_guide/indexing.html#returning-a-view-versus-a-copy\n",
            "\n",
            "/usr/local/lib/python3.7/dist-packages/ipykernel_launcher.py:12: SettingWithCopyWarning:\n",
            "\n",
            "\n",
            "A value is trying to be set on a copy of a slice from a DataFrame\n",
            "\n",
            "See the caveats in the documentation: https://pandas.pydata.org/pandas-docs/stable/user_guide/indexing.html#returning-a-view-versus-a-copy\n",
            "\n",
            "/usr/local/lib/python3.7/dist-packages/ipykernel_launcher.py:13: SettingWithCopyWarning:\n",
            "\n",
            "\n",
            "A value is trying to be set on a copy of a slice from a DataFrame\n",
            "\n",
            "See the caveats in the documentation: https://pandas.pydata.org/pandas-docs/stable/user_guide/indexing.html#returning-a-view-versus-a-copy\n",
            "\n",
            "/usr/local/lib/python3.7/dist-packages/ipykernel_launcher.py:14: SettingWithCopyWarning:\n",
            "\n",
            "\n",
            "A value is trying to be set on a copy of a slice from a DataFrame\n",
            "\n",
            "See the caveats in the documentation: https://pandas.pydata.org/pandas-docs/stable/user_guide/indexing.html#returning-a-view-versus-a-copy\n",
            "\n",
            "/usr/local/lib/python3.7/dist-packages/ipykernel_launcher.py:15: SettingWithCopyWarning:\n",
            "\n",
            "\n",
            "A value is trying to be set on a copy of a slice from a DataFrame\n",
            "\n",
            "See the caveats in the documentation: https://pandas.pydata.org/pandas-docs/stable/user_guide/indexing.html#returning-a-view-versus-a-copy\n",
            "\n",
            "/usr/local/lib/python3.7/dist-packages/ipykernel_launcher.py:16: SettingWithCopyWarning:\n",
            "\n",
            "\n",
            "A value is trying to be set on a copy of a slice from a DataFrame\n",
            "\n",
            "See the caveats in the documentation: https://pandas.pydata.org/pandas-docs/stable/user_guide/indexing.html#returning-a-view-versus-a-copy\n",
            "\n"
          ],
          "name": "stderr"
        }
      ]
    },
    {
      "cell_type": "code",
      "metadata": {
        "id": "0SrqfaaekQds"
      },
      "source": [
        "listmin=[]\n",
        "i=0\n",
        "while i < len(df[\"durée\"]):\n",
        "  g=df[\"durée\"][i]\n",
        "\n",
        "  t=g[0]\n",
        "  t=int(t)\n",
        "  f=g[2:4]\n",
        "  f=int(f)\n",
        "  final=t*60+f\n",
        "  listmin.append(final)\n",
        "  i+=1\n"
      ],
      "execution_count": 258,
      "outputs": []
    },
    {
      "cell_type": "code",
      "metadata": {
        "id": "NqZhd5uUlu-7"
      },
      "source": [
        "df[\"durée_min\"]=listmin"
      ],
      "execution_count": 259,
      "outputs": []
    },
    {
      "cell_type": "code",
      "metadata": {
        "colab": {
          "base_uri": "https://localhost:8080/",
          "height": 422
        },
        "id": "yAtanRowfwpv",
        "outputId": "e7da5704-4dbf-47c2-f0ca-a11b51118fbc"
      },
      "source": [
        "# avg. transaction amount at each hour for each transaction type\n",
        "plt.figure(figsize=(18,6))\n",
        "sns.lineplot(data=df.groupby(['rate','genres']).agg({'durée_min' : 'mean'}).round(2).reset_index(),\n",
        "             x='rate',\n",
        "             y='durée_min',\n",
        "             hue='genres')\n",
        "plt.xlabel('Rate', fontsize=15, fontweight='bold')\n",
        "plt.xticks(range(11), range(11),fontsize=15, fontweight='bold', rotation=0)\n",
        "plt.ylabel('Moy durée en min', fontsize=15, fontweight='bold')\n",
        "plt.yticks(fontsize=15, fontweight='bold')\n",
        "plt.title('Moy durée en min en fonction de la note', fontsize=22, fontweight='bold')\n",
        "plt.show()"
      ],
      "execution_count": 260,
      "outputs": [
        {
          "output_type": "display_data",
          "data": {
            "image/png": "[encoded data removed]",
            "text/plain": [
              "<Figure size 1296x432 with 1 Axes>"
            ]
          },
          "metadata": {
            "tags": [],
            "needs_background": "light"
          }
        }
      ]
    },
    {
      "cell_type": "code",
      "metadata": {
        "colab": {
          "base_uri": "https://localhost:8080/",
          "height": 542
        },
        "id": "d_nD1bZqiP_T",
        "outputId": "f5ad9597-4032-4e97-c6b2-815125cf9141"
      },
      "source": [
        "# x and y given as DataFrame columns\n",
        "import plotly.express as px\n",
        "fig = px.scatter(df, x=df[\"date\"], y=df[\"rate\"],color=df[\"titre\"])\n",
        "fig.update_layout(title_text='Classement des films en fonction des dates de sortie et de leur notes')\n",
        "fig.show()"
      ],
      "execution_count": 262,
      "outputs": [
        {
          "output_type": "display_data",
          "data": {
            "text/html": [
              "<html>\n",
              "<head><meta charset=\"utf-8\" /></head>\n",
              "<body>\n",
              "    <div>\n",
              "            <script src=\"https://cdnjs.cloudflare.com/ajax/libs/mathjax/2.7.5/MathJax.js?config=TeX-AMS-MML_SVG\"></script><script type=\"text/javascript\">if (window.MathJax) {MathJax.Hub.Config({SVG: {font: \"STIX-Web\"}});}</script>\n",
              "                <script type=\"text/javascript\">window.PlotlyConfig = {MathJaxConfig: 'local'};</script>\n",
              "        <script src=\"https://cdn.plot.ly/plotly-latest.min.js\"></script>    \n",
              "            <div id=\"46aca9aa-e505-4cc7-94f0-44a7e9b26d85\" class=\"plotly-graph-div\" style=\"height:525px; width:100%;\"></div>\n",
              "            <script type=\"text/javascript\">\n",
              "                \n",
              "                    window.PLOTLYENV=window.PLOTLYENV || {};\n",
              "                    \n",
              "                if (document.getElementById(\"46aca9aa-e505-4cc7-94f0-44a7e9b26d85\")) {\n",
              "                    Plotly.newPlot(\n",
              "                        '46aca9aa-e505-4cc7-94f0-44a7e9b26d85',\n",
              "                        [{\"hoverlabel\": {\"namelength\": 0}, \"hovertemplate\": \"titre=The Shawshank Redemption<br>date=%{x}<br>rate=%{y}\", \"legendgroup\": \"titre=The Shawshank Redemption\", \"marker\": {\"color\": \"#636efa\", \"symbol\": \"circle\"}, \"mode\": \"markers\", \"name\": \"titre=The Shawshank Redemption\", \"showlegend\": true, \"type\": \"scatter\", \"x\": [\"(1994)\"], \"xaxis\": \"x\", \"y\": [\"9.2\"], \"yaxis\": \"y\"}, {\"hoverlabel\": {\"namelength\": 0}, \"hovertemplate\": \"titre=The Godfather<br>date=%{x}<br>rate=%{y}\", \"legendgroup\": \"titre=The Godfather\", \"marker\": {\"color\": \"#EF553B\", \"symbol\": \"circle\"}, \"mode\": \"markers\", \"name\": \"titre=The Godfather\", \"showlegend\": true, \"type\": \"scatter\", \"x\": [\"(1972)\"], \"xaxis\": \"x\", \"y\": [\"9.1\"], \"yaxis\": \"y\"}, {\"hoverlabel\": {\"namelength\": 0}, \"hovertemplate\": \"titre=The Godfather: Part II<br>date=%{x}<br>rate=%{y}\", \"legendgroup\": \"titre=The Godfather: Part II\", \"marker\": {\"color\": \"#00cc96\", \"symbol\": \"circle\"}, \"mode\": \"markers\", \"name\": \"titre=The Godfather: Part II\", \"showlegend\": true, \"type\": \"scatter\", \"x\": [\"(1974)\"], \"xaxis\": \"x\", \"y\": [\"9.0\"], \"yaxis\": \"y\"}, {\"hoverlabel\": {\"namelength\": 0}, \"hovertemplate\": \"titre=The Dark Knight<br>date=%{x}<br>rate=%{y}\", \"legendgroup\": \"titre=The Dark Knight\", \"marker\": {\"color\": \"#ab63fa\", \"symbol\": \"circle\"}, \"mode\": \"markers\", \"name\": \"titre=The Dark Knight\", \"showlegend\": true, \"type\": \"scatter\", \"x\": [\"(2008)\"], \"xaxis\": \"x\", \"y\": [\"9.0\"], \"yaxis\": \"y\"}, {\"hoverlabel\": {\"namelength\": 0}, \"hovertemplate\": \"titre=12 Angry Men<br>date=%{x}<br>rate=%{y}\", \"legendgroup\": \"titre=12 Angry Men\", \"marker\": {\"color\": \"#FFA15A\", \"symbol\": \"circle\"}, \"mode\": \"markers\", \"name\": \"titre=12 Angry Men\", \"showlegend\": true, \"type\": \"scatter\", \"x\": [\"(1957)\"], \"xaxis\": \"x\", \"y\": [\"8.9\"], \"yaxis\": \"y\"}, {\"hoverlabel\": {\"namelength\": 0}, \"hovertemplate\": \"titre=Schindler's List<br>date=%{x}<br>rate=%{y}\", \"legendgroup\": \"titre=Schindler's List\", \"marker\": {\"color\": \"#19d3f3\", \"symbol\": \"circle\"}, \"mode\": \"markers\", \"name\": \"titre=Schindler's List\", \"showlegend\": true, \"type\": \"scatter\", \"x\": [\"(1993)\"], \"xaxis\": \"x\", \"y\": [\"8.9\"], \"yaxis\": \"y\"}, {\"hoverlabel\": {\"namelength\": 0}, \"hovertemplate\": \"titre=The Lord of the Rings: The Return of the King<br>date=%{x}<br>rate=%{y}\", \"legendgroup\": \"titre=The Lord of the Rings: The Return of the King\", \"marker\": {\"color\": \"#FF6692\", \"symbol\": \"circle\"}, \"mode\": \"markers\", \"name\": \"titre=The Lord of the Rings: The Return of the King\", \"showlegend\": true, \"type\": \"scatter\", \"x\": [\"(2003)\"], \"xaxis\": \"x\", \"y\": [\"8.9\"], \"yaxis\": \"y\"}, {\"hoverlabel\": {\"namelength\": 0}, \"hovertemplate\": \"titre=Pulp Fiction<br>date=%{x}<br>rate=%{y}\", \"legendgroup\": \"titre=Pulp Fiction\", \"marker\": {\"color\": \"#B6E880\", \"symbol\": \"circle\"}, \"mode\": \"markers\", \"name\": \"titre=Pulp Fiction\", \"showlegend\": true, \"type\": \"scatter\", \"x\": [\"(1994)\"], \"xaxis\": \"x\", \"y\": [\"8.8\"], \"yaxis\": \"y\"}, {\"hoverlabel\": {\"namelength\": 0}, \"hovertemplate\": \"titre=The Good, the Bad and the Ugly<br>date=%{x}<br>rate=%{y}\", \"legendgroup\": \"titre=The Good, the Bad and the Ugly\", \"marker\": {\"color\": \"#FF97FF\", \"symbol\": \"circle\"}, \"mode\": \"markers\", \"name\": \"titre=The Good, the Bad and the Ugly\", \"showlegend\": true, \"type\": \"scatter\", \"x\": [\"(1966)\"], \"xaxis\": \"x\", \"y\": [\"8.8\"], \"yaxis\": \"y\"}, {\"hoverlabel\": {\"namelength\": 0}, \"hovertemplate\": \"titre=The Lord of the Rings: The Fellowship of the Ring<br>date=%{x}<br>rate=%{y}\", \"legendgroup\": \"titre=The Lord of the Rings: The Fellowship of the Ring\", \"marker\": {\"color\": \"#FECB52\", \"symbol\": \"circle\"}, \"mode\": \"markers\", \"name\": \"titre=The Lord of the Rings: The Fellowship of the Ring\", \"showlegend\": true, \"type\": \"scatter\", \"x\": [\"(2001)\"], \"xaxis\": \"x\", \"y\": [\"8.8\"], \"yaxis\": \"y\"}, {\"hoverlabel\": {\"namelength\": 0}, \"hovertemplate\": \"titre=Fight Club<br>date=%{x}<br>rate=%{y}\", \"legendgroup\": \"titre=Fight Club\", \"marker\": {\"color\": \"#636efa\", \"symbol\": \"circle\"}, \"mode\": \"markers\", \"name\": \"titre=Fight Club\", \"showlegend\": true, \"type\": \"scatter\", \"x\": [\"(1999)\"], \"xaxis\": \"x\", \"y\": [\"8.8\"], \"yaxis\": \"y\"}, {\"hoverlabel\": {\"namelength\": 0}, \"hovertemplate\": \"titre=Forrest Gump<br>date=%{x}<br>rate=%{y}\", \"legendgroup\": \"titre=Forrest Gump\", \"marker\": {\"color\": \"#EF553B\", \"symbol\": \"circle\"}, \"mode\": \"markers\", \"name\": \"titre=Forrest Gump\", \"showlegend\": true, \"type\": \"scatter\", \"x\": [\"(1994)\"], \"xaxis\": \"x\", \"y\": [\"8.7\"], \"yaxis\": \"y\"}, {\"hoverlabel\": {\"namelength\": 0}, \"hovertemplate\": \"titre=Inception<br>date=%{x}<br>rate=%{y}\", \"legendgroup\": \"titre=Inception\", \"marker\": {\"color\": \"#00cc96\", \"symbol\": \"circle\"}, \"mode\": \"markers\", \"name\": \"titre=Inception\", \"showlegend\": true, \"type\": \"scatter\", \"x\": [\"(2010)\"], \"xaxis\": \"x\", \"y\": [\"8.7\"], \"yaxis\": \"y\"}, {\"hoverlabel\": {\"namelength\": 0}, \"hovertemplate\": \"titre=The Lord of the Rings: The Two Towers<br>date=%{x}<br>rate=%{y}\", \"legendgroup\": \"titre=The Lord of the Rings: The Two Towers\", \"marker\": {\"color\": \"#ab63fa\", \"symbol\": \"circle\"}, \"mode\": \"markers\", \"name\": \"titre=The Lord of the Rings: The Two Towers\", \"showlegend\": true, \"type\": \"scatter\", \"x\": [\"(2002)\"], \"xaxis\": \"x\", \"y\": [\"8.7\"], \"yaxis\": \"y\"}, {\"hoverlabel\": {\"namelength\": 0}, \"hovertemplate\": \"titre=Star Wars: Episode V - The Empire Strikes Back<br>date=%{x}<br>rate=%{y}\", \"legendgroup\": \"titre=Star Wars: Episode V - The Empire Strikes Back\", \"marker\": {\"color\": \"#FFA15A\", \"symbol\": \"circle\"}, \"mode\": \"markers\", \"name\": \"titre=Star Wars: Episode V - The Empire Strikes Back\", \"showlegend\": true, \"type\": \"scatter\", \"x\": [\"(1980)\"], \"xaxis\": \"x\", \"y\": [\"8.7\"], \"yaxis\": \"y\"}, {\"hoverlabel\": {\"namelength\": 0}, \"hovertemplate\": \"titre=The Matrix<br>date=%{x}<br>rate=%{y}\", \"legendgroup\": \"titre=The Matrix\", \"marker\": {\"color\": \"#19d3f3\", \"symbol\": \"circle\"}, \"mode\": \"markers\", \"name\": \"titre=The Matrix\", \"showlegend\": true, \"type\": \"scatter\", \"x\": [\"(1999)\"], \"xaxis\": \"x\", \"y\": [\"8.6\"], \"yaxis\": \"y\"}, {\"hoverlabel\": {\"namelength\": 0}, \"hovertemplate\": \"titre=Goodfellas<br>date=%{x}<br>rate=%{y}\", \"legendgroup\": \"titre=Goodfellas\", \"marker\": {\"color\": \"#FF6692\", \"symbol\": \"circle\"}, \"mode\": \"markers\", \"name\": \"titre=Goodfellas\", \"showlegend\": true, \"type\": \"scatter\", \"x\": [\"(1990)\"], \"xaxis\": \"x\", \"y\": [\"8.6\"], \"yaxis\": \"y\"}, {\"hoverlabel\": {\"namelength\": 0}, \"hovertemplate\": \"titre=One Flew Over the Cuckoo's Nest<br>date=%{x}<br>rate=%{y}\", \"legendgroup\": \"titre=One Flew Over the Cuckoo's Nest\", \"marker\": {\"color\": \"#B6E880\", \"symbol\": \"circle\"}, \"mode\": \"markers\", \"name\": \"titre=One Flew Over the Cuckoo's Nest\", \"showlegend\": true, \"type\": \"scatter\", \"x\": [\"(1975)\"], \"xaxis\": \"x\", \"y\": [\"8.6\"], \"yaxis\": \"y\"}, {\"hoverlabel\": {\"namelength\": 0}, \"hovertemplate\": \"titre=Seven Samurai<br>date=%{x}<br>rate=%{y}\", \"legendgroup\": \"titre=Seven Samurai\", \"marker\": {\"color\": \"#FF97FF\", \"symbol\": \"circle\"}, \"mode\": \"markers\", \"name\": \"titre=Seven Samurai\", \"showlegend\": true, \"type\": \"scatter\", \"x\": [\"(1954)\"], \"xaxis\": \"x\", \"y\": [\"8.6\"], \"yaxis\": \"y\"}, {\"hoverlabel\": {\"namelength\": 0}, \"hovertemplate\": \"titre=Se7en<br>date=%{x}<br>rate=%{y}\", \"legendgroup\": \"titre=Se7en\", \"marker\": {\"color\": \"#FECB52\", \"symbol\": \"circle\"}, \"mode\": \"markers\", \"name\": \"titre=Se7en\", \"showlegend\": true, \"type\": \"scatter\", \"x\": [\"(1995)\"], \"xaxis\": \"x\", \"y\": [\"8.6\"], \"yaxis\": \"y\"}, {\"hoverlabel\": {\"namelength\": 0}, \"hovertemplate\": \"titre=The Silence of the Lambs<br>date=%{x}<br>rate=%{y}\", \"legendgroup\": \"titre=The Silence of the Lambs\", \"marker\": {\"color\": \"#636efa\", \"symbol\": \"circle\"}, \"mode\": \"markers\", \"name\": \"titre=The Silence of the Lambs\", \"showlegend\": true, \"type\": \"scatter\", \"x\": [\"(1991)\"], \"xaxis\": \"x\", \"y\": [\"8.6\"], \"yaxis\": \"y\"}, {\"hoverlabel\": {\"namelength\": 0}, \"hovertemplate\": \"titre=City of God<br>date=%{x}<br>rate=%{y}\", \"legendgroup\": \"titre=City of God\", \"marker\": {\"color\": \"#EF553B\", \"symbol\": \"circle\"}, \"mode\": \"markers\", \"name\": \"titre=City of God\", \"showlegend\": true, \"type\": \"scatter\", \"x\": [\"(2002)\"], \"xaxis\": \"x\", \"y\": [\"8.6\"], \"yaxis\": \"y\"}, {\"hoverlabel\": {\"namelength\": 0}, \"hovertemplate\": \"titre=It's a Wonderful Life<br>date=%{x}<br>rate=%{y}\", \"legendgroup\": \"titre=It's a Wonderful Life\", \"marker\": {\"color\": \"#00cc96\", \"symbol\": \"circle\"}, \"mode\": \"markers\", \"name\": \"titre=It's a Wonderful Life\", \"showlegend\": true, \"type\": \"scatter\", \"x\": [\"(1946)\"], \"xaxis\": \"x\", \"y\": [\"8.6\"], \"yaxis\": \"y\"}, {\"hoverlabel\": {\"namelength\": 0}, \"hovertemplate\": \"titre=Life Is Beautiful<br>date=%{x}<br>rate=%{y}\", \"legendgroup\": \"titre=Life Is Beautiful\", \"marker\": {\"color\": \"#ab63fa\", \"symbol\": \"circle\"}, \"mode\": \"markers\", \"name\": \"titre=Life Is Beautiful\", \"showlegend\": true, \"type\": \"scatter\", \"x\": [\"(1997)\"], \"xaxis\": \"x\", \"y\": [\"8.6\"], \"yaxis\": \"y\"}, {\"hoverlabel\": {\"namelength\": 0}, \"hovertemplate\": \"titre=Star Wars: Episode IV - A New Hope<br>date=%{x}<br>rate=%{y}\", \"legendgroup\": \"titre=Star Wars: Episode IV - A New Hope\", \"marker\": {\"color\": \"#FFA15A\", \"symbol\": \"circle\"}, \"mode\": \"markers\", \"name\": \"titre=Star Wars: Episode IV - A New Hope\", \"showlegend\": true, \"type\": \"scatter\", \"x\": [\"(1977)\"], \"xaxis\": \"x\", \"y\": [\"8.6\"], \"yaxis\": \"y\"}, {\"hoverlabel\": {\"namelength\": 0}, \"hovertemplate\": \"titre=Saving Private Ryan<br>date=%{x}<br>rate=%{y}\", \"legendgroup\": \"titre=Saving Private Ryan\", \"marker\": {\"color\": \"#19d3f3\", \"symbol\": \"circle\"}, \"mode\": \"markers\", \"name\": \"titre=Saving Private Ryan\", \"showlegend\": true, \"type\": \"scatter\", \"x\": [\"(1998)\"], \"xaxis\": \"x\", \"y\": [\"8.5\"], \"yaxis\": \"y\"}, {\"hoverlabel\": {\"namelength\": 0}, \"hovertemplate\": \"titre=Spirited Away<br>date=%{x}<br>rate=%{y}\", \"legendgroup\": \"titre=Spirited Away\", \"marker\": {\"color\": \"#FF6692\", \"symbol\": \"circle\"}, \"mode\": \"markers\", \"name\": \"titre=Spirited Away\", \"showlegend\": true, \"type\": \"scatter\", \"x\": [\"(2001)\"], \"xaxis\": \"x\", \"y\": [\"8.5\"], \"yaxis\": \"y\"}, {\"hoverlabel\": {\"namelength\": 0}, \"hovertemplate\": \"titre=The Green Mile<br>date=%{x}<br>rate=%{y}\", \"legendgroup\": \"titre=The Green Mile\", \"marker\": {\"color\": \"#B6E880\", \"symbol\": \"circle\"}, \"mode\": \"markers\", \"name\": \"titre=The Green Mile\", \"showlegend\": true, \"type\": \"scatter\", \"x\": [\"(1999)\"], \"xaxis\": \"x\", \"y\": [\"8.5\"], \"yaxis\": \"y\"}, {\"hoverlabel\": {\"namelength\": 0}, \"hovertemplate\": \"titre=Interstellar<br>date=%{x}<br>rate=%{y}\", \"legendgroup\": \"titre=Interstellar\", \"marker\": {\"color\": \"#FF97FF\", \"symbol\": \"circle\"}, \"mode\": \"markers\", \"name\": \"titre=Interstellar\", \"showlegend\": true, \"type\": \"scatter\", \"x\": [\"(2014)\"], \"xaxis\": \"x\", \"y\": [\"8.5\"], \"yaxis\": \"y\"}, {\"hoverlabel\": {\"namelength\": 0}, \"hovertemplate\": \"titre=Parasite<br>date=%{x}<br>rate=%{y}\", \"legendgroup\": \"titre=Parasite\", \"marker\": {\"color\": \"#FECB52\", \"symbol\": \"circle\"}, \"mode\": \"markers\", \"name\": \"titre=Parasite\", \"showlegend\": true, \"type\": \"scatter\", \"x\": [\"(2019)\"], \"xaxis\": \"x\", \"y\": [\"8.5\"], \"yaxis\": \"y\"}, {\"hoverlabel\": {\"namelength\": 0}, \"hovertemplate\": \"titre=L\\u00e9on: The Professional<br>date=%{x}<br>rate=%{y}\", \"legendgroup\": \"titre=L\\u00e9on: The Professional\", \"marker\": {\"color\": \"#636efa\", \"symbol\": \"circle\"}, \"mode\": \"markers\", \"name\": \"titre=L\\u00e9on: The Professional\", \"showlegend\": true, \"type\": \"scatter\", \"x\": [\"(1994)\"], \"xaxis\": \"x\", \"y\": [\"8.5\"], \"yaxis\": \"y\"}, {\"hoverlabel\": {\"namelength\": 0}, \"hovertemplate\": \"titre=Hara-Kiri<br>date=%{x}<br>rate=%{y}\", \"legendgroup\": \"titre=Hara-Kiri\", \"marker\": {\"color\": \"#EF553B\", \"symbol\": \"circle\"}, \"mode\": \"markers\", \"name\": \"titre=Hara-Kiri\", \"showlegend\": true, \"type\": \"scatter\", \"x\": [\"(1962)\"], \"xaxis\": \"x\", \"y\": [\"8.5\"], \"yaxis\": \"y\"}, {\"hoverlabel\": {\"namelength\": 0}, \"hovertemplate\": \"titre=The Usual Suspects<br>date=%{x}<br>rate=%{y}\", \"legendgroup\": \"titre=The Usual Suspects\", \"marker\": {\"color\": \"#00cc96\", \"symbol\": \"circle\"}, \"mode\": \"markers\", \"name\": \"titre=The Usual Suspects\", \"showlegend\": true, \"type\": \"scatter\", \"x\": [\"(1995)\"], \"xaxis\": \"x\", \"y\": [\"8.5\"], \"yaxis\": \"y\"}, {\"hoverlabel\": {\"namelength\": 0}, \"hovertemplate\": \"titre=The Pianist<br>date=%{x}<br>rate=%{y}\", \"legendgroup\": \"titre=The Pianist\", \"marker\": {\"color\": \"#ab63fa\", \"symbol\": \"circle\"}, \"mode\": \"markers\", \"name\": \"titre=The Pianist\", \"showlegend\": true, \"type\": \"scatter\", \"x\": [\"(2002)\"], \"xaxis\": \"x\", \"y\": [\"8.5\"], \"yaxis\": \"y\"}, {\"hoverlabel\": {\"namelength\": 0}, \"hovertemplate\": \"titre=Back to the Future<br>date=%{x}<br>rate=%{y}\", \"legendgroup\": \"titre=Back to the Future\", \"marker\": {\"color\": \"#FFA15A\", \"symbol\": \"circle\"}, \"mode\": \"markers\", \"name\": \"titre=Back to the Future\", \"showlegend\": true, \"type\": \"scatter\", \"x\": [\"(1985)\"], \"xaxis\": \"x\", \"y\": [\"8.5\"], \"yaxis\": \"y\"}, {\"hoverlabel\": {\"namelength\": 0}, \"hovertemplate\": \"titre=Terminator 2: Judgment Day<br>date=%{x}<br>rate=%{y}\", \"legendgroup\": \"titre=Terminator 2: Judgment Day\", \"marker\": {\"color\": \"#19d3f3\", \"symbol\": \"circle\"}, \"mode\": \"markers\", \"name\": \"titre=Terminator 2: Judgment Day\", \"showlegend\": true, \"type\": \"scatter\", \"x\": [\"(1991)\"], \"xaxis\": \"x\", \"y\": [\"8.5\"], \"yaxis\": \"y\"}, {\"hoverlabel\": {\"namelength\": 0}, \"hovertemplate\": \"titre=Modern Times<br>date=%{x}<br>rate=%{y}\", \"legendgroup\": \"titre=Modern Times\", \"marker\": {\"color\": \"#FF6692\", \"symbol\": \"circle\"}, \"mode\": \"markers\", \"name\": \"titre=Modern Times\", \"showlegend\": true, \"type\": \"scatter\", \"x\": [\"(1936)\"], \"xaxis\": \"x\", \"y\": [\"8.5\"], \"yaxis\": \"y\"}, {\"hoverlabel\": {\"namelength\": 0}, \"hovertemplate\": \"titre=Psycho<br>date=%{x}<br>rate=%{y}\", \"legendgroup\": \"titre=Psycho\", \"marker\": {\"color\": \"#B6E880\", \"symbol\": \"circle\"}, \"mode\": \"markers\", \"name\": \"titre=Psycho\", \"showlegend\": true, \"type\": \"scatter\", \"x\": [\"(1960)\"], \"xaxis\": \"x\", \"y\": [\"8.5\"], \"yaxis\": \"y\"}, {\"hoverlabel\": {\"namelength\": 0}, \"hovertemplate\": \"titre=The Lion King<br>date=%{x}<br>rate=%{y}\", \"legendgroup\": \"titre=The Lion King\", \"marker\": {\"color\": \"#FF97FF\", \"symbol\": \"circle\"}, \"mode\": \"markers\", \"name\": \"titre=The Lion King\", \"showlegend\": true, \"type\": \"scatter\", \"x\": [\"(1994)\"], \"xaxis\": \"x\", \"y\": [\"8.5\"], \"yaxis\": \"y\"}, {\"hoverlabel\": {\"namelength\": 0}, \"hovertemplate\": \"titre=American History X<br>date=%{x}<br>rate=%{y}\", \"legendgroup\": \"titre=American History X\", \"marker\": {\"color\": \"#FECB52\", \"symbol\": \"circle\"}, \"mode\": \"markers\", \"name\": \"titre=American History X\", \"showlegend\": true, \"type\": \"scatter\", \"x\": [\"(1998)\"], \"xaxis\": \"x\", \"y\": [\"8.5\"], \"yaxis\": \"y\"}, {\"hoverlabel\": {\"namelength\": 0}, \"hovertemplate\": \"titre=City Lights<br>date=%{x}<br>rate=%{y}\", \"legendgroup\": \"titre=City Lights\", \"marker\": {\"color\": \"#636efa\", \"symbol\": \"circle\"}, \"mode\": \"markers\", \"name\": \"titre=City Lights\", \"showlegend\": true, \"type\": \"scatter\", \"x\": [\"(1931)\"], \"xaxis\": \"x\", \"y\": [\"8.5\"], \"yaxis\": \"y\"}, {\"hoverlabel\": {\"namelength\": 0}, \"hovertemplate\": \"titre=Gladiator<br>date=%{x}<br>rate=%{y}\", \"legendgroup\": \"titre=Gladiator\", \"marker\": {\"color\": \"#EF553B\", \"symbol\": \"circle\"}, \"mode\": \"markers\", \"name\": \"titre=Gladiator\", \"showlegend\": true, \"type\": \"scatter\", \"x\": [\"(2000)\"], \"xaxis\": \"x\", \"y\": [\"8.5\"], \"yaxis\": \"y\"}, {\"hoverlabel\": {\"namelength\": 0}, \"hovertemplate\": \"titre=The Departed<br>date=%{x}<br>rate=%{y}\", \"legendgroup\": \"titre=The Departed\", \"marker\": {\"color\": \"#00cc96\", \"symbol\": \"circle\"}, \"mode\": \"markers\", \"name\": \"titre=The Departed\", \"showlegend\": true, \"type\": \"scatter\", \"x\": [\"(2006)\"], \"xaxis\": \"x\", \"y\": [\"8.5\"], \"yaxis\": \"y\"}, {\"hoverlabel\": {\"namelength\": 0}, \"hovertemplate\": \"titre=Whiplash<br>date=%{x}<br>rate=%{y}\", \"legendgroup\": \"titre=Whiplash\", \"marker\": {\"color\": \"#ab63fa\", \"symbol\": \"circle\"}, \"mode\": \"markers\", \"name\": \"titre=Whiplash\", \"showlegend\": true, \"type\": \"scatter\", \"x\": [\"(2014)\"], \"xaxis\": \"x\", \"y\": [\"8.5\"], \"yaxis\": \"y\"}, {\"hoverlabel\": {\"namelength\": 0}, \"hovertemplate\": \"titre=Grave of the Fireflies<br>date=%{x}<br>rate=%{y}\", \"legendgroup\": \"titre=Grave of the Fireflies\", \"marker\": {\"color\": \"#FFA15A\", \"symbol\": \"circle\"}, \"mode\": \"markers\", \"name\": \"titre=Grave of the Fireflies\", \"showlegend\": true, \"type\": \"scatter\", \"x\": [\"(1988)\"], \"xaxis\": \"x\", \"y\": [\"8.5\"], \"yaxis\": \"y\"}, {\"hoverlabel\": {\"namelength\": 0}, \"hovertemplate\": \"titre=The Intouchables<br>date=%{x}<br>rate=%{y}\", \"legendgroup\": \"titre=The Intouchables\", \"marker\": {\"color\": \"#19d3f3\", \"symbol\": \"circle\"}, \"mode\": \"markers\", \"name\": \"titre=The Intouchables\", \"showlegend\": true, \"type\": \"scatter\", \"x\": [\"(2011)\"], \"xaxis\": \"x\", \"y\": [\"8.5\"], \"yaxis\": \"y\"}, {\"hoverlabel\": {\"namelength\": 0}, \"hovertemplate\": \"titre=The Prestige<br>date=%{x}<br>rate=%{y}\", \"legendgroup\": \"titre=The Prestige\", \"marker\": {\"color\": \"#FF6692\", \"symbol\": \"circle\"}, \"mode\": \"markers\", \"name\": \"titre=The Prestige\", \"showlegend\": true, \"type\": \"scatter\", \"x\": [\"(2006)\"], \"xaxis\": \"x\", \"y\": [\"8.5\"], \"yaxis\": \"y\"}, {\"hoverlabel\": {\"namelength\": 0}, \"hovertemplate\": \"titre=Casablanca<br>date=%{x}<br>rate=%{y}\", \"legendgroup\": \"titre=Casablanca\", \"marker\": {\"color\": \"#B6E880\", \"symbol\": \"circle\"}, \"mode\": \"markers\", \"name\": \"titre=Casablanca\", \"showlegend\": true, \"type\": \"scatter\", \"x\": [\"(1942)\"], \"xaxis\": \"x\", \"y\": [\"8.4\"], \"yaxis\": \"y\"}, {\"hoverlabel\": {\"namelength\": 0}, \"hovertemplate\": \"titre=Once Upon a Time in the West<br>date=%{x}<br>rate=%{y}\", \"legendgroup\": \"titre=Once Upon a Time in the West\", \"marker\": {\"color\": \"#FF97FF\", \"symbol\": \"circle\"}, \"mode\": \"markers\", \"name\": \"titre=Once Upon a Time in the West\", \"showlegend\": true, \"type\": \"scatter\", \"x\": [\"(1968)\"], \"xaxis\": \"x\", \"y\": [\"8.4\"], \"yaxis\": \"y\"}, {\"hoverlabel\": {\"namelength\": 0}, \"hovertemplate\": \"titre=Rear Window<br>date=%{x}<br>rate=%{y}\", \"legendgroup\": \"titre=Rear Window\", \"marker\": {\"color\": \"#FECB52\", \"symbol\": \"circle\"}, \"mode\": \"markers\", \"name\": \"titre=Rear Window\", \"showlegend\": true, \"type\": \"scatter\", \"x\": [\"(1954)\"], \"xaxis\": \"x\", \"y\": [\"8.4\"], \"yaxis\": \"y\"}, {\"hoverlabel\": {\"namelength\": 0}, \"hovertemplate\": \"titre=Cinema Paradiso<br>date=%{x}<br>rate=%{y}\", \"legendgroup\": \"titre=Cinema Paradiso\", \"marker\": {\"color\": \"#636efa\", \"symbol\": \"circle\"}, \"mode\": \"markers\", \"name\": \"titre=Cinema Paradiso\", \"showlegend\": true, \"type\": \"scatter\", \"x\": [\"(1988)\"], \"xaxis\": \"x\", \"y\": [\"8.4\"], \"yaxis\": \"y\"}, {\"hoverlabel\": {\"namelength\": 0}, \"hovertemplate\": \"titre=Alien<br>date=%{x}<br>rate=%{y}\", \"legendgroup\": \"titre=Alien\", \"marker\": {\"color\": \"#EF553B\", \"symbol\": \"circle\"}, \"mode\": \"markers\", \"name\": \"titre=Alien\", \"showlegend\": true, \"type\": \"scatter\", \"x\": [\"(1979)\"], \"xaxis\": \"x\", \"y\": [\"8.4\"], \"yaxis\": \"y\"}, {\"hoverlabel\": {\"namelength\": 0}, \"hovertemplate\": \"titre=Apocalypse Now<br>date=%{x}<br>rate=%{y}\", \"legendgroup\": \"titre=Apocalypse Now\", \"marker\": {\"color\": \"#00cc96\", \"symbol\": \"circle\"}, \"mode\": \"markers\", \"name\": \"titre=Apocalypse Now\", \"showlegend\": true, \"type\": \"scatter\", \"x\": [\"(1979)\"], \"xaxis\": \"x\", \"y\": [\"8.4\"], \"yaxis\": \"y\"}, {\"hoverlabel\": {\"namelength\": 0}, \"hovertemplate\": \"titre=Memento<br>date=%{x}<br>rate=%{y}\", \"legendgroup\": \"titre=Memento\", \"marker\": {\"color\": \"#ab63fa\", \"symbol\": \"circle\"}, \"mode\": \"markers\", \"name\": \"titre=Memento\", \"showlegend\": true, \"type\": \"scatter\", \"x\": [\"(2000)\"], \"xaxis\": \"x\", \"y\": [\"8.4\"], \"yaxis\": \"y\"}, {\"hoverlabel\": {\"namelength\": 0}, \"hovertemplate\": \"titre=Indiana Jones and the Raiders of the Lost Ark<br>date=%{x}<br>rate=%{y}\", \"legendgroup\": \"titre=Indiana Jones and the Raiders of the Lost Ark\", \"marker\": {\"color\": \"#FFA15A\", \"symbol\": \"circle\"}, \"mode\": \"markers\", \"name\": \"titre=Indiana Jones and the Raiders of the Lost Ark\", \"showlegend\": true, \"type\": \"scatter\", \"x\": [\"(1981)\"], \"xaxis\": \"x\", \"y\": [\"8.4\"], \"yaxis\": \"y\"}, {\"hoverlabel\": {\"namelength\": 0}, \"hovertemplate\": \"titre=The Great Dictator<br>date=%{x}<br>rate=%{y}\", \"legendgroup\": \"titre=The Great Dictator\", \"marker\": {\"color\": \"#19d3f3\", \"symbol\": \"circle\"}, \"mode\": \"markers\", \"name\": \"titre=The Great Dictator\", \"showlegend\": true, \"type\": \"scatter\", \"x\": [\"(1940)\"], \"xaxis\": \"x\", \"y\": [\"8.4\"], \"yaxis\": \"y\"}, {\"hoverlabel\": {\"namelength\": 0}, \"hovertemplate\": \"titre=The Lives of Others<br>date=%{x}<br>rate=%{y}\", \"legendgroup\": \"titre=The Lives of Others\", \"marker\": {\"color\": \"#FF6692\", \"symbol\": \"circle\"}, \"mode\": \"markers\", \"name\": \"titre=The Lives of Others\", \"showlegend\": true, \"type\": \"scatter\", \"x\": [\"(2006)\"], \"xaxis\": \"x\", \"y\": [\"8.4\"], \"yaxis\": \"y\"}, {\"hoverlabel\": {\"namelength\": 0}, \"hovertemplate\": \"titre=Django Unchained<br>date=%{x}<br>rate=%{y}\", \"legendgroup\": \"titre=Django Unchained\", \"marker\": {\"color\": \"#B6E880\", \"symbol\": \"circle\"}, \"mode\": \"markers\", \"name\": \"titre=Django Unchained\", \"showlegend\": true, \"type\": \"scatter\", \"x\": [\"(2012)\"], \"xaxis\": \"x\", \"y\": [\"8.4\"], \"yaxis\": \"y\"}, {\"hoverlabel\": {\"namelength\": 0}, \"hovertemplate\": \"titre=Paths of Glory<br>date=%{x}<br>rate=%{y}\", \"legendgroup\": \"titre=Paths of Glory\", \"marker\": {\"color\": \"#FF97FF\", \"symbol\": \"circle\"}, \"mode\": \"markers\", \"name\": \"titre=Paths of Glory\", \"showlegend\": true, \"type\": \"scatter\", \"x\": [\"(1957)\"], \"xaxis\": \"x\", \"y\": [\"8.4\"], \"yaxis\": \"y\"}, {\"hoverlabel\": {\"namelength\": 0}, \"hovertemplate\": \"titre=Sunset Blvd.<br>date=%{x}<br>rate=%{y}\", \"legendgroup\": \"titre=Sunset Blvd.\", \"marker\": {\"color\": \"#FECB52\", \"symbol\": \"circle\"}, \"mode\": \"markers\", \"name\": \"titre=Sunset Blvd.\", \"showlegend\": true, \"type\": \"scatter\", \"x\": [\"(1950)\"], \"xaxis\": \"x\", \"y\": [\"8.4\"], \"yaxis\": \"y\"}, {\"hoverlabel\": {\"namelength\": 0}, \"hovertemplate\": \"titre=WALL\\u00b7E<br>date=%{x}<br>rate=%{y}\", \"legendgroup\": \"titre=WALL\\u00b7E\", \"marker\": {\"color\": \"#636efa\", \"symbol\": \"circle\"}, \"mode\": \"markers\", \"name\": \"titre=WALL\\u00b7E\", \"showlegend\": true, \"type\": \"scatter\", \"x\": [\"(2008)\"], \"xaxis\": \"x\", \"y\": [\"8.4\"], \"yaxis\": \"y\"}, {\"hoverlabel\": {\"namelength\": 0}, \"hovertemplate\": \"titre=The Shining<br>date=%{x}<br>rate=%{y}\", \"legendgroup\": \"titre=The Shining\", \"marker\": {\"color\": \"#EF553B\", \"symbol\": \"circle\"}, \"mode\": \"markers\", \"name\": \"titre=The Shining\", \"showlegend\": true, \"type\": \"scatter\", \"x\": [\"(1980)\"], \"xaxis\": \"x\", \"y\": [\"8.4\"], \"yaxis\": \"y\"}, {\"hoverlabel\": {\"namelength\": 0}, \"hovertemplate\": \"titre=Joker<br>date=%{x}<br>rate=%{y}\", \"legendgroup\": \"titre=Joker\", \"marker\": {\"color\": \"#00cc96\", \"symbol\": \"circle\"}, \"mode\": \"markers\", \"name\": \"titre=Joker\", \"showlegend\": true, \"type\": \"scatter\", \"x\": [\"(2019)\"], \"xaxis\": \"x\", \"y\": [\"8.4\"], \"yaxis\": \"y\"}, {\"hoverlabel\": {\"namelength\": 0}, \"hovertemplate\": \"titre=Avengers: Infinity War<br>date=%{x}<br>rate=%{y}\", \"legendgroup\": \"titre=Avengers: Infinity War\", \"marker\": {\"color\": \"#ab63fa\", \"symbol\": \"circle\"}, \"mode\": \"markers\", \"name\": \"titre=Avengers: Infinity War\", \"showlegend\": true, \"type\": \"scatter\", \"x\": [\"(2018)\"], \"xaxis\": \"x\", \"y\": [\"8.4\"], \"yaxis\": \"y\"}, {\"hoverlabel\": {\"namelength\": 0}, \"hovertemplate\": \"titre=Witness for the Prosecution<br>date=%{x}<br>rate=%{y}\", \"legendgroup\": \"titre=Witness for the Prosecution\", \"marker\": {\"color\": \"#FFA15A\", \"symbol\": \"circle\"}, \"mode\": \"markers\", \"name\": \"titre=Witness for the Prosecution\", \"showlegend\": true, \"type\": \"scatter\", \"x\": [\"(1957)\"], \"xaxis\": \"x\", \"y\": [\"8.4\"], \"yaxis\": \"y\"}, {\"hoverlabel\": {\"namelength\": 0}, \"hovertemplate\": \"titre=Dr. Strangelove or: How I Learned to Stop Worrying and Love the Bomb<br>date=%{x}<br>rate=%{y}\", \"legendgroup\": \"titre=Dr. Strangelove or: How I Learned to Stop Worrying and Love the Bomb\", \"marker\": {\"color\": \"#19d3f3\", \"symbol\": \"circle\"}, \"mode\": \"markers\", \"name\": \"titre=Dr. Strangelove or: How I Learned to Stop Worrying and Love the Bomb\", \"showlegend\": true, \"type\": \"scatter\", \"x\": [\"(1964)\"], \"xaxis\": \"x\", \"y\": [\"8.4\"], \"yaxis\": \"y\"}, {\"hoverlabel\": {\"namelength\": 0}, \"hovertemplate\": \"titre=Spider-Man: Into the Spider-Verse<br>date=%{x}<br>rate=%{y}\", \"legendgroup\": \"titre=Spider-Man: Into the Spider-Verse\", \"marker\": {\"color\": \"#FF6692\", \"symbol\": \"circle\"}, \"mode\": \"markers\", \"name\": \"titre=Spider-Man: Into the Spider-Verse\", \"showlegend\": true, \"type\": \"scatter\", \"x\": [\"(2018)\"], \"xaxis\": \"x\", \"y\": [\"8.3\"], \"yaxis\": \"y\"}, {\"hoverlabel\": {\"namelength\": 0}, \"hovertemplate\": \"titre=Princess Mononoke<br>date=%{x}<br>rate=%{y}\", \"legendgroup\": \"titre=Princess Mononoke\", \"marker\": {\"color\": \"#B6E880\", \"symbol\": \"circle\"}, \"mode\": \"markers\", \"name\": \"titre=Princess Mononoke\", \"showlegend\": true, \"type\": \"scatter\", \"x\": [\"(1997)\"], \"xaxis\": \"x\", \"y\": [\"8.3\"], \"yaxis\": \"y\"}, {\"hoverlabel\": {\"namelength\": 0}, \"hovertemplate\": \"titre=Oldboy<br>date=%{x}<br>rate=%{y}\", \"legendgroup\": \"titre=Oldboy\", \"marker\": {\"color\": \"#FF97FF\", \"symbol\": \"circle\"}, \"mode\": \"markers\", \"name\": \"titre=Oldboy\", \"showlegend\": true, \"type\": \"scatter\", \"x\": [\"(2003)\"], \"xaxis\": \"x\", \"y\": [\"8.3\"], \"yaxis\": \"y\"}, {\"hoverlabel\": {\"namelength\": 0}, \"hovertemplate\": \"titre=Hamilton<br>date=%{x}<br>rate=%{y}\", \"legendgroup\": \"titre=Hamilton\", \"marker\": {\"color\": \"#FECB52\", \"symbol\": \"circle\"}, \"mode\": \"markers\", \"name\": \"titre=Hamilton\", \"showlegend\": true, \"type\": \"scatter\", \"x\": [\"(2020)\"], \"xaxis\": \"x\", \"y\": [\"8.3\"], \"yaxis\": \"y\"}, {\"hoverlabel\": {\"namelength\": 0}, \"hovertemplate\": \"titre=Once Upon a Time in America<br>date=%{x}<br>rate=%{y}\", \"legendgroup\": \"titre=Once Upon a Time in America\", \"marker\": {\"color\": \"#636efa\", \"symbol\": \"circle\"}, \"mode\": \"markers\", \"name\": \"titre=Once Upon a Time in America\", \"showlegend\": true, \"type\": \"scatter\", \"x\": [\"(1984)\"], \"xaxis\": \"x\", \"y\": [\"8.3\"], \"yaxis\": \"y\"}, {\"hoverlabel\": {\"namelength\": 0}, \"hovertemplate\": \"titre=Your Name.<br>date=%{x}<br>rate=%{y}\", \"legendgroup\": \"titre=Your Name.\", \"marker\": {\"color\": \"#EF553B\", \"symbol\": \"circle\"}, \"mode\": \"markers\", \"name\": \"titre=Your Name.\", \"showlegend\": true, \"type\": \"scatter\", \"x\": [\"(2016)\"], \"xaxis\": \"x\", \"y\": [\"8.3\"], \"yaxis\": \"y\"}, {\"hoverlabel\": {\"namelength\": 0}, \"hovertemplate\": \"titre=The Dark Knight Rises<br>date=%{x}<br>rate=%{y}\", \"legendgroup\": \"titre=The Dark Knight Rises\", \"marker\": {\"color\": \"#00cc96\", \"symbol\": \"circle\"}, \"mode\": \"markers\", \"name\": \"titre=The Dark Knight Rises\", \"showlegend\": true, \"type\": \"scatter\", \"x\": [\"(2012)\"], \"xaxis\": \"x\", \"y\": [\"8.3\"], \"yaxis\": \"y\"}, {\"hoverlabel\": {\"namelength\": 0}, \"hovertemplate\": \"titre=Aliens<br>date=%{x}<br>rate=%{y}\", \"legendgroup\": \"titre=Aliens\", \"marker\": {\"color\": \"#ab63fa\", \"symbol\": \"circle\"}, \"mode\": \"markers\", \"name\": \"titre=Aliens\", \"showlegend\": true, \"type\": \"scatter\", \"x\": [\"(1986)\"], \"xaxis\": \"x\", \"y\": [\"8.3\"], \"yaxis\": \"y\"}, {\"hoverlabel\": {\"namelength\": 0}, \"hovertemplate\": \"titre=Coco<br>date=%{x}<br>rate=%{y}\", \"legendgroup\": \"titre=Coco\", \"marker\": {\"color\": \"#FFA15A\", \"symbol\": \"circle\"}, \"mode\": \"markers\", \"name\": \"titre=Coco\", \"showlegend\": true, \"type\": \"scatter\", \"x\": [\"(2017)\"], \"xaxis\": \"x\", \"y\": [\"8.3\"], \"yaxis\": \"y\"}, {\"hoverlabel\": {\"namelength\": 0}, \"hovertemplate\": \"titre=Das Boot<br>date=%{x}<br>rate=%{y}\", \"legendgroup\": \"titre=Das Boot\", \"marker\": {\"color\": \"#19d3f3\", \"symbol\": \"circle\"}, \"mode\": \"markers\", \"name\": \"titre=Das Boot\", \"showlegend\": true, \"type\": \"scatter\", \"x\": [\"(1981)\"], \"xaxis\": \"x\", \"y\": [\"8.3\"], \"yaxis\": \"y\"}, {\"hoverlabel\": {\"namelength\": 0}, \"hovertemplate\": \"titre=Capharna\\u00fcm<br>date=%{x}<br>rate=%{y}\", \"legendgroup\": \"titre=Capharna\\u00fcm\", \"marker\": {\"color\": \"#FF6692\", \"symbol\": \"circle\"}, \"mode\": \"markers\", \"name\": \"titre=Capharna\\u00fcm\", \"showlegend\": true, \"type\": \"scatter\", \"x\": [\"(2018)\"], \"xaxis\": \"x\", \"y\": [\"8.3\"], \"yaxis\": \"y\"}, {\"hoverlabel\": {\"namelength\": 0}, \"hovertemplate\": \"titre=Avengers: Endgame<br>date=%{x}<br>rate=%{y}\", \"legendgroup\": \"titre=Avengers: Endgame\", \"marker\": {\"color\": \"#B6E880\", \"symbol\": \"circle\"}, \"mode\": \"markers\", \"name\": \"titre=Avengers: Endgame\", \"showlegend\": true, \"type\": \"scatter\", \"x\": [\"(2019)\"], \"xaxis\": \"x\", \"y\": [\"8.3\"], \"yaxis\": \"y\"}, {\"hoverlabel\": {\"namelength\": 0}, \"hovertemplate\": \"titre=High and Low<br>date=%{x}<br>rate=%{y}\", \"legendgroup\": \"titre=High and Low\", \"marker\": {\"color\": \"#FF97FF\", \"symbol\": \"circle\"}, \"mode\": \"markers\", \"name\": \"titre=High and Low\", \"showlegend\": true, \"type\": \"scatter\", \"x\": [\"(1963)\"], \"xaxis\": \"x\", \"y\": [\"8.3\"], \"yaxis\": \"y\"}, {\"hoverlabel\": {\"namelength\": 0}, \"hovertemplate\": \"titre=American Beauty<br>date=%{x}<br>rate=%{y}\", \"legendgroup\": \"titre=American Beauty\", \"marker\": {\"color\": \"#FECB52\", \"symbol\": \"circle\"}, \"mode\": \"markers\", \"name\": \"titre=American Beauty\", \"showlegend\": true, \"type\": \"scatter\", \"x\": [\"(1999)\"], \"xaxis\": \"x\", \"y\": [\"8.3\"], \"yaxis\": \"y\"}, {\"hoverlabel\": {\"namelength\": 0}, \"hovertemplate\": \"titre=Toy Story<br>date=%{x}<br>rate=%{y}\", \"legendgroup\": \"titre=Toy Story\", \"marker\": {\"color\": \"#636efa\", \"symbol\": \"circle\"}, \"mode\": \"markers\", \"name\": \"titre=Toy Story\", \"showlegend\": true, \"type\": \"scatter\", \"x\": [\"(1995)\"], \"xaxis\": \"x\", \"y\": [\"8.3\"], \"yaxis\": \"y\"}, {\"hoverlabel\": {\"namelength\": 0}, \"hovertemplate\": \"titre=Braveheart<br>date=%{x}<br>rate=%{y}\", \"legendgroup\": \"titre=Braveheart\", \"marker\": {\"color\": \"#EF553B\", \"symbol\": \"circle\"}, \"mode\": \"markers\", \"name\": \"titre=Braveheart\", \"showlegend\": true, \"type\": \"scatter\", \"x\": [\"(1995)\"], \"xaxis\": \"x\", \"y\": [\"8.3\"], \"yaxis\": \"y\"}, {\"hoverlabel\": {\"namelength\": 0}, \"hovertemplate\": \"titre=Amadeus<br>date=%{x}<br>rate=%{y}\", \"legendgroup\": \"titre=Amadeus\", \"marker\": {\"color\": \"#00cc96\", \"symbol\": \"circle\"}, \"mode\": \"markers\", \"name\": \"titre=Amadeus\", \"showlegend\": true, \"type\": \"scatter\", \"x\": [\"(1984)\"], \"xaxis\": \"x\", \"y\": [\"8.3\"], \"yaxis\": \"y\"}, {\"hoverlabel\": {\"namelength\": 0}, \"hovertemplate\": \"titre=3 Idiots<br>date=%{x}<br>rate=%{y}\", \"legendgroup\": \"titre=3 Idiots\", \"marker\": {\"color\": \"#ab63fa\", \"symbol\": \"circle\"}, \"mode\": \"markers\", \"name\": \"titre=3 Idiots\", \"showlegend\": true, \"type\": \"scatter\", \"x\": [\"(2009)\"], \"xaxis\": \"x\", \"y\": [\"8.3\"], \"yaxis\": \"y\"}, {\"hoverlabel\": {\"namelength\": 0}, \"hovertemplate\": \"titre=Inglourious Basterds<br>date=%{x}<br>rate=%{y}\", \"legendgroup\": \"titre=Inglourious Basterds\", \"marker\": {\"color\": \"#FFA15A\", \"symbol\": \"circle\"}, \"mode\": \"markers\", \"name\": \"titre=Inglourious Basterds\", \"showlegend\": true, \"type\": \"scatter\", \"x\": [\"(2009)\"], \"xaxis\": \"x\", \"y\": [\"8.3\"], \"yaxis\": \"y\"}, {\"hoverlabel\": {\"namelength\": 0}, \"hovertemplate\": \"titre=Good Will Hunting<br>date=%{x}<br>rate=%{y}\", \"legendgroup\": \"titre=Good Will Hunting\", \"marker\": {\"color\": \"#19d3f3\", \"symbol\": \"circle\"}, \"mode\": \"markers\", \"name\": \"titre=Good Will Hunting\", \"showlegend\": true, \"type\": \"scatter\", \"x\": [\"(1997)\"], \"xaxis\": \"x\", \"y\": [\"8.3\"], \"yaxis\": \"y\"}, {\"hoverlabel\": {\"namelength\": 0}, \"hovertemplate\": \"titre=Star Wars: Episode VI - Return of the Jedi<br>date=%{x}<br>rate=%{y}\", \"legendgroup\": \"titre=Star Wars: Episode VI - Return of the Jedi\", \"marker\": {\"color\": \"#FF6692\", \"symbol\": \"circle\"}, \"mode\": \"markers\", \"name\": \"titre=Star Wars: Episode VI - Return of the Jedi\", \"showlegend\": true, \"type\": \"scatter\", \"x\": [\"(1983)\"], \"xaxis\": \"x\", \"y\": [\"8.3\"], \"yaxis\": \"y\"}, {\"hoverlabel\": {\"namelength\": 0}, \"hovertemplate\": \"titre=2001: A Space Odyssey<br>date=%{x}<br>rate=%{y}\", \"legendgroup\": \"titre=2001: A Space Odyssey\", \"marker\": {\"color\": \"#B6E880\", \"symbol\": \"circle\"}, \"mode\": \"markers\", \"name\": \"titre=2001: A Space Odyssey\", \"showlegend\": true, \"type\": \"scatter\", \"x\": [\"(1968)\"], \"xaxis\": \"x\", \"y\": [\"8.3\"], \"yaxis\": \"y\"}, {\"hoverlabel\": {\"namelength\": 0}, \"hovertemplate\": \"titre=Reservoir Dogs<br>date=%{x}<br>rate=%{y}\", \"legendgroup\": \"titre=Reservoir Dogs\", \"marker\": {\"color\": \"#FF97FF\", \"symbol\": \"circle\"}, \"mode\": \"markers\", \"name\": \"titre=Reservoir Dogs\", \"showlegend\": true, \"type\": \"scatter\", \"x\": [\"(1992)\"], \"xaxis\": \"x\", \"y\": [\"8.3\"], \"yaxis\": \"y\"}, {\"hoverlabel\": {\"namelength\": 0}, \"hovertemplate\": \"titre=M<br>date=%{x}<br>rate=%{y}\", \"legendgroup\": \"titre=M\", \"marker\": {\"color\": \"#FECB52\", \"symbol\": \"circle\"}, \"mode\": \"markers\", \"name\": \"titre=M\", \"showlegend\": true, \"type\": \"scatter\", \"x\": [\"(1931)\"], \"xaxis\": \"x\", \"y\": [\"8.3\"], \"yaxis\": \"y\"}, {\"hoverlabel\": {\"namelength\": 0}, \"hovertemplate\": \"titre=Like Stars on Earth<br>date=%{x}<br>rate=%{y}\", \"legendgroup\": \"titre=Like Stars on Earth\", \"marker\": {\"color\": \"#636efa\", \"symbol\": \"circle\"}, \"mode\": \"markers\", \"name\": \"titre=Like Stars on Earth\", \"showlegend\": true, \"type\": \"scatter\", \"x\": [\"(2007)\"], \"xaxis\": \"x\", \"y\": [\"8.3\"], \"yaxis\": \"y\"}, {\"hoverlabel\": {\"namelength\": 0}, \"hovertemplate\": \"titre=Citizen Kane<br>date=%{x}<br>rate=%{y}\", \"legendgroup\": \"titre=Citizen Kane\", \"marker\": {\"color\": \"#EF553B\", \"symbol\": \"circle\"}, \"mode\": \"markers\", \"name\": \"titre=Citizen Kane\", \"showlegend\": true, \"type\": \"scatter\", \"x\": [\"(1941)\"], \"xaxis\": \"x\", \"y\": [\"8.3\"], \"yaxis\": \"y\"}, {\"hoverlabel\": {\"namelength\": 0}, \"hovertemplate\": \"titre=Vertigo<br>date=%{x}<br>rate=%{y}\", \"legendgroup\": \"titre=Vertigo\", \"marker\": {\"color\": \"#00cc96\", \"symbol\": \"circle\"}, \"mode\": \"markers\", \"name\": \"titre=Vertigo\", \"showlegend\": true, \"type\": \"scatter\", \"x\": [\"(1958)\"], \"xaxis\": \"x\", \"y\": [\"8.3\"], \"yaxis\": \"y\"}, {\"hoverlabel\": {\"namelength\": 0}, \"hovertemplate\": \"titre=Requiem for a Dream<br>date=%{x}<br>rate=%{y}\", \"legendgroup\": \"titre=Requiem for a Dream\", \"marker\": {\"color\": \"#ab63fa\", \"symbol\": \"circle\"}, \"mode\": \"markers\", \"name\": \"titre=Requiem for a Dream\", \"showlegend\": true, \"type\": \"scatter\", \"x\": [\"(2000)\"], \"xaxis\": \"x\", \"y\": [\"8.3\"], \"yaxis\": \"y\"}, {\"hoverlabel\": {\"namelength\": 0}, \"hovertemplate\": \"titre=The Hunt<br>date=%{x}<br>rate=%{y}\", \"legendgroup\": \"titre=The Hunt\", \"marker\": {\"color\": \"#FFA15A\", \"symbol\": \"circle\"}, \"mode\": \"markers\", \"name\": \"titre=The Hunt\", \"showlegend\": true, \"type\": \"scatter\", \"x\": [\"(2012)\"], \"xaxis\": \"x\", \"y\": [\"8.3\"], \"yaxis\": \"y\"}, {\"hoverlabel\": {\"namelength\": 0}, \"hovertemplate\": \"titre=Singin' in the Rain<br>date=%{x}<br>rate=%{y}\", \"legendgroup\": \"titre=Singin' in the Rain\", \"marker\": {\"color\": \"#19d3f3\", \"symbol\": \"circle\"}, \"mode\": \"markers\", \"name\": \"titre=Singin' in the Rain\", \"showlegend\": true, \"type\": \"scatter\", \"x\": [\"(1952)\"], \"xaxis\": \"x\", \"y\": [\"8.3\"], \"yaxis\": \"y\"}, {\"hoverlabel\": {\"namelength\": 0}, \"hovertemplate\": \"titre=North by Northwest<br>date=%{x}<br>rate=%{y}\", \"legendgroup\": \"titre=North by Northwest\", \"marker\": {\"color\": \"#FF6692\", \"symbol\": \"circle\"}, \"mode\": \"markers\", \"name\": \"titre=North by Northwest\", \"showlegend\": true, \"type\": \"scatter\", \"x\": [\"(1959)\"], \"xaxis\": \"x\", \"y\": [\"8.3\"], \"yaxis\": \"y\"}, {\"hoverlabel\": {\"namelength\": 0}, \"hovertemplate\": \"titre=Eternal Sunshine of the Spotless Mind<br>date=%{x}<br>rate=%{y}\", \"legendgroup\": \"titre=Eternal Sunshine of the Spotless Mind\", \"marker\": {\"color\": \"#B6E880\", \"symbol\": \"circle\"}, \"mode\": \"markers\", \"name\": \"titre=Eternal Sunshine of the Spotless Mind\", \"showlegend\": true, \"type\": \"scatter\", \"x\": [\"(2004)\"], \"xaxis\": \"x\", \"y\": [\"8.3\"], \"yaxis\": \"y\"}, {\"hoverlabel\": {\"namelength\": 0}, \"hovertemplate\": \"titre=Come and See<br>date=%{x}<br>rate=%{y}\", \"legendgroup\": \"titre=Come and See\", \"marker\": {\"color\": \"#FF97FF\", \"symbol\": \"circle\"}, \"mode\": \"markers\", \"name\": \"titre=Come and See\", \"showlegend\": true, \"type\": \"scatter\", \"x\": [\"(1985)\"], \"xaxis\": \"x\", \"y\": [\"8.3\"], \"yaxis\": \"y\"}, {\"hoverlabel\": {\"namelength\": 0}, \"hovertemplate\": \"titre=Bicycle Thieves<br>date=%{x}<br>rate=%{y}\", \"legendgroup\": \"titre=Bicycle Thieves\", \"marker\": {\"color\": \"#FECB52\", \"symbol\": \"circle\"}, \"mode\": \"markers\", \"name\": \"titre=Bicycle Thieves\", \"showlegend\": true, \"type\": \"scatter\", \"x\": [\"(1948)\"], \"xaxis\": \"x\", \"y\": [\"8.3\"], \"yaxis\": \"y\"}],\n",
              "                        {\"legend\": {\"tracegroupgap\": 0}, \"margin\": {\"t\": 60}, \"template\": {\"data\": {\"bar\": [{\"error_x\": {\"color\": \"#2a3f5f\"}, \"error_y\": {\"color\": \"#2a3f5f\"}, \"marker\": {\"line\": {\"color\": \"#E5ECF6\", \"width\": 0.5}}, \"type\": \"bar\"}], \"barpolar\": [{\"marker\": {\"line\": {\"color\": \"#E5ECF6\", \"width\": 0.5}}, \"type\": \"barpolar\"}], \"carpet\": [{\"aaxis\": {\"endlinecolor\": \"#2a3f5f\", \"gridcolor\": \"white\", \"linecolor\": \"white\", \"minorgridcolor\": \"white\", \"startlinecolor\": \"#2a3f5f\"}, \"baxis\": {\"endlinecolor\": \"#2a3f5f\", \"gridcolor\": \"white\", \"linecolor\": \"white\", \"minorgridcolor\": \"white\", \"startlinecolor\": \"#2a3f5f\"}, \"type\": \"carpet\"}], \"choropleth\": [{\"colorbar\": {\"outlinewidth\": 0, \"ticks\": \"\"}, \"type\": \"choropleth\"}], \"contour\": [{\"colorbar\": {\"outlinewidth\": 0, \"ticks\": \"\"}, \"colorscale\": [[0.0, \"#0d0887\"], [0.1111111111111111, \"#46039f\"], [0.2222222222222222, \"#7201a8\"], [0.3333333333333333, \"#9c179e\"], [0.4444444444444444, \"#bd3786\"], [0.5555555555555556, \"#d8576b\"], [0.6666666666666666, \"#ed7953\"], [0.7777777777777778, \"#fb9f3a\"], [0.8888888888888888, \"#fdca26\"], [1.0, \"#f0f921\"]], \"type\": \"contour\"}], \"contourcarpet\": [{\"colorbar\": {\"outlinewidth\": 0, \"ticks\": \"\"}, \"type\": \"contourcarpet\"}], \"heatmap\": [{\"colorbar\": {\"outlinewidth\": 0, \"ticks\": \"\"}, \"colorscale\": [[0.0, \"#0d0887\"], [0.1111111111111111, \"#46039f\"], [0.2222222222222222, \"#7201a8\"], [0.3333333333333333, \"#9c179e\"], [0.4444444444444444, \"#bd3786\"], [0.5555555555555556, \"#d8576b\"], [0.6666666666666666, \"#ed7953\"], [0.7777777777777778, \"#fb9f3a\"], [0.8888888888888888, \"#fdca26\"], [1.0, \"#f0f921\"]], \"type\": \"heatmap\"}], \"heatmapgl\": [{\"colorbar\": {\"outlinewidth\": 0, \"ticks\": \"\"}, \"colorscale\": [[0.0, \"#0d0887\"], [0.1111111111111111, \"#46039f\"], [0.2222222222222222, \"#7201a8\"], [0.3333333333333333, \"#9c179e\"], [0.4444444444444444, \"#bd3786\"], [0.5555555555555556, \"#d8576b\"], [0.6666666666666666, \"#ed7953\"], [0.7777777777777778, \"#fb9f3a\"], [0.8888888888888888, \"#fdca26\"], [1.0, \"#f0f921\"]], \"type\": \"heatmapgl\"}], \"histogram\": [{\"marker\": {\"colorbar\": {\"outlinewidth\": 0, \"ticks\": \"\"}}, \"type\": \"histogram\"}], \"histogram2d\": [{\"colorbar\": {\"outlinewidth\": 0, \"ticks\": \"\"}, \"colorscale\": [[0.0, \"#0d0887\"], [0.1111111111111111, \"#46039f\"], [0.2222222222222222, \"#7201a8\"], [0.3333333333333333, \"#9c179e\"], [0.4444444444444444, \"#bd3786\"], [0.5555555555555556, \"#d8576b\"], [0.6666666666666666, \"#ed7953\"], [0.7777777777777778, \"#fb9f3a\"], [0.8888888888888888, \"#fdca26\"], [1.0, \"#f0f921\"]], \"type\": \"histogram2d\"}], \"histogram2dcontour\": [{\"colorbar\": {\"outlinewidth\": 0, \"ticks\": \"\"}, \"colorscale\": [[0.0, \"#0d0887\"], [0.1111111111111111, \"#46039f\"], [0.2222222222222222, \"#7201a8\"], [0.3333333333333333, \"#9c179e\"], [0.4444444444444444, \"#bd3786\"], [0.5555555555555556, \"#d8576b\"], [0.6666666666666666, \"#ed7953\"], [0.7777777777777778, \"#fb9f3a\"], [0.8888888888888888, \"#fdca26\"], [1.0, \"#f0f921\"]], \"type\": \"histogram2dcontour\"}], \"mesh3d\": [{\"colorbar\": {\"outlinewidth\": 0, \"ticks\": \"\"}, \"type\": \"mesh3d\"}], \"parcoords\": [{\"line\": {\"colorbar\": {\"outlinewidth\": 0, \"ticks\": \"\"}}, \"type\": \"parcoords\"}], \"pie\": [{\"automargin\": true, \"type\": \"pie\"}], \"scatter\": [{\"marker\": {\"colorbar\": {\"outlinewidth\": 0, \"ticks\": \"\"}}, \"type\": \"scatter\"}], \"scatter3d\": [{\"line\": {\"colorbar\": {\"outlinewidth\": 0, \"ticks\": \"\"}}, \"marker\": {\"colorbar\": {\"outlinewidth\": 0, \"ticks\": \"\"}}, \"type\": \"scatter3d\"}], \"scattercarpet\": [{\"marker\": {\"colorbar\": {\"outlinewidth\": 0, \"ticks\": \"\"}}, \"type\": \"scattercarpet\"}], \"scattergeo\": [{\"marker\": {\"colorbar\": {\"outlinewidth\": 0, \"ticks\": \"\"}}, \"type\": \"scattergeo\"}], \"scattergl\": [{\"marker\": {\"colorbar\": {\"outlinewidth\": 0, \"ticks\": \"\"}}, \"type\": \"scattergl\"}], \"scattermapbox\": [{\"marker\": {\"colorbar\": {\"outlinewidth\": 0, \"ticks\": \"\"}}, \"type\": \"scattermapbox\"}], \"scatterpolar\": [{\"marker\": {\"colorbar\": {\"outlinewidth\": 0, \"ticks\": \"\"}}, \"type\": \"scatterpolar\"}], \"scatterpolargl\": [{\"marker\": {\"colorbar\": {\"outlinewidth\": 0, \"ticks\": \"\"}}, \"type\": \"scatterpolargl\"}], \"scatterternary\": [{\"marker\": {\"colorbar\": {\"outlinewidth\": 0, \"ticks\": \"\"}}, \"type\": \"scatterternary\"}], \"surface\": [{\"colorbar\": {\"outlinewidth\": 0, \"ticks\": \"\"}, \"colorscale\": [[0.0, \"#0d0887\"], [0.1111111111111111, \"#46039f\"], [0.2222222222222222, \"#7201a8\"], [0.3333333333333333, \"#9c179e\"], [0.4444444444444444, \"#bd3786\"], [0.5555555555555556, \"#d8576b\"], [0.6666666666666666, \"#ed7953\"], [0.7777777777777778, \"#fb9f3a\"], [0.8888888888888888, \"#fdca26\"], [1.0, \"#f0f921\"]], \"type\": \"surface\"}], \"table\": [{\"cells\": {\"fill\": {\"color\": \"#EBF0F8\"}, \"line\": {\"color\": \"white\"}}, \"header\": {\"fill\": {\"color\": \"#C8D4E3\"}, \"line\": {\"color\": \"white\"}}, \"type\": \"table\"}]}, \"layout\": {\"annotationdefaults\": {\"arrowcolor\": \"#2a3f5f\", \"arrowhead\": 0, \"arrowwidth\": 1}, \"coloraxis\": {\"colorbar\": {\"outlinewidth\": 0, \"ticks\": \"\"}}, \"colorscale\": {\"diverging\": [[0, \"#8e0152\"], [0.1, \"#c51b7d\"], [0.2, \"#de77ae\"], [0.3, \"#f1b6da\"], [0.4, \"#fde0ef\"], [0.5, \"#f7f7f7\"], [0.6, \"#e6f5d0\"], [0.7, \"#b8e186\"], [0.8, \"#7fbc41\"], [0.9, \"#4d9221\"], [1, \"#276419\"]], \"sequential\": [[0.0, \"#0d0887\"], [0.1111111111111111, \"#46039f\"], [0.2222222222222222, \"#7201a8\"], [0.3333333333333333, \"#9c179e\"], [0.4444444444444444, \"#bd3786\"], [0.5555555555555556, \"#d8576b\"], [0.6666666666666666, \"#ed7953\"], [0.7777777777777778, \"#fb9f3a\"], [0.8888888888888888, \"#fdca26\"], [1.0, \"#f0f921\"]], \"sequentialminus\": [[0.0, \"#0d0887\"], [0.1111111111111111, \"#46039f\"], [0.2222222222222222, \"#7201a8\"], [0.3333333333333333, \"#9c179e\"], [0.4444444444444444, \"#bd3786\"], [0.5555555555555556, \"#d8576b\"], [0.6666666666666666, \"#ed7953\"], [0.7777777777777778, \"#fb9f3a\"], [0.8888888888888888, \"#fdca26\"], [1.0, \"#f0f921\"]]}, \"colorway\": [\"#636efa\", \"#EF553B\", \"#00cc96\", \"#ab63fa\", \"#FFA15A\", \"#19d3f3\", \"#FF6692\", \"#B6E880\", \"#FF97FF\", \"#FECB52\"], \"font\": {\"color\": \"#2a3f5f\"}, \"geo\": {\"bgcolor\": \"white\", \"lakecolor\": \"white\", \"landcolor\": \"#E5ECF6\", \"showlakes\": true, \"showland\": true, \"subunitcolor\": \"white\"}, \"hoverlabel\": {\"align\": \"left\"}, \"hovermode\": \"closest\", \"mapbox\": {\"style\": \"light\"}, \"paper_bgcolor\": \"white\", \"plot_bgcolor\": \"#E5ECF6\", \"polar\": {\"angularaxis\": {\"gridcolor\": \"white\", \"linecolor\": \"white\", \"ticks\": \"\"}, \"bgcolor\": \"#E5ECF6\", \"radialaxis\": {\"gridcolor\": \"white\", \"linecolor\": \"white\", \"ticks\": \"\"}}, \"scene\": {\"xaxis\": {\"backgroundcolor\": \"#E5ECF6\", \"gridcolor\": \"white\", \"gridwidth\": 2, \"linecolor\": \"white\", \"showbackground\": true, \"ticks\": \"\", \"zerolinecolor\": \"white\"}, \"yaxis\": {\"backgroundcolor\": \"#E5ECF6\", \"gridcolor\": \"white\", \"gridwidth\": 2, \"linecolor\": \"white\", \"showbackground\": true, \"ticks\": \"\", \"zerolinecolor\": \"white\"}, \"zaxis\": {\"backgroundcolor\": \"#E5ECF6\", \"gridcolor\": \"white\", \"gridwidth\": 2, \"linecolor\": \"white\", \"showbackground\": true, \"ticks\": \"\", \"zerolinecolor\": \"white\"}}, \"shapedefaults\": {\"line\": {\"color\": \"#2a3f5f\"}}, \"ternary\": {\"aaxis\": {\"gridcolor\": \"white\", \"linecolor\": \"white\", \"ticks\": \"\"}, \"baxis\": {\"gridcolor\": \"white\", \"linecolor\": \"white\", \"ticks\": \"\"}, \"bgcolor\": \"#E5ECF6\", \"caxis\": {\"gridcolor\": \"white\", \"linecolor\": \"white\", \"ticks\": \"\"}}, \"title\": {\"x\": 0.05}, \"xaxis\": {\"automargin\": true, \"gridcolor\": \"white\", \"linecolor\": \"white\", \"ticks\": \"\", \"title\": {\"standoff\": 15}, \"zerolinecolor\": \"white\", \"zerolinewidth\": 2}, \"yaxis\": {\"automargin\": true, \"gridcolor\": \"white\", \"linecolor\": \"white\", \"ticks\": \"\", \"title\": {\"standoff\": 15}, \"zerolinecolor\": \"white\", \"zerolinewidth\": 2}}}, \"title\": {\"text\": \"Classement des films en fonction des dates de sortie et de leur notes\"}, \"xaxis\": {\"anchor\": \"y\", \"domain\": [0.0, 1.0], \"title\": {\"text\": \"date\"}}, \"yaxis\": {\"anchor\": \"x\", \"domain\": [0.0, 1.0], \"title\": {\"text\": \"rate\"}}},\n",
              "                        {\"responsive\": true}\n",
              "                    ).then(function(){\n",
              "                            \n",
              "var gd = document.getElementById('46aca9aa-e505-4cc7-94f0-44a7e9b26d85');\n",
              "var x = new MutationObserver(function (mutations, observer) {{\n",
              "        var display = window.getComputedStyle(gd).display;\n",
              "        if (!display || display === 'none') {{\n",
              "            console.log([gd, 'removed!']);\n",
              "            Plotly.purge(gd);\n",
              "            observer.disconnect();\n",
              "        }}\n",
              "}});\n",
              "\n",
              "// Listen for the removal of the full notebook cells\n",
              "var notebookContainer = gd.closest('#notebook-container');\n",
              "if (notebookContainer) {{\n",
              "    x.observe(notebookContainer, {childList: true});\n",
              "}}\n",
              "\n",
              "// Listen for the clearing of the current output cell\n",
              "var outputEl = gd.closest('.output');\n",
              "if (outputEl) {{\n",
              "    x.observe(outputEl, {childList: true});\n",
              "}}\n",
              "\n",
              "                        })\n",
              "                };\n",
              "                \n",
              "            </script>\n",
              "        </div>\n",
              "</body>\n",
              "</html>"
            ]
          },
          "metadata": {
            "tags": []
          }
        }
      ]
    },
    {
      "cell_type": "code",
      "metadata": {
        "id": "fGLa3d6Cbffy",
        "colab": {
          "base_uri": "https://localhost:8080/",
          "height": 542
        },
        "outputId": "c73972ba-1af4-4bee-eebf-d886983733ca"
      },
      "source": [
        "import plotly.graph_objects as go\n",
        "fig = go.Figure(data=[\n",
        "    go.Bar( name='imdb',x=df[\"genres\"].value_counts().index, y=df[\"genres\"].value_counts().values),\n",
        "    go.Bar(name='sens critique',x=df_2[\"genres\"].value_counts().index, y=df_2[\"genres\"].value_counts().values)\n",
        "])\n",
        "# Change the bar mode\n",
        "fig.update_layout(barmode='group')\n",
        "fig.show()"
      ],
      "execution_count": 263,
      "outputs": [
        {
          "output_type": "display_data",
          "data": {
            "text/html": [
              "<html>\n",
              "<head><meta charset=\"utf-8\" /></head>\n",
              "<body>\n",
              "    <div>\n",
              "            <script src=\"https://cdnjs.cloudflare.com/ajax/libs/mathjax/2.7.5/MathJax.js?config=TeX-AMS-MML_SVG\"></script><script type=\"text/javascript\">if (window.MathJax) {MathJax.Hub.Config({SVG: {font: \"STIX-Web\"}});}</script>\n",
              "                <script type=\"text/javascript\">window.PlotlyConfig = {MathJaxConfig: 'local'};</script>\n",
              "        <script src=\"https://cdn.plot.ly/plotly-latest.min.js\"></script>    \n",
              "            <div id=\"499cd277-7104-406e-addf-4b5e5c7eac25\" class=\"plotly-graph-div\" style=\"height:525px; width:100%;\"></div>\n",
              "            <script type=\"text/javascript\">\n",
              "                \n",
              "                    window.PLOTLYENV=window.PLOTLYENV || {};\n",
              "                    \n",
              "                if (document.getElementById(\"499cd277-7104-406e-addf-4b5e5c7eac25\")) {\n",
              "                    Plotly.newPlot(\n",
              "                        '499cd277-7104-406e-addf-4b5e5c7eac25',\n",
              "                        [{\"name\": \"imdb\", \"type\": \"bar\", \"x\": [\"Drama\", \"Action\", \"Crime\", \"Animation\", \"Comedy\", \"Biography\", \"Adventure\", \"Mystery\", \"Horror\", \"Western\"], \"y\": [27, 20, 16, 9, 8, 7, 6, 3, 2, 2]}, {\"name\": \"sens critique\", \"type\": \"bar\", \"x\": [\"Drame\", \"Policier\", \"Aventure\", \"Action\", \"Com\\u00e9die\", \"Gangster\", \"Animation\", \"Western\", \"Thriller\", \"\\u00c9pouvante-Horreur\", \"Arts martiaux\", \"Biopic\", \"Science-fiction\", \"Fantastique\", \"Com\\u00e9die musicale\", \"Romance\", \"Com\\u00e9die dramatique\", \"P\\u00e9plum\", \"Fantasy\", \"Guerre\"], \"y\": [36, 9, 9, 7, 6, 6, 5, 3, 3, 3, 2, 2, 2, 1, 1, 1, 1, 1, 1, 1]}],\n",
              "                        {\"barmode\": \"group\", \"template\": {\"data\": {\"bar\": [{\"error_x\": {\"color\": \"#2a3f5f\"}, \"error_y\": {\"color\": \"#2a3f5f\"}, \"marker\": {\"line\": {\"color\": \"#E5ECF6\", \"width\": 0.5}}, \"type\": \"bar\"}], \"barpolar\": [{\"marker\": {\"line\": {\"color\": \"#E5ECF6\", \"width\": 0.5}}, \"type\": \"barpolar\"}], \"carpet\": [{\"aaxis\": {\"endlinecolor\": \"#2a3f5f\", \"gridcolor\": \"white\", \"linecolor\": \"white\", \"minorgridcolor\": \"white\", \"startlinecolor\": \"#2a3f5f\"}, \"baxis\": {\"endlinecolor\": \"#2a3f5f\", \"gridcolor\": \"white\", \"linecolor\": \"white\", \"minorgridcolor\": \"white\", \"startlinecolor\": \"#2a3f5f\"}, \"type\": \"carpet\"}], \"choropleth\": [{\"colorbar\": {\"outlinewidth\": 0, \"ticks\": \"\"}, \"type\": \"choropleth\"}], \"contour\": [{\"colorbar\": {\"outlinewidth\": 0, \"ticks\": \"\"}, \"colorscale\": [[0.0, \"#0d0887\"], [0.1111111111111111, \"#46039f\"], [0.2222222222222222, \"#7201a8\"], [0.3333333333333333, \"#9c179e\"], [0.4444444444444444, \"#bd3786\"], [0.5555555555555556, \"#d8576b\"], [0.6666666666666666, \"#ed7953\"], [0.7777777777777778, \"#fb9f3a\"], [0.8888888888888888, \"#fdca26\"], [1.0, \"#f0f921\"]], \"type\": \"contour\"}], \"contourcarpet\": [{\"colorbar\": {\"outlinewidth\": 0, \"ticks\": \"\"}, \"type\": \"contourcarpet\"}], \"heatmap\": [{\"colorbar\": {\"outlinewidth\": 0, \"ticks\": \"\"}, \"colorscale\": [[0.0, \"#0d0887\"], [0.1111111111111111, \"#46039f\"], [0.2222222222222222, \"#7201a8\"], [0.3333333333333333, \"#9c179e\"], [0.4444444444444444, \"#bd3786\"], [0.5555555555555556, \"#d8576b\"], [0.6666666666666666, \"#ed7953\"], [0.7777777777777778, \"#fb9f3a\"], [0.8888888888888888, \"#fdca26\"], [1.0, \"#f0f921\"]], \"type\": \"heatmap\"}], \"heatmapgl\": [{\"colorbar\": {\"outlinewidth\": 0, \"ticks\": \"\"}, \"colorscale\": [[0.0, \"#0d0887\"], [0.1111111111111111, \"#46039f\"], [0.2222222222222222, \"#7201a8\"], [0.3333333333333333, \"#9c179e\"], [0.4444444444444444, \"#bd3786\"], [0.5555555555555556, \"#d8576b\"], [0.6666666666666666, \"#ed7953\"], [0.7777777777777778, \"#fb9f3a\"], [0.8888888888888888, \"#fdca26\"], [1.0, \"#f0f921\"]], \"type\": \"heatmapgl\"}], \"histogram\": [{\"marker\": {\"colorbar\": {\"outlinewidth\": 0, \"ticks\": \"\"}}, \"type\": \"histogram\"}], \"histogram2d\": [{\"colorbar\": {\"outlinewidth\": 0, \"ticks\": \"\"}, \"colorscale\": [[0.0, \"#0d0887\"], [0.1111111111111111, \"#46039f\"], [0.2222222222222222, \"#7201a8\"], [0.3333333333333333, \"#9c179e\"], [0.4444444444444444, \"#bd3786\"], [0.5555555555555556, \"#d8576b\"], [0.6666666666666666, \"#ed7953\"], [0.7777777777777778, \"#fb9f3a\"], [0.8888888888888888, \"#fdca26\"], [1.0, \"#f0f921\"]], \"type\": \"histogram2d\"}], \"histogram2dcontour\": [{\"colorbar\": {\"outlinewidth\": 0, \"ticks\": \"\"}, \"colorscale\": [[0.0, \"#0d0887\"], [0.1111111111111111, \"#46039f\"], [0.2222222222222222, \"#7201a8\"], [0.3333333333333333, \"#9c179e\"], [0.4444444444444444, \"#bd3786\"], [0.5555555555555556, \"#d8576b\"], [0.6666666666666666, \"#ed7953\"], [0.7777777777777778, \"#fb9f3a\"], [0.8888888888888888, \"#fdca26\"], [1.0, \"#f0f921\"]], \"type\": \"histogram2dcontour\"}], \"mesh3d\": [{\"colorbar\": {\"outlinewidth\": 0, \"ticks\": \"\"}, \"type\": \"mesh3d\"}], \"parcoords\": [{\"line\": {\"colorbar\": {\"outlinewidth\": 0, \"ticks\": \"\"}}, \"type\": \"parcoords\"}], \"pie\": [{\"automargin\": true, \"type\": \"pie\"}], \"scatter\": [{\"marker\": {\"colorbar\": {\"outlinewidth\": 0, \"ticks\": \"\"}}, \"type\": \"scatter\"}], \"scatter3d\": [{\"line\": {\"colorbar\": {\"outlinewidth\": 0, \"ticks\": \"\"}}, \"marker\": {\"colorbar\": {\"outlinewidth\": 0, \"ticks\": \"\"}}, \"type\": \"scatter3d\"}], \"scattercarpet\": [{\"marker\": {\"colorbar\": {\"outlinewidth\": 0, \"ticks\": \"\"}}, \"type\": \"scattercarpet\"}], \"scattergeo\": [{\"marker\": {\"colorbar\": {\"outlinewidth\": 0, \"ticks\": \"\"}}, \"type\": \"scattergeo\"}], \"scattergl\": [{\"marker\": {\"colorbar\": {\"outlinewidth\": 0, \"ticks\": \"\"}}, \"type\": \"scattergl\"}], \"scattermapbox\": [{\"marker\": {\"colorbar\": {\"outlinewidth\": 0, \"ticks\": \"\"}}, \"type\": \"scattermapbox\"}], \"scatterpolar\": [{\"marker\": {\"colorbar\": {\"outlinewidth\": 0, \"ticks\": \"\"}}, \"type\": \"scatterpolar\"}], \"scatterpolargl\": [{\"marker\": {\"colorbar\": {\"outlinewidth\": 0, \"ticks\": \"\"}}, \"type\": \"scatterpolargl\"}], \"scatterternary\": [{\"marker\": {\"colorbar\": {\"outlinewidth\": 0, \"ticks\": \"\"}}, \"type\": \"scatterternary\"}], \"surface\": [{\"colorbar\": {\"outlinewidth\": 0, \"ticks\": \"\"}, \"colorscale\": [[0.0, \"#0d0887\"], [0.1111111111111111, \"#46039f\"], [0.2222222222222222, \"#7201a8\"], [0.3333333333333333, \"#9c179e\"], [0.4444444444444444, \"#bd3786\"], [0.5555555555555556, \"#d8576b\"], [0.6666666666666666, \"#ed7953\"], [0.7777777777777778, \"#fb9f3a\"], [0.8888888888888888, \"#fdca26\"], [1.0, \"#f0f921\"]], \"type\": \"surface\"}], \"table\": [{\"cells\": {\"fill\": {\"color\": \"#EBF0F8\"}, \"line\": {\"color\": \"white\"}}, \"header\": {\"fill\": {\"color\": \"#C8D4E3\"}, \"line\": {\"color\": \"white\"}}, \"type\": \"table\"}]}, \"layout\": {\"annotationdefaults\": {\"arrowcolor\": \"#2a3f5f\", \"arrowhead\": 0, \"arrowwidth\": 1}, \"coloraxis\": {\"colorbar\": {\"outlinewidth\": 0, \"ticks\": \"\"}}, \"colorscale\": {\"diverging\": [[0, \"#8e0152\"], [0.1, \"#c51b7d\"], [0.2, \"#de77ae\"], [0.3, \"#f1b6da\"], [0.4, \"#fde0ef\"], [0.5, \"#f7f7f7\"], [0.6, \"#e6f5d0\"], [0.7, \"#b8e186\"], [0.8, \"#7fbc41\"], [0.9, \"#4d9221\"], [1, \"#276419\"]], \"sequential\": [[0.0, \"#0d0887\"], [0.1111111111111111, \"#46039f\"], [0.2222222222222222, \"#7201a8\"], [0.3333333333333333, \"#9c179e\"], [0.4444444444444444, \"#bd3786\"], [0.5555555555555556, \"#d8576b\"], [0.6666666666666666, \"#ed7953\"], [0.7777777777777778, \"#fb9f3a\"], [0.8888888888888888, \"#fdca26\"], [1.0, \"#f0f921\"]], \"sequentialminus\": [[0.0, \"#0d0887\"], [0.1111111111111111, \"#46039f\"], [0.2222222222222222, \"#7201a8\"], [0.3333333333333333, \"#9c179e\"], [0.4444444444444444, \"#bd3786\"], [0.5555555555555556, \"#d8576b\"], [0.6666666666666666, \"#ed7953\"], [0.7777777777777778, \"#fb9f3a\"], [0.8888888888888888, \"#fdca26\"], [1.0, \"#f0f921\"]]}, \"colorway\": [\"#636efa\", \"#EF553B\", \"#00cc96\", \"#ab63fa\", \"#FFA15A\", \"#19d3f3\", \"#FF6692\", \"#B6E880\", \"#FF97FF\", \"#FECB52\"], \"font\": {\"color\": \"#2a3f5f\"}, \"geo\": {\"bgcolor\": \"white\", \"lakecolor\": \"white\", \"landcolor\": \"#E5ECF6\", \"showlakes\": true, \"showland\": true, \"subunitcolor\": \"white\"}, \"hoverlabel\": {\"align\": \"left\"}, \"hovermode\": \"closest\", \"mapbox\": {\"style\": \"light\"}, \"paper_bgcolor\": \"white\", \"plot_bgcolor\": \"#E5ECF6\", \"polar\": {\"angularaxis\": {\"gridcolor\": \"white\", \"linecolor\": \"white\", \"ticks\": \"\"}, \"bgcolor\": \"#E5ECF6\", \"radialaxis\": {\"gridcolor\": \"white\", \"linecolor\": \"white\", \"ticks\": \"\"}}, \"scene\": {\"xaxis\": {\"backgroundcolor\": \"#E5ECF6\", \"gridcolor\": \"white\", \"gridwidth\": 2, \"linecolor\": \"white\", \"showbackground\": true, \"ticks\": \"\", \"zerolinecolor\": \"white\"}, \"yaxis\": {\"backgroundcolor\": \"#E5ECF6\", \"gridcolor\": \"white\", \"gridwidth\": 2, \"linecolor\": \"white\", \"showbackground\": true, \"ticks\": \"\", \"zerolinecolor\": \"white\"}, \"zaxis\": {\"backgroundcolor\": \"#E5ECF6\", \"gridcolor\": \"white\", \"gridwidth\": 2, \"linecolor\": \"white\", \"showbackground\": true, \"ticks\": \"\", \"zerolinecolor\": \"white\"}}, \"shapedefaults\": {\"line\": {\"color\": \"#2a3f5f\"}}, \"ternary\": {\"aaxis\": {\"gridcolor\": \"white\", \"linecolor\": \"white\", \"ticks\": \"\"}, \"baxis\": {\"gridcolor\": \"white\", \"linecolor\": \"white\", \"ticks\": \"\"}, \"bgcolor\": \"#E5ECF6\", \"caxis\": {\"gridcolor\": \"white\", \"linecolor\": \"white\", \"ticks\": \"\"}}, \"title\": {\"x\": 0.05}, \"xaxis\": {\"automargin\": true, \"gridcolor\": \"white\", \"linecolor\": \"white\", \"ticks\": \"\", \"title\": {\"standoff\": 15}, \"zerolinecolor\": \"white\", \"zerolinewidth\": 2}, \"yaxis\": {\"automargin\": true, \"gridcolor\": \"white\", \"linecolor\": \"white\", \"ticks\": \"\", \"title\": {\"standoff\": 15}, \"zerolinecolor\": \"white\", \"zerolinewidth\": 2}}}},\n",
              "                        {\"responsive\": true}\n",
              "                    ).then(function(){\n",
              "                            \n",
              "var gd = document.getElementById('499cd277-7104-406e-addf-4b5e5c7eac25');\n",
              "var x = new MutationObserver(function (mutations, observer) {{\n",
              "        var display = window.getComputedStyle(gd).display;\n",
              "        if (!display || display === 'none') {{\n",
              "            console.log([gd, 'removed!']);\n",
              "            Plotly.purge(gd);\n",
              "            observer.disconnect();\n",
              "        }}\n",
              "}});\n",
              "\n",
              "// Listen for the removal of the full notebook cells\n",
              "var notebookContainer = gd.closest('#notebook-container');\n",
              "if (notebookContainer) {{\n",
              "    x.observe(notebookContainer, {childList: true});\n",
              "}}\n",
              "\n",
              "// Listen for the clearing of the current output cell\n",
              "var outputEl = gd.closest('.output');\n",
              "if (outputEl) {{\n",
              "    x.observe(outputEl, {childList: true});\n",
              "}}\n",
              "\n",
              "                        })\n",
              "                };\n",
              "                \n",
              "            </script>\n",
              "        </div>\n",
              "</body>\n",
              "</html>"
            ]
          },
          "metadata": {
            "tags": []
          }
        }
      ]
    },
    {
      "cell_type": "code",
      "metadata": {
        "id": "TKZPXpoauyyI"
      },
      "source": [
        ""
      ],
      "execution_count": null,
      "outputs": []
    }
  ]
}